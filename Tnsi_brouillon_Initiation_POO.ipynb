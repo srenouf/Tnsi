{
  "nbformat": 4,
  "nbformat_minor": 0,
  "metadata": {
    "celltoolbar": "Aucun(e)",
    "kernelspec": {
      "display_name": "Python 3",
      "language": "python",
      "name": "python3"
    },
    "language_info": {
      "codemirror_mode": {
        "name": "ipython",
        "version": 3
      },
      "file_extension": ".py",
      "mimetype": "text/x-python",
      "name": "python",
      "nbconvert_exporter": "python",
      "pygments_lexer": "ipython3",
      "version": "3.8.2"
    },
    "colab": {
      "name": "Tnsi_brouillon_Initiation_POO.ipynb",
      "provenance": [],
      "include_colab_link": true
    }
  },
  "cells": [
    {
      "cell_type": "markdown",
      "metadata": {
        "id": "view-in-github",
        "colab_type": "text"
      },
      "source": [
        "<a href=\"https://colab.research.google.com/github/srenouf/Tnsi/blob/master/Tnsi_brouillon_Initiation_POO.ipynb\" target=\"_parent\"><img src=\"https://colab.research.google.com/assets/colab-badge.svg\" alt=\"Open In Colab\"/></a>"
      ]
    },
    {
      "cell_type": "markdown",
      "metadata": {
        "id": "n0fDTWBz8sDD",
        "colab_type": "text"
      },
      "source": [
        "# Initiation à la Programmation Orientée Objet\n",
        "\n",
        "> Cours NSI Terminale - Thème 1.\n",
        "\n",
        "- toc: true \n",
        "- badges: true\n",
        "- comments: false\n",
        "- categories: [python, NSI, Terminale, Structure_donnees, POO, TP]\n",
        "- image: images/nsi1.png"
      ]
    },
    {
      "cell_type": "markdown",
      "metadata": {
        "deletable": false,
        "editable": false,
        "nbgrader": {
          "checksum": "8f4d97106b9c779883abbfccb3700493",
          "grade": false,
          "grade_id": "cell-6bc768c3ad78cc4c",
          "locked": true,
          "schema_version": 1,
          "solution": false
        },
        "id": "cJvg4Su48sDF",
        "colab_type": "text"
      },
      "source": [
        "## Introduction\n",
        "\n",
        "Objets et POO sont au centre de la manière Python fonctionne. Vous n'êtes pas obligé d'utiliser la POO dans vos programmes - mais comprendre le concept est essentiel pour devenir plus qu'un débutant. Entre autres raisons parce que vous aurez besoin d'utiliser les classes et objets fournis par la librairie standard.\n",
        "\n",
        "En effet en manipulant les tableaux en python, vous avez certainement remarqué qu'il y a deux syntaxes pour appeler des fonctions :"
      ]
    },
    {
      "cell_type": "code",
      "metadata": {
        "deletable": false,
        "editable": false,
        "nbgrader": {
          "checksum": "7d34764c6ffa37d6cf6fe0a7ab34814b",
          "grade": false,
          "grade_id": "cell-73d90af5a794c8ad",
          "locked": true,
          "schema_version": 1,
          "solution": false
        },
        "id": "ZVWpJyn58sDG",
        "colab_type": "code",
        "colab": {}
      },
      "source": [
        "tableau = [1, 3, 5, 8]\n",
        "taille = len(tableau)\n",
        "tableau.append(11)"
      ],
      "execution_count": null,
      "outputs": []
    },
    {
      "cell_type": "markdown",
      "metadata": {
        "deletable": false,
        "editable": false,
        "nbgrader": {
          "checksum": "8d6820a752ed1a5595226cffcc387b30",
          "grade": false,
          "grade_id": "cell-4646dc85993eaecd",
          "locked": true,
          "schema_version": 1,
          "solution": false
        },
        "id": "pm0uZ5YT8sDP",
        "colab_type": "text"
      },
      "source": [
        "- le calcul de la longueur du tableau se fait par l'appel à la fonction `len()` avec une syntaxe identique aux foncitons que vous avez l'habitude d'écrire.\n",
        "- l'ajout d'un élément dans le tableau est un peu différent car la fonction `append` semble provenir du tableau lui même : dans ce cas, on ne parle pas de fonciton mais de **méthode** associée à l'**objet** tableau.\n",
        "\n",
        "Un objet est une structure de donnée qui intègre des variables (que l'on nomme **propriétés**) et des fonctions (que l'on nomme **méthodes**). Nous allons voir l'intérêt de cette approche, omniprésente dans Python, en particulier lorsqu'on développe des interfaces graphiques, mais avant quelques petits repères historiques et éléments de contexte"
      ]
    },
    {
      "cell_type": "markdown",
      "metadata": {
        "deletable": false,
        "editable": false,
        "nbgrader": {
          "checksum": "3cc6b3e9642ecf401bc34882d9217f27",
          "grade": false,
          "grade_id": "cell-39e5d1ff6675ecc1",
          "locked": true,
          "schema_version": 1,
          "solution": false
        },
        "id": "_G3YnsQX8sDR",
        "colab_type": "text"
      },
      "source": [
        "### Petit historique\n",
        "\n",
        "La programmation en tant que telle est une matière relativement récente. Etonnament la programmation orientée objet remonte aussi loin que les années 1960. *Simula* est considéré comme le premier langage de programmation orienté objet.\n",
        "\n",
        "Les années 1970 voient les principes de la programmation par objet se développent et prennent forme au travers notamment du langage *Smalltalk*\n",
        "\n",
        "À partir des années 1980, commence l'effervescence des langages à objets : *Objective C* (début des années 1980, utilisé sur les plateformes Mac et iOS), *C++* (C with classes) en 1983 sont les plus célèbres. \n",
        "\n",
        "Les années 1990 voient l'âge d'or de l'extension de la programmation par objet dans les différents secteurs du développement logiciel, notemment grâce à l'émergence des systèmes d'exploitation basés sur une interface graphique (MacOS, Linux, Windows) qui font appel abondamment aux principes de la POO.\n"
      ]
    },
    {
      "cell_type": "markdown",
      "metadata": {
        "deletable": false,
        "editable": false,
        "nbgrader": {
          "checksum": "f997c6340de73e332e5021f0add4c58b",
          "grade": false,
          "grade_id": "cell-3ea544883c0c7c78",
          "locked": true,
          "schema_version": 1,
          "solution": false
        },
        "id": "gnbMjIDZ8sDT",
        "colab_type": "text"
      },
      "source": [
        "\n",
        "### Programmation procédurale\n",
        "\n",
        "La programmation procédurale est celle que vous avez utilisé jusqu'à maintenant : cela consiste à diviser votre programme en blocs réutilisables appelés fonctions.\n",
        "\n",
        "Vous essayez autant que possible de garder votre code en blocs modulaires, en décidant de manière logique quel bloc est appelé. Cela demande moins d’effort pour visualiser ce que votre programme fait. Cela rend plus facile la maintenance de votre code – vous pouvez voir ce que fait une portion de code. Le fait d’améliorer une fonction (qui est réutilisée) peut améliorer la performance à plusieurs endroits dans votre programme.\n",
        "\n",
        "Vous avez des variables, qui contiennent vos données, et des fonctions. Vous passez vos variables à vos fonctions – qui agissent sur elles et peut-être les modifient. L'interaction entre les variables et les fonctions n'est pas toujours simple à gérer : les variables locales, globales, les effets de bords que provoquent certaines fonctions qui modifient des variables globales sont souvent source de bugs difficiles à déceler.\n",
        "\n",
        "On touche ici aux limites de la programmation procédurale, lorsque le nombre de fonctions et de variables devient important."
      ]
    },
    {
      "cell_type": "markdown",
      "metadata": {
        "id": "6UQ6rYPG8sDU",
        "colab_type": "text"
      },
      "source": [
        "## Création d'une classe\n",
        "\n",
        "Nous allons voir un premier exemple simple basé sur la notion de *pile* vue dans une séquence précédente.\n",
        "\n",
        "Une pile possède un comportement différent d'un tableau. On a utilisé un tableau pour simuler le comportement d'une pile mais faisant cela, on peut être tenté d'utiliser des fonctionnalités du tableau qui ne sont pas possibles avec une vraie pile comme accéder au dernier élément de la pile en faisant pile[0].\n",
        "\n",
        "Pour y remédier nous allons créer un objet *Pile* qui se comportera exactement comme on le souhaite. Un objet se définit dans une **classe** qui va nous permettre de définir les **propriétés** et les **méthodes** que l'on souhaite intégrer à notre objet *Pile*.\n",
        "\n",
        "![classe Pile](https://github.com/wawachief/fp-notebooks/blob/master/_notebooks/my_icons/classePile.png?raw=1)\n",
        "\n",
        "Notre classe *Pile* va nous permettre de définir le modèle de l'objet que l'on souhaite créer. Ce modèle possèdera \n",
        "- 2 propriétés (variables intégrées à l'objet)\n",
        "    - longueur : la longueur de la pile\n",
        "    - sommet : la valeur du sommet de la pile\n",
        "- 2 méthodes (fonctions agissant sur cet objet)\n",
        "    - empile(v) : empile la valeur `v` sur le sommet de la pile\n",
        "    - depile() : sort une valeur de la pile et la renvoie.\n",
        "\n",
        "Avec ces caractéristiques nous avons donc défini le prototype de notre pile.\n",
        "\n",
        "Voyons en pratique comment cela se passe.\n",
        "\n",
        "### Définition de la classe"
      ]
    },
    {
      "cell_type": "code",
      "metadata": {
        "deletable": false,
        "editable": false,
        "nbgrader": {
          "checksum": "d9e811e645ee2f5a54b6ae370bcb292f",
          "grade": false,
          "grade_id": "cell-32818d14693e17b2",
          "locked": true,
          "schema_version": 1,
          "solution": false
        },
        "id": "SO1-NoVK8sDV",
        "colab_type": "code",
        "colab": {}
      },
      "source": [
        "# Définir une classe - pour le moment vide\n",
        "class Pile():\n",
        "    pass"
      ],
      "execution_count": null,
      "outputs": []
    },
    {
      "cell_type": "markdown",
      "metadata": {
        "deletable": false,
        "editable": false,
        "nbgrader": {
          "checksum": "78d87779848f23b45517f34a061e3160",
          "grade": false,
          "grade_id": "cell-06d87179a2968930",
          "locked": true,
          "schema_version": 1,
          "solution": false
        },
        "id": "0lQpmSeB8sDc",
        "colab_type": "text"
      },
      "source": [
        "Pour le moment, on a créé une classe **Pile**.\n",
        "\n",
        "On peut voir la classe comme le modèle de fabrication de l'objet. Ce n'est pas un objet réel, juste une manière de décrire comment il est constitué et comment il se comporte.\n",
        "\n",
        "Une classe seule ne sert à rien. C'est un peu comme voir le nouveau modèle du smartphone de vos rèves sur un site de commerce en ligne : Vous voyez à quoi il ressemble, ses caractéristiques, son prix, ses fonctionnalités... mais vous ne le possédez pas !\n",
        "\n",
        "Vous allez donc craquer et passer la commande. Quelques jours plus tard, vous allez posséder l'**objet** réel, le tenir dans vos mains, le manipuler. Vous avez créé ce qu'on appelle une **instance** de la classe."
      ]
    },
    {
      "cell_type": "code",
      "metadata": {
        "id": "cNvgdeto8sDd",
        "colab_type": "code",
        "colab": {}
      },
      "source": [
        "# Créer une instance de l'objet Pile\n",
        "ma_pile = Pile()\n",
        "ma_pile.longueur = 1\n",
        "ma_pile.sommet = 2\n",
        "autre_pile = Pile()"
      ],
      "execution_count": null,
      "outputs": []
    },
    {
      "cell_type": "markdown",
      "metadata": {
        "id": "YlnWQWQQ8sDi",
        "colab_type": "text"
      },
      "source": [
        "Vous avez convaincu quelques uns de vos camarades qui ont aussi commandé le même modèle de smartphone. Ils vont aussi \n",
        "posséder leur propre instance. Ces smartphones fonctionneront de la même manière que le votre car fabriqué à partir des mêmes plans, mais ne possèderont pas les mêmes données : vos photos ou vos apps sont propres à votre instance de votre téléphone et n'apparaîtront pas sur celles de vos amis."
      ]
    },
    {
      "cell_type": "code",
      "metadata": {
        "id": "5aqplfB08sDj",
        "colab_type": "code",
        "colab": {}
      },
      "source": [
        "ma_pile.taille"
      ],
      "execution_count": null,
      "outputs": []
    },
    {
      "cell_type": "code",
      "metadata": {
        "id": "w1JCJJAE8sDp",
        "colab_type": "code",
        "colab": {}
      },
      "source": [
        "autre_pile.taille"
      ],
      "execution_count": null,
      "outputs": []
    },
    {
      "cell_type": "markdown",
      "metadata": {
        "deletable": false,
        "editable": false,
        "nbgrader": {
          "checksum": "5a216bfb629b3001c21c5f1cc909cb1a",
          "grade": false,
          "grade_id": "cell-6c8518fec0e3466b",
          "locked": true,
          "schema_version": 1,
          "solution": false
        },
        "id": "R-qX-tUF8sDv",
        "colab_type": "text"
      },
      "source": [
        "Nous avons créé deux instances de la classe *Pile* : `ma_pile` et `autre_pile`.\n",
        "`ma_pile` possède à présent deux propriétés : *longueur* et *sommet*. Ces propriétés n'existent pas sur `aure_pile` car l'initialisation de ces propriétés est faite en dehors de la classe, ce qui n'est pas une bonne chose : nous voulons que toutes nos piles soient fabriquées sur le même modèle et donc initialiser les propriétés à l'intérieur de la classe.\n",
        "\n",
        "Voici comment procéder :"
      ]
    },
    {
      "cell_type": "code",
      "metadata": {
        "deletable": false,
        "editable": false,
        "nbgrader": {
          "checksum": "d4a036821037856b1433b53452ee18b9",
          "grade": false,
          "grade_id": "cell-c03e6dc3c9e4c635",
          "locked": true,
          "schema_version": 1,
          "solution": false
        },
        "id": "hCYRvfL_8sDv",
        "colab_type": "code",
        "colab": {}
      },
      "source": [
        "class Pile():\n",
        "    \"\"\"Implémentation basique d'une pile\"\"\"\n",
        "    def __init__(self):\n",
        "        \"\"\"Initialisation de l'instance\"\"\"\n",
        "        \n",
        "        # Initialisation des propriétés\n",
        "        self.longueur = 0\n",
        "        self.sommet = None"
      ],
      "execution_count": null,
      "outputs": []
    },
    {
      "cell_type": "markdown",
      "metadata": {
        "deletable": false,
        "editable": false,
        "nbgrader": {
          "checksum": "3734acf1e54c1211f566c82d8bd0bfe2",
          "grade": false,
          "grade_id": "cell-414942bc56436842",
          "locked": true,
          "schema_version": 1,
          "solution": false
        },
        "id": "AZIQQRjZ8sDz",
        "colab_type": "text"
      },
      "source": [
        "Pour initialiser les propriétés, nous avons créé une méthode spéciale à l'intérieur de la classe : la méthode ***__init__()***. Le nom de cette méthode lancée automatiquement à la création de chaque instance est imposé par Python et ne peut être changé. Attention aux 2 __ à suivre.\n",
        "\n",
        "Le mot clé **self** désigne une instance de la classe - imaginez le remplacer par `ma_pile` ou `autre_pile`. Puisqu'au moment de concevoir ma classe, ces instances n'existent pas encore, le mot **self** a été introduit. Il est important de ne pas oublier le **self** car sinon *longueur* et *sommet* seront des variables locales à la fonction **__init__()** ce qui n'est pas du tout le but recherché ici !\n",
        "\n",
        "Recréons à présent des instances de *Pile* et commençons à saisir des données :"
      ]
    },
    {
      "cell_type": "code",
      "metadata": {
        "id": "ZS_2syHU8sDz",
        "colab_type": "code",
        "colab": {}
      },
      "source": [
        "ma_pile = Pile()\n",
        "autre_pile = Pile()\n",
        "\n",
        "ma_pile.longueur = 1\n",
        "ma_pile.sommet = 2"
      ],
      "execution_count": null,
      "outputs": []
    },
    {
      "cell_type": "code",
      "metadata": {
        "id": "DnAPgiL88sD7",
        "colab_type": "code",
        "colab": {}
      },
      "source": [
        "print(ma_pile.longueur)\n",
        "print(autre_pile.longueur)"
      ],
      "execution_count": null,
      "outputs": []
    },
    {
      "cell_type": "markdown",
      "metadata": {
        "deletable": false,
        "editable": false,
        "nbgrader": {
          "checksum": "51c6b5cb90d780732b387edd8f0e911f",
          "grade": false,
          "grade_id": "cell-967ab42cffb65f03",
          "locked": true,
          "schema_version": 1,
          "solution": false
        },
        "id": "qRn8uwrB8sD_",
        "colab_type": "text"
      },
      "source": [
        "Tout fonctionne comme prévu : mes deux instances possèdent les mêmes propriétés mais chacune possède ses valeurs qui lui sont propres.\n",
        "\n",
        "Il est temps de définir nos méthodes. Commençons pas **empile**. \n",
        "La définition d'une méthode est similaire à la définition d'une fonction à deux détails près\n",
        "- les méthodes sont définies **à l'intérieur d'une classe**\n",
        "- le premier paramètre d'une méthode est **toujours** ***self***\n",
        "\n",
        "Pour empiler des valeurs dans ma pile je vais avoir besoin d'une structure qui mémorise les données de ma pile. Je vais donc créer une propriété *cachée* **__reste** qui contiendra toutes les valeurs de ma pile autre que le sommet. Les 2 __ sont une convention de nommage et signifie que la propriété ou la méthode n'a pas vocation à être appelée à l'extérieur de la définition de la classe, d'où la qualification de *cachée*.\n"
      ]
    },
    {
      "cell_type": "code",
      "metadata": {
        "deletable": false,
        "editable": false,
        "nbgrader": {
          "checksum": "b11bb03d251d543a0eb0448bf1e5e386",
          "grade": false,
          "grade_id": "cell-4ac77ea3ca1bc560",
          "locked": true,
          "schema_version": 1,
          "solution": false
        },
        "id": "OZ5V9q3b8sEA",
        "colab_type": "code",
        "colab": {}
      },
      "source": [
        "class Pile():\n",
        "    \"\"\"Implémentation basique d'une pile\"\"\"\n",
        "    def __init__(self):\n",
        "        \"\"\"Initialisation de l'instance\"\"\"\n",
        "        \n",
        "        # Initialisation des propriétés publiques\n",
        "        self.longueur = 0\n",
        "        self.sommet = None # None signifie que la pile est vide\n",
        "        \n",
        "        # Initialisation du reste de la pile\n",
        "        self.__reste = []\n",
        "    \n",
        "    def empile(self, valeur):\n",
        "        \"\"\"empile la valeur passée en paramètre\"\"\"\n",
        "        \n",
        "        if self.longueur > 0:\n",
        "            # Le sommet de la pile passe dans le reste\n",
        "            self.__reste.append(self.sommet)\n",
        "        # le nouveau sommet est la valeur qu'on empile\n",
        "        self.sommet = valeur\n",
        "        # La longueur de la pile augmente de 1\n",
        "        self.longueur += 1"
      ],
      "execution_count": null,
      "outputs": []
    },
    {
      "cell_type": "code",
      "metadata": {
        "id": "dLljnQ6S8sEF",
        "colab_type": "code",
        "colab": {}
      },
      "source": [
        "ma_pile = Pile()\n",
        "ma_pile.empile(3)\n",
        "ma_pile.empile(5)"
      ],
      "execution_count": null,
      "outputs": []
    },
    {
      "cell_type": "code",
      "metadata": {
        "id": "F9yy_2AC8sEK",
        "colab_type": "code",
        "colab": {}
      },
      "source": [
        "print(ma_pile.sommet)\n",
        "print(ma_pile.longueur)"
      ],
      "execution_count": null,
      "outputs": []
    },
    {
      "cell_type": "markdown",
      "metadata": {
        "deletable": false,
        "editable": false,
        "nbgrader": {
          "checksum": "4bdeb99d39dd84c5d1847fe86a89e92c",
          "grade": false,
          "grade_id": "cell-7598d1ca293e5f19",
          "locked": true,
          "schema_version": 1,
          "solution": false
        },
        "id": "knB9C9Oc8sEP",
        "colab_type": "text"
      },
      "source": [
        "En lisant la définition de la méthode **empile**, vous serez attentif aux points suivants :\n",
        "- le premier paramètre est **self**, *valeur* arrive en second\n",
        "- lorsqu'on invoque la méthode **empile**, on ne passe pas **self**, on passe juste *valeur*.\n",
        "- à chaque fois qu'on fait appel à une propriété, on utilise le préfixe **self.**"
      ]
    },
    {
      "cell_type": "markdown",
      "metadata": {
        "deletable": false,
        "editable": false,
        "nbgrader": {
          "checksum": "9726c213134a999c3c82436f70c192f8",
          "grade": false,
          "grade_id": "cell-ee0495fae700a99f",
          "locked": true,
          "schema_version": 1,
          "solution": false
        },
        "id": "iqUFFnU58sEP",
        "colab_type": "text"
      },
      "source": [
        "## A vous de jouer\n",
        "L'implémentation de notre pile n'est pas terminée. Vous allez devoir à présent implémenter la méthode **depile()**. Celle-ci ne prend pas de paramètres (a part bien sûr **self** que vous n'oublierez pas !) et renvoie la valeur qui a été sorti de la pile. \n",
        "Vous serez attentif \n",
        "- à modifier la propriété longueur\n",
        "- à ne pas provoquer d'erreur si il n'y a rien dans la pile. Dans ce cas, vous renverrez **None**."
      ]
    },
    {
      "cell_type": "code",
      "metadata": {
        "deletable": false,
        "nbgrader": {
          "checksum": "adce9819c858c58abbdb92c4beaa33fc",
          "grade": false,
          "grade_id": "cell-afd2d126493ef731",
          "locked": false,
          "schema_version": 1,
          "solution": true
        },
        "id": "Yy7GvUyB8sER",
        "colab_type": "code",
        "colab": {}
      },
      "source": [
        "class Pile():\n",
        "    \"\"\"Implémentation basique d'une pile\"\"\"\n",
        "    def __init__(self):\n",
        "        \"\"\"Initialisation de l'instance\"\"\"\n",
        "        \n",
        "        # Initialisation des propriétés publiques\n",
        "        self.longueur = 0\n",
        "        self.sommet = None # None signifie que la pile est vide\n",
        "        \n",
        "        # Initialisation du reste de la pile\n",
        "        self.__reste = []\n",
        "    \n",
        "    def empile(self, valeur):\n",
        "        \"\"\"empile la valeur passée en paramètre\"\"\"\n",
        "        \n",
        "        if self.longueur > 0:\n",
        "            # Le sommet de la pile passe dans le reste\n",
        "            self.__reste.append(self.sommet)\n",
        "        # le nouveau sommet est la valeur qu'on empile\n",
        "        self.sommet = valeur\n",
        "        # La longueur de la pile augmente de 1\n",
        "        self.longueur += 1\n",
        "        \n",
        "    # YOUR CODE HERE\n",
        "    raise NotImplementedError()"
      ],
      "execution_count": null,
      "outputs": []
    },
    {
      "cell_type": "code",
      "metadata": {
        "id": "KkvsNKh28sEV",
        "colab_type": "code",
        "colab": {}
      },
      "source": [
        "# Testez votre classe dans cette cellule\n",
        "ma_pile = Pile()\n",
        "ma_pile.empile(3)"
      ],
      "execution_count": null,
      "outputs": []
    },
    {
      "cell_type": "code",
      "metadata": {
        "deletable": false,
        "editable": false,
        "nbgrader": {
          "checksum": "26e0e7d50225ace9a213342ee1508bbb",
          "grade": true,
          "grade_id": "cell-ebd05baeaf1b4497",
          "locked": true,
          "points": 0,
          "schema_version": 1,
          "solution": false
        },
        "id": "or8ZSsFa8sEa",
        "colab_type": "code",
        "colab": {}
      },
      "source": [
        "# Vérification du fonctionnement de la classe Pile\n",
        "ma_pile = Pile()\n",
        "ma_pile.empile(3)\n",
        "ma_pile.empile(5)\n",
        "assert ma_pile.sommet == 5\n",
        "assert ma_pile.longueur == 2\n",
        "assert ma_pile.depile() == 5\n",
        "assert ma_pile.longueur == 1\n",
        "assert ma_pile.depile() == 3\n",
        "assert ma_pile.longueur == 0"
      ],
      "execution_count": null,
      "outputs": []
    },
    {
      "cell_type": "code",
      "metadata": {
        "id": "Dp44qLCx8sEe",
        "colab_type": "code",
        "colab": {}
      },
      "source": [
        "\n"
      ],
      "execution_count": null,
      "outputs": []
    }
  ]
}