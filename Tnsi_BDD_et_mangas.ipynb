{
  "nbformat": 4,
  "nbformat_minor": 0,
  "metadata": {
    "colab": {
      "name": "Tnsi_BDD et mangas",
      "provenance": [],
      "authorship_tag": "ABX9TyPb0a1FFR113m2ThxbQCI9m",
      "include_colab_link": true
    },
    "kernelspec": {
      "name": "python3",
      "display_name": "Python 3"
    }
  },
  "cells": [
    {
      "cell_type": "markdown",
      "metadata": {
        "id": "view-in-github",
        "colab_type": "text"
      },
      "source": [
        "<a href=\"https://colab.research.google.com/github/srenouf/Tnsi/blob/master/Tnsi_BDD_et_mangas.ipynb\" target=\"_parent\"><img src=\"https://colab.research.google.com/assets/colab-badge.svg\" alt=\"Open In Colab\"/></a>"
      ]
    },
    {
      "cell_type": "code",
      "metadata": {
        "id": "Qj3vY-AFcsrp"
      },
      "source": [
        ""
      ],
      "execution_count": null,
      "outputs": []
    },
    {
      "cell_type": "markdown",
      "metadata": {
        "id": "69i61RkhdVud"
      },
      "source": [
        "# Une approche des bases de données relationnelles par les mangas\n",
        "---\n",
        "par Mana Takahashi, Shoko Azuma éditions h&k, 2018"
      ]
    },
    {
      "cell_type": "markdown",
      "metadata": {
        "id": "ALGZHsjXcv8P"
      },
      "source": [
        "<img src=\"https://raw.githubusercontent.com/srenouf/Tnsi/master/patron0177.jpg\" border=\"0\" width=\"800\">\n",
        "<img src=\"https://raw.githubusercontent.com/srenouf/Tnsi/master/patron0178.jpg\" border=\"0\" width=\"800\">\n",
        "<img src=\"https://raw.githubusercontent.com/srenouf/Tnsi/master/patron0179.jpg\" border=\"0\" width=\"800\">\n",
        "<img src=\"https://raw.githubusercontent.com/srenouf/Tnsi/master/patron0180.jpg\" border=\"0\" width=\"800\">\n",
        "<img src=\"https://raw.githubusercontent.com/srenouf/Tnsi/master/patron0181.jpg\" border=\"0\" width=\"800\">\n",
        "\n"
      ]
    },
    {
      "cell_type": "code",
      "metadata": {
        "id": "oTodJRMWc_IB"
      },
      "source": [
        ""
      ],
      "execution_count": null,
      "outputs": []
    }
  ]
}