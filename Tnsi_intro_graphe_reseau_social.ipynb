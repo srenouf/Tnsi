{
  "nbformat": 4,
  "nbformat_minor": 0,
  "metadata": {
    "colab": {
      "name": "Tnsi intro graphe reseau social.ipynb",
      "provenance": [],
      "toc_visible": true,
      "include_colab_link": true
    },
    "kernelspec": {
      "name": "python3",
      "display_name": "Python 3"
    }
  },
  "cells": [
    {
      "cell_type": "markdown",
      "metadata": {
        "id": "view-in-github",
        "colab_type": "text"
      },
      "source": [
        "<a href=\"https://colab.research.google.com/github/srenouf/Tnsi/blob/master/Tnsi_intro_graphe_reseau_social.ipynb\" target=\"_parent\"><img src=\"https://colab.research.google.com/assets/colab-badge.svg\" alt=\"Open In Colab\"/></a>"
      ]
    },
    {
      "cell_type": "markdown",
      "metadata": {
        "id": "n4bitb7jCE_P"
      },
      "source": [
        "###<center>Modéliser un réseau social avec Python</center><img src=\"https://image.freepik.com/vecteurs-libre/writer-notary-plume-stylo-logo_7108-119.jpg\" width=15% align=right> \n",
        "\n",
        "---\n",
        "\n",
        "Nom: <br>\n",
        "Prénom: <br>\n",
        "\n",
        "---\n",
        "<center>\n",
        "<a href='https://www.unitag.io/qrcode'><img src='https://www.unitag.io/qreator/generate?crs=xnjFkEn%252FP85fCPDXJ%252FXXKnPnKU%252FtWVh9E7ei8Ex%252BR4XsTvus59MiRl4OtJ5Y%252F3aRXopA7Qn4wJ6m3qLfsP4IWgx%252B7xZBLLaIDlCeBYQe5Zfn3ZIIGdfgu48KWBfcERUNlYCVsxG63TOt3KY%252FzpWRJViqSok%252FQ%252BSPShDKZbRyBFZpKD7GtIcsf%252F2bkX1FBpACxqjNZC%252FnD4FrmJFeBqhVZzYIJgSON7sasu6osU8auYQ%253D&crd=fhOysE0g3Bah%252BuqXA7NPQ5ZemDitNddPRCCKmALhbe6m66zelQFxhmT%252Fx%252BnBU%252F9xS7%252F1H3T2wTreqLVb%252F9LxHFsoQLzeZ6AXFy6hmKUYBr6Z5mQrwgblh79%252FF3E4N7dka85XiqtyxQR6I%252FxzcjLRnw%253D%253D' alt='QR Code'/></a></a></center>\n",
        "\n"
      ]
    },
    {
      "cell_type": "markdown",
      "metadata": {
        "id": "h4_JXZAWDWTb"
      },
      "source": [
        "## *Objectifs*:<BR>\n",
        "\n",
        "* Modéliser un ’mini’ réseau social par un graphe. <br>\n",
        "* Travailler sur certaines questions concrètes qui permettront d’aborder les notions plus générales sur les graphes, dans l’esprit de ce qui peut être fait en classe de 2nde.<br><br> Les graphes apportent un outil de modélisation qui pourra être réinvesti dans d’autres thématiques de SNT ; par ailleurs, le fait de pouvoir coder des graphes en python assurent une continuité de cet enseignement sur l’année.\n",
        "\n",
        "\n",
        "\n"
      ]
    },
    {
      "cell_type": "markdown",
      "metadata": {
        "id": "Fe_H0nRaEcVI"
      },
      "source": [
        "## Modalités :\n",
        "\n",
        "\n",
        "*   1 heure classe entière\n",
        "*   1 heure en demi-groupe<br>\n",
        "\n",
        "*Cette séance s'intègre juste après la production par groupe, d'un document partagé (framapad ou docGmail) sur les réseaux sociaux, et juste avant la présentation de la cyberviolence et le cyberharcèlement pour terminer ce thème ; les moyens de s’en prémunir par des paramétrages des différents réseaux sociaux ont été partagés. Les notions d’e-réputation, d’identité numérique ont été évoquées.*\n",
        "\n",
        "\n"
      ]
    },
    {
      "cell_type": "code",
      "metadata": {
        "id": "7YgX1OXsG_Dz",
        "colab": {
          "base_uri": "https://localhost:8080/",
          "height": 336
        },
        "outputId": "03eee704-02d9-47af-9a84-598a2265eb8b"
      },
      "source": [
        "#@title Vidéo de présentation { display-mode: \"form\" }\n",
        "\n",
        "%%html\n",
        "<iframe width=\"560\" height=\"315\" src=\"https://www.youtube.com/embed/AyVx3HD_Dsc\" frameborder=\"0\" allow=\"accelerometer; autoplay; encrypted-media; gyroscope; picture-in-picture\" allowfullscreen></iframe>"
      ],
      "execution_count": null,
      "outputs": [
        {
          "output_type": "display_data",
          "data": {
            "text/html": [
              "<iframe width=\"560\" height=\"315\" src=\"https://www.youtube.com/embed/AyVx3HD_Dsc\" frameborder=\"0\" allow=\"accelerometer; autoplay; encrypted-media; gyroscope; picture-in-picture\" allowfullscreen></iframe>"
            ],
            "text/plain": [
              "<IPython.core.display.HTML object>"
            ]
          },
          "metadata": {
            "tags": []
          }
        }
      ]
    },
    {
      "cell_type": "markdown",
      "metadata": {
        "id": "0bnJ0ktZc7wD"
      },
      "source": [
        "# Nouvelle section"
      ]
    },
    {
      "cell_type": "markdown",
      "metadata": {
        "id": "a1CKhFz4CQj3"
      },
      "source": [
        "**Activité 1**:<img src=\"https://image.freepik.com/vecteurs-libre/writer-notary-plume-stylo-logo_7108-119.jpg\" width=15% align=right>\n",
        "Citer, en double cliquant dans la cellule,  différents réseaux sociaux : \n",
        "<br><br>\n",
        "Dessiner, sur votre feuille, un réseau social dynamique :<br><br><br><br>\n",
        "\n",
        "\n",
        "\n",
        "\n",
        "\n",
        "\n",
        "\n",
        "   \n",
        "\n"
      ]
    },
    {
      "cell_type": "markdown",
      "metadata": {
        "id": "VhE-00SkCzFU"
      },
      "source": [
        "\n",
        "<img src=\"https://upload.wikimedia.org/wikipedia/commons/b/b5/Logo_Game_of_Thrones.png\">\n",
        "<br>\n",
        "Voici quelques personnages de GoT avec leur lien d'amitié:\n",
        "<BR>\n",
        "Daenerys et Jon  sont amis.<br>Arya et Jon sont amis.<br> Tyrion et Sansa sont amis.<br> Brienne et Jon sont amis.\n",
        "\n",
        "\n"
      ]
    },
    {
      "cell_type": "markdown",
      "metadata": {
        "id": "j2QR5ZUp_AKJ"
      },
      "source": [
        "||Daenerys|Jon|Arya|Tyrion|Sansa|Brienne|\n",
        "|---|---|---|---|---|---|---|\n",
        "|Daenerys||x|||||\n",
        "|Jon|x||x|||x|\n",
        "|Arya||x|||||\n",
        "|Tyrion|||||x||\n",
        "|Sansa||||x|||\n",
        "|Brienne|||||x||"
      ]
    },
    {
      "cell_type": "code",
      "metadata": {
        "id": "3iwM8MJzap_X"
      },
      "source": [
        ""
      ],
      "execution_count": null,
      "outputs": []
    },
    {
      "cell_type": "markdown",
      "metadata": {
        "id": "rowQfjIZZEqQ"
      },
      "source": [
        "Utilisons Python pour représenter cela à l'aide d'un graphe: mode d'emploi."
      ]
    },
    {
      "cell_type": "code",
      "metadata": {
        "id": "WEpJVqWP-HPM",
        "colab": {
          "base_uri": "https://localhost:8080/",
          "height": 298
        },
        "outputId": "df67ff86-e310-4a6a-b712-373c229ad68d"
      },
      "source": [
        "from graphviz import Digraph #pour un graphe orienté\n",
        "from graphviz import Graph #pour un graphe non orienté\n",
        "import numpy as np\n",
        "\n",
        "from matplotlib import pyplot as plt\n",
        " \n",
        " \n",
        "#g = Digraph(engine='sfdp')#pour un graphe orienté engine='sfdp' indique qu'on choisi une présentation horizontale\n",
        "#sfdp - filter for drawing large undirected graphs\n",
        "g = Graph(engine='sfdp')\n",
        " \n",
        "\n",
        "\n",
        "g.edge('C', 'A')\n",
        "g.edge('B', 'C')\n",
        "g.edge('D','A')\n",
        "g.edge('C','D')\n",
        "\n",
        "\n",
        "\n",
        "g               #affichage de g"
      ],
      "execution_count": null,
      "outputs": [
        {
          "output_type": "execute_result",
          "data": {
            "text/plain": [
              "<graphviz.dot.Graph at 0x7fef54db6630>"
            ],
            "image/svg+xml": "<?xml version=\"1.0\" encoding=\"UTF-8\" standalone=\"no\"?>\n<!DOCTYPE svg PUBLIC \"-//W3C//DTD SVG 1.1//EN\"\n \"http://www.w3.org/Graphics/SVG/1.1/DTD/svg11.dtd\">\n<!-- Generated by graphviz version 2.40.1 (20161225.0304)\n -->\n<!-- Title: %3 Pages: 1 -->\n<svg width=\"459pt\" height=\"208pt\"\n viewBox=\"0.00 0.00 458.73 208.48\" xmlns=\"http://www.w3.org/2000/svg\" xmlns:xlink=\"http://www.w3.org/1999/xlink\">\n<g id=\"graph0\" class=\"graph\" transform=\"scale(1 1) rotate(0) translate(4 204.4752)\">\n<title>%3</title>\n<polygon fill=\"#ffffff\" stroke=\"transparent\" points=\"-4,4 -4,-204.4752 454.7277,-204.4752 454.7277,4 -4,4\"/>\n<!-- C -->\n<g id=\"node1\" class=\"node\">\n<title>C</title>\n<ellipse fill=\"none\" stroke=\"#000000\" cx=\"245.7329\" cy=\"-100.6\" rx=\"27\" ry=\"18\"/>\n<text text-anchor=\"middle\" x=\"245.7329\" y=\"-96.9\" font-family=\"Times,serif\" font-size=\"14.00\" fill=\"#000000\">C</text>\n</g>\n<!-- A -->\n<g id=\"node2\" class=\"node\">\n<title>A</title>\n<ellipse fill=\"none\" stroke=\"#000000\" cx=\"423.7277\" cy=\"-182.4752\" rx=\"27\" ry=\"18\"/>\n<text text-anchor=\"middle\" x=\"423.7277\" y=\"-178.7752\" font-family=\"Times,serif\" font-size=\"14.00\" fill=\"#000000\">A</text>\n</g>\n<!-- C&#45;&#45;A -->\n<g id=\"edge1\" class=\"edge\">\n<title>C&#45;&#45;A</title>\n<path fill=\"none\" stroke=\"#000000\" d=\"M268.276,-110.9695C302.5141,-126.7186 367.2385,-156.4909 401.3676,-172.1898\"/>\n</g>\n<!-- D -->\n<g id=\"node4\" class=\"node\">\n<title>D</title>\n<ellipse fill=\"none\" stroke=\"#000000\" cx=\"423.0387\" cy=\"-18\" rx=\"27\" ry=\"18\"/>\n<text text-anchor=\"middle\" x=\"423.0387\" y=\"-14.3\" font-family=\"Times,serif\" font-size=\"14.00\" fill=\"#000000\">D</text>\n</g>\n<!-- C&#45;&#45;D -->\n<g id=\"edge4\" class=\"edge\">\n<title>C&#45;&#45;D</title>\n<path fill=\"none\" stroke=\"#000000\" d=\"M268.1888,-90.1386C302.2943,-74.2502 366.7681,-44.2143 400.7651,-28.3764\"/>\n</g>\n<!-- B -->\n<g id=\"node3\" class=\"node\">\n<title>B</title>\n<ellipse fill=\"none\" stroke=\"#000000\" cx=\"27\" cy=\"-100.4128\" rx=\"27\" ry=\"18\"/>\n<text text-anchor=\"middle\" x=\"27\" y=\"-96.7128\" font-family=\"Times,serif\" font-size=\"14.00\" fill=\"#000000\">B</text>\n</g>\n<!-- B&#45;&#45;C -->\n<g id=\"edge2\" class=\"edge\">\n<title>B&#45;&#45;C</title>\n<path fill=\"none\" stroke=\"#000000\" d=\"M54.2604,-100.4361C96.2899,-100.4721 176.4443,-100.5407 218.4733,-100.5767\"/>\n</g>\n<!-- D&#45;&#45;A -->\n<g id=\"edge3\" class=\"edge\">\n<title>D&#45;&#45;A</title>\n<path fill=\"none\" stroke=\"#000000\" d=\"M423.115,-36.2301C423.2475,-67.8457 423.5183,-132.4911 423.651,-164.1634\"/>\n</g>\n</g>\n</svg>\n"
          },
          "metadata": {
            "tags": []
          },
          "execution_count": 3
        }
      ]
    },
    {
      "cell_type": "markdown",
      "metadata": {
        "id": "uMJnFutVaehV"
      },
      "source": [
        "###Vocabulaire :\n",
        "\n",
        "Chaque prénom représente un **sommet** du graphe ; le lien entre deux sommets est **une arête** du graphe.\n",
        "\n",
        "Si on considère que seules les personnes amies peuvent communiquer entre elles, Bénédicte devra passer par Dylan, ou par Éline pour communiquer avec Alan. On dira que la distance entre Bénédicte et Alan est 2. La distance maximale entre Bénédicte et les autres personnes est 2 dans la situation présentée.\n",
        "\n",
        "Dans un graphe donné, **un centre** est un sommet dont l’écartement est minimal.\n",
        "\n",
        "Un graphe peut comporter plusieurs centres. On interprète ici le centre du graphe comme l’élément d’un réseau par lequel l’information circulera le plus vite.\n",
        "\n",
        "Le **rayon** d’un graphe est l’écartement d’un centre du graphe (c’est-à-dire la valeur minimale des écartements déterminés pour les différents sommets).\n",
        "\n",
        "\n",
        "Dans un graphe donné, le **diamètre** est la plus longue distance entre deux sommets."
      ]
    },
    {
      "cell_type": "markdown",
      "metadata": {
        "id": "UuSChs-IGEir"
      },
      "source": [
        "en utilisant le code ci-dessous que vous adapterez (graphe orienté ou pas, sommets à renommer), construisez \"votre\" réseau social"
      ]
    },
    {
      "cell_type": "code",
      "metadata": {
        "id": "ILy8DevRGD_Z"
      },
      "source": [
        ""
      ],
      "execution_count": null,
      "outputs": []
    },
    {
      "cell_type": "markdown",
      "metadata": {
        "id": "sk5D5tuxGI-b"
      },
      "source": [
        "Enregistrez votre Notebook, et stockez le dans le dossier classe."
      ]
    },
    {
      "cell_type": "markdown",
      "metadata": {
        "id": "pVAA0ASbKCCR"
      },
      "source": [
        "Question ouverte : comment modéliser avec plus de sommets? <br> On utilise des tableaux de plus en plus grands, on les nomme matrice, mais il faudra attendre un peu pour le voir^^."
      ]
    },
    {
      "cell_type": "code",
      "metadata": {
        "id": "CJJgQ84uKXYB",
        "colab": {
          "base_uri": "https://localhost:8080/",
          "height": 246
        },
        "outputId": "4dd58789-83ba-4ab4-bc10-8f607774f7e3"
      },
      "source": [
        "M=np.array([[0, 0, 0, 1, 0, 1, 0, 0, 0],\n",
        "       [0, 0, 1, 0, 0, 0, 0, 0, 0],\n",
        "       [0, 0, 0, 0, 1, 0, 0, 0, 0],\n",
        "       [0, 0, 1, 0, 0, 0, 0, 0, 0],\n",
        "       [0, 0, 0, 0, 0, 0, 0, 1, 0],\n",
        "       [0, 1, 0, 0, 0, 0, 1, 1, 0],\n",
        "       [0, 0, 0, 0, 0, 1, 0, 0, 0],\n",
        "       [0, 0, 0, 0, 0, 0, 1, 0, 0],\n",
        "       [0, 0, 0, 0, 0, 0, 1, 0, 0]])\n",
        "g = Digraph(engine='sfdp')  #on peut sûrement améliorer le code, mais c'est juste pour montrer ce que l'on peut faire\n",
        "for i in range(M.shape[0]):\n",
        "    g.node('S'+str(i))\n",
        "    for j in range(M.shape[1]):\n",
        "        if M[i][j] == 1 :\n",
        "            g.edge('S'+str(i), 'S'+str(j))\n",
        "#g.render(view=True) \n",
        "g\n"
      ],
      "execution_count": null,
      "outputs": [
        {
          "output_type": "error",
          "ename": "NameError",
          "evalue": "ignored",
          "traceback": [
            "\u001b[0;31m---------------------------------------------------------------------------\u001b[0m",
            "\u001b[0;31mNameError\u001b[0m                                 Traceback (most recent call last)",
            "\u001b[0;32m<ipython-input-1-f3cde5698bcf>\u001b[0m in \u001b[0;36m<module>\u001b[0;34m()\u001b[0m\n\u001b[0;32m----> 1\u001b[0;31m M=np.array([[0, 0, 0, 1, 0, 1, 0, 0, 0],\n\u001b[0m\u001b[1;32m      2\u001b[0m        \u001b[0;34m[\u001b[0m\u001b[0;36m0\u001b[0m\u001b[0;34m,\u001b[0m \u001b[0;36m0\u001b[0m\u001b[0;34m,\u001b[0m \u001b[0;36m1\u001b[0m\u001b[0;34m,\u001b[0m \u001b[0;36m0\u001b[0m\u001b[0;34m,\u001b[0m \u001b[0;36m0\u001b[0m\u001b[0;34m,\u001b[0m \u001b[0;36m0\u001b[0m\u001b[0;34m,\u001b[0m \u001b[0;36m0\u001b[0m\u001b[0;34m,\u001b[0m \u001b[0;36m0\u001b[0m\u001b[0;34m,\u001b[0m \u001b[0;36m0\u001b[0m\u001b[0;34m]\u001b[0m\u001b[0;34m,\u001b[0m\u001b[0;34m\u001b[0m\u001b[0;34m\u001b[0m\u001b[0m\n\u001b[1;32m      3\u001b[0m        \u001b[0;34m[\u001b[0m\u001b[0;36m0\u001b[0m\u001b[0;34m,\u001b[0m \u001b[0;36m0\u001b[0m\u001b[0;34m,\u001b[0m \u001b[0;36m0\u001b[0m\u001b[0;34m,\u001b[0m \u001b[0;36m0\u001b[0m\u001b[0;34m,\u001b[0m \u001b[0;36m1\u001b[0m\u001b[0;34m,\u001b[0m \u001b[0;36m0\u001b[0m\u001b[0;34m,\u001b[0m \u001b[0;36m0\u001b[0m\u001b[0;34m,\u001b[0m \u001b[0;36m0\u001b[0m\u001b[0;34m,\u001b[0m \u001b[0;36m0\u001b[0m\u001b[0;34m]\u001b[0m\u001b[0;34m,\u001b[0m\u001b[0;34m\u001b[0m\u001b[0;34m\u001b[0m\u001b[0m\n\u001b[1;32m      4\u001b[0m        \u001b[0;34m[\u001b[0m\u001b[0;36m0\u001b[0m\u001b[0;34m,\u001b[0m \u001b[0;36m0\u001b[0m\u001b[0;34m,\u001b[0m \u001b[0;36m1\u001b[0m\u001b[0;34m,\u001b[0m \u001b[0;36m0\u001b[0m\u001b[0;34m,\u001b[0m \u001b[0;36m0\u001b[0m\u001b[0;34m,\u001b[0m \u001b[0;36m0\u001b[0m\u001b[0;34m,\u001b[0m \u001b[0;36m0\u001b[0m\u001b[0;34m,\u001b[0m \u001b[0;36m0\u001b[0m\u001b[0;34m,\u001b[0m \u001b[0;36m0\u001b[0m\u001b[0;34m]\u001b[0m\u001b[0;34m,\u001b[0m\u001b[0;34m\u001b[0m\u001b[0;34m\u001b[0m\u001b[0m\n\u001b[1;32m      5\u001b[0m        \u001b[0;34m[\u001b[0m\u001b[0;36m0\u001b[0m\u001b[0;34m,\u001b[0m \u001b[0;36m0\u001b[0m\u001b[0;34m,\u001b[0m \u001b[0;36m0\u001b[0m\u001b[0;34m,\u001b[0m \u001b[0;36m0\u001b[0m\u001b[0;34m,\u001b[0m \u001b[0;36m0\u001b[0m\u001b[0;34m,\u001b[0m \u001b[0;36m0\u001b[0m\u001b[0;34m,\u001b[0m \u001b[0;36m0\u001b[0m\u001b[0;34m,\u001b[0m \u001b[0;36m1\u001b[0m\u001b[0;34m,\u001b[0m \u001b[0;36m0\u001b[0m\u001b[0;34m]\u001b[0m\u001b[0;34m,\u001b[0m\u001b[0;34m\u001b[0m\u001b[0;34m\u001b[0m\u001b[0m\n",
            "\u001b[0;31mNameError\u001b[0m: name 'np' is not defined"
          ]
        }
      ]
    }
  ]
}