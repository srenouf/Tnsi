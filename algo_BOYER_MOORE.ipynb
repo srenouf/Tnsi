{
  "nbformat": 4,
  "nbformat_minor": 0,
  "metadata": {
    "colab": {
      "name": "algo BOYER MOORE.ipynb",
      "provenance": [],
      "authorship_tag": "ABX9TyNwj+6jdMKPDZhfGskwYCHk",
      "include_colab_link": true
    },
    "kernelspec": {
      "name": "python3",
      "display_name": "Python 3"
    }
  },
  "cells": [
    {
      "cell_type": "markdown",
      "metadata": {
        "id": "view-in-github",
        "colab_type": "text"
      },
      "source": [
        "<a href=\"https://colab.research.google.com/github/srenouf/Tnsi/blob/master/algo_BOYER_MOORE.ipynb\" target=\"_parent\"><img src=\"https://colab.research.google.com/assets/colab-badge.svg\" alt=\"Open In Colab\"/></a>"
      ]
    },
    {
      "cell_type": "markdown",
      "metadata": {
        "id": "Rw9PHehRAJY6",
        "colab_type": "text"
      },
      "source": [
        "#Algorithme de BOYER-MOORE"
      ]
    },
    {
      "cell_type": "code",
      "metadata": {
        "id": "mxY-hONa_Tvf",
        "colab_type": "code",
        "colab": {
          "base_uri": "https://localhost:8080/",
          "height": 725
        },
        "outputId": "c08eb544-1d11-4fda-9f22-c9716a133148"
      },
      "source": [
        "%%html\n",
        "<div style=\"position:relative;padding-bottom:56.25%;padding-top:10px;height:0;overflow:hidden;\"><iframe src=\"https://www.canal-u.tv/video/inria/embed.1/3_6_l_algorithme_de_boyer_moore.24590?width=100%&amp;height=100%\" style=\"position:absolute;top:0;left:0;width:100%;height: 100%;\" width=\"550\" height=\"306\" frameborder=\"0\" allowfullscreen scrolling=\"no\"></iframe></div>"
      ],
      "execution_count": 3,
      "outputs": [
        {
          "output_type": "display_data",
          "data": {
            "text/html": [
              "<div style=\"position:relative;padding-bottom:56.25%;padding-top:10px;height:0;overflow:hidden;\"><iframe src=\"https://www.canal-u.tv/video/inria/embed.1/3_6_l_algorithme_de_boyer_moore.24590?width=100%&amp;height=100%\" style=\"position:absolute;top:0;left:0;width:100%;height: 100%;\" width=\"550\" height=\"306\" frameborder=\"0\" allowfullscreen scrolling=\"no\"></iframe></div>"
            ],
            "text/plain": [
              "<IPython.core.display.HTML object>"
            ]
          },
          "metadata": {
            "tags": []
          }
        }
      ]
    },
    {
      "cell_type": "markdown",
      "metadata": {
        "id": "6MzNQjdGARPd",
        "colab_type": "text"
      },
      "source": [
        "Les algorithmes qui permettent de trouver une sous-chaine de caractères dans une chaine de caractères plus grande sont des \"grands classiques\" de l'algorithmique. On parle aussi de recherche d'un motif (sous-chaine) dans un texte.<br>"
      ]
    },
    {
      "cell_type": "markdown",
      "metadata": {
        "id": "2ZyYcgZBCMk2",
        "colab_type": "text"
      },
      "source": [
        "##Exemple 1:<br>\n",
        "*Les sanglots longs des violons de l'automne blessent mon coeur d'une langueur monotone. Tout suffocant et blême, quand sonne l'heure, je me souviens des jours anciens et je pleure.* (VERLAINE).\n",
        "\n",
        "<BR>\n",
        "Le motif vio est-il présent? Si oui à quelle position?<br><br>\n",
        "\n",
        "\n",
        "---\n",
        "\n",
        "\n",
        "\n",
        "---\n",
        "\n",
        "\n"
      ]
    },
    {
      "cell_type": "markdown",
      "metadata": {
        "id": "vkjhziReI8l4",
        "colab_type": "text"
      },
      "source": [
        "##Exemple 2 :<br>\n",
        "Voici une molécule d'ADN:"
      ]
    },
    {
      "cell_type": "markdown",
      "metadata": {
        "id": "V4LUofVmHmrK",
        "colab_type": "text"
      },
      "source": [
        "<a href=\"https://www.casimages.com/i/20091508555825622117023728.gif.html\" target=\"_blank\" title=\"Mon image\"><img src=\"https://nsm09.casimages.com/img/2020/09/15//20091508555825622117023728.gif\" border=\"0\" alt=\"Mon image\" /></a>"
      ]
    },
    {
      "cell_type": "markdown",
      "metadata": {
        "id": "jZc1KKFWJGJS",
        "colab_type": "text"
      },
      "source": [
        "Pour rechercher certaines séquences, on va procéder de la mnaière suivante, par exemple pour trouver ACG."
      ]
    },
    {
      "cell_type": "markdown",
      "metadata": {
        "id": "UtVyLiYqGpTi",
        "colab_type": "text"
      },
      "source": [
        "Codage naif:\n",
        "<a href=\"https://www.casimages.com/i/20091508555825622117023727.png.html\" target=\"_blank\" title=\"Mon image\"><img src=\"https://nsm09.casimages.com/img/2020/09/15//20091508555825622117023727.png\" border=\"0\" alt=\"Mon image\" /></a>"
      ]
    },
    {
      "cell_type": "markdown",
      "metadata": {
        "id": "VKWbiRrQNpJv",
        "colab_type": "text"
      },
      "source": [
        "Rappel sur les chaînes de caractères:\n",
        "\n",
        "*   Elles sont immuables\n",
        "*   Elles peuvent être comparées avec l'opérateur ==\n",
        "<br><br>\n",
        "Les caractères d'une chaîne de caractère sont indicés à partir de 0.<BR>\n",
        "Pour construire une sous-chaine de caractère contenant les caractères de l'indice i à l'indice j exclus, il suffit de taper **nom_chaine[i:j]**\n",
        "\n",
        "\n",
        "\n",
        "\n"
      ]
    },
    {
      "cell_type": "code",
      "metadata": {
        "id": "DlA8d6usAc-i",
        "colab_type": "code",
        "colab": {
          "base_uri": "https://localhost:8080/",
          "height": 35
        },
        "outputId": "51b5ad4b-9174-4291-87f1-eacca1496744"
      },
      "source": [
        "chaine_test= \"abcdefghijklm\"\n",
        "\n",
        "\n",
        "def recherche_naive(chaine, motif):\n",
        "    \"\"\" A COMPLETER\n",
        "    \"\"\"\n",
        "    for i in range(0, len(chaine)-len(motif)+1):\n",
        "        if chaine[i:i+len(motif)]==m:\n",
        "            print(\"occurence à la position\",i)"
      ],
      "execution_count": 4,
      "outputs": [
        {
          "output_type": "stream",
          "text": [
            "(True, 5)\n"
          ],
          "name": "stdout"
        }
      ]
    },
    {
      "cell_type": "code",
      "metadata": {
        "id": "rBJ7QqNPNfFj",
        "colab_type": "code",
        "colab": {}
      },
      "source": [
        "#A VOUS DE TESTER CETTE PROCEDURE"
      ],
      "execution_count": null,
      "outputs": []
    },
    {
      "cell_type": "markdown",
      "metadata": {
        "id": "5Dj5TGCKL7ee",
        "colab_type": "text"
      },
      "source": [
        "###Coût de cet algortihme <br>\n",
        "Le problème de cette procédure est qu'on créée des sous-chaines de taille égale à la taille du motif. Si on note par M la longueur du motif, alors le coût sera proportionnel à M. On répète cela N-M+1 fois (N représente la longueur de la chaîne).\n",
        "\n",
        "\n",
        "---\n",
        "Si M=1000 et N=2000, estimer, ci-dessous, le coût: <br><br>\n",
        "\n",
        "\n",
        "---\n",
        "\n",
        "\n",
        "\n",
        "---\n",
        "\n",
        "\n",
        "\n",
        "\n"
      ]
    },
    {
      "cell_type": "markdown",
      "metadata": {
        "id": "ycQ6OiPSPyu_",
        "colab_type": "text"
      },
      "source": [
        "###Amélioration de l'approche naîve <br>\n",
        "Au lieu de comparer caractère par caractère et de décaler d'un cran, on peut comparer directement le motif avec la sous-chaîne contenue dans texte à la position i caractère par caractère sans créer de sous-chaîne.<br>\n",
        "\n",
        "###A vous de compléter cette fonction occurence qui indique s'il y a occurence du motif dans le texte à la position i. Réfléchir aux conditions que doit respecter i."
      ]
    },
    {
      "cell_type": "code",
      "metadata": {
        "id": "kOEGoCADQdRu",
        "colab_type": "code",
        "colab": {
          "base_uri": "https://localhost:8080/",
          "height": 135
        },
        "outputId": "a3f71212-aada-4ea6-b37e-60a37dabfe82"
      },
      "source": [
        "def occurence(motif,texte,i):\n",
        "    \"\"\" A COMPLETER\n",
        "    \"\"\"\n",
        "    if i<... or i>...:\n",
        "        return False\n",
        "    for j in range(len(motif)):\n",
        "        if ...!=motif[j]:\n",
        "            return False\n",
        "    return True\n"
      ],
      "execution_count": 1,
      "outputs": [
        {
          "output_type": "error",
          "ename": "SyntaxError",
          "evalue": "ignored",
          "traceback": [
            "\u001b[0;36m  File \u001b[0;32m\"<ipython-input-1-2d1e9f9734fd>\"\u001b[0;36m, line \u001b[0;32m1\u001b[0m\n\u001b[0;31m    def occurence(motif,texte,i):\u001b[0m\n\u001b[0m                                 ^\u001b[0m\n\u001b[0;31mSyntaxError\u001b[0m\u001b[0;31m:\u001b[0m unexpected EOF while parsing\n"
          ]
        }
      ]
    },
    {
      "cell_type": "markdown",
      "metadata": {
        "id": "f8bV4MCsRYJH",
        "colab_type": "text"
      },
      "source": [
        "A vous d'écrire une procédure recherche qui va afficher toutes les occurences du motif dans le texte."
      ]
    },
    {
      "cell_type": "code",
      "metadata": {
        "id": "FpGMkR3RRha2",
        "colab_type": "code",
        "colab": {}
      },
      "source": [
        "def recherche(motif,texte):\n",
        "    \"\"\"A COMPLETER\n",
        "    \"\"\"\n",
        "    #A COMPLETER et A TESTER"
      ],
      "execution_count": null,
      "outputs": []
    },
    {
      "cell_type": "markdown",
      "metadata": {
        "id": "Frk7A7OgRqjU",
        "colab_type": "text"
      },
      "source": [
        "Coût de cette approche: <br> A vous de trouver le coût de la recherche de 1000 caractères \"a\" dans un texte contenant 2000 caractères \"b\" : <br><br>\n",
        "\n",
        "\n",
        "---\n",
        "\n"
      ]
    },
    {
      "cell_type": "markdown",
      "metadata": {
        "id": "4VZ1ZMMzJ6ni",
        "colab_type": "text"
      },
      "source": [
        "##Principe de BOYER-MOORE: <br>\n",
        "L’algorithme de Boyer-Moore consiste à comparer les caractères du motif et ceux du texte de droite à gauche, puis, en cas d’échec d’une comparaison de caractères, d’observer le caractère du texte qui ne correspondait pas à celui du motif et d’en déduire si on ne peut pas décaler le motif de plus de 1 rang dans la recherche du motif dans le texte. \n"
      ]
    },
    {
      "cell_type": "code",
      "metadata": {
        "id": "TviHrXCdKGY7",
        "colab_type": "code",
        "colab": {}
      },
      "source": [
        "# Issu de Spécialité NSI édition Ellipses, 24 leçons avec exercices corrigés\n",
        "\n",
        "def table_bm(m):\n",
        "    \"\"\"construit la table de décalages de Boyer-Moore :\n",
        "       d[j][c] est le plus grand k < j tel que m[k] == c,\n",
        "       s'il existe, et n'est pas défini sinon\"\"\"\n",
        "    d = [{} for _ in range(len(m))]\n",
        "    for j in range(len(m)):\n",
        "        for k in range(j):\n",
        "            d[j][m[k]] = k\n",
        "    return d\n",
        "\n",
        "def decalage(d, j, c):\n",
        "    \"\"\"utilise la table d lorsque le caractère j est c\n",
        "       au lieu du caractère attendu\"\"\"\n",
        "    if c in d[j]:\n",
        "        # c apparaît en d[j][c] et on décale de la différence\n",
        "        return j - d[j][c]\n",
        "    else:\n",
        "        # c n'apparaît pas du tout dans m[0..j-1]\n",
        "        return j + 1\n",
        "\n",
        "def recherche(m, t):\n",
        "    \"\"\"affiche toutes les occurrences de m dans t\n",
        "       avec l'algorithme de Boyer-Moore\"\"\"\n",
        "    d = table_bm(m)\n",
        "    i = 0\n",
        "    while i <= len(t) - len(m):\n",
        "        k = 0\n",
        "        for j in range(len(m) - 1, -1, -1):\n",
        "            if t[i + j] != m[j]:\n",
        "                k = decalage(d, j, t[i + j])\n",
        "                break\n",
        "        if k == 0:\n",
        "            print(\"occurrence à la position\", i)\n",
        "            k = 1\n",
        "        i += k"
      ],
      "execution_count": 4,
      "outputs": []
    },
    {
      "cell_type": "code",
      "metadata": {
        "id": "3a2cx3kVWV1z",
        "colab_type": "code",
        "colab": {}
      },
      "source": [
        "#TESTER les fonctions SEPAREMMENT DANS CETTE LIGNE DE CODE"
      ],
      "execution_count": null,
      "outputs": []
    },
    {
      "cell_type": "markdown",
      "metadata": {
        "id": "phm7oQCFvnFK",
        "colab_type": "text"
      },
      "source": [
        "Expliquer ci-dessous le fonctionnement de chacune des fonctions à l'aide d'un exemple (texte + motif à rechercher), il faudra fournir la table des décalages."
      ]
    },
    {
      "cell_type": "markdown",
      "metadata": {
        "id": "o0wciR0ivm9X",
        "colab_type": "text"
      },
      "source": [
        ""
      ]
    }
  ]
}