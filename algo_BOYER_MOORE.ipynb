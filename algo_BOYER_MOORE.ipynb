{
  "nbformat": 4,
  "nbformat_minor": 0,
  "metadata": {
    "colab": {
      "name": "algo BOYER MOORE.ipynb",
      "provenance": [],
      "authorship_tag": "ABX9TyNwd/UCHMeS/G4WQNR4d6Tt",
      "include_colab_link": true
    },
    "kernelspec": {
      "name": "python3",
      "display_name": "Python 3"
    }
  },
  "cells": [
    {
      "cell_type": "markdown",
      "metadata": {
        "id": "view-in-github",
        "colab_type": "text"
      },
      "source": [
        "<a href=\"https://colab.research.google.com/github/srenouf/Tnsi/blob/master/algo_BOYER_MOORE.ipynb\" target=\"_parent\"><img src=\"https://colab.research.google.com/assets/colab-badge.svg\" alt=\"Open In Colab\"/></a>"
      ]
    },
    {
      "cell_type": "markdown",
      "metadata": {
        "id": "Rw9PHehRAJY6",
        "colab_type": "text"
      },
      "source": [
        "#Algorithme de BOYER-MOORE"
      ]
    },
    {
      "cell_type": "code",
      "metadata": {
        "id": "mxY-hONa_Tvf",
        "colab_type": "code",
        "colab": {
          "base_uri": "https://localhost:8080/",
          "height": 801
        },
        "outputId": "c08eb544-1d11-4fda-9f22-c9716a133148"
      },
      "source": [
        "%%html\n",
        "<div style=\"position:relative;padding-bottom:56.25%;padding-top:10px;height:0;overflow:hidden;\"><iframe src=\"https://www.canal-u.tv/video/inria/embed.1/3_6_l_algorithme_de_boyer_moore.24590?width=100%&amp;height=100%\" style=\"position:absolute;top:0;left:0;width:100%;height: 100%;\" width=\"550\" height=\"306\" frameborder=\"0\" allowfullscreen scrolling=\"no\"></iframe></div>"
      ],
      "execution_count": 3,
      "outputs": [
        {
          "output_type": "display_data",
          "data": {
            "text/html": [
              "<div style=\"position:relative;padding-bottom:56.25%;padding-top:10px;height:0;overflow:hidden;\"><iframe src=\"https://www.canal-u.tv/video/inria/embed.1/3_6_l_algorithme_de_boyer_moore.24590?width=100%&amp;height=100%\" style=\"position:absolute;top:0;left:0;width:100%;height: 100%;\" width=\"550\" height=\"306\" frameborder=\"0\" allowfullscreen scrolling=\"no\"></iframe></div>"
            ],
            "text/plain": [
              "<IPython.core.display.HTML object>"
            ]
          },
          "metadata": {
            "tags": []
          }
        }
      ]
    },
    {
      "cell_type": "markdown",
      "metadata": {
        "id": "6MzNQjdGARPd",
        "colab_type": "text"
      },
      "source": [
        "Les algorithmes qui permettent de trouver une sous-chaine de caractères dans une chaine de caractères plus grande sont des \"grands classiques\" de l'algorithmique. On parle aussi de recherche d'un motif (sous-chaine) dans un texte.<br>"
      ]
    },
    {
      "cell_type": "markdown",
      "metadata": {
        "id": "2ZyYcgZBCMk2",
        "colab_type": "text"
      },
      "source": [
        "##Exemple 1:<br>\n",
        "*Les sanglots longs des violons de l'automne blessent mon coeur d'une langueur monotone. Tout suffocant et blême, quand sonne l'heure, je me souviens des jours anciens et je pleure.* VERLAINE.\n",
        "*texte en italique*\n",
        "<BR>\n",
        "Le motif vio est-il présent? Si oui à quelle position?<br><br>\n",
        "_____________\n"
      ]
    },
    {
      "cell_type": "markdown",
      "metadata": {
        "id": "vkjhziReI8l4",
        "colab_type": "text"
      },
      "source": [
        "##Exemple 2 :<br>\n",
        "Voici une molécule d'ADN:"
      ]
    },
    {
      "cell_type": "markdown",
      "metadata": {
        "id": "V4LUofVmHmrK",
        "colab_type": "text"
      },
      "source": [
        "<a href=\"https://www.casimages.com/i/20091508555825622117023728.gif.html\" target=\"_blank\" title=\"Mon image\"><img src=\"https://nsm09.casimages.com/img/2020/09/15//20091508555825622117023728.gif\" border=\"0\" alt=\"Mon image\" /></a>"
      ]
    },
    {
      "cell_type": "markdown",
      "metadata": {
        "id": "jZc1KKFWJGJS",
        "colab_type": "text"
      },
      "source": [
        "Pour rechercher certaines séquences, on va procéder de la mnaière suivante, par exemple pour trouver ACG."
      ]
    },
    {
      "cell_type": "markdown",
      "metadata": {
        "id": "UtVyLiYqGpTi",
        "colab_type": "text"
      },
      "source": [
        "Codage naif:\n",
        "<a href=\"https://www.casimages.com/i/20091508555825622117023727.png.html\" target=\"_blank\" title=\"Mon image\"><img src=\"https://nsm09.casimages.com/img/2020/09/15//20091508555825622117023727.png\" border=\"0\" alt=\"Mon image\" /></a>"
      ]
    },
    {
      "cell_type": "code",
      "metadata": {
        "id": "DlA8d6usAc-i",
        "colab_type": "code",
        "colab": {
          "base_uri": "https://localhost:8080/",
          "height": 36
        },
        "outputId": "51b5ad4b-9174-4291-87f1-eacca1496744"
      },
      "source": [
        "chaine_test= \"abcdefghijklm\"\n",
        "\n",
        "\n",
        "def naive(chaine, motif):\n",
        "    success=False\n",
        "    long_chaine= len(chaine)\n",
        "    long_pattern=len(pattern)\n",
        "    indice=len(chaine)\n",
        "    boucle=long_chaine-long_pattern\n",
        "    for i in range(boucle):\n",
        "        j=0\n",
        "        n=i\n",
        "        while ((j<=long_pattern-1)and (chaine[n]==pattern[j])and(success==False)):\n",
        "            if j==long_pattern-1:\n",
        "                success=True\n",
        "                indice=i\n",
        "            j=j+1\n",
        "            n=n+1\n",
        "\n",
        "            \n",
        "\n",
        "            \n",
        "    return success, indice\n",
        "print(naive(chaine_test,\"fgh\"))"
      ],
      "execution_count": 4,
      "outputs": [
        {
          "output_type": "stream",
          "text": [
            "(True, 5)\n"
          ],
          "name": "stdout"
        }
      ]
    }
  ]
}