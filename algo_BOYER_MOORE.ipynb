{
  "nbformat": 4,
  "nbformat_minor": 0,
  "metadata": {
    "colab": {
      "name": "algo BOYER MOORE.ipynb",
      "provenance": [],
      "authorship_tag": "ABX9TyMlCsno11bwzTtnBwNaB8us",
      "include_colab_link": true
    },
    "kernelspec": {
      "name": "python3",
      "display_name": "Python 3"
    }
  },
  "cells": [
    {
      "cell_type": "markdown",
      "metadata": {
        "id": "view-in-github",
        "colab_type": "text"
      },
      "source": [
        "<a href=\"https://colab.research.google.com/github/srenouf/Tnsi/blob/master/algo_BOYER_MOORE.ipynb\" target=\"_parent\"><img src=\"https://colab.research.google.com/assets/colab-badge.svg\" alt=\"Open In Colab\"/></a>"
      ]
    },
    {
      "cell_type": "markdown",
      "metadata": {
        "id": "Rw9PHehRAJY6",
        "colab_type": "text"
      },
      "source": [
        "#Algorithme de BOYER-MOORE"
      ]
    },
    {
      "cell_type": "code",
      "metadata": {
        "id": "mxY-hONa_Tvf",
        "colab_type": "code",
        "colab": {
          "base_uri": "https://localhost:8080/",
          "height": 725
        },
        "outputId": "c08eb544-1d11-4fda-9f22-c9716a133148"
      },
      "source": [
        "%%html\n",
        "<div style=\"position:relative;padding-bottom:56.25%;padding-top:10px;height:0;overflow:hidden;\"><iframe src=\"https://www.canal-u.tv/video/inria/embed.1/3_6_l_algorithme_de_boyer_moore.24590?width=100%&amp;height=100%\" style=\"position:absolute;top:0;left:0;width:100%;height: 100%;\" width=\"550\" height=\"306\" frameborder=\"0\" allowfullscreen scrolling=\"no\"></iframe></div>"
      ],
      "execution_count": 3,
      "outputs": [
        {
          "output_type": "display_data",
          "data": {
            "text/html": [
              "<div style=\"position:relative;padding-bottom:56.25%;padding-top:10px;height:0;overflow:hidden;\"><iframe src=\"https://www.canal-u.tv/video/inria/embed.1/3_6_l_algorithme_de_boyer_moore.24590?width=100%&amp;height=100%\" style=\"position:absolute;top:0;left:0;width:100%;height: 100%;\" width=\"550\" height=\"306\" frameborder=\"0\" allowfullscreen scrolling=\"no\"></iframe></div>"
            ],
            "text/plain": [
              "<IPython.core.display.HTML object>"
            ]
          },
          "metadata": {
            "tags": []
          }
        }
      ]
    },
    {
      "cell_type": "markdown",
      "metadata": {
        "id": "6MzNQjdGARPd",
        "colab_type": "text"
      },
      "source": [
        "Les algorithmes qui permettent de trouver une sous-chaine de caractères dans une chaine de caractères plus grande sont des \"grands classiques\" de l'algorithmique. On parle aussi de recherche d'un motif (sous-chaine) dans un texte.<br>"
      ]
    },
    {
      "cell_type": "code",
      "metadata": {
        "id": "DlA8d6usAc-i",
        "colab_type": "code",
        "colab": {}
      },
      "source": [
        ""
      ],
      "execution_count": null,
      "outputs": []
    }
  ]
}