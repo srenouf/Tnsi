{
 "cells": [
  {
   "cell_type": "markdown",
   "metadata": {
    "colab_type": "text",
    "id": "view-in-github"
   },
   "source": [
    "<a href=\"https://colab.research.google.com/github/srenouf/Tnsi/blob/master/T_nsi_brouillon_SQL2.ipynb\" target=\"_parent\"><img src=\"https://colab.research.google.com/assets/colab-badge.svg\" alt=\"Open In Colab\"/></a>"
   ]
  },
  {
   "cell_type": "markdown",
   "metadata": {
    "colab_type": "text",
    "id": "efqeMZBH5vkX"
   },
   "source": [
    "# SQL 2/3\n",
    "> Cours NSI Terminale - Thème 2.\n",
    "- toc: true \n",
    "- badges: true\n",
    "- comments: false\n",
    "- categories: [NSI, Terminale, Bases de données, SQL, TP]\n",
    "- image: /images/nsi2.png"
   ]
  },
  {
   "cell_type": "markdown",
   "metadata": {
    "colab_type": "text",
    "deletable": false,
    "editable": false,
    "id": "OFS529wN5vkZ",
    "nbgrader": {
     "cell_type": "markdown",
     "checksum": "8c432f81dec39832c0a537518cc03738",
     "grade": false,
     "grade_id": "cell-1857cc9966e168e6",
     "locked": true,
     "schema_version": 3,
     "solution": false,
     "task": false
    }
   },
   "source": [
    "# Aller plus loin en SQL\n",
    "\n",
    "Dans ce classeur, nous poursuivrons l'étude de l'exemple de la base de données de livres de SF et nous verrons des requêtes de sélection avancées ainsi que la manière de fusionner plusieurs tables (Jointures).\n",
    "\n",
    "Commencez par valider les cellules suivantes afin d'activer la fonctionnalité SQL de Jupyter et de ncharger la base du TP précédent."
   ]
  },
  {
   "cell_type": "code",
   "execution_count": null,
   "metadata": {
    "colab": {},
    "colab_type": "code",
    "deletable": false,
    "editable": false,
    "id": "_0hozWss5vkb",
    "nbgrader": {
     "cell_type": "code",
     "checksum": "c9ea247d5e76475bb29a09415bc67971",
     "grade": false,
     "grade_id": "cell-7cc7fb0371c28068",
     "locked": true,
     "schema_version": 3,
     "solution": false,
     "task": false
    }
   },
   "outputs": [],
   "source": [
    "%load_ext sql\n",
    "\n",
    "%sql sqlite:///livres_db"
   ]
  },
  {
   "cell_type": "markdown",
   "metadata": {},
   "source": [
    "Créez la table Auteurs afin que celle-ci reflète les informations suivantes :\n",
    "\n",
    "|   Nom    |    Prenom    | annee naissance |  langue  |\n",
    "|----------|--------------|-----------|----------|\n",
    "|  Orwell  |    George    |    1903   | Anglais  |\n",
    "| Herbert  |    Frank     |    1920   | Anglais  | \n",
    "|  Asimov  |    Isaac     |    1920   | Anglais  |\n",
    "|  Huxley  |    Aldous    |    1894   | Anglais  |  \n",
    "| Bradbury |     Ray      |    1920   | Anglais  | \n",
    "| K. Dick  |    Philip    |    1928   | Anglais  |  \n",
    "| Barjavel |     René     |    1911   | Français | \n",
    "|  Boulle  |    Pierre    |    1912   | Français |  \n",
    "| Van Vogt | Alfred Elton |    1912   | Anglais  | \n",
    "|  Verne   |    Jules     |    1828   | Français |  \n",
    "\n",
    "Notre base n'est pas encore complète : il nous reste à créer les tables **Livres** et qui doit refléter le contenu suivant :\n",
    "\n",
    "|           Titre           |   NomAuteur    |    PrenomAuteur    | AnneeNaissance |  Langue  | AnneePubli | Themes |\n",
    "|---------------------------|----------|--------------|-----------|----------|-----------|------|\n",
    "|            1984           |  Orwell  |    George    |    1903   | Anglais  |    1949   |  Totalitarisme, science-fiction, anticipation, Dystopie  |\n",
    "|            Dune           | Herbert  |    Frank     |    1920   | Anglais  |    1965   | science-fiction, anticipation   |\n",
    "|         Fondation         |  Asimov  |    Isaac     |    1920   | Anglais  |    1951   |  science-fiction, Economie  |\n",
    "|   Le meilleur des mondes  |  Huxley  |    Aldous    |    1894   | Anglais  |    1931   |  Totalitarisme, science fiction, dystopie   |\n",
    "|       Fahrenheit 451      | Bradbury |     Ray      |    1920   | Anglais  |    1953   |   \tscience-fiction, Dystopie  |\n",
    "|            Ubik           | K. Dick  |    Philip    |    1928   | Anglais  |    1969   |  \tscience-fiction, anticipation   |\n",
    "|   Chroniques martiennes   | Bradbury |     Ray      |    1920   | Anglais  |    1950   |   \tscience-fiction, anticipation   |\n",
    "|     La nuit des temps     | Barjavel |     René     |    1911   | Français |    1968   |   \tscience-fiction, tragédie   |\n",
    "|        Blade Runner       | K. Dick  |    Philip    |    1928   | Anglais  |    1968   |   \tIntelligence artificielle, science fiction  |\n",
    "|         Les Robots        |  Asimov  |    Isaac     |    1920   | Anglais  |    1950   |  science fiction, Intelligence artificielle   |\n",
    "|   La Planète des singes   |  Boulle  |    Pierre    |    1912   | Français |    1963   |   \tscience fiction, Dystopie   |\n",
    "|           Ravage          | Barjavel |     René     |    1911   | Français |    1943   |  Science-Fiction, anticipation   |\n",
    "| Le Maître du Haut Château | K. Dick  |    Philip    |    1928   | Anglais  |    1962   |   \tDystopie, Uchronie  |\n",
    "|       Le monde des A      | Van Vogt | Alfred Elton |    1912   | Anglais  |    1945   |   \tscience fiction, IA   |\n",
    "|    La Fin de l’éternité   |  Asimov  |    Isaac     |    1920   | Anglais  |    1955   |  science-fiction, voyage dans le temps  |\n",
    "|   De la Terre à la Lune   |  Verne   |    Jules     |    1828   | Français |    1865   |   \tScience-Fiction, aventure  |\n"
   ]
  },
  {
   "cell_type": "markdown",
   "metadata": {
    "colab_type": "text",
    "deletable": false,
    "editable": false,
    "id": "OfzARae85vkq",
    "nbgrader": {
     "cell_type": "markdown",
     "checksum": "801c78ebbd6bc1e91d0f38a344fd78bb",
     "grade": false,
     "grade_id": "cell-90f6649966916f2a",
     "locked": true,
     "schema_version": 3,
     "solution": false,
     "task": false
    }
   },
   "source": [
    "## Aller plus loin avec SELECT\n",
    "\n",
    "### Sélection simple\n",
    "\n",
    "Supposons que l'on veuille lister seulement les noms et prénoms des auteurs nés avant 1900, on utilisera une clause **WHERE** *condition* :"
   ]
  },
  {
   "cell_type": "code",
   "execution_count": null,
   "metadata": {
    "colab": {},
    "colab_type": "code",
    "deletable": false,
    "editable": false,
    "id": "On70HjKK5vks",
    "nbgrader": {
     "cell_type": "code",
     "checksum": "4f06199becbc508c498cf2d3cc2b4184",
     "grade": false,
     "grade_id": "cell-baad24ed27faac4e",
     "locked": true,
     "schema_version": 3,
     "solution": false,
     "task": false
    }
   },
   "outputs": [],
   "source": [
    "%sql SELECT NomAuteur, PrenomAuteur from Auteurs WHERE AnneeNaissance < 1900;"
   ]
  },
  {
   "cell_type": "markdown",
   "metadata": {
    "colab_type": "text",
    "deletable": false,
    "editable": false,
    "id": "yrbxDUdH5vkz",
    "nbgrader": {
     "cell_type": "markdown",
     "checksum": "bd0a9e9c25c1d564c72e714bea927af2",
     "grade": false,
     "grade_id": "cell-dfb056bff980fc60",
     "locked": true,
     "schema_version": 3,
     "solution": false,
     "task": false
    }
   },
   "source": [
    "Pour obtebir les auteurs prénommés *Jules* :"
   ]
  },
  {
   "cell_type": "code",
   "execution_count": null,
   "metadata": {
    "colab": {},
    "colab_type": "code",
    "id": "JD2BOwyt5vk1"
   },
   "outputs": [],
   "source": [
    "%sql SELECT NomAuteur, PrenomAuteur from Auteurs WHERE PrenomAuteur = 'Jules';"
   ]
  },
  {
   "cell_type": "markdown",
   "metadata": {
    "colab_type": "text",
    "deletable": false,
    "editable": false,
    "id": "2AJG1ko45vk5",
    "nbgrader": {
     "cell_type": "markdown",
     "checksum": "ac357e3631d75acd0f94216aa6b78fbf",
     "grade": false,
     "grade_id": "cell-72372881d6a7509d",
     "locked": true,
     "schema_version": 3,
     "solution": false,
     "task": false
    }
   },
   "source": [
    "Vous voyez que les textes sont délimités par des quotes **'...'**.\n",
    "\n",
    "***Attention*** : essayez de remplacer **Jules** par **jules** et vous constaterez que la recherche est sensible aux majuscules.\n",
    "\n",
    "Supposns maintenant que l'on recherche les auteurs dont le prénom commence par **P** : Nous utiliserons une clause *LIKE* de cette manière :"
   ]
  },
  {
   "cell_type": "code",
   "execution_count": null,
   "metadata": {
    "colab": {},
    "colab_type": "code",
    "deletable": false,
    "editable": false,
    "id": "KncYSPiF5vk6",
    "nbgrader": {
     "cell_type": "code",
     "checksum": "2bf8100c18da7cafff69e227b1dce7b7",
     "grade": false,
     "grade_id": "cell-ca58877d3e313227",
     "locked": true,
     "schema_version": 3,
     "solution": false,
     "task": false
    }
   },
   "outputs": [],
   "source": [
    "%sql SELECT NomAuteur, PrenomAuteur from Auteurs WHERE PrenomAuteur LIKE 'P%';"
   ]
  },
  {
   "cell_type": "markdown",
   "metadata": {
    "colab_type": "text",
    "deletable": false,
    "editable": false,
    "id": "gqf_k4Ui5vk_",
    "nbgrader": {
     "cell_type": "markdown",
     "checksum": "5c475597f612d71c133122e56a2d613b",
     "grade": false,
     "grade_id": "cell-28dc4a18f909f5c4",
     "locked": true,
     "schema_version": 3,
     "solution": false,
     "task": false
    }
   },
   "source": [
    "### Sélection multiple\n",
    "Il est possible de croiser plusieurs critères à l'aide d'opérateurs booleens : **AND** et **OR**. Voici la liste des auteurs français nés après 1900 :"
   ]
  },
  {
   "cell_type": "code",
   "execution_count": null,
   "metadata": {
    "colab": {},
    "colab_type": "code",
    "deletable": false,
    "editable": false,
    "id": "74IGFL4k5vlB",
    "nbgrader": {
     "cell_type": "code",
     "checksum": "d097e79b4a92a2dceaf1e259a4539d72",
     "grade": false,
     "grade_id": "cell-f98778845202f5f9",
     "locked": true,
     "schema_version": 3,
     "solution": false,
     "task": false
    }
   },
   "outputs": [],
   "source": [
    "%sql SELECT NomAuteur, PrenomAuteur from Auteurs WHERE IdLangue = 2 AND AnneeNaissance > 1900;"
   ]
  },
  {
   "cell_type": "markdown",
   "metadata": {
    "colab_type": "text",
    "deletable": false,
    "editable": false,
    "id": "LlTgP7Lv5vlI",
    "nbgrader": {
     "cell_type": "markdown",
     "checksum": "f786c7bceb82bf341ac5f44706c79c32",
     "grade": false,
     "grade_id": "cell-136fb261dedbc48b",
     "locked": true,
     "schema_version": 3,
     "solution": false,
     "task": false
    }
   },
   "source": [
    "### Compter le nombre de réponses d'une requête SELECT\n",
    "\n",
    "Combien y a t-il d'auteurs nés entre 1900 et 1915 ? Vous verrez à l'occation l'utilisation de l'opérateur *BETWEEN* pour tester l'appartenance à un intervalle."
   ]
  },
  {
   "cell_type": "code",
   "execution_count": null,
   "metadata": {
    "colab": {},
    "colab_type": "code",
    "deletable": false,
    "editable": false,
    "id": "Xq71hRUq5vlJ",
    "nbgrader": {
     "cell_type": "code",
     "checksum": "ec96d632497efb6242e32324926f6f7c",
     "grade": false,
     "grade_id": "cell-4b492293d286103c",
     "locked": true,
     "schema_version": 3,
     "solution": false,
     "task": false
    }
   },
   "outputs": [],
   "source": [
    "nbr = %sql SELECT COUNT(*) from Auteurs WHERE AnneeNaissance BETWEEN 1900 AND 1915;\n",
    "\n",
    "print(nbr)\n",
    "print(\"récupérer juste le nombre : \", nbr[0][0])"
   ]
  },
  {
   "cell_type": "markdown",
   "metadata": {
    "colab_type": "text",
    "deletable": false,
    "editable": false,
    "id": "W681wuwP5vlM",
    "nbgrader": {
     "cell_type": "markdown",
     "checksum": "33fcab606a4e552e12ff564324233b5b",
     "grade": false,
     "grade_id": "cell-7b7bc37d92eac9d1",
     "locked": true,
     "schema_version": 3,
     "solution": false,
     "task": false
    }
   },
   "source": [
    "### Trier les réponses\n",
    "\n",
    "Nous allons lister tous les auteurs par ordre croissant d'année de naissance"
   ]
  },
  {
   "cell_type": "code",
   "execution_count": null,
   "metadata": {
    "colab": {},
    "colab_type": "code",
    "deletable": false,
    "editable": false,
    "id": "uRYcKhH15vlN",
    "nbgrader": {
     "cell_type": "code",
     "checksum": "9f490c862022ed4ddfbbddf6cfc8cf92",
     "grade": false,
     "grade_id": "cell-96b91404aa8df10a",
     "locked": true,
     "schema_version": 3,
     "solution": false,
     "task": false
    }
   },
   "outputs": [],
   "source": [
    "%sql SELECT * from Auteurs ORDER BY AnneeNaissance;"
   ]
  },
  {
   "cell_type": "markdown",
   "metadata": {
    "colab_type": "text",
    "deletable": false,
    "editable": false,
    "id": "93S-wqzQ5vlS",
    "nbgrader": {
     "cell_type": "markdown",
     "checksum": "254cb498208be77cbba83b91b065b7a5",
     "grade": false,
     "grade_id": "cell-9d02421596595d51",
     "locked": true,
     "schema_version": 3,
     "solution": false,
     "task": false
    }
   },
   "source": [
    "et par ordre décroissant, on ajoute **DESC** à la fin de la requête"
   ]
  },
  {
   "cell_type": "code",
   "execution_count": null,
   "metadata": {
    "colab": {},
    "colab_type": "code",
    "deletable": false,
    "editable": false,
    "id": "fgK3EYih5vlT",
    "nbgrader": {
     "cell_type": "code",
     "checksum": "b3fdb66a111138ee56acdc88f5b8b8e0",
     "grade": false,
     "grade_id": "cell-0468004c28345ded",
     "locked": true,
     "schema_version": 3,
     "solution": false,
     "task": false
    }
   },
   "outputs": [],
   "source": [
    "%sql SELECT * from Auteurs ORDER BY AnneeNaissance DESC;"
   ]
  },
  {
   "cell_type": "markdown",
   "metadata": {
    "colab_type": "text",
    "deletable": false,
    "editable": false,
    "id": "2jzdN3NZ5vlY",
    "nbgrader": {
     "cell_type": "markdown",
     "checksum": "baeb57ee3c570a69490440ff349e95b3",
     "grade": false,
     "grade_id": "cell-4485617887b69085",
     "locked": true,
     "schema_version": 3,
     "solution": false,
     "task": false
    }
   },
   "source": [
    "### Éviter les occurrences multiples\n",
    "\n",
    "interrogeons la table **Livres** sur les années de publication, rangées par ordre croissant :"
   ]
  },
  {
   "cell_type": "code",
   "execution_count": null,
   "metadata": {
    "colab": {},
    "colab_type": "code",
    "deletable": false,
    "editable": false,
    "id": "V16dqUaQ5vlY",
    "nbgrader": {
     "cell_type": "code",
     "checksum": "0b0ea83e86329908c5550aff2e62cdf3",
     "grade": false,
     "grade_id": "cell-9ef1b4bb32f01d21",
     "locked": true,
     "schema_version": 3,
     "solution": false,
     "task": false
    }
   },
   "outputs": [],
   "source": [
    "%sql SELECT AnneePubli from Livres ORDER BY AnneePubli;"
   ]
  },
  {
   "cell_type": "markdown",
   "metadata": {
    "colab_type": "text",
    "deletable": false,
    "editable": false,
    "id": "lH0kTAoU5vlc",
    "nbgrader": {
     "cell_type": "markdown",
     "checksum": "13ee4851ae3f5ee8c11a0deea734b16b",
     "grade": false,
     "grade_id": "cell-47154ace5f895d9f",
     "locked": true,
     "schema_version": 3,
     "solution": false,
     "task": false
    }
   },
   "source": [
    "On constate la présence de quelques doublons\n",
    "\n",
    "Pour éviter les redondances dans les résultats, on peut rajouter le mot-clé *DISTINCT* juste après le *SELECT* :"
   ]
  },
  {
   "cell_type": "code",
   "execution_count": null,
   "metadata": {
    "colab": {},
    "colab_type": "code",
    "deletable": false,
    "editable": false,
    "id": "0PA1y8xR5vld",
    "nbgrader": {
     "cell_type": "code",
     "checksum": "322280d40786a8bbf7a4c0cbc3e11507",
     "grade": false,
     "grade_id": "cell-48ae391d7798d3f6",
     "locked": true,
     "schema_version": 3,
     "solution": false,
     "task": false
    }
   },
   "outputs": [],
   "source": [
    "%sql SELECT DISTINCT AnneePubli from Livres ORDER BY AnneePubli;"
   ]
  },
  {
   "cell_type": "markdown",
   "metadata": {
    "colab_type": "text",
    "deletable": false,
    "editable": false,
    "id": "hRgTgzPd5vli",
    "nbgrader": {
     "cell_type": "markdown",
     "checksum": "e5b3a9fda9915c25af72ba1a97470127",
     "grade": false,
     "grade_id": "cell-035d091e7af33cad",
     "locked": true,
     "schema_version": 3,
     "solution": false,
     "task": false
    }
   },
   "source": [
    "### A vous de jouer\n",
    "\n",
    "1. Donner la liste de tous les titres des livres écrits entre 1920 et 1950.\n",
    "1. Combien y en a t-il ?"
   ]
  },
  {
   "cell_type": "code",
   "execution_count": null,
   "metadata": {
    "colab": {},
    "colab_type": "code",
    "id": "A_fqrNwi5vlj"
   },
   "outputs": [],
   "source": [
    "# Utilisez cette cellule en brouillon pour vos requetes "
   ]
  },
  {
   "cell_type": "code",
   "execution_count": null,
   "metadata": {
    "colab": {},
    "colab_type": "code",
    "deletable": false,
    "id": "82JEZSRZ5vlq",
    "nbgrader": {
     "cell_type": "code",
     "checksum": "1426e3fb3527e6df50b2477f99e382f3",
     "grade": false,
     "grade_id": "cell-5211028250c4be6f",
     "locked": false,
     "schema_version": 3,
     "solution": true,
     "task": false
    }
   },
   "outputs": [],
   "source": [
    "# Utiliser la syntaxe courte \n",
    "# reponse_i = %sql VOTRE REQUETE pour i=1 ou i=2\n",
    "\n",
    "# YOUR CODE HERE\n",
    "raise NotImplementedError()"
   ]
  },
  {
   "cell_type": "code",
   "execution_count": null,
   "metadata": {
    "colab": {},
    "colab_type": "code",
    "deletable": false,
    "editable": false,
    "id": "mMCSCDL65vls",
    "nbgrader": {
     "cell_type": "code",
     "checksum": "ac969ef788e808ade72eff6ab28251b5",
     "grade": true,
     "grade_id": "cell-d46bde6abf670b0f",
     "locked": true,
     "points": 1,
     "schema_version": 3,
     "solution": false,
     "task": false
    }
   },
   "outputs": [],
   "source": [
    "# Vérification des réponses\n",
    "\n",
    "assert reponse_1[3][0] == 'Les Robots'\n",
    "assert reponse_2[0][0] == 6\n"
   ]
  },
  {
   "cell_type": "markdown",
   "metadata": {
    "colab_type": "text",
    "deletable": false,
    "editable": false,
    "id": "0v0pqQ7y5vlx",
    "nbgrader": {
     "cell_type": "markdown",
     "checksum": "d44f00dd1e507065c1ab607724c53302",
     "grade": false,
     "grade_id": "cell-98d2c4a4a9f2427b",
     "locked": true,
     "schema_version": 3,
     "solution": false,
     "task": false
    }
   },
   "source": [
    "## Requêtes portant sur plusieurs tables\n",
    "\n",
    "Jusqu'à présent, nos requêtes ne portaient que sur une seule table. Néanmoins notre liste de livres comporte des donées en provenance de plusieurs tables simultanément. Nous allons voir comment effectuer des requêtes pour croiser des données en provenance de plusieurs tables."
   ]
  },
  {
   "cell_type": "code",
   "execution_count": null,
   "metadata": {
    "colab": {},
    "colab_type": "code",
    "deletable": false,
    "editable": false,
    "id": "hsKHSdkO5vlx",
    "nbgrader": {
     "cell_type": "code",
     "checksum": "15b88153cde753c23fd8880d86505923",
     "grade": false,
     "grade_id": "cell-afd3b8108b72a9f0",
     "locked": true,
     "schema_version": 3,
     "solution": false,
     "task": false
    }
   },
   "outputs": [],
   "source": [
    "%sql SELECT * FROM Langues, Auteurs"
   ]
  },
  {
   "cell_type": "markdown",
   "metadata": {
    "colab_type": "text",
    "deletable": false,
    "editable": false,
    "id": "3Di4seDi5vl1",
    "nbgrader": {
     "cell_type": "markdown",
     "checksum": "88cdec8895953727acc224106ae44455",
     "grade": false,
     "grade_id": "cell-773496f249e55995",
     "locked": true,
     "schema_version": 3,
     "solution": false,
     "task": false
    }
   },
   "source": [
    "Comme on peut le constater cette requête est peu pertinente car elle affiche toutes les données de chacune des tables sans effectuer de correspondances. La **clé de jointure** apparaît pourtant ici clairement : il s'agit de **id_langue** qui doit permettre de recouper les informations entre les deux tables : il est en effet inutile d'afficher les données pour lesquelles les langues ne correspondent pas entre les deux tables.\n",
    "\n",
    "### Jointure\n",
    "\n",
    "La **jonture** consiste à croiser les données de plusieurs tables pour les présenter sous forme d'un seul tableau. On va utiliser ce mécanisme pour afficher clairement la langue de l'auteur plutôt qu'un numéro qui n'est pas forcément très parlant. Nous utiliserons pour cela l'opérateur **JOIN ... ON** :"
   ]
  },
  {
   "cell_type": "code",
   "execution_count": null,
   "metadata": {
    "colab": {},
    "colab_type": "code",
    "deletable": false,
    "editable": false,
    "id": "ZHzru6wr5vl4",
    "nbgrader": {
     "cell_type": "code",
     "checksum": "0170bc373fe9e9e8955bc8de2e5b2fd3",
     "grade": false,
     "grade_id": "cell-614b923b97a265a2",
     "locked": true,
     "schema_version": 3,
     "solution": false,
     "task": false
    }
   },
   "outputs": [],
   "source": [
    "%sql SELECT NomAuteur, PrenomAuteur, Langue, AnneeNaissance  FROM Auteurs JOIN Langues ON Auteurs.IdLangue = Langues.IdLangue"
   ]
  },
  {
   "cell_type": "markdown",
   "metadata": {
    "colab_type": "text",
    "deletable": false,
    "editable": false,
    "id": "oyUuzBTi5vl7",
    "nbgrader": {
     "cell_type": "markdown",
     "checksum": "c6aefdac973f52ffa8f872d505684db2",
     "grade": false,
     "grade_id": "cell-9161a13984be1f08",
     "locked": true,
     "schema_version": 3,
     "solution": false,
     "task": false
    }
   },
   "source": [
    "Les champs sur lesquels faire la jointure **ayant les mêmes noms dans les 2 tables**, cette requête peut aussi être écrite plus simplement en utilisant le mot-clé **USING** ainsi : "
   ]
  },
  {
   "cell_type": "code",
   "execution_count": null,
   "metadata": {
    "colab": {},
    "colab_type": "code",
    "deletable": false,
    "editable": false,
    "id": "vObERjjy5vl8",
    "nbgrader": {
     "cell_type": "code",
     "checksum": "be74db019e987d705c00a2626a8b18b0",
     "grade": false,
     "grade_id": "cell-03d184d2a419c24d",
     "locked": true,
     "schema_version": 3,
     "solution": false,
     "task": false
    }
   },
   "outputs": [],
   "source": [
    "%sql SELECT NomAuteur, PrenomAuteur, Langue, AnneeNaissance  FROM Auteurs JOIN Langues USING (IdLangue)"
   ]
  },
  {
   "cell_type": "markdown",
   "metadata": {
    "colab_type": "text",
    "deletable": false,
    "editable": false,
    "id": "LhqLtK675vmA",
    "nbgrader": {
     "cell_type": "markdown",
     "checksum": "93e8f7ae82beece63631fefb773bcd45",
     "grade": false,
     "grade_id": "cell-04914d54ccce83c0",
     "locked": true,
     "schema_version": 3,
     "solution": false,
     "task": false
    }
   },
   "source": [
    "### A vous de jouer\n",
    "En croisant la table **Livres** avec la table **Auteurs**\n",
    "\n",
    "1. récupérer dans la variable `reponse_1` une liste dont les attributs sont **Titre**, **PrenomAuteur**, **NomAuteur** et **AnneePubli**, triée du plus récent au plus ancien.\n",
    "1. récupérer dans la variable `reponse_2` une liste dont les attributs sont **Titre**, **PrenomAuteur**, **NomAuteur** et **AnneePubli** écrits en français."
   ]
  },
  {
   "cell_type": "code",
   "execution_count": null,
   "metadata": {
    "colab": {},
    "colab_type": "code",
    "deletable": false,
    "id": "sCcQJDV25vmB",
    "nbgrader": {
     "cell_type": "code",
     "checksum": "9f54440a7eed96d8a33814d177c08198",
     "grade": false,
     "grade_id": "cell-fd66bab03326fa03",
     "locked": false,
     "schema_version": 3,
     "solution": true,
     "task": false
    }
   },
   "outputs": [],
   "source": [
    "# Utiliser la syntaxe courte \n",
    "# reponse_i = %sql VOTRE REQUETE pour i=1 ou i=2\n",
    "\n",
    "# YOUR CODE HERE\n",
    "raise NotImplementedError()"
   ]
  },
  {
   "cell_type": "code",
   "execution_count": null,
   "metadata": {
    "colab": {},
    "colab_type": "code",
    "id": "mtuA1d_Y5vmE"
   },
   "outputs": [],
   "source": [
    "# Utilisez cette cellule en brouillon pour vos requetes "
   ]
  },
  {
   "cell_type": "code",
   "execution_count": null,
   "metadata": {
    "colab": {},
    "colab_type": "code",
    "deletable": false,
    "editable": false,
    "id": "wEEzkSmX5vmJ",
    "nbgrader": {
     "cell_type": "code",
     "checksum": "08e38e2a121b163aead55d03c5d325da",
     "grade": true,
     "grade_id": "cell-748883b92342a1c5",
     "locked": true,
     "points": 1,
     "schema_version": 3,
     "solution": false,
     "task": false
    }
   },
   "outputs": [],
   "source": [
    "assert reponse_1[0] == ('Ubik', 'Philip', 'K. Dick', 1969)\n",
    "assert reponse_2[0] == ('La nuit des temps', 'René', 'Barjavel', 1968)"
   ]
  },
  {
   "cell_type": "markdown",
   "metadata": {
    "colab_type": "text",
    "deletable": false,
    "editable": false,
    "id": "JtjXG2R65vmN",
    "nbgrader": {
     "cell_type": "markdown",
     "checksum": "41c0eb8478523fe72a1b21055169e334",
     "grade": false,
     "grade_id": "cell-1ac3628ef6c98e54",
     "locked": true,
     "schema_version": 3,
     "solution": false,
     "task": false
    }
   },
   "source": [
    "### Le cas des relations de n à n\n",
    "\n",
    "Parfois il arrive que les données à collecter se trouvent dans plus que deux tables : c'est le cas des Thèmes pour les livres qui nécessitent l'analyse de 3 tables : **Livres** et **Thèmes** bien sûr, mais aussi la table de relation **RelationsLivreTheme**.\n",
    "\n",
    "Observez et étudiez la requête suivante : Le principe est d'enchaîner deux jointures **JOIN ... USING** en utilisant ***la table de Relation au milieu***. En effet, la requête se lit de la gauche vers la droite et on ne peut faire de jointure que si on a une clé externe en commun, ce qui n'est par exemple pas le cas entre **Livres** et **Thèmes**."
   ]
  },
  {
   "cell_type": "code",
   "execution_count": null,
   "metadata": {
    "colab": {},
    "colab_type": "code",
    "deletable": false,
    "editable": false,
    "id": "_YlruMOE5vmO",
    "nbgrader": {
     "cell_type": "code",
     "checksum": "abf529850060f489ef2a3b94b7309173",
     "grade": false,
     "grade_id": "cell-6fa9774033a9b26a",
     "locked": true,
     "schema_version": 3,
     "solution": false,
     "task": false
    }
   },
   "outputs": [],
   "source": [
    "%sql SELECT Titre, Intitule FROM Livres JOIN RelationsLivreTheme USING (IdLivre) JOIN Themes USING (IdTheme)"
   ]
  },
  {
   "cell_type": "markdown",
   "metadata": {
    "colab_type": "text",
    "deletable": false,
    "editable": false,
    "id": "7mLU20aJ5vmR",
    "nbgrader": {
     "cell_type": "markdown",
     "checksum": "6ff1c6801ad81698187080f5a10d0c38",
     "grade": false,
     "grade_id": "cell-bdd7848b22dbe49e",
     "locked": true,
     "schema_version": 3,
     "solution": false,
     "task": false
    }
   },
   "source": [
    "### A vous de jouer\n",
    "\n",
    "Ecrire une requête permettant d'obtenir une liste dont les attributs sont **Titre**, **NomAuteur** et **Langue** triée par ordre croissant de date de naissance de l'auteur.\n",
    "\n",
    "Vous stockerez le résultat dans une variable `result`"
   ]
  },
  {
   "cell_type": "code",
   "execution_count": null,
   "metadata": {
    "colab": {},
    "colab_type": "code",
    "deletable": false,
    "id": "w6qJKeim5vmS",
    "nbgrader": {
     "cell_type": "code",
     "checksum": "437d308c55a45d6017f42138610951ae",
     "grade": false,
     "grade_id": "cell-d1e4e09a10e0d4e9",
     "locked": false,
     "schema_version": 3,
     "solution": true,
     "task": false
    }
   },
   "outputs": [],
   "source": [
    "# Utiliser la syntaxe courte \n",
    "# reponse = %sql VOTRE REQUETE \n",
    "\n",
    "# YOUR CODE HERE\n",
    "raise NotImplementedError()"
   ]
  },
  {
   "cell_type": "code",
   "execution_count": null,
   "metadata": {
    "colab": {},
    "colab_type": "code",
    "id": "VcTyZbnV5vmW"
   },
   "outputs": [],
   "source": [
    "# Utilisez cette cellule en brouillon pour vos requetes \n"
   ]
  },
  {
   "cell_type": "code",
   "execution_count": null,
   "metadata": {
    "colab": {},
    "colab_type": "code",
    "deletable": false,
    "editable": false,
    "id": "YkwF6xkb5vmb",
    "nbgrader": {
     "cell_type": "code",
     "checksum": "510bfffbed3d5a0c47bba70c79985f37",
     "grade": true,
     "grade_id": "cell-d0cd2873cdc7af8b",
     "locked": true,
     "points": 1,
     "schema_version": 3,
     "solution": false,
     "task": false
    }
   },
   "outputs": [],
   "source": [
    "assert result[0] == ('De la Terre à la Lune', 'Verne', 'Français')\n"
   ]
  },
  {
   "cell_type": "code",
   "execution_count": null,
   "metadata": {
    "colab": {},
    "colab_type": "code",
    "id": "fRZ0cN675vme"
   },
   "outputs": [],
   "source": []
  }
 ],
 "metadata": {
  "colab": {
   "include_colab_link": true,
   "name": "T_nsi_brouillon_SQL2.ipynb",
   "provenance": []
  },
  "kernelspec": {
   "display_name": "Python 3",
   "language": "python",
   "name": "python3"
  },
  "language_info": {
   "codemirror_mode": {
    "name": "ipython",
    "version": 3
   },
   "file_extension": ".py",
   "mimetype": "text/x-python",
   "name": "python",
   "nbconvert_exporter": "python",
   "pygments_lexer": "ipython3",
   "version": "3.7.8"
  }
 },
 "nbformat": 4,
 "nbformat_minor": 1
}
