{
  "nbformat": 4,
  "nbformat_minor": 0,
  "metadata": {
    "kernelspec": {
      "display_name": "Python 3",
      "language": "python",
      "name": "python3"
    },
    "language_info": {
      "codemirror_mode": {
        "name": "ipython",
        "version": 3
      },
      "file_extension": ".py",
      "mimetype": "text/x-python",
      "name": "python",
      "nbconvert_exporter": "python",
      "pygments_lexer": "ipython3",
      "version": "3.7.4"
    },
    "colab": {
      "name": "TNSI_arbres_binaires.ipynb",
      "provenance": [],
      "include_colab_link": true
    }
  },
  "cells": [
    {
      "cell_type": "markdown",
      "metadata": {
        "id": "view-in-github",
        "colab_type": "text"
      },
      "source": [
        "<a href=\"https://colab.research.google.com/github/srenouf/Tnsi/blob/master/TNSI_arbres_binaires.ipynb\" target=\"_parent\"><img src=\"https://colab.research.google.com/assets/colab-badge.svg\" alt=\"Open In Colab\"/></a>"
      ]
    },
    {
      "cell_type": "markdown",
      "metadata": {
        "id": "lNRl72jK6zus"
      },
      "source": [
        " ## Dans ce chapitre nous allons voir quelques algorithmes classiques sur les arbres:\n",
        "\n",
        "    Calcul de la taille et de la hauteur de l'arbre.\n",
        "    Parcours de l'arbre de différentes façons\n",
        "    Recherche et insertion d'une clé dans un arbre binaire de recherche.\n",
        "\n",
        "# Description de la structure de données\n",
        "\n",
        "Pour représenter les arbres, nous allons décrire l'arbre à partir d'une classe Node récursive avec les attributs suivants:\n",
        "\n",
        "    value: valeur ou clé du nœud de type numérique,\n",
        "    left: sous-arbre gauche de type Node,\n",
        "    right: sous-arbre droit de type Node,\n",
        "\n",
        "Cette structure de données est récursive car les attributes left et right de l'objet Node sont eux-mêmes de type Node."
      ]
    },
    {
      "cell_type": "code",
      "metadata": {
        "scrolled": true,
        "id": "-j4dKCfF6zuu",
        "outputId": "1a26f8dd-aad1-43ae-d792-548131a0473e"
      },
      "source": [
        "pip install binarytree"
      ],
      "execution_count": null,
      "outputs": [
        {
          "output_type": "stream",
          "text": [
            "Collecting binarytree\n",
            "  Downloading https://files.pythonhosted.org/packages/80/cf/09e363df1fbdfbf1413f1c737a7da8ce22559456b3ac520ba3008fef2996/binarytree-5.1.0-py2.py3-none-any.whl\n",
            "Installing collected packages: binarytree\n",
            "Successfully installed binarytree-5.1.0\n",
            "Note: you may need to restart the kernel to use updated packages.\n"
          ],
          "name": "stdout"
        }
      ]
    },
    {
      "cell_type": "code",
      "metadata": {
        "scrolled": true,
        "id": "4eFz1Kd16zu5",
        "outputId": "c60b0d49-691f-4b59-c01e-e7d98781ea3f"
      },
      "source": [
        "from binarytree import Node, tree\n",
        "# On peut facilement créer un arbre aléatoire\n",
        "mon_arbre = tree(height=3)\n",
        "\n",
        "# L'affichage de l'arbre est aisé\n",
        "print(\"Arbre aléatoire\")\n",
        "print(mon_arbre)\n",
        "\n",
        "# ou créer l'arbre de toutes pièces\n",
        "arbre = Node(3)\n",
        "arbre.left = Node(2)\n",
        "arbre.left.left = Node(1)\n",
        "arbre.left.right = Node(4)\n",
        "arbre.right = Node(6)\n",
        "print(\"A la main\")\n",
        "print(arbre)"
      ],
      "execution_count": null,
      "outputs": [
        {
          "output_type": "stream",
          "text": [
            "Arbre aléatoire\n",
            "\n",
            "12___\n",
            "     \\\n",
            "     _9\n",
            "    /  \\\n",
            "   11   0\n",
            "         \\\n",
            "          1\n",
            "\n",
            "A la main\n",
            "\n",
            "    __3\n",
            "   /   \\\n",
            "  2     6\n",
            " / \\\n",
            "1   4\n",
            "\n"
          ],
          "name": "stdout"
        }
      ]
    },
    {
      "cell_type": "markdown",
      "metadata": {
        "id": "yUmEd4ru6zvC"
      },
      "source": [
        "# Calculer la hauteur de l'arbre\n",
        "\n",
        "Pour rappel:\n",
        "\n",
        "## Définition de la Hauteur d'un arbre\n",
        "\n",
        "La hauteur d'un arbre est la plus grande profondeur d'une feuille de l'arbre.\n",
        "\n",
        "Pour rappel:\n",
        "\n",
        "## Taille d'un arbre\n",
        "\n",
        "La taille d'un arbre est son nombre de nœuds.\n",
        "\n",
        "Nous allons à nouveau utiliser une fonction recursive.\n",
        "\n",
        "A chaque appel, on renvoie 1 + max(taille(node.left), taille(node.right)).\n",
        "\n",
        "Mais comme toute fonction recursive, il faut un cas de base qui ne nécessite pas le rappel de la fonction(sans quoi on aurait une boucle infinie). Ce cas est l'absence de noeud, cela signifie que le noeud parent était une feuille, et renvoie -1 pour diminuer la hauteur accumulée de 1."
      ]
    },
    {
      "cell_type": "code",
      "metadata": {
        "id": "J0LgBWwr6zvD",
        "outputId": "a5d37a73-6a85-41f9-ae64-95f2fc1a2871"
      },
      "source": [
        "def hauteur(node):\n",
        "    \"\"\"Fonction récursive renvoyant la hauteur d'un arbre\n",
        "    \n",
        "    Arguments\n",
        "    ---------\n",
        "    node: Node\n",
        "        Le noeud racine de l'arbre\n",
        "    \n",
        "    Returns\n",
        "    -------\n",
        "    int\n",
        "        La hauteur de l'arbre\n",
        "    \"\"\"\n",
        "    # Cas de base \n",
        "    if not(node):\n",
        "        return -1\n",
        "    else:\n",
        "        # print(node)\n",
        "        return 1 + max(hauteur(node.left), hauteur(node.right))\n",
        "        \n",
        "hauteur(mon_arbre)"
      ],
      "execution_count": null,
      "outputs": [
        {
          "output_type": "execute_result",
          "data": {
            "text/plain": [
              "3"
            ]
          },
          "metadata": {
            "tags": []
          },
          "execution_count": 4
        }
      ]
    },
    {
      "cell_type": "markdown",
      "metadata": {
        "id": "b4EgMiD66zvM"
      },
      "source": [
        "# Calculer la taille de l'arbre\n",
        "\n",
        "Pour rappel:\n",
        "\n",
        "## Definition : Taille d'un arbre\n",
        "\n",
        "La taille d'un arbre est son nombre de nœuds.\n",
        "\n",
        "Encore une fois, nous allons utiliser une fonction recursive.\n",
        "\n",
        "A chaque appel, au lieu d'utiliser le maximum comme précédemment on va simplement additionner les hauteurs des sous-arbres: on renvoie 1 + hauteur(node.left), hauteur(node.right)).\n",
        "\n",
        "Le cas de base, en cas d'absence de noeud, on renvoie 0."
      ]
    },
    {
      "cell_type": "code",
      "metadata": {
        "id": "Dj3wGTAM6zvM",
        "outputId": "5a94e03b-197d-47bf-ed31-47286baed8ba"
      },
      "source": [
        "def taille(node):\n",
        "    \"\"\"Fonction récursive renvoyant la taille d'un arbre\n",
        "    \n",
        "    Arguments\n",
        "    ---------\n",
        "    node: Node\n",
        "        Le noeud racine de l'arbre\n",
        "    \n",
        "    Returns\n",
        "    -------\n",
        "    int\n",
        "        La taille de l'arbre\n",
        "    \"\"\"\n",
        "    # Cas de base \n",
        "    if not(node):\n",
        "        return 0\n",
        "    else:\n",
        "        # print(node)\n",
        "        return 1 + taille(node.left) + taille(node.right)\n",
        "  \n",
        "print(mon_arbre)\n",
        "print(\"taille\")\n",
        "taille(mon_arbre)"
      ],
      "execution_count": null,
      "outputs": [
        {
          "output_type": "stream",
          "text": [
            "\n",
            "12___\n",
            "     \\\n",
            "     _9\n",
            "    /  \\\n",
            "   11   0\n",
            "         \\\n",
            "          1\n",
            "\n",
            "taille\n"
          ],
          "name": "stdout"
        },
        {
          "output_type": "execute_result",
          "data": {
            "text/plain": [
              "5"
            ]
          },
          "metadata": {
            "tags": []
          },
          "execution_count": 5
        }
      ]
    },
    {
      "cell_type": "markdown",
      "metadata": {
        "id": "MoGJvPYP6zvT"
      },
      "source": [
        "# Parcours de l'arbre\n",
        "\n",
        "Nous allons voir quatre méthodes de parcours des arbres, en fonction de l'ordre dans lequel on parcourt les noeuds:\n",
        "\n",
        "    parcours préfixe\n",
        "    parcours postfixe\n",
        "    parcours infixe\n",
        "    parcours en largeur\n",
        "\n",
        "Comparaisons des parcours d'arbres\n",
        "## Parcours préfixe\n",
        "\n",
        "Dans cet ordre, chaque nœud est visité puis chacun de ses fils.\n",
        "\n",
        "Voici le pseudo-code extrait de l'article Wikipedia sur les arbres."
      ]
    },
    {
      "cell_type": "markdown",
      "metadata": {
        "id": "aDRWeb6B6zvT"
      },
      "source": [
        "visiterPréfixe(Arbre A) :\n",
        "    visiter (A)\n",
        "    Si nonVide (gauche(A))\n",
        "          visiterPréfixe(gauche(A))\n",
        "    Si nonVide (droite(A))\n",
        "          visiterPréfixe(droite(A))\n",
        "    "
      ]
    },
    {
      "cell_type": "markdown",
      "metadata": {
        "id": "vXWHVE9k6zvV"
      },
      "source": [
        "## Parcours postfixe\n",
        "\n",
        "On affiche chaque nœud après avoir affiché chacun de ses fils.\n",
        "\n",
        "Voici le pseudo-code extrait de l'article Wikipedia sur les arbres.\n",
        "\n",
        "visiterPostfixe(Arbre A) :\n",
        "    Si nonVide(gauche(A))\n",
        "       visiterPostfixe(gauche(A))\n",
        "    Si nonVide(droite(A))\n",
        "       visiterPostfixe(droite(A))\n",
        "    visiter(A)\n",
        "    \n",
        "## Parcours infixe\n",
        "\n",
        "On visite chaque nœud entre les nœuds de son sous-arbre de gauche et les nœuds de son sous-arbre de droite. C'est une manière assez commune de parcourir un arbre binaire de recherche, car il donne les valeurs dans l'ordre croissant.\n",
        "\n",
        "Voici le pseudo-code extrait de l'article Wikipedia sur les arbres.\n",
        "\n",
        "visiterInfixe(Arbre A) :\n",
        "    Si nonVide(gauche(A))\n",
        "       visiterInfixe(gauche(A))\n",
        "    visiter(A)\n",
        "    Si nonVide(droite(A))\n",
        "       visiterInfixe(droite(A))"
      ]
    },
    {
      "cell_type": "markdown",
      "metadata": {
        "id": "xmu_aJB76zvY"
      },
      "source": [
        "## Parcours en largeur\n",
        "\n",
        "On parcours les bnoeuds de gaucha à droite étage par étage, comme si on \"lisait\" l'arbre.\n",
        "\n",
        "Voici le pseudo-code issu de l'article Wikipedia sur les arbres.\n",
        "\n",
        "Ce code n'est pas recusrif et a la particularité d'utiliser une structure de file avec les méthodes enfiler et défiler.\n",
        "\n",
        "ParcoursLargeur(Arbre A) {\n",
        "   f = FileVide\n",
        "   enfiler(Racine(A), f)\n",
        "   Tant que (f != FileVide) {\n",
        "       nœud = defiler(f)\n",
        "       Visiter(nœud)                        //On choisit de faire une opération\n",
        "       Si (gauche(nœud) != null) Alors\n",
        "           enfiler(gauche(nœud), f)\n",
        "       Si (droite(nœud) != null) Alors\n",
        "           enfiler(droite(nœud), f)\n",
        "   }\n",
        "}\n",
        "\n",
        "Voici un exemple d'implémentation en Python utilisant une liste en guise de file avec les méthodes:\n",
        "\n",
        "    list.insert(0, el), pour enfiler l'élément à l'index 0.\n",
        "    list.pop(), pour supprimer et renvoyer le dernier élément de la file(le défiler).\n"
      ]
    },
    {
      "cell_type": "code",
      "metadata": {
        "id": "KIJQ5ZCe6zva",
        "outputId": "8784343c-a1a1-4fe1-c5eb-6b9dbcee9f73"
      },
      "source": [
        "def parcours_largeur(arbre):\n",
        "    f = []\n",
        "    f.insert(0, arbre)\n",
        "    while f:\n",
        "        noeud = f.pop()\n",
        "        print(noeud.value)\n",
        "        if noeud.left:\n",
        "            f.insert(0, noeud.left)\n",
        "        if noeud.right:\n",
        "            f.insert(0, noeud.right)\n",
        "\n",
        "print(mon_arbre)\n",
        "parcours_largeur(mon_arbre)"
      ],
      "execution_count": null,
      "outputs": [
        {
          "output_type": "stream",
          "text": [
            "\n",
            "12___\n",
            "     \\\n",
            "     _9\n",
            "    /  \\\n",
            "   11   0\n",
            "         \\\n",
            "          1\n",
            "\n",
            "12\n",
            "9\n",
            "11\n",
            "0\n",
            "1\n"
          ],
          "name": "stdout"
        }
      ]
    },
    {
      "cell_type": "code",
      "metadata": {
        "id": "yvMOdO9m6zvh"
      },
      "source": [
        ""
      ],
      "execution_count": null,
      "outputs": []
    }
  ]
}