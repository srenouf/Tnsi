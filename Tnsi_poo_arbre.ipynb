{
  "nbformat": 4,
  "nbformat_minor": 0,
  "metadata": {
    "kernelspec": {
      "display_name": "Python 3",
      "language": "python",
      "name": "python3"
    },
    "language_info": {
      "codemirror_mode": {
        "name": "ipython",
        "version": 3
      },
      "file_extension": ".py",
      "mimetype": "text/x-python",
      "name": "python",
      "nbconvert_exporter": "python",
      "pygments_lexer": "ipython3",
      "version": "3.6.9"
    },
    "colab": {
      "name": "Tnsi_poo_arbre.ipynb",
      "provenance": [],
      "include_colab_link": true
    }
  },
  "cells": [
    {
      "cell_type": "markdown",
      "metadata": {
        "id": "view-in-github",
        "colab_type": "text"
      },
      "source": [
        "<a href=\"https://colab.research.google.com/github/srenouf/Tnsi/blob/master/Tnsi_poo_arbre.ipynb\" target=\"_parent\"><img src=\"https://colab.research.google.com/assets/colab-badge.svg\" alt=\"Open In Colab\"/></a>"
      ]
    },
    {
      "cell_type": "markdown",
      "metadata": {
        "id": "DcwNfh-zi23L"
      },
      "source": [
        "# Arbre binaire et POO\n"
      ]
    },
    {
      "cell_type": "code",
      "metadata": {
        "id": "UUGqVEdzwAad"
      },
      "source": [
        "from graphviz import Digraph "
      ],
      "execution_count": 15,
      "outputs": []
    },
    {
      "cell_type": "code",
      "metadata": {
        "id": "JQVoJU0przQp"
      },
      "source": [
        "class ArbreBinaire:\n",
        "    \"\"\"\n",
        "    définition de la classe ArbreBinaire\n",
        "    \"\"\"\n",
        "#------------------- Méthodes de base de la classe arbre -------------------#\n",
        "\n",
        "    def __init__(self, valeur = None):\n",
        "        #Initialise l'arbre à vide par défaut, sinon avec un noeud \n",
        "        self.valeur = valeur\n",
        "        self.enfant_gauche = None\n",
        "        self.enfant_droit = None\n",
        "\n",
        "    def insert_gauche(self, valeur):\n",
        "        \"\"\" Ajoute une étiquette à l'enfant gauche\"\"\"\n",
        "        if self.enfant_gauche == None:\n",
        "            self.enfant_gauche = ArbreBinaire(valeur)\n",
        "        else:\n",
        "            new_node = ArbreBinaire(valeur)\n",
        "            new_node.enfant_gauche = self.enfant_gauche\n",
        "            self.enfant_gauche = new_node\n",
        "\n",
        "    def insert_droit(self, valeur):\n",
        "        \"\"\" Ajoute une étiquette à l'enfant droit\"\"\"\n",
        "        if self.enfant_droit == None:\n",
        "            self.enfant_droit = ArbreBinaire(valeur)\n",
        "        else:\n",
        "            new_node = ArbreBinaire(valeur)\n",
        "            new_node.enfant_droit = self.enfant_droit\n",
        "            self.enfant_droit = new_node\n",
        "    \n",
        "    def get_valeur(self):\n",
        "        \"\"\"Renvoie l'étiquette de la racine\"\"\"\n",
        "        return self.valeur\n",
        "\n",
        "    def get_gauche(self):\n",
        "        \"\"\"Renvoie l'étiquette de l'enfant gauche\"\"\"\n",
        "        return self.enfant_gauche\n",
        "\n",
        "    def get_droit(self):\n",
        "        \"\"\"Renvoie l'étiquette de l'enfant gauche\"\"\"\n",
        "        return self.enfant_droit\n",
        "    \n",
        "    def __str__(self):\n",
        "        \"\"\"Revoie une chaine de caractère d'un tuple récusif représentant l'arbre\"\"\"\n",
        "        return f'({self.valeur},{self.enfant_gauche},{self.enfant_droit})'\n",
        "    \n",
        "        \n",
        "    def taille(self):\n",
        "        \"\"\"Calcule et renvoie la taille de l'arbre\"\"\"\n",
        "        if self == None:\n",
        "            return 0\n",
        "        else :\n",
        "            return 1+ArbreBinaire.taille(self.enfant_gauche)+ArbreBinaire.taille(self.enfant_droit)\n",
        "    \n",
        "    def hauteur(self):\n",
        "        \"\"\"Calcule et renvoie la hauteur de l'arbre\"\"\"\n",
        "        if self == None:\n",
        "            return 0\n",
        "        else : \n",
        "            return 1+max(ArbreBinaire.hauteur(self.enfant_gauche),ArbreBinaire.hauteur(self.enfant_droit))\n",
        "   \n",
        "    def show(self):\n",
        "        \"\"\"Renvoie un objet graphviz pour la visualisation graphique de l'arbre\"\"\"\n",
        "        def representation(dot, noeud, aretes):\n",
        "            # Ajoute la représentation du noeud à la représentation dot de l'arbre\n",
        "            if noeud is not None:\n",
        "                dot.node(str(id(noeud)), str(noeud.valeur))\n",
        "                # Appel récursif de la fonction representation\n",
        "                if noeud.enfant_gauche is not None:\n",
        "                    representation(dot, noeud.enfant_gauche, aretes)\n",
        "                    aretes.append((str(id(noeud)) , str(id(noeud.enfant_gauche))))\n",
        "                if noeud.enfant_droit is not None:\n",
        "                    representation(dot, noeud.enfant_droit, aretes)\n",
        "                    aretes.append((str(id(noeud)) , str(id(noeud.enfant_droit))))\n",
        "                    \n",
        "        dot = Digraph(comment=\"Arbre binaire\", format='svg')\n",
        "        aretes = []\n",
        "        representation(dot, self, aretes)\n",
        "        dot.edges(aretes)\n",
        "        dot.render('ArbreBinaire', view=True)\n",
        "        return dot"
      ],
      "execution_count": 35,
      "outputs": []
    },
    {
      "cell_type": "code",
      "metadata": {
        "id": "eChK0YzBwDlP",
        "outputId": "bbdc0137-5981-4631-8f84-041bd2679554",
        "colab": {
          "base_uri": "https://localhost:8080/"
        }
      },
      "source": [
        "A=ArbreBinaire()\n",
        "A.taille()"
      ],
      "execution_count": 36,
      "outputs": [
        {
          "output_type": "execute_result",
          "data": {
            "text/plain": [
              "1"
            ]
          },
          "metadata": {
            "tags": []
          },
          "execution_count": 36
        }
      ]
    },
    {
      "cell_type": "code",
      "metadata": {
        "id": "shXZesRowN1x"
      },
      "source": [
        "A.insert_gauche('B')"
      ],
      "execution_count": 37,
      "outputs": []
    },
    {
      "cell_type": "code",
      "metadata": {
        "id": "wk2oGMyFwZvj",
        "outputId": "cac78c5f-58e9-48f7-df6a-bc5e5fae9c44",
        "colab": {
          "base_uri": "https://localhost:8080/"
        }
      },
      "source": [
        "print(A)"
      ],
      "execution_count": 38,
      "outputs": [
        {
          "output_type": "stream",
          "text": [
            "(None,(B,None,None),None)\n"
          ],
          "name": "stdout"
        }
      ]
    },
    {
      "cell_type": "code",
      "metadata": {
        "id": "qEQW8Qstwqdy",
        "outputId": "25b1fe93-6df5-471b-e3fc-7bcf0107af4c",
        "colab": {
          "base_uri": "https://localhost:8080/",
          "height": 176
        }
      },
      "source": [
        "A.show()\n"
      ],
      "execution_count": 39,
      "outputs": [
        {
          "output_type": "execute_result",
          "data": {
            "text/plain": [
              "<graphviz.dot.Digraph at 0x7f4cc5d3e588>"
            ],
            "image/svg+xml": "<?xml version=\"1.0\" encoding=\"UTF-8\" standalone=\"no\"?>\n<!DOCTYPE svg PUBLIC \"-//W3C//DTD SVG 1.1//EN\"\n \"http://www.w3.org/Graphics/SVG/1.1/DTD/svg11.dtd\">\n<!-- Generated by graphviz version 2.40.1 (20161225.0304)\n -->\n<!-- Title: %3 Pages: 1 -->\n<svg width=\"70pt\" height=\"116pt\"\n viewBox=\"0.00 0.00 70.39 116.00\" xmlns=\"http://www.w3.org/2000/svg\" xmlns:xlink=\"http://www.w3.org/1999/xlink\">\n<g id=\"graph0\" class=\"graph\" transform=\"scale(1 1) rotate(0) translate(4 112)\">\n<title>%3</title>\n<polygon fill=\"#ffffff\" stroke=\"transparent\" points=\"-4,4 -4,-112 66.3945,-112 66.3945,4 -4,4\"/>\n<!-- 139967713241072 -->\n<g id=\"node1\" class=\"node\">\n<title>139967713241072</title>\n<ellipse fill=\"none\" stroke=\"#000000\" cx=\"31.1972\" cy=\"-90\" rx=\"31.3957\" ry=\"18\"/>\n<text text-anchor=\"middle\" x=\"31.1972\" y=\"-86.3\" font-family=\"Times,serif\" font-size=\"14.00\" fill=\"#000000\">None</text>\n</g>\n<!-- 139967713243032 -->\n<g id=\"node2\" class=\"node\">\n<title>139967713243032</title>\n<ellipse fill=\"none\" stroke=\"#000000\" cx=\"31.1972\" cy=\"-18\" rx=\"27\" ry=\"18\"/>\n<text text-anchor=\"middle\" x=\"31.1972\" y=\"-14.3\" font-family=\"Times,serif\" font-size=\"14.00\" fill=\"#000000\">B</text>\n</g>\n<!-- 139967713241072&#45;&gt;139967713243032 -->\n<g id=\"edge1\" class=\"edge\">\n<title>139967713241072&#45;&gt;139967713243032</title>\n<path fill=\"none\" stroke=\"#000000\" d=\"M31.1972,-71.8314C31.1972,-64.131 31.1972,-54.9743 31.1972,-46.4166\"/>\n<polygon fill=\"#000000\" stroke=\"#000000\" points=\"34.6973,-46.4132 31.1972,-36.4133 27.6973,-46.4133 34.6973,-46.4132\"/>\n</g>\n</g>\n</svg>\n"
          },
          "metadata": {
            "tags": []
          },
          "execution_count": 39
        }
      ]
    },
    {
      "cell_type": "code",
      "metadata": {
        "id": "03m9d-OXynjV"
      },
      "source": [
        ""
      ],
      "execution_count": null,
      "outputs": []
    }
  ]
}