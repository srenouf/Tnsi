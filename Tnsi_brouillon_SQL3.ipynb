{
  "nbformat": 4,
  "nbformat_minor": 0,
  "metadata": {
    "kernelspec": {
      "display_name": "Python 3",
      "language": "python",
      "name": "python3"
    },
    "language_info": {
      "codemirror_mode": {
        "name": "ipython",
        "version": 3
      },
      "file_extension": ".py",
      "mimetype": "text/x-python",
      "name": "python",
      "nbconvert_exporter": "python",
      "pygments_lexer": "ipython3",
      "version": "3.8.2"
    },
    "colab": {
      "name": "Tnsi_brouillon_SQL3.ipynb",
      "provenance": [],
      "include_colab_link": true
    }
  },
  "cells": [
    {
      "cell_type": "markdown",
      "metadata": {
        "id": "view-in-github",
        "colab_type": "text"
      },
      "source": [
        "<a href=\"https://colab.research.google.com/github/srenouf/Tnsi/blob/master/Tnsi_brouillon_SQL3.ipynb\" target=\"_parent\"><img src=\"https://colab.research.google.com/assets/colab-badge.svg\" alt=\"Open In Colab\"/></a>"
      ]
    },
    {
      "cell_type": "markdown",
      "metadata": {
        "id": "XNDbzi546QXO",
        "colab_type": "text"
      },
      "source": [
        "# SQL 3/3\n",
        "> Cours NSI Terminale - Thème 2.\n",
        "- toc: true \n",
        "- badges: true\n",
        "- comments: false\n",
        "- categories: [NSI, Terminale, Bases de données, SQL, TP]\n",
        "- image: /images/nsi2.png"
      ]
    },
    {
      "cell_type": "markdown",
      "metadata": {
        "deletable": false,
        "editable": false,
        "nbgrader": {
          "cell_type": "markdown",
          "checksum": "9980f00a38e74fb4285a884eb91421e0",
          "grade": false,
          "grade_id": "cell-6327f5750aa9e6bb",
          "locked": true,
          "schema_version": 3,
          "solution": false,
          "task": false
        },
        "id": "-nYlkGG26QXQ",
        "colab_type": "text"
      },
      "source": [
        "# Manipuler les données avec SQL\n",
        "\n",
        "Dans ce dernier TP, nous allons voir comment insérer, mettre à jour ou supprimer des enregistrements dans des tables.\n",
        "\n",
        "Commencez par valider les cellules suivantes afin d'activer la fonctionnalité SQL de Jupyter et de charger la base du TP précédent."
      ]
    },
    {
      "cell_type": "code",
      "metadata": {
        "deletable": false,
        "editable": false,
        "nbgrader": {
          "cell_type": "code",
          "checksum": "7f14ad730ec4e3752b5c424444871833",
          "grade": false,
          "grade_id": "cell-2340a334310e9c55",
          "locked": true,
          "schema_version": 3,
          "solution": false,
          "task": false
        },
        "id": "hrpe6R6q6QXS",
        "colab_type": "code",
        "colab": {}
      },
      "source": [
        "%load_ext sql\n",
        "\n",
        "%sql sqlite:///livres_db"
      ],
      "execution_count": null,
      "outputs": []
    },
    {
      "cell_type": "markdown",
      "metadata": {
        "deletable": false,
        "editable": false,
        "nbgrader": {
          "cell_type": "markdown",
          "checksum": "2fbf61d91395843e7c9d0c79099e664e",
          "grade": false,
          "grade_id": "cell-883e3fd133f5ae52",
          "locked": true,
          "schema_version": 3,
          "solution": false,
          "task": false
        },
        "id": "7nBXLSMz6QXd",
        "colab_type": "text"
      },
      "source": [
        "## Insérer un enregistrement dans une table\n",
        "\n",
        "Nous avons déjà rencontré cerre requète **INSERT**. Elle s'applique que la table soit vide ou nom. On peut très bien ajouter par exemple une troisième langue dans notre table **Langues**"
      ]
    },
    {
      "cell_type": "code",
      "metadata": {
        "deletable": false,
        "editable": false,
        "nbgrader": {
          "cell_type": "code",
          "checksum": "add9f7ba3262f7030941c5e78fe79f86",
          "grade": false,
          "grade_id": "cell-f14d2bc792782a4d",
          "locked": true,
          "schema_version": 3,
          "solution": false,
          "task": false
        },
        "id": "Mk017r4t6QXf",
        "colab_type": "code",
        "colab": {}
      },
      "source": [
        "%sql INSERT INTO Langues (Langue) VALUES('Klingon');"
      ],
      "execution_count": null,
      "outputs": []
    },
    {
      "cell_type": "code",
      "metadata": {
        "deletable": false,
        "editable": false,
        "nbgrader": {
          "cell_type": "code",
          "checksum": "9c3afdf69e61ddc18bee206e4c9e7894",
          "grade": false,
          "grade_id": "cell-93dfa76cbc147268",
          "locked": true,
          "schema_version": 3,
          "solution": false,
          "task": false
        },
        "id": "5_TQk8fb6QXn",
        "colab_type": "code",
        "colab": {}
      },
      "source": [
        "# Vérifions :\n",
        "%sql SELECT * FROM Langues;"
      ],
      "execution_count": null,
      "outputs": []
    },
    {
      "cell_type": "markdown",
      "metadata": {
        "deletable": false,
        "editable": false,
        "nbgrader": {
          "cell_type": "markdown",
          "checksum": "fc30cc75fc819dc4349244bffd92352d",
          "grade": false,
          "grade_id": "cell-3e50e4f0487ca12c",
          "locked": true,
          "schema_version": 3,
          "solution": false,
          "task": false
        },
        "id": "SbKSbBb_6QXu",
        "colab_type": "text"
      },
      "source": [
        "## Mise a jour, effacement : UPDATE et DELETE\n",
        "\n",
        "Les requêtes **UPDATE** et **DELETE** fonctionnent sur le même modèle que les requêtes **SELECT**.  Attention, on a vite fait d'effacer toutes ses données si on ne configure pas bien sa requête. Une bonne habitude à prendre est de tester d'abord ses critères à l'aide d'un **SELECT**.\n",
        "\n",
        "Observez les exemples ci-dessous :"
      ]
    },
    {
      "cell_type": "code",
      "metadata": {
        "deletable": false,
        "editable": false,
        "nbgrader": {
          "cell_type": "code",
          "checksum": "acb3f40be639c4432ac9ae3c05764713",
          "grade": false,
          "grade_id": "cell-d033c708dc1e9918",
          "locked": true,
          "schema_version": 3,
          "solution": false,
          "task": false
        },
        "id": "4RAiUsBV6QXv",
        "colab_type": "code",
        "colab": {}
      },
      "source": [
        "%sql SELECT NomAuteur FROM Auteurs WHERE IdAuteur = 10;"
      ],
      "execution_count": null,
      "outputs": []
    },
    {
      "cell_type": "markdown",
      "metadata": {
        "deletable": false,
        "editable": false,
        "nbgrader": {
          "cell_type": "markdown",
          "checksum": "991549fc12157d637b1cf966cee84e15",
          "grade": false,
          "grade_id": "cell-009dad253f6c0c47",
          "locked": true,
          "schema_version": 3,
          "solution": false,
          "task": false
        },
        "id": "vd5b0Eeb6QX1",
        "colab_type": "text"
      },
      "source": [
        "C'est bien lui !!\n",
        "\n",
        "Modifions le nom de l'auteur grâce à une requête de mise à jour : \n",
        "\n",
        "**UPDATE** *table* <br>\n",
        "**SET**  *attribut1* = *valeur1*, *attribut2* = *valeur2*, ...<br>\n",
        "**WHERE** *critère*;"
      ]
    },
    {
      "cell_type": "code",
      "metadata": {
        "deletable": false,
        "editable": false,
        "nbgrader": {
          "cell_type": "code",
          "checksum": "2f1fa4948be21f3904f0c0d22f29e9d4",
          "grade": false,
          "grade_id": "cell-10fa9e247443b17e",
          "locked": true,
          "schema_version": 3,
          "solution": false,
          "task": false
        },
        "id": "1DEmE4x16QX2",
        "colab_type": "code",
        "colab": {}
      },
      "source": [
        "%%sql \n",
        "\n",
        "UPDATE Auteurs \n",
        "SET NomAuteur = \"Ze Djloule\", PrenomAuteur = \"Juju\"\n",
        "WHERE IdAuteur=10;\n",
        "\n",
        "SELECT * FROM Auteurs ;"
      ],
      "execution_count": null,
      "outputs": []
    },
    {
      "cell_type": "markdown",
      "metadata": {
        "deletable": false,
        "editable": false,
        "nbgrader": {
          "cell_type": "markdown",
          "checksum": "7a575448a9401d574d9f725fee2f7fc3",
          "grade": false,
          "grade_id": "cell-e75f792ff6c4dcca",
          "locked": true,
          "schema_version": 3,
          "solution": false,
          "task": false
        },
        "id": "T731Mt4w6QX-",
        "colab_type": "text"
      },
      "source": [
        "supprimons vite cette entrée ! Nous utiliseerons une requête\n",
        "**DELETE FROM** *table* **WHERE** *critere*\n",
        "\n",
        "**Attention** : soyez bien sûr de votre critère sous peine de perdre des données importantes !"
      ]
    },
    {
      "cell_type": "code",
      "metadata": {
        "deletable": false,
        "editable": false,
        "nbgrader": {
          "cell_type": "code",
          "checksum": "e154a2564ac318045fde6a02ef4745ed",
          "grade": false,
          "grade_id": "cell-bd79e8e61e2cf1e5",
          "locked": true,
          "schema_version": 3,
          "solution": false,
          "task": false
        },
        "id": "N3K21E9_6QYA",
        "colab_type": "code",
        "colab": {}
      },
      "source": [
        "%%sql \n",
        "\n",
        "DELETE  FROM Auteurs  WHERE IdAuteur=10;\n",
        "\n",
        "SELECT * FROM Auteurs;"
      ],
      "execution_count": null,
      "outputs": []
    },
    {
      "cell_type": "markdown",
      "metadata": {
        "deletable": false,
        "editable": false,
        "nbgrader": {
          "cell_type": "markdown",
          "checksum": "6292fd0f56644177736f08d244101169",
          "grade": false,
          "grade_id": "cell-277d3039c1da8207",
          "locked": true,
          "schema_version": 3,
          "solution": false,
          "task": false
        },
        "id": "UXY1_VBD6QYE",
        "colab_type": "text"
      },
      "source": [
        "### Attention à la cohérence des données\n",
        "\n",
        "Dans une base de données relationnelle il faut être vigilant lors de la suppression d'enregistrements : en effet la suppression d'un enregistrement entraîne la suppression de sa clé primaire qui peut être utilisée en tant que clé externe dans une autre table. Cela entraîne la corruption des données. Observez l'exemple ci-dessous dans lequel je me suis attribué un livre célèbre sans toucher à la table **Livres**\n",
        "\n",
        "Il existe en SQL des moyens pour se prémunir de ce type de problèmes mais cela dépasse le cadre de ce cours."
      ]
    },
    {
      "cell_type": "code",
      "metadata": {
        "deletable": false,
        "editable": false,
        "nbgrader": {
          "cell_type": "code",
          "checksum": "8f60cebb6abad5668dbd88d4da924121",
          "grade": false,
          "grade_id": "cell-be2f14082d157a96",
          "locked": true,
          "schema_version": 3,
          "solution": false,
          "task": false
        },
        "id": "jdts17NH6QYF",
        "colab_type": "code",
        "colab": {}
      },
      "source": [
        "%%sql\n",
        "INSERT INTO Auteurs \n",
        "    (NomAuteur, PrenomAuteur, IdLangue, AnneeNaissance) \n",
        "VALUES\n",
        "    (\"Lecluse\", \"Olivier\", 2, 1850);\n",
        "    \n",
        "SELECT Titre, NomAuteur from Livres JOIN Auteurs USING (IdAuteur);"
      ],
      "execution_count": null,
      "outputs": []
    },
    {
      "cell_type": "markdown",
      "metadata": {
        "deletable": false,
        "editable": false,
        "nbgrader": {
          "cell_type": "markdown",
          "checksum": "bb3f37542bac1260c09012551e285fa2",
          "grade": false,
          "grade_id": "cell-7bc565125c47191d",
          "locked": true,
          "schema_version": 3,
          "solution": false,
          "task": false
        },
        "id": "YuAHZAuL6QYL",
        "colab_type": "text"
      },
      "source": [
        "### A vous de jouer\n",
        "\n",
        "1. Réinsérez l'auteur Jules Verne à sa place !\n",
        "1. Supprimez tous les livres écrits au 19e sciecle"
      ]
    },
    {
      "cell_type": "code",
      "metadata": {
        "deletable": false,
        "nbgrader": {
          "cell_type": "code",
          "checksum": "48acde77e8abba874fe318ddf32af893",
          "grade": false,
          "grade_id": "cell-10ea243af1bf7f67",
          "locked": false,
          "schema_version": 3,
          "solution": true,
          "task": false
        },
        "id": "FQw6WbzB6QYM",
        "colab_type": "code",
        "colab": {}
      },
      "source": [
        "%%sql\n",
        "\n",
        "/* \n",
        "# YOUR CODE HERE\n",
        "raise NotImplementedError()\n",
        "*/"
      ],
      "execution_count": null,
      "outputs": []
    },
    {
      "cell_type": "code",
      "metadata": {
        "deletable": false,
        "editable": false,
        "nbgrader": {
          "cell_type": "code",
          "checksum": "ef821cf2cfabc1ba8746548a2c067461",
          "grade": false,
          "grade_id": "cell-fe49e47ee7dc2091",
          "locked": true,
          "schema_version": 3,
          "solution": false,
          "task": false
        },
        "id": "GqT5jlVd6QYR",
        "colab_type": "code",
        "colab": {}
      },
      "source": [
        "result = %sql SELECT Titre, NomAuteur AnneePubli from Livres JOIN Auteurs USING (IdAuteur);"
      ],
      "execution_count": null,
      "outputs": []
    },
    {
      "cell_type": "code",
      "metadata": {
        "deletable": false,
        "editable": false,
        "nbgrader": {
          "cell_type": "code",
          "checksum": "b13fe9921f12b70199d4437524f1b7f9",
          "grade": true,
          "grade_id": "cell-72ecb30e6cc31128",
          "locked": true,
          "points": 3,
          "schema_version": 3,
          "solution": false,
          "task": false
        },
        "id": "_m7p-vtv6QYW",
        "colab_type": "code",
        "colab": {}
      },
      "source": [
        "assert len(result) == 15"
      ],
      "execution_count": null,
      "outputs": []
    },
    {
      "cell_type": "code",
      "metadata": {
        "id": "-UvLX62y6QYa",
        "colab_type": "code",
        "colab": {}
      },
      "source": [
        ""
      ],
      "execution_count": null,
      "outputs": []
    }
  ]
}