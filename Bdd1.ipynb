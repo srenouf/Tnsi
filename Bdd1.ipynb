{
  "nbformat": 4,
  "nbformat_minor": 0,
  "metadata": {
    "colab": {
      "name": "Bdd1.ipynb",
      "provenance": [],
      "authorship_tag": "ABX9TyPjljVjE/ipfYbyhVBNlsQp",
      "include_colab_link": true
    },
    "kernelspec": {
      "name": "python3",
      "display_name": "Python 3"
    }
  },
  "cells": [
    {
      "cell_type": "markdown",
      "metadata": {
        "id": "view-in-github",
        "colab_type": "text"
      },
      "source": [
        "<a href=\"https://colab.research.google.com/github/srenouf/Tnsi/blob/master/Bdd1.ipynb\" target=\"_parent\"><img src=\"https://colab.research.google.com/assets/colab-badge.svg\" alt=\"Open In Colab\"/></a>"
      ]
    },
    {
      "cell_type": "markdown",
      "metadata": {
        "id": "LKJL1XXLcBri",
        "colab_type": "text"
      },
      "source": [
        "#Base De Données\n",
        "<br>\n"
      ]
    },
    {
      "cell_type": "markdown",
      "metadata": {
        "id": "kpkkWkh0hr7J",
        "colab_type": "text"
      },
      "source": [
        "## Historique\n"
      ]
    },
    {
      "cell_type": "code",
      "metadata": {
        "id": "peLeDZlGh8jh",
        "colab_type": "code",
        "colab": {
          "base_uri": "https://localhost:8080/",
          "height": 336
        },
        "outputId": "39455f44-47ab-443a-839f-c17d3c4ef3cf"
      },
      "source": [
        "%%html\n",
        "%%html\n",
        "<iframe width=\"560\" height=\"315\" src=\"https://www.youtube.com/embed/iu8z5QtDQhY\" frameborder=\"0\" allow=\"accelerometer; autoplay; clipboard-write; encrypted-media; gyroscope; picture-in-picture\" allowfullscreen></iframe>"
      ],
      "execution_count": 2,
      "outputs": [
        {
          "output_type": "display_data",
          "data": {
            "text/html": [
              "%%html\n",
              "<iframe width=\"560\" height=\"315\" src=\"https://www.youtube.com/embed/iu8z5QtDQhY\" frameborder=\"0\" allow=\"accelerometer; autoplay; clipboard-write; encrypted-media; gyroscope; picture-in-picture\" allowfullscreen></iframe>"
            ],
            "text/plain": [
              "<IPython.core.display.HTML object>"
            ]
          },
          "metadata": {
            "tags": []
          }
        }
      ]
    },
    {
      "cell_type": "markdown",
      "metadata": {
        "id": "jeCbt8L8h7XK",
        "colab_type": "text"
      },
      "source": [
        ""
      ]
    }
  ]
}