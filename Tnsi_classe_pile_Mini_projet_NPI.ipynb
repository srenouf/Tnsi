{
  "nbformat": 4,
  "nbformat_minor": 0,
  "metadata": {
    "celltoolbar": "Éditer les Méta-Données",
    "kernelspec": {
      "display_name": "Python 3",
      "language": "python",
      "name": "python3"
    },
    "language_info": {
      "codemirror_mode": {
        "name": "ipython",
        "version": 3
      },
      "file_extension": ".py",
      "mimetype": "text/x-python",
      "name": "python",
      "nbconvert_exporter": "python",
      "pygments_lexer": "ipython3",
      "version": "3.8.2"
    },
    "colab": {
      "name": "Tnsi classe pile Mini projet NPI",
      "provenance": [],
      "include_colab_link": true
    }
  },
  "cells": [
    {
      "cell_type": "markdown",
      "metadata": {
        "id": "view-in-github",
        "colab_type": "text"
      },
      "source": [
        "<a href=\"https://colab.research.google.com/github/srenouf/Tnsi/blob/master/Tnsi_classe_pile_Mini_projet_NPI.ipynb\" target=\"_parent\"><img src=\"https://colab.research.google.com/assets/colab-badge.svg\" alt=\"Open In Colab\"/></a>"
      ]
    },
    {
      "cell_type": "code",
      "metadata": {
        "deletable": false,
        "editable": false,
        "nbgrader": {
          "cell_type": "code",
          "checksum": "a9f6529feddfc35cd1ec3ff9b86f0e3e",
          "grade": true,
          "grade_id": "cell-1702ab9f5c717d14",
          "locked": true,
          "points": 1,
          "schema_version": 3,
          "solution": false
        },
        "id": "e1KzZY-qArjn",
        "colab_type": "code",
        "colab": {
          "base_uri": "https://localhost:8080/",
          "height": 35
        },
        "outputId": "f3711e64-dd7b-47e6-cc73-8d34889a92b7"
      },
      "source": [
        "class Pile:\n",
        "    ''' classe Pile\n",
        "    création d'une instance Pile avec une liste\n",
        "    '''\n",
        "    def __init__(self):\n",
        "        \"Initialisation d'une pile vide\"\n",
        "        self.L=[]\n",
        "\n",
        "    def vide(self):\n",
        "        \"teste si la pile est vide\"\n",
        "        return self.L==[]\n",
        "\n",
        "    def empiler(self,x):\n",
        "        \"empile\"\n",
        "        self.L.append(x)\n",
        "\n",
        "    def depiler(self):\n",
        "        \"dépile\"\n",
        "        assert not self.vide(),\"Pile vide\"\n",
        "        return self.L.pop()\n",
        "\n",
        "    def sommet(self):\n",
        "        \"renvoie le sommet de la pile\"\n",
        "        assert not self.vide(), \"Pile vide\"\n",
        "        return self.L[-1]\n",
        "      \n",
        "    def indicedernier(self):\n",
        "        \"retourne l'indice du dernier element\"\n",
        "        return(len(self.L))-1\n",
        "       \n",
        "    def __str__(self):\n",
        "        return str(self.L)\n",
        "\n",
        "p=Pile()\n",
        "p.empiler(5)\n",
        "print(p)"
      ],
      "execution_count": 1,
      "outputs": [
        {
          "output_type": "stream",
          "text": [
            "[5]\n"
          ],
          "name": "stdout"
        }
      ]
    }
  ]
}