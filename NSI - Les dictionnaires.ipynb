{
 "cells": [
  {
   "cell_type": "markdown",
   "metadata": {},
   "source": [
    " \n",
    "# Les dictionnaires"
   ]
  },
  {
   "cell_type": "markdown",
   "metadata": {},
   "source": [
    "## Définition\n",
    "\n",
    "Un **dictionnaire** en python est une sorte de liste mais au lieu d'utiliser des index, on utilise des clés alphanumériques. \n",
    "\n",
    "L’ensemble des couples **clé – valeur** sont enregistrés sous la forme *clé:valeur* , l’ensemble de ces couples étant séparés par une virgule et placés entre deux accolades.\n",
    "\n",
    "Les clés peuvent être des entiers (int), des chaînes de caractères (str) et même des tuples.\n",
    "\n",
    "Par exemple : "
   ]
  },
  {
   "cell_type": "code",
   "execution_count": null,
   "metadata": {},
   "outputs": [],
   "source": [
    "d={'clé1':'valeur1','clé2':'valeur2'}\n",
    "print(d)"
   ]
  },
  {
   "cell_type": "markdown",
   "metadata": {},
   "source": [
    "## Comment créer un dictionnaire python ? \n",
    "\n",
    "Pour **initialiser un dictionnaire** , on utile la syntaxe suivante qui va créer une variable de type dictionnaire, vide. "
   ]
  },
  {
   "cell_type": "code",
   "execution_count": null,
   "metadata": {},
   "outputs": [],
   "source": [
    "a=dict()\n",
    "b={}"
   ]
  },
  {
   "cell_type": "markdown",
   "metadata": {},
   "source": [
    "On peut vérifier le type de la variable créée."
   ]
  },
  {
   "cell_type": "code",
   "execution_count": null,
   "metadata": {},
   "outputs": [],
   "source": [
    "type(a)\n",
    "type(b)\n",
    "# On peut par exemple entrer des noms en clés et les numéros de téléphone en valeur. \n",
    "a={'Marie': 62111111 ,'Moussa': 62111122,'Chérine': 62111111}\n",
    "print(a)"
   ]
  },
  {
   "cell_type": "markdown",
   "metadata": {},
   "source": [
    "## Comment ajouter des valeurs dans un dictionnaire python ?  \n",
    "\n",
    "Pour **ajouter des valeurs** à un dictionnaire  il faut indiquer une **clé** ainsi qu'une **valeur** sous la forme **nom_dico['clé']='valeur'**.\n",
    "\n",
    "On peut par exemple entrer des noms en clés et les numéros de téléphone en valeur. \n",
    "\n",
    "\n",
    "*Remarque : un entier ne commence pas par 0 en python, si on veurt stocker la valeur complète 0611223344 il faudra passer les numéros en variables str.*"
   ]
  },
  {
   "cell_type": "code",
   "execution_count": null,
   "metadata": {},
   "outputs": [],
   "source": [
    "a['Pierre']=611223344\n",
    "a['Franck']=611223599\n",
    "a['Yannis']=611223355\n",
    "print(a)"
   ]
  },
  {
   "cell_type": "markdown",
   "metadata": {},
   "source": [
    "- La **longueur d'un dictionnaire** est le nombre de clés. On l'obteint avec la fonction *len(nom_dico)*.\n",
    "- L'ordre dans lequel apparaissent les paires clé-valeur dans le dictionnaire n’a pas d’importance, car on accède pas aux éléments d’un dictionnaire par un index, mais par une clé, qui n’est pas nécessairement un nombre."
   ]
  },
  {
   "cell_type": "code",
   "execution_count": null,
   "metadata": {},
   "outputs": [],
   "source": [
    "len(a)"
   ]
  },
  {
   "cell_type": "markdown",
   "metadata": {},
   "source": [
    "## Un premier exercice "
   ]
  },
  {
   "cell_type": "code",
   "execution_count": null,
   "metadata": {},
   "outputs": [],
   "source": [
    "## Exercice 1 : Question 1\n",
    "# 1.a Créer un dictionnaire vide nommé *dico*. \n",
    "# 1.b Ce dictionnaire comprendra en **clés** des mots en anglais et en **valeurs** une traduction possible en français.    \n",
    "# 1.c Ajouter les clés-valeurs : 'house' : 'maison' ,   'kitchen' : 'cuisine' ,   'bunk beds' : 'lits superposés' ,   'bed room' : 'pièce lit'\n",
    "# 1.d Vérifier le résultat par un affichage du dictionnaire.\n",
    "# 1.e Afficher sa longueur.\n"
   ]
  },
  {
   "cell_type": "markdown",
   "metadata": {},
   "source": [
    "## Comment récupérer une valeur dans un dictionnaire python?\n",
    "\n",
    "Deux façons de procéder pour récupérer une valeur dans un dictionnaire :\n",
    "\n",
    "    - la **méthode get** : nom_dico.get('clé'). \n",
    "    - la **méthode directe** : nom_dico['clé']\n"
   ]
  },
  {
   "cell_type": "code",
   "execution_count": null,
   "metadata": {},
   "outputs": [],
   "source": [
    "a.get('Pierre')"
   ]
  },
  {
   "cell_type": "code",
   "execution_count": null,
   "metadata": {},
   "outputs": [],
   "source": [
    "a['Franck']"
   ]
  },
  {
   "cell_type": "markdown",
   "metadata": {},
   "source": [
    "Si la clé est introuvable, la méthode get ne renvoie rien. Vous pouvez donner une valeur à retourner par défaut."
   ]
  },
  {
   "cell_type": "code",
   "execution_count": null,
   "metadata": {},
   "outputs": [],
   "source": [
    "a.get('Marcus',\"Ce nom n'existe pas danns le dictionnaire\")"
   ]
  },
  {
   "cell_type": "markdown",
   "metadata": {},
   "source": [
    "Faites de même avec votre dictionnaires dico.\n"
   ]
  },
  {
   "cell_type": "code",
   "execution_count": null,
   "metadata": {},
   "outputs": [],
   "source": [
    "## Exercice 1 : Question 2\n",
    "# Accéder aux valeurs dar les clés et tester un appel d'une clé qui n'est pas dans votre dictionnaire.\n"
   ]
  },
  {
   "cell_type": "markdown",
   "metadata": {},
   "source": [
    "## Comment modifier une valeur dans un dictionnaire python?\n",
    "On peut bien sûre modifier la valeur d’une clé. "
   ]
  },
  {
   "cell_type": "code",
   "execution_count": null,
   "metadata": {},
   "outputs": [],
   "source": [
    "a['Pierre']=799887744\n",
    "print(a)"
   ]
  },
  {
   "cell_type": "markdown",
   "metadata": {},
   "source": [
    "On pourrait par exemple dans le dictionnaire dico précédent modifier la valeur de la clé 'bed room' par 'chambre' ce qui est plus convenable."
   ]
  },
  {
   "cell_type": "code",
   "execution_count": null,
   "metadata": {},
   "outputs": [],
   "source": [
    "## Exercice 1 : Question 3\n",
    "# Modifier la valeur de la clé 'bed room' par 'chambre'\n",
    "\n"
   ]
  },
  {
   "cell_type": "markdown",
   "metadata": {},
   "source": [
    "## Comment supprimer une valeur dans un dictionnaire python?\n",
    "Pour supprimer un élément :\n",
    "\n",
    "    - on peut utiliser l’instruction intégrée **del** , \n",
    "    - ou la méthode **pop()**.\n",
    "\n",
    "Par exemple, si on souhaite supprimer la paire 'Pierre' : '611223344', on peut exécuter l’instruction :\n",
    " *del a['Pierre']* ou *a.pop('Pierre')*\n",
    " "
   ]
  },
  {
   "cell_type": "code",
   "execution_count": null,
   "metadata": {},
   "outputs": [],
   "source": [
    "print('avant', a)\n",
    "del a['Pierre']\n",
    "print('après le del ',a)\n",
    "a.pop('Yannis')\n",
    "print('après le pop',a)"
   ]
  },
  {
   "cell_type": "code",
   "execution_count": null,
   "metadata": {},
   "outputs": [],
   "source": [
    "## Exercice 1 : Question 4\n",
    "# Supprimer une entrée de votre dictionnaire\n"
   ]
  },
  {
   "cell_type": "markdown",
   "metadata": {},
   "source": [
    "##  Comment parcourir les clés ou les valeurs dans un dictionnaire python?\n",
    "###  Méthode key()\n",
    "La méthode **keys()** renvoie une séquence contenant les clés du dictionnaire. Si nécessaire, cette séquence peut être convertie en une liste à l’aide de la fonction intégrée list() ou en tuple à l’aide de la fonction intégrée tuple()."
   ]
  },
  {
   "cell_type": "code",
   "execution_count": null,
   "metadata": {},
   "outputs": [],
   "source": [
    "a.keys()"
   ]
  },
  {
   "cell_type": "code",
   "execution_count": null,
   "metadata": {},
   "outputs": [],
   "source": [
    "list(a.keys())"
   ]
  },
  {
   "cell_type": "markdown",
   "metadata": {},
   "source": [
    "###   Méthode value()\n",
    "La méthode **values()** renvoie une séquence contenant les valeurs mémorisées dans le dictionnaire. \n",
    "\n",
    "On peut, comme pour les clés, utiliser les méthodes list() ou tuple() pour transformer ces séquences en listes ou en tuples.\n"
   ]
  },
  {
   "cell_type": "code",
   "execution_count": null,
   "metadata": {},
   "outputs": [],
   "source": [
    "a.values()"
   ]
  },
  {
   "cell_type": "markdown",
   "metadata": {},
   "source": [
    "###  Méthode item()\n",
    "La méthode **items()** retourne une séquence de tuples, chaque tuple contenant deux éléments, la clé et la valeur correspondante. Par exemple  :"
   ]
  },
  {
   "cell_type": "code",
   "execution_count": null,
   "metadata": {},
   "outputs": [],
   "source": [
    "a.items()"
   ]
  },
  {
   "cell_type": "markdown",
   "metadata": {},
   "source": [
    "###  Parcours par une boucle\n",
    "On peut aussi parcourir le dictionnaire par une boucle en utilisant les différentes méthodes."
   ]
  },
  {
   "cell_type": "code",
   "execution_count": null,
   "metadata": {},
   "outputs": [],
   "source": [
    "for clé in a:\n",
    "    print(\"La clé \", clé, \"est associée à la valeur\", a[clé])"
   ]
  },
  {
   "cell_type": "code",
   "execution_count": null,
   "metadata": {},
   "outputs": [],
   "source": [
    "for clé in a.keys():\n",
    "    print(\"Les clés du dictionnaire sont \", clé)"
   ]
  },
  {
   "cell_type": "code",
   "execution_count": null,
   "metadata": {},
   "outputs": [],
   "source": [
    "for valeur in a.values():\n",
    "    print(\"Les valeurs du dictionnaire sont \", valeur)"
   ]
  },
  {
   "cell_type": "code",
   "execution_count": null,
   "metadata": {},
   "outputs": [],
   "source": [
    "## Exercice 1 : Question 5\n",
    "# 5.1 Afficher les clés et valeurs de votre dictionnaire avec les différentes méthodes proposées\n",
    "# 5.2 Afficher les clés de votre dictionnaire avec une boucle.\n",
    "# 5.3 Afficher les valeurs de votre dictionnaire avec une boucle.\n"
   ]
  },
  {
   "cell_type": "markdown",
   "metadata": {},
   "source": [
    "##  Comment  copier un dictionnaire : méthode copy()\n",
    "Supposons que l’on souhaite effectuer une copie du dictionnaire a précédent sous le nom a2.  \n",
    "\n"
   ]
  },
  {
   "cell_type": "code",
   "execution_count": null,
   "metadata": {},
   "outputs": [],
   "source": [
    "print(a)\n",
    "a2=a\n",
    "print(a2)"
   ]
  },
  {
   "cell_type": "code",
   "execution_count": null,
   "metadata": {},
   "outputs": [],
   "source": [
    "# On va modifier le dictionnaire a2 copié, on remarque qu'alors le dictionaire a aussi est modifié.\n",
    "a2['Lina']=611111111\n",
    "print('a= ',a)\n",
    "print('a2= ',a2)"
   ]
  },
  {
   "cell_type": "markdown",
   "metadata": {},
   "source": [
    "On remarque que les deux dictionnaires ont été modifiés. Cela montre qu’il n’y a en fait qu’un seul objet et que dico et dico_2 sont en fait des références vers le même objet.\n",
    "Ces instructions ne créent pas une copie du dictionnaire dico. Elles se contentent de créer ce que l’on appelle un alias, c’est-à-dire un autre nom pour désigner le même objet.\n",
    "\n",
    "Pour obtenir une vraie copie d’un dictionnaire, il faut utiliser, comme avec les listes, la méthode *copy()* :"
   ]
  },
  {
   "cell_type": "code",
   "execution_count": null,
   "metadata": {},
   "outputs": [],
   "source": [
    "a3=a.copy()\n",
    "a3['Pablo']=622222222\n",
    "print('a= ',a)\n",
    "print('a3= ',a3)"
   ]
  },
  {
   "cell_type": "code",
   "execution_count": null,
   "metadata": {},
   "outputs": [],
   "source": [
    "## Exercice 1 : Question 5\n",
    "# Copier votre dictionnaire dico dans un autre dictinnaire dico2 et modifier des valeurs. \n",
    "# Vérifier alors les remarques du cours."
   ]
  },
  {
   "cell_type": "markdown",
   "metadata": {},
   "source": [
    "## Création d'un dictionnaire par compréhension\n",
    "On peut aussi constuire un dictionnaire par compréhension, comme avec les listes."
   ]
  },
  {
   "cell_type": "code",
   "execution_count": null,
   "metadata": {},
   "outputs": [],
   "source": [
    "comprehension={x*x: x for x in range(10)}\n",
    "print(comprehension)"
   ]
  },
  {
   "cell_type": "markdown",
   "metadata": {},
   "source": [
    "##  Concaténer deux dictionnaires : update()\n",
    "\n",
    "Il est possible de concaténer deux dictionnaires avec la méthode **update()**:\n"
   ]
  },
  {
   "cell_type": "code",
   "execution_count": null,
   "metadata": {},
   "outputs": [],
   "source": [
    "d = {'apples': 1, 'oranges': 3, 'pears': 2}\n",
    "ud = {'pears': 4, 'grapes': 5, 'lemons': 6}\n",
    "d.update(ud)\n",
    "d\n"
   ]
  },
  {
   "cell_type": "markdown",
   "metadata": {},
   "source": [
    "# Résumé des notions abordées\n",
    "\n",
    "- Un dictionnaire est un objet conteneur associant des clés à des valeurs.\n",
    "- Pour créer un dictionnaire, on utilise la syntaxe :\n",
    "    - dictionnaire = { cle1:valeur1, cle2:valeur2, cleN:valeurN }\n",
    "- Pour récupérer une valeur dans un dictionnaire python.\n",
    "    - la méthode get : nom_dico.get('clé').\n",
    "    - la méthode directe : nom_dico['clé']\n",
    "- On peut ajouter ou remplacer un élément dans un dictionnaire:\n",
    "    - dictionnaire[cle] = valeur\n",
    "- On peut supprimer une clé (et sa valeur correspondante) d’un dictionnaire en utilisant:\n",
    "    - le mot-clé del\n",
    "    - la méthode pop()\n",
    "- On peut parcourir un dictionnaire grâce aux méthodes:\n",
    "    - keys() : parcourt les clés\n",
    "    - values() : parcourt les valeurs\n",
    "    - items() : parcourt les couples clé-valeur\n",
    "- On peut concaténer deux dictionnaires grâce à la méthode update(): \n",
    "    - dico1.update(dico2)"
   ]
  },
  {
   "cell_type": "code",
   "execution_count": null,
   "metadata": {},
   "outputs": [],
   "source": [
    "# Pour accéder à toutes les fonctions et méthodes liées à la classe dictionnaire (la notion de classe sera vue plus tard)\n",
    "# il suffit de taper la commande dir(nom_dico) :\n",
    "\n",
    "dir(a)"
   ]
  },
  {
   "cell_type": "markdown",
   "metadata": {},
   "source": [
    "Méthodes | Actions\n",
    "--- | --- \n",
    "clear() |\tSupprime tous les éléments du dictionnaire\n",
    "copy()\t|Renvoie une copie du dictionnaire\n",
    "fromkeys()|Renvoie un dictionnaire avec les clés et valeurs spécifiées\n",
    "get()\t|Renvoie la valeur de la clé spécifiée\n",
    "items()\t|Retourne un objet qui affiche une liste des paires de tuples (clé, valeur) du dictionnaire\n",
    "keys()\t|Renvoie une liste contenant les clés du dictionnaire\n",
    "pop()\t|Removes the element with the specified key\n",
    "popitem()|\tSupprime l'élément de la clé spécifiée\n",
    "setdefault()\t|Renvoie la valeur de la clé spécifiée. Si la clé n'existe pas : insère la clé, avec la valeur spécifiée.\n",
    "update()\t|Mise à jour du dictionnaire avec les paires clé-valeur spécifiées\n",
    "values()\t|Renvoie une liste de toutes les valeurs du dictionnaire"
   ]
  },
  {
   "cell_type": "markdown",
   "metadata": {},
   "source": [
    "#  TD - Les dictionnaires sous Python"
   ]
  },
  {
   "cell_type": "markdown",
   "metadata": {},
   "source": [
    "## Exercice 2\n",
    "Voici un dictionnaire qui permet de coder les 26 lettres de l'alphabet, l'espace et l'apostrophe '. "
   ]
  },
  {
   "cell_type": "code",
   "execution_count": null,
   "metadata": {},
   "outputs": [],
   "source": [
    "codage={'a':111,'b':121,'c':211,'d':311,'e':151,'f':411,'g':113,'h':11,'i':21,'j':71,'k':19,'l':81,'m':100,'n':9,'o':1,'p':8,'q':1234,'r':1119,'s':4111,'t':5111,'u':555,'v':321,'w':0,'x':20,'y':30,'z':40,' ':951,\"'\":753}"
   ]
  },
  {
   "cell_type": "markdown",
   "metadata": {},
   "source": [
    "A l'aide de ce dictionnaire, on veut coder le message suivant : 'bonjour'\n",
    "1. Entrainez-vous sur quelques lettres.\n",
    "2. Ecrire une fonction f qui va renvoyer le mot codé sous forme d'une liste d'entiers.\n",
    "\n",
    "Par exemple on devra avoir : \n",
    "\n",
    "```  python\n",
    ">>>f('bonjour')\n",
    "[121, 1, 9, 71, 1, 555, 1119]``` "
   ]
  },
  {
   "cell_type": "code",
   "execution_count": null,
   "metadata": {},
   "outputs": [],
   "source": [
    "# Exercice 2 : suestion 2\n",
    "# ------------------------ \n",
    "def f(mot):\n",
    "    ''' IN  : mot, un str\n",
    "        OUT : le codage de mot avec le dictionnaire dans une liste'''\n",
    "    \n",
    "\n"
   ]
  },
  {
   "cell_type": "markdown",
   "metadata": {},
   "source": [
    "On peut facilement construire un dictionnaire permettant de décoder un message en passant les valeurs du premier en clé de l'autre car toutes les valeurs sont différentes. On utilise la métgode de construcion par compréhension vue dans le cours.\n"
   ]
  },
  {
   "cell_type": "code",
   "execution_count": null,
   "metadata": {},
   "outputs": [],
   "source": [
    "decodage = {codage[clé] : clé for clé in codage  }\n",
    "print(decodage)"
   ]
  },
  {
   "cell_type": "markdown",
   "metadata": {},
   "source": [
    "3. Ecrire une fonction g de décodage qui renvoie le mot codé. Par exemple on devra avoir :\n",
    "```  python\n",
    ">>>g([121, 1, 9, 71, 1, 555, 1119])\n",
    "'bonjour'\n",
    "``` "
   ]
  },
  {
   "cell_type": "code",
   "execution_count": null,
   "metadata": {},
   "outputs": [],
   "source": [
    "# Exercice 2 : suestion 3\n",
    "# ------------------------ \n",
    "def g(liste):\n",
    "    ''' IN  : liste, une liste d'entiers correspondants aux code\n",
    "        OUT : le mot décodé (un str)'''\n",
    "    "
   ]
  },
  {
   "cell_type": "markdown",
   "metadata": {},
   "source": [
    "## Exercice 3\n",
    "Voici un extrait de Wikipédia concernant le *jeu de cartes*.\n",
    "\n",
    "*Le jeu de cartes français ou jeu de 52 cartes est un jeu de cartes organisées en deux couleurs: noir et rouge et en quatre enseignes françaises : pique, cœur, carreau, trèfle.*\n",
    "\n",
    "On considère que la valeur d'une carte correspond à 2 si c'est un deux, 3 si c'est un trois, ..., 10 pour un dix, 11 pour un valet, 12 pour une dame, 13 pour un roi et 14 pour un as.\n",
    "\n",
    "1. Créer un dictionnaire nommé *valeur_carte* dont les clés sont les noms des cartes (2,3,...,10,valet,Dame,Roi,As) et les valeurs les valeurs de ces clés. Par exemple votre dictionnaire devra renvoyer : \n",
    "\n",
    "``` python\n",
    ">>> valeur_carte['valet']\n",
    "11\n",
    "``` \n"
   ]
  },
  {
   "cell_type": "code",
   "execution_count": null,
   "metadata": {},
   "outputs": [],
   "source": [
    "# Exercice 3 : suestion 1\n",
    "# ------------------------ \n"
   ]
  },
  {
   "cell_type": "markdown",
   "metadata": {},
   "source": [
    "2. Créer un dictionnaire nommé *jeu_carte* dont : \n",
    "    - les clés sont les 52 tuples (nom,enseigne) des cartes d'un jeu de 52 cartes :  ('2','pique') , ... ,('as','pique'), ('2','coeur'), ... ,('as','coeur')...\n",
    "    - et les valeurs les valeurs de ces clés. Par exemple votre dictionnaire devra renvoyer : \n",
    "``` python\n",
    ">>> jeu_carte[('dame','pique')]\n",
    "12\n",
    "``` "
   ]
  },
  {
   "cell_type": "code",
   "execution_count": null,
   "metadata": {},
   "outputs": [],
   "source": [
    "# Exercice 3 : suestion 2\n",
    "# ------------------------ \n"
   ]
  },
  {
   "cell_type": "markdown",
   "metadata": {},
   "source": [
    "\n",
    "3. Si on veut sélectionner aléatoirement des éléments (créer un échantillon) sans remise d'une liste ou d'un dictionnaire on peut utiliser la fonction random.sample(). Par exemple pour obtenir un échantillon de taille 2 du dictionnaire test :"
   ]
  },
  {
   "cell_type": "code",
   "execution_count": null,
   "metadata": {},
   "outputs": [],
   "source": [
    "test={('2','pique'):2 , ('as','pique'):14, ('3','coeur'):3,  ('as','coeur'):14}\n",
    "import random\n",
    "echant=random.sample(test.keys(), 2)\n",
    "print(echant)"
   ]
  },
  {
   "cell_type": "code",
   "execution_count": null,
   "metadata": {},
   "outputs": [],
   "source": [
    "# Exercice 3 : suestion 3\n",
    "# ------------------------ \n"
   ]
  },
  {
   "cell_type": "markdown",
   "metadata": {},
   "source": [
    "4. Créer une fonction bataille(jeu_cartes) qui va choisir au hasard deux cartes distinctes du jeu, les afficher, comparer leur valeurs et donner la carte gagante. Par exemple on pourra avoir : \n",
    "``` python\n",
    ">>> bataille(jeu_cartes)\n",
    "('dame','coeur') de valeur 12 bat ('9','pique') de valeur 9\n",
    "``` "
   ]
  },
  {
   "cell_type": "code",
   "execution_count": null,
   "metadata": {},
   "outputs": [],
   "source": [
    "# Exercice 3 : suestion 4\n",
    "# ------------------------\n",
    "def bataille(jeu_cartes):\n",
    "    ''' IN  : un dictionnaire jeu de cartes \n",
    "        OUT : carte1 choisie, carte 2 choisie , les valeurs et la carte la plus forte \n",
    "        Action :  va choisir au hasard deux cartes distinctes du jeu, \n",
    "        les afficher, comparer leur valeurs et afficher la carte gagante.'''"
   ]
  }
 ],
 "metadata": {
  "kernelspec": {
   "display_name": "Python 3",
   "language": "python",
   "name": "python3"
  },
  "language_info": {
   "codemirror_mode": {
    "name": "ipython",
    "version": 3
   },
   "file_extension": ".py",
   "mimetype": "text/x-python",
   "name": "python",
   "nbconvert_exporter": "python",
   "pygments_lexer": "ipython3",
   "version": "3.7.8"
  }
 },
 "nbformat": 4,
 "nbformat_minor": 2
}
