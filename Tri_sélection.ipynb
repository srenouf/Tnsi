{
  "nbformat": 4,
  "nbformat_minor": 0,
  "metadata": {
    "colab": {
      "name": "Tri sélection",
      "provenance": [],
      "collapsed_sections": []
    },
    "kernelspec": {
      "name": "python3",
      "display_name": "Python 3"
    }
  },
  "cells": [
    {
      "cell_type": "markdown",
      "metadata": {
        "id": "mSsho1m5S-ut",
        "colab_type": "text"
      },
      "source": [
        "#Tri selection"
      ]
    },
    {
      "cell_type": "markdown",
      "metadata": {
        "id": "HNbmDALuTGFL",
        "colab_type": "text"
      },
      "source": [
        "Visionnez cette vidéo pour comprendre le principe:"
      ]
    },
    {
      "cell_type": "code",
      "metadata": {
        "id": "klQvZwQzTKnw",
        "colab_type": "code",
        "colab": {
          "base_uri": "https://localhost:8080/",
          "height": 336
        },
        "outputId": "8443e654-8e1b-4f1b-f77a-dae109ba28c8"
      },
      "source": [
        "%%html\n",
        "<iframe width=\"560\" height=\"315\" src=\"https://www.youtube.com/embed/qpeeRU_K90k\" frameborder=\"0\" allow=\"accelerometer; autoplay; encrypted-media; gyroscope; picture-in-picture\" allowfullscreen></iframe>"
      ],
      "execution_count": 1,
      "outputs": [
        {
          "output_type": "display_data",
          "data": {
            "text/html": [
              "<iframe width=\"560\" height=\"315\" src=\"https://www.youtube.com/embed/qpeeRU_K90k\" frameborder=\"0\" allow=\"accelerometer; autoplay; encrypted-media; gyroscope; picture-in-picture\" allowfullscreen></iframe>"
            ],
            "text/plain": [
              "<IPython.core.display.HTML object>"
            ]
          },
          "metadata": {
            "tags": []
          }
        }
      ]
    },
    {
      "cell_type": "markdown",
      "metadata": {
        "id": "QtjhpTdUTXMc",
        "colab_type": "text"
      },
      "source": [
        "___\n",
        "Exercice 1:\n",
        "___\n",
        "Résumer en quelques lignes ci dessous le principe de ce tri!\n",
        "<br><br><br>"
      ]
    },
    {
      "cell_type": "markdown",
      "metadata": {
        "id": "vHB4nHcMTjZZ",
        "colab_type": "text"
      },
      "source": [
        "___\n",
        "Pseudo-code selon Knuth:\n",
        "___\n",
        "tri_selection(tableau t, entier n)<br>\n",
        "      pour i de 0 à n - 2<br>\n",
        "          min ← i       <br>\n",
        "          pour j de i + 1 à n - 1 <br>\n",
        "              si t[j] < t[min], alors min ← j <br>\n",
        "          fin pour <br>\n",
        "          si min ≠ i, alors échanger t[i] et t[min] <br>\n",
        "      fin pour <br>\n",
        "  fin"
      ]
    },
    {
      "cell_type": "markdown",
      "metadata": {
        "id": "6AKwBVlNT9jW",
        "colab_type": "text"
      },
      "source": [
        "Exercice 2: implémenter ce code dans la cellule ci-dessous:"
      ]
    },
    {
      "cell_type": "code",
      "metadata": {
        "id": "UH9KEOTgS3bn",
        "colab_type": "code",
        "colab": {}
      },
      "source": [
        ""
      ],
      "execution_count": null,
      "outputs": []
    },
    {
      "cell_type": "markdown",
      "metadata": {
        "id": "fvJ5q5u9UGDy",
        "colab_type": "text"
      },
      "source": [
        "___\n",
        "Exercice 3:\n",
        "___\n",
        "Étudier la terminaison de cet algorithmeBoucle bornée :. . . . . . . . . . . . . . . . . . . . . . . . . . . . . . . . . . . . . . . .. . . . . . . . . . . . . . . . . . . . . . . . . . . . . . . . . . . . . . . .Boucle tant que : Variant de boucle :....... . . . . . . . . . . . . . . . . . . . . . . . . . . . . . . . . . . . . . . .. . . . . . . . . . . . . . . . . . . . . . . . . . . . . . . . . . . . . . . .. . . . . . . . . . . . . . . . . . . . . . . . . . . . . . . . . . . . . . . .. . . . . . . . . . . . . . . . . . . . . . . . . . . . . . . . . . . . . . . .. . . . . . . . . . . . . . . . . . . . . . . . . . . . . . . . . . . . . . ."
      ]
    },
    {
      "cell_type": "markdown",
      "metadata": {
        "id": "8cwOPIjfUSXE",
        "colab_type": "text"
      },
      "source": [
        "___\n",
        "Exercice 4:\n",
        "___\n",
        "Comparer en utilisant la bilbiothèque time le temps d'execution de la fonction tri sélection par rapport au tri insertion et au tri bulle.\n",
        "Pour cela vous devrez créer une fonction qui prend en entrée un entier naturel n et retourne une liste de nombre aléatoire."
      ]
    },
    {
      "cell_type": "code",
      "metadata": {
        "id": "dm-gkx8bUqSD",
        "colab_type": "code",
        "colab": {}
      },
      "source": [
        ""
      ],
      "execution_count": null,
      "outputs": []
    }
  ]
}