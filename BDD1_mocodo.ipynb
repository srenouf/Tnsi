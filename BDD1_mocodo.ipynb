{
  "nbformat": 4,
  "nbformat_minor": 0,
  "metadata": {
    "colab": {
      "name": "BDD1 mocodo.ipynb",
      "provenance": [],
      "collapsed_sections": [],
      "authorship_tag": "ABX9TyNsX1LQoOet4sUYewTBmdoR",
      "include_colab_link": true
    },
    "kernelspec": {
      "name": "python3",
      "display_name": "Python 3"
    }
  },
  "cells": [
    {
      "cell_type": "markdown",
      "metadata": {
        "id": "view-in-github",
        "colab_type": "text"
      },
      "source": [
        "<a href=\"https://colab.research.google.com/github/srenouf/Tnsi/blob/master/BDD1_mocodo.ipynb\" target=\"_parent\"><img src=\"https://colab.research.google.com/assets/colab-badge.svg\" alt=\"Open In Colab\"/></a>"
      ]
    },
    {
      "cell_type": "markdown",
      "metadata": {
        "id": "aD7gALPqfOsa",
        "colab_type": "text"
      },
      "source": [
        "<img src=\"https://camo.githubusercontent.com/aa6fd9b26cfd3a1a651723e88146a534a345f9b2/68747470733a2f2f63646e2e7261776769742e636f6d2f6c616f77616e746f6e672f6d6f636f646f2f6d61737465722f6c6f676f732f62616e6e65722e737667\" border=\"0\" width=\"800\">"
      ]
    },
    {
      "cell_type": "markdown",
      "metadata": {
        "id": "sDQt7Tdle29m",
        "colab_type": "text"
      },
      "source": [
        "Mocodo est un logiciel d'aide à l'enseignement et à la conception des bases de données relationnelles.\n",
        "\n",
        "    En entrée, il prend une description textuelle des entités et associations du modèle conceptuel de données (MCD).\n",
        "    En sortie, il produit son diagramme entité-association en SVG et son schéma relationnel (MLD) en SQL, LaTeX, Markdown, etc.\n",
        "\n",
        "Pour pouvoir l'utiliser,il faut passer par la commande pip install\n"
      ]
    },
    {
      "cell_type": "code",
      "metadata": {
        "id": "oeh8nGYlbEd0",
        "colab_type": "code",
        "colab": {
          "base_uri": "https://localhost:8080/",
          "height": 404
        },
        "outputId": "91c49a1c-68a3-411e-cff0-de14ad20cc33"
      },
      "source": [
        "pip install mocodo_magic"
      ],
      "execution_count": 1,
      "outputs": [
        {
          "output_type": "stream",
          "text": [
            "Collecting mocodo_magic\n",
            "  Downloading https://files.pythonhosted.org/packages/3d/81/6a2ff9531721d6dd4a50bdb80018ab4782ba3d6f3883d35c92d472ce4e5c/mocodo_magic-1.0.3-py2.py3-none-any.whl\n",
            "Collecting mocodo\n",
            "\u001b[?25l  Downloading https://files.pythonhosted.org/packages/98/eb/ef4e670dcb31d5998b816f2cbc4a4f16738d93cc15a0bda70cdcbe3b63ab/mocodo-2.3.8-py2.py3-none-any.whl (149kB)\n",
            "\u001b[K     |████████████████████████████████| 153kB 2.8MB/s \n",
            "\u001b[?25hRequirement already satisfied: ipython in /usr/local/lib/python3.6/dist-packages (from mocodo_magic) (5.5.0)\n",
            "Requirement already satisfied: simplegeneric>0.8 in /usr/local/lib/python3.6/dist-packages (from ipython->mocodo_magic) (0.8.1)\n",
            "Requirement already satisfied: pexpect; sys_platform != \"win32\" in /usr/local/lib/python3.6/dist-packages (from ipython->mocodo_magic) (4.8.0)\n",
            "Requirement already satisfied: prompt-toolkit<2.0.0,>=1.0.4 in /usr/local/lib/python3.6/dist-packages (from ipython->mocodo_magic) (1.0.18)\n",
            "Requirement already satisfied: pickleshare in /usr/local/lib/python3.6/dist-packages (from ipython->mocodo_magic) (0.7.5)\n",
            "Requirement already satisfied: decorator in /usr/local/lib/python3.6/dist-packages (from ipython->mocodo_magic) (4.4.2)\n",
            "Requirement already satisfied: setuptools>=18.5 in /usr/local/lib/python3.6/dist-packages (from ipython->mocodo_magic) (50.3.0)\n",
            "Requirement already satisfied: traitlets>=4.2 in /usr/local/lib/python3.6/dist-packages (from ipython->mocodo_magic) (4.3.3)\n",
            "Requirement already satisfied: pygments in /usr/local/lib/python3.6/dist-packages (from ipython->mocodo_magic) (2.6.1)\n",
            "Requirement already satisfied: ptyprocess>=0.5 in /usr/local/lib/python3.6/dist-packages (from pexpect; sys_platform != \"win32\"->ipython->mocodo_magic) (0.6.0)\n",
            "Requirement already satisfied: wcwidth in /usr/local/lib/python3.6/dist-packages (from prompt-toolkit<2.0.0,>=1.0.4->ipython->mocodo_magic) (0.2.5)\n",
            "Requirement already satisfied: six>=1.9.0 in /usr/local/lib/python3.6/dist-packages (from prompt-toolkit<2.0.0,>=1.0.4->ipython->mocodo_magic) (1.15.0)\n",
            "Requirement already satisfied: ipython-genutils in /usr/local/lib/python3.6/dist-packages (from traitlets>=4.2->ipython->mocodo_magic) (0.2.0)\n",
            "Installing collected packages: mocodo, mocodo-magic\n",
            "Successfully installed mocodo-2.3.8 mocodo-magic-1.0.3\n"
          ],
          "name": "stdout"
        }
      ]
    },
    {
      "cell_type": "markdown",
      "metadata": {
        "id": "9ZmFdnNVx9ER",
        "colab_type": "text"
      },
      "source": [
        "Puis demander à l'exécuter dans le notebook, à laide de la commande suivante:"
      ]
    },
    {
      "cell_type": "code",
      "metadata": {
        "id": "CQjKIoS4beIg",
        "colab_type": "code",
        "colab": {}
      },
      "source": [
        "%reload_ext mocodo_magic"
      ],
      "execution_count": 2,
      "outputs": []
    },
    {
      "cell_type": "markdown",
      "metadata": {
        "id": "aXcUPoJ2elSI",
        "colab_type": "text"
      },
      "source": [
        "*Exemple*: On donne le schéma des relations suivantes: <BR>\n",
        "LIVRES (<u>identifiant</u>:entiers positifs , titre : str , #id_auteur : entiers positifs, ann_publi : entiers positifs , note : entiers positifs)\n",
        "\n",
        "AUTEURS ( <u>identifiant</u>:entiers positifs , nom : str, prenom : str , ann_naissance : entiers positifs , langue_ecriture : str )\n",
        "\n",
        "L'association est 1 livre est écrit par 1 ou plusieurs auteurs."
      ]
    },
    {
      "cell_type": "markdown",
      "metadata": {
        "id": "hYEG8asi0DEs",
        "colab_type": "text"
      },
      "source": [
        "Obtention du modèle entité-association: on doit taper cela, la première ligne correspond à ce qu'on appelle une commande magique jupyter, cela dit en fait au notebook d'utiliser la bibliothèque que l'on a installé à l'aide de la commande pip."
      ]
    },
    {
      "cell_type": "code",
      "metadata": {
        "id": "FJqevPMBckl8",
        "colab_type": "code",
        "colab": {
          "base_uri": "https://localhost:8080/",
          "height": 286
        },
        "outputId": "64e1c028-a31d-4146-b4be-9441af0268c6"
      },
      "source": [
        "%%mocodo --mld --colors ocean --shapes copperplate --relations diagram markdown_data_dict\n",
        "Ecrit, 11 LIVRES , 1N AUTEURS\n",
        "LIVRES: identifiant numérique, Titre, année\n",
        "\n",
        "AUTEURS: identifiant.AUTEURS, Nom AUTEURS, Prenom AUTEURS\n"
      ],
      "execution_count": 3,
      "outputs": [
        {
          "output_type": "display_data",
          "data": {
            "text/plain": [
              "<IPython.core.display.SVG object>"
            ],
            "image/svg+xml": "<svg height=\"230\" view_box=\"0 0 302 230\" width=\"302\" xmlns=\"http://www.w3.org/2000/svg\" xmlns:link=\"http://www.w3.org/1999/xlink\">\n\n<desc>Generated by Mocodo 2.3.8 on Sun, 20 Sep 2020 09:12:17</desc>\n\n<rect fill=\"none\" height=\"230\" id=\"frame\" stroke=\"none\" stroke-width=\"0\" width=\"302\" x=\"0\" y=\"0\"/>\n\n<!-- Association Ecrit -->\n<line stroke=\"#726f83\" stroke-width=\"1\" x1=\"218\" x2=\"82\" y1=\"56\" y2=\"56\"/>\n<text fill=\"#726f83\" font-family=\"Futura\" font-size=\"11\" x=\"120\" y=\"72.0\">1,1</text>\n<line stroke=\"#726f83\" stroke-width=\"1\" x1=\"82\" x2=\"82\" y1=\"174\" y2=\"56\"/>\n<text fill=\"#726f83\" font-family=\"Futura\" font-size=\"11\" x=\"87.0\" y=\"119\">1,N</text>\n<g id=\"association-Ecrit\">\n\t<path d=\"M 100 27 a 14 14 90 0 1 14 14 V 55 h -64 V 41 a 14 14 90 0 1 14 -14\" fill=\"#b2bba4\" stroke=\"#b2bba4\" stroke-width=\"0\"/>\n\t<path d=\"M 114 55.0 v 16 a 14 14 90 0 1 -14 14 H 64 a 14 14 90 0 1 -14 -14 V 55.0 H 64\" fill=\"#ccd6ba\" stroke=\"#ccd6ba\" stroke-width=\"0\"/>\n\t<rect fill=\"none\" height=\"58\" rx=\"14\" stroke=\"#85956b\" stroke-width=\"1.5\" width=\"64\" x=\"50\" y=\"27\"/>\n\t<line stroke=\"#85956b\" stroke-width=\"1.5\" x1=\"50\" x2=\"114\" y1=\"55\" y2=\"55\"/>\n\t<text fill=\"#27360c\" font-family=\"Copperplate\" font-size=\"18\" x=\"57\" y=\"48.3\">Ecrit</text>\n</g>\n\n<!-- Entity LIVRES -->\n<g id=\"entity-LIVRES\">\n\t<g id=\"frame-LIVRES\">\n\t\t<rect fill=\"#97b8ff\" height=\"30\" stroke=\"#97b8ff\" stroke-width=\"0\" width=\"150\" x=\"143\" y=\"9\"/>\n\t\t<rect fill=\"#c0d4ff\" height=\"64\" stroke=\"#c0d4ff\" stroke-width=\"0\" width=\"150\" x=\"143\" y=\"39.0\"/>\n\t\t<rect fill=\"none\" height=\"94\" stroke=\"#578dff\" stroke-width=\"1.5\" width=\"150\" x=\"143\" y=\"9\"/>\n\t\t<line stroke=\"#578dff\" stroke-width=\"1.5\" x1=\"143\" x2=\"293\" y1=\"39\" y2=\"39\"/>\n\t</g>\n\t<text fill=\"#131114\" font-family=\"Copperplate\" font-size=\"18\" x=\"184\" y=\"30.3\">LIVRES</text>\n\t<text fill=\"#3e3c42\" font-family=\"Gill Sans\" font-size=\"15\" x=\"151\" y=\"56.1\">identifiant numérique</text>\n\t<line stroke=\"#3e3c42\" stroke-width=\"1\" x1=\"151\" x2=\"284\" y1=\"59\" y2=\"59\"/>\n\t<text fill=\"#3e3c42\" font-family=\"Gill Sans\" font-size=\"15\" x=\"151\" y=\"73.1\">Titre</text>\n\t<text fill=\"#3e3c42\" font-family=\"Gill Sans\" font-size=\"15\" x=\"151\" y=\"90.0\">année</text>\n</g>\n\n<!-- Entity AUTEURS -->\n<g id=\"entity-AUTEURS\">\n\t<g id=\"frame-AUTEURS\">\n\t\t<rect fill=\"#97b8ff\" height=\"30\" stroke=\"#97b8ff\" stroke-width=\"0\" width=\"146\" x=\"9\" y=\"127\"/>\n\t\t<rect fill=\"#c0d4ff\" height=\"64\" stroke=\"#c0d4ff\" stroke-width=\"0\" width=\"146\" x=\"9\" y=\"157.0\"/>\n\t\t<rect fill=\"none\" height=\"94\" stroke=\"#578dff\" stroke-width=\"1.5\" width=\"146\" x=\"9\" y=\"127\"/>\n\t\t<line stroke=\"#578dff\" stroke-width=\"1.5\" x1=\"9\" x2=\"155\" y1=\"157\" y2=\"157\"/>\n\t</g>\n\t<text fill=\"#131114\" font-family=\"Copperplate\" font-size=\"18\" x=\"38\" y=\"148.3\">AUTEURS</text>\n\t<text fill=\"#3e3c42\" font-family=\"Gill Sans\" font-size=\"15\" x=\"17\" y=\"174.1\">identifiant.AUTEURS</text>\n\t<line stroke=\"#3e3c42\" stroke-width=\"1\" x1=\"17\" x2=\"147\" y1=\"177\" y2=\"177\"/>\n\t<text fill=\"#3e3c42\" font-family=\"Gill Sans\" font-size=\"15\" x=\"17\" y=\"191.1\">Nom AUTEURS</text>\n\t<text fill=\"#3e3c42\" font-family=\"Gill Sans\" font-size=\"15\" x=\"17\" y=\"208.0\">Prenom AUTEURS</text>\n</g>\n</svg>"
          },
          "metadata": {
            "tags": []
          }
        },
        {
          "output_type": "display_data",
          "data": {
            "text/html": [
              "<html>\n",
              "<head>\n",
              "<meta charset='utf-8'>\n",
              "<style>\n",
              "  #mld .relation { font-variant: small-caps; font-weight: bold }\n",
              "  #mld .primary { text-decoration: underline }\n",
              "  #mld .foreign { font-style: oblique }\n",
              "  #mld .normal { }\n",
              "</style>\n",
              "</head>\n",
              "<body>\n",
              "<div id='mld'>\n",
              "<div>\n",
              "  <span class='relation'>LIVRES</span> (\n",
              "    <span class='primary'>identifiant numérique</span>,\n",
              "    <span class='normal'>Titre</span>,\n",
              "    <span class='normal'>année</span>,\n",
              "    <span class='foreign'>identifiant.AUTEURS</span>\n",
              "  )\n",
              "</div>\n",
              "<div>\n",
              "  <span class='relation'>AUTEURS</span> (\n",
              "    <span class='primary'>identifiant.AUTEURS</span>,\n",
              "    <span class='normal'>Nom AUTEURS</span>,\n",
              "    <span class='normal'>Prenom AUTEURS</span>\n",
              "  )\n",
              "</div>\n",
              "</div>\n",
              "</body>\n",
              "</html>"
            ],
            "text/plain": [
              "<IPython.core.display.HTML object>"
            ]
          },
          "metadata": {
            "tags": []
          }
        }
      ]
    },
    {
      "cell_type": "markdown",
      "metadata": {
        "id": "g8GQ7NY90bI5",
        "colab_type": "text"
      },
      "source": [
        "Obtention du schéma relationnel : on doit juste taper la ligne de code ci-dessous:"
      ]
    },
    {
      "cell_type": "code",
      "metadata": {
        "id": "Gf7VzjX0c0bD",
        "colab_type": "code",
        "colab": {
          "base_uri": "https://localhost:8080/",
          "height": 213
        },
        "outputId": "d11782d2-b244-4d84-b668-3608671ac2d7"
      },
      "source": [
        "%mocodo --input mocodo_notebook/sandbox.mld --colors desert"
      ],
      "execution_count": null,
      "outputs": [
        {
          "output_type": "display_data",
          "data": {
            "text/plain": [
              "<IPython.core.display.SVG object>"
            ],
            "image/svg+xml": "<svg height=\"192\" view_box=\"0 0 510 192\" width=\"510\" xmlns=\"http://www.w3.org/2000/svg\" xmlns:link=\"http://www.w3.org/1999/xlink\">\n\n<desc>Generated by Mocodo 2.3.8 on Mon, 20 Jul 2020 20:36:38</desc>\n\n<rect fill=\"none\" height=\"192\" id=\"frame\" stroke=\"none\" stroke-width=\"0\" width=\"510\" x=\"0\" y=\"0\"/>\n\n<!-- Entity LIVRES -->\n<g id=\"entity-LIVRES\">\n\t<g id=\"frame-LIVRES\">\n\t\t<rect fill=\"#FAA945\" height=\"26\" stroke=\"#FAA945\" stroke-width=\"0\" width=\"188\" x=\"280\" y=\"9\"/>\n\t\t<rect fill=\"#FFB94E\" height=\"80\" stroke=\"#FFB94E\" stroke-width=\"0\" width=\"188\" x=\"280\" y=\"35.0\"/>\n\t\t<rect fill=\"none\" height=\"106\" stroke=\"#CB7E1F\" stroke-width=\"1.5\" width=\"188\" x=\"280\" y=\"9\"/>\n\t\t<line stroke=\"#CB7E1F\" stroke-width=\"1\" x1=\"280\" x2=\"468\" y1=\"35\" y2=\"35\"/>\n\t</g>\n\t<text fill=\"#645530\" font-family=\"Courier New\" font-size=\"14\" x=\"348\" y=\"27.6\">LIVRES</text>\n\t<text fill=\"#645530\" font-family=\"Courier New\" font-size=\"14\" x=\"285\" y=\"53.6\">identifiant numérique</text>\n\t<line stroke=\"#645530\" stroke-width=\"1\" x1=\"285\" x2=\"463\" y1=\"56.0\" y2=\"56.0\"/>\n\t<text fill=\"#645530\" font-family=\"Courier New\" font-size=\"14\" x=\"285\" y=\"71.6\">Titre</text>\n\t<text fill=\"#645530\" font-family=\"Courier New\" font-size=\"14\" x=\"285\" y=\"89.6\">année</text>\n\t<text fill=\"#645530\" font-family=\"Courier New\" font-size=\"14\" x=\"285\" y=\"107.6\">#identifiant.AUTEURS</text>\n</g>\n\n<!-- Entity AUTEURS -->\n<g id=\"entity-AUTEURS\">\n\t<g id=\"frame-AUTEURS\">\n\t\t<rect fill=\"#FAA945\" height=\"26\" stroke=\"#FAA945\" stroke-width=\"0\" width=\"172\" x=\"42\" y=\"95\"/>\n\t\t<rect fill=\"#FFB94E\" height=\"62\" stroke=\"#FFB94E\" stroke-width=\"0\" width=\"172\" x=\"42\" y=\"121.0\"/>\n\t\t<rect fill=\"none\" height=\"88\" stroke=\"#CB7E1F\" stroke-width=\"1.5\" width=\"172\" x=\"42\" y=\"95\"/>\n\t\t<line stroke=\"#CB7E1F\" stroke-width=\"1\" x1=\"42\" x2=\"214\" y1=\"121\" y2=\"121\"/>\n\t</g>\n\t<text fill=\"#645530\" font-family=\"Courier New\" font-size=\"14\" x=\"98\" y=\"113.6\">AUTEURS</text>\n\t<text fill=\"#645530\" font-family=\"Courier New\" font-size=\"14\" x=\"47\" y=\"139.6\">identifiant.AUTEURS</text>\n\t<line stroke=\"#645530\" stroke-width=\"1\" x1=\"47\" x2=\"208\" y1=\"142.0\" y2=\"142.0\"/>\n\t<text fill=\"#645530\" font-family=\"Courier New\" font-size=\"14\" x=\"47\" y=\"157.6\">Nom AUTEURS</text>\n\t<text fill=\"#645530\" font-family=\"Courier New\" font-size=\"14\" x=\"47\" y=\"175.6\">Prenom AUTEURS</text>\n</g>\n\n<!-- Link from \"identifiant.AUTEURS\" (LIVRES) to \"identifiant.AUTEURS\" (AUTEURS) -->\n<path d=\"M280 103.0 C 247.0 119.0 258.0 135.0 214 135.0\" fill=\"none\" stroke=\"#4C3D30\" stroke-width=\"1\"/>\n<path d=\"M 214 135.0 L 226.0 129.0 L 222.0 135.0 L 226.0 141.0 Z\" fill=\"#4C3D30\" stroke-width=\"0\"/>\n<circle cx=\"280\" cy=\"103.0\" fill=\"#4C3D30\" r=\"1.5\" stroke=\"#4C3D30\" stroke-width=\"1.5\"/>\n</svg>"
          },
          "metadata": {
            "tags": []
          }
        }
      ]
    },
    {
      "cell_type": "markdown",
      "metadata": {
        "id": "W8XBMLcP1NvI",
        "colab_type": "text"
      },
      "source": [
        "#A vous de faire\n",
        "<br>\n",
        "On considère les relations suivantes:\n",
        "<br>\n",
        "    CLIENT ( <u>Réf. client</u>, Nom, Prénom, Adresse )<br>\n",
        "    COMMANDE ( <u>Num commande</u>, Date, Montant, Réf. client )<br>\n",
        "    INCLURE ( <u>Num commande, Réf. produit</u>, Quantité )<br>\n",
        "    PRODUIT ( <u>Réf. produit</u>, Libellé, Prix unitaire )<br>\n",
        "    Les clients passe 1 commande qui inclut des produits\n",
        "\n",
        "Construiser, à laide de Modoco, le modèle entité-association ainsi que le schéma relationnel"
      ]
    },
    {
      "cell_type": "code",
      "metadata": {
        "id": "bVJ-cD901NX8",
        "colab_type": "code",
        "colab": {}
      },
      "source": [
        ""
      ],
      "execution_count": null,
      "outputs": []
    }
  ]
}