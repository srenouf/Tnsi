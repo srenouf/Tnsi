{
 "cells": [
  {
   "cell_type": "markdown",
   "metadata": {
    "colab_type": "text",
    "id": "5fCEDCU_qrC0"
   },
   "source": [
    "#Algorithmes de tris :\n",
    "Étant donné une liste d’entiers, il faut la trier dans l’ordre croissant.On peut bien entendu l’étendre à autre chose que des entiers...Bien que les listes aient une méthode prédéfinie pour trier (ma_liste.sort()), il est intéressant de faire soit même des algorithmes de tris.<BR>\n",
    "Exemples de tris:<BR>\n",
    "[Simulation de différents tris](https://isn-icn-ljm.pagesperso-orange.fr/tri2/index.html)\n"
   ]
  },
  {
   "cell_type": "markdown",
   "metadata": {
    "colab_type": "text",
    "id": "GJBs_flRovLc"
   },
   "source": [
    "## <strong>Tri insertion</strong>\n",
    "\n"
   ]
  },
  {
   "cell_type": "code",
   "execution_count": 1,
   "metadata": {
    "colab": {
     "base_uri": "https://localhost:8080/",
     "height": 336
    },
    "colab_type": "code",
    "id": "gJr_9dXGpJ05",
    "outputId": "d2b18238-1a61-41c3-d978-92342b57a60b"
   },
   "outputs": [
    {
     "data": {
      "text/html": [
       "<iframe width=\"560\" height=\"315\" src=\"https://www.youtube.com/embed/ROalU379l3U\" frameborder=\"0\" allow=\"accelerometer; autoplay; encrypted-media; gyroscope; picture-in-picture\" allowfullscreen></iframe>\n"
      ],
      "text/plain": [
       "<IPython.core.display.HTML object>"
      ]
     },
     "metadata": {},
     "output_type": "display_data"
    }
   ],
   "source": [
    "%%html\n",
    "<iframe width=\"560\" height=\"315\" src=\"https://www.youtube.com/embed/ROalU379l3U\" frameborder=\"0\" allow=\"accelerometer; autoplay; encrypted-media; gyroscope; picture-in-picture\" allowfullscreen></iframe>"
   ]
  },
  {
   "cell_type": "markdown",
   "metadata": {
    "colab_type": "text",
    "id": "2fhs6GZ4qFMx"
   },
   "source": [
    "Exercice 1: double cliquer dans la cellule et complétez:\n",
    "_________________________\n",
    "\n",
    "Compléter le texte.Au début on compare le ..... et le ..... en les ....................... si ..........................Puis on compare le ...... avec le ...... en les échangeant si c’est nécessaire, si l’échange aeu lieu on compare le ...... avec le ...... en les échangeant si nécessaireEt ainsi de suite.Au bout d’un certain ’temps’ on considère lekèmeélément de la liste, il faut le compareret l’échanger avec ses prédécesseurs tant qu’..............................................................................."
   ]
  },
  {
   "cell_type": "markdown",
   "metadata": {
    "colab_type": "text",
    "id": "dQ2s3_3WXBqN"
   },
   "source": [
    "Algorithme en langage pseudo-naturel:\n",
    "_____________________________________________________________________\n",
    "\n",
    "fonction tri_insertion(L) <br>\n",
    "Données :<br>\n",
    "L←liste d’entiers<br>\n",
    "n←taille de la liste<br>\n",
    "Pourk allant de 1 à n-1faire<br>\n",
    "    j←k<br>\n",
    "    Tant que<br>\n",
    "        j > 0 et L[j-1] > L[j]faire<br>\n",
    "            On échange L[j-1] et L[j]<br>\n",
    "            j←j−1<br>\n",
    "retourner L"
   ]
  },
  {
   "cell_type": "markdown",
   "metadata": {
    "colab_type": "text",
    "id": "3xCzL8IgX89H"
   },
   "source": [
    "Exercice 2: double-cliquez dans la cellule pour répondre<BR>\n",
    "_______\n",
    "Pourquoi : Pour k allant de 1 à n−1?\n",
    "<BR><BR><BR><BR>"
   ]
  },
  {
   "cell_type": "markdown",
   "metadata": {
    "colab_type": "text",
    "id": "xVKJJUbdYoo7"
   },
   "source": []
  },
  {
   "cell_type": "markdown",
   "metadata": {
    "colab_type": "text",
    "id": "G4Tr2DA1YaOl"
   },
   "source": [
    "Exercice 3: double cliquez dans la cellule pour répondre:\n",
    "_______\n",
    "Étudier la terminaison de cet algorithmeBoucle bornée :. . . . . . . . . . . . . . . . . . . . . . . . . . . . . . . . . . . . . . . .. . . . . . . . . . . . . . . . . . . . . . . . . . . . . . . . . . . . . . . .Boucle tant que : Variant de boucle :....... . . . . . . . . . . . . . . . . . . . . . . . . . . . . . . . . . . . . . . .. . . . . . . . . . . . . . . . . . . . . . . . . . . . . . . . . . . . . . . .. . . . . . . . . . . . . . . . . . . . . . . . . . . . . . . . . . . . . . . .. . . . . . . . . . . . . . . . . . . . . . . . . . . . . . . . . . . . . . . .. . . . . . . . . . . . . . . . . . . . . . . . . . . . . . . . . . . . . . . "
   ]
  },
  {
   "cell_type": "markdown",
   "metadata": {
    "colab_type": "text",
    "id": "eJbtWTCKXvRx"
   },
   "source": [
    "Exercice 4:\n",
    "____\n",
    "Utilisez la cellule de code ci-dessous pour tapez la fonction tri_insertion en Python"
   ]
  },
  {
   "cell_type": "code",
   "execution_count": 0,
   "metadata": {
    "colab": {},
    "colab_type": "code",
    "id": "Rf2b7fjQXufL"
   },
   "outputs": [],
   "source": []
  },
  {
   "cell_type": "markdown",
   "metadata": {
    "colab_type": "text",
    "id": "Az7jBB09YqnV"
   },
   "source": [
    "Exercice 5 : \n",
    "___\n",
    "Modifier le programme précédent, pour qu’il retourne la liste triée dans l’ordre décrois-sant."
   ]
  },
  {
   "cell_type": "code",
   "execution_count": 0,
   "metadata": {
    "colab": {},
    "colab_type": "code",
    "id": "KFAheZzsY6RZ"
   },
   "outputs": [],
   "source": []
  }
 ],
 "metadata": {
  "colab": {
   "collapsed_sections": [],
   "name": "Copie de Bienvenue dans Colaboratory",
   "provenance": []
  },
  "kernelspec": {
   "display_name": "Python 3",
   "language": "python",
   "name": "python3"
  },
  "language_info": {
   "codemirror_mode": {
    "name": "ipython",
    "version": 3
   },
   "file_extension": ".py",
   "mimetype": "text/x-python",
   "name": "python",
   "nbconvert_exporter": "python",
   "pygments_lexer": "ipython3",
   "version": "3.7.4"
  }
 },
 "nbformat": 4,
 "nbformat_minor": 1
}
