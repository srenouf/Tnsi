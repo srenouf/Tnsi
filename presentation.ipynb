{
 "cells": [
  {
   "cell_type": "code",
   "execution_count": 3,
   "metadata": {
    "hide_input": true,
    "hide_output": true,
    "init_cell": true,
    "run_control": {
     "marked": false
    }
   },
   "outputs": [
    {
     "data": {
      "application/javascript": [
       "\n",
       "function repeter(){\n",
       "IPython.notebook.kernel.execute(\"a=1\");\n",
       "}\n",
       "// execute a = 1 en python toutes les 8 minutes pendant 2h\n",
       "let timerId = setInterval(() => repeter(), 480000);\n",
       "setTimeout(() => { clearInterval(timerId); alert('fin de cession'); }, 7200000);\n",
       "\n",
       "// Supprimer la taille limite pour la sortie d'une cellule\n",
       "IPython.OutputArea.prototype._should_scroll = function(lines) {\n",
       "    return false;\n",
       "};\n",
       "IPython.notebook.kernel.execute(\"url = '\" + window.location + \"'\");\n",
       "\n",
       "// Exécuter toutes les cellule du notebook\n",
       "    require(\n",
       "        ['base/js/namespace', 'jquery'], \n",
       "        function(jupyter, $) {\n",
       "            \n",
       "                \n",
       "                jupyter.actions.call('jupyter-notebook:run-all-cells-below');\n",
       "                jupyter.actions.call('jupyter-notebook:save-notebook');\n",
       "                \n",
       "\n",
       "        }\n",
       "    );\n",
       "    window.scrollTo(0, 0);"
      ],
      "text/plain": [
       "<IPython.core.display.Javascript object>"
      ]
     },
     "execution_count": 3,
     "metadata": {},
     "output_type": "execute_result"
    }
   ],
   "source": [
    "# Permet de tout executer au lancement du notebook + conserver le notebook actif pendant 2h\n",
    "from IPython.display import Javascript\n",
    "from masquer import *\n",
    "Javascript(\"\"\"\n",
    "function repeter(){\n",
    "IPython.notebook.kernel.execute(\"a=1\");\n",
    "}\n",
    "// execute a = 1 en python toutes les 8 minutes pendant 2h\n",
    "let timerId = setInterval(() => repeter(), 480000);\n",
    "setTimeout(() => { clearInterval(timerId); alert('fin de cession'); }, 7200000);\n",
    "\n",
    "// Supprimer la taille limite pour la sortie d'une cellule\n",
    "IPython.OutputArea.prototype._should_scroll = function(lines) {\n",
    "    return false;\n",
    "};\n",
    "IPython.notebook.kernel.execute(\"url = '\" + window.location + \"'\");\n",
    "\n",
    "// Exécuter toutes les cellule du notebook\n",
    "    require(\n",
    "        ['base/js/namespace', 'jquery'], \n",
    "        function(jupyter, $) {\n",
    "            \n",
    "                \n",
    "                jupyter.actions.call('jupyter-notebook:run-all-cells-below');\n",
    "                jupyter.actions.call('jupyter-notebook:save-notebook');\n",
    "                \n",
    "\n",
    "        }\n",
    "    );\n",
    "    window.scrollTo(0, 0);\"\"\")"
   ]
  },
  {
   "cell_type": "markdown",
   "metadata": {
    "slideshow": {
     "slide_type": "slide"
    }
   },
   "source": [
    "<h1 style=\"text-align:center;\"> <a name=\"titre\"></a>Formation Jupyter</h1>"
   ]
  },
  {
   "cell_type": "markdown",
   "metadata": {
    "slideshow": {
     "slide_type": "subslide"
    }
   },
   "source": [
    "<center>Cette formation n'a pas vocation à vous apprendre à programmer en python. Le but est de découvrir et de configurer un environnement Jupyter afin de pouvoir l'utiliser avec les élèves en présence ou à distance.  \n",
    "Si vous rencontrez des difficultés pendant la formation, vous pouvez:</center>\n",
    "\n",
    "1. sauvegarder votre notebook\n",
    "2. envoyer le lien ci-dessus qui me permettra de rentrer sur votre serveur virtuel, de voir votre notebook, de le commenter et de le modifier\n",
    "3. rafraichir la page afin de voir les modifications\n",
    "\n"
   ]
  },
  {
   "cell_type": "markdown",
   "metadata": {
    "slideshow": {
     "slide_type": "slide"
    }
   },
   "source": [
    "## SOMMAIRE"
   ]
  },
  {
   "cell_type": "markdown",
   "metadata": {},
   "source": [
    "[I. L'environnement sur github](#partie1)\n",
    "\n",
    "<span style=\"margin-left:2em;\">[I.1. Reproduire l'environnement](#partie1.1)</span>\n",
    "\n",
    "<span style=\"margin-left:2em;\">[I.2. Obtenir les liens de partage](#partie1.2)</span>\n",
    "\n",
    "<span style=\"margin-left:2em;\">[I.3. Mises à jour et personnalisation](#partie1.3)</span>\n",
    "\n",
    "\n",
    "[II. Jupyter](#partie2)\n",
    "\n",
    "<span style=\"margin-left:2em;\">[II.1. Utilisation de l'environnement de programmation](#partie2.1)</span>\n",
    "\n",
    "<span style=\"margin-left:2em;\">[II.2. Les cellules de code](#partie2.2)</span>\n",
    "\n",
    "<span style=\"margin-left:2em;\">[II.3. Les cellules markdown](#partie2.3)</span>\n",
    "\n",
    "<span style=\"margin-left:2em;\">[II.4. Mise ne forme avancée](#partie2.4)</span>\n",
    "\n",
    "[III. Exports et utilisations](#partie3)\n",
    "\n",
    "<span style=\"margin-left:2em;\">[III.1. Exemples d'utilisations](#partie3.1)</span>\n",
    "\n",
    "<span style=\"margin-left:2em;\">[III.2. Quelques extensions utiles](#partie3.2)</span>\n",
    "\n",
    "[IV. Petites recettes](#partie4)"
   ]
  },
  {
   "cell_type": "markdown",
   "metadata": {
    "slideshow": {
     "slide_type": "slide"
    }
   },
   "source": [
    "## <a name=\"partie1\"></a> I. L'environnement sur github "
   ]
  },
  {
   "cell_type": "markdown",
   "metadata": {},
   "source": [
    "### <span style=\"margin-left:2em;\"><a name=\"partie1.1\"></a>I.1 Reproduire l'environnement</span>"
   ]
  },
  {
   "cell_type": "markdown",
   "metadata": {},
   "source": [
    "Il vous faut un espace GITHUB pour pouvoir récupérer l'ensemble des fichiers, les modifier puis fabriquer vos propres serveurs virtuels. La première étape est donc de s'inscrire sur [www.github.com](https://www.github.com)"
   ]
  },
  {
   "cell_type": "markdown",
   "metadata": {},
   "source": [
    "Il faut ensuite aller sur mon dépôt lié à cette formation. Pour info le nom d'utilisateur est **jcamponovo** et il s'agit du dépôt **NSIterm**.  \n",
    "On y accède donc directement avec https://www.github.com/jcamponovo/NSIterm"
   ]
  },
  {
   "cell_type": "markdown",
   "metadata": {},
   "source": [
    "Pour copier l'environnement, il suffit de cliquer sur le bouton \"fork\" dans la barre d'outils puis de se connecter à son compte github (si vous n'êtes pas déjà identifié).\n",
    "\n",
    "\n",
    "![copie d'écran espace github](img/fork.png)"
   ]
  },
  {
   "cell_type": "markdown",
   "metadata": {},
   "source": [
    "Bravo, vous venez de cloner le dépôt github, vous disposez donc d'un environnement Jupyter complètement configuré et prêt à fonctionner en ligne."
   ]
  },
  {
   "cell_type": "markdown",
   "metadata": {},
   "source": [
    "#### [Retour](#titre)"
   ]
  },
  {
   "cell_type": "markdown",
   "metadata": {},
   "source": [
    "### <span style=\"margin-left:2em;\"><a name=\"partie1.2\"></a>I.2 Obtenir les liens de partage</span>"
   ]
  },
  {
   "cell_type": "markdown",
   "metadata": {},
   "source": [
    "Pour obtenir le lien de partage de votre nouvel espace, vous pouvez aller sur https://mybinder.org/ ou faire directement la manipulation ci-dessous. Il suffit de compléter le formulaire proposé:\n",
    "* entrer le nom du dépôt qui est de la forme <nom d'utilisateur>/<nom du dépôt> par exemple dans mon cas il s'agit de **jcamponovo/NSIterm**, dans votre cas il faudra remplacer jcamponovo par votre nom d'utilisateur.\n",
    "* la branche est inutile (ici c'est master et il n'y en n'a qu'une seule)\n",
    "* entrer le nom du notebook vers lequel vous voulez que le lien pointe par exemple **refraction2.ipynb**\n",
    "* votre lien est disponible tout en bas avec une icone permettant de le copier."
   ]
  },
  {
   "cell_type": "code",
   "execution_count": 4,
   "metadata": {
    "hide_input": true,
    "hide_output": false,
    "run_control": {
     "marked": false
    }
   },
   "outputs": [
    {
     "data": {
      "text/html": [
       "\n",
       "        <iframe\n",
       "            width=\"900\"\n",
       "            height=\"1100\"\n",
       "            src=\"https://mybinder.org\"\n",
       "            frameborder=\"0\"\n",
       "            allowfullscreen\n",
       "        ></iframe>\n",
       "        "
      ],
      "text/plain": [
       "<IPython.lib.display.IFrame at 0x7fcc384dd310>"
      ]
     },
     "execution_count": 4,
     "metadata": {},
     "output_type": "execute_result"
    }
   ],
   "source": [
    "from IPython.display import IFrame\n",
    "IFrame(src=\"https://mybinder.org\", width = 900, height=1100)"
   ]
  },
  {
   "cell_type": "markdown",
   "metadata": {},
   "source": [
    "Les liens mybinder sont toujours conçus de la même façon:\n",
    "\n",
    "* ils démarrent par **https://mybinder.org/v2/gh/** \n",
    "* suivi du nom d'utilisateur, du nom du dépot et de la branche. Pour moi cela donne **jcamponovo/NSIterm/master**. \n",
    "* Enfin de manière facultative vous pouvez passer d'autres options comme le nom d'un fichier à lancer directement ou la forme appliweb à utiliser. Par exemple ici **?filepath=refraction2.ipynb** pour lancer le notebook refraction2.ipynb au clic du lien, ou **?urlpath=apps/environnement.ipynb** pour lancer le fichier environnement.ipynb directement en mode appli web.\n",
    "\n",
    "\n",
    "Vous avez ainsi mes deux liens de démonstration **https://mybinder.org/v2/gh/jcamponovo/NSIterm/master?filepath=refraction2.ipynb** et **https://mybinder.org/v2/gh/jcamponovo/NSIterm/master?urlpath=apps/environnement.ipynb** que vous pouvez adapter à votre propre espace en changeant uniquement le nom d'utilisateur."
   ]
  },
  {
   "cell_type": "markdown",
   "metadata": {},
   "source": [
    "#### Exercice :\n",
    "Construire le lien vers le fichier **refraction2.ipynb** de **votre espace** directement en mode **appli web**. Testez le lien obtenu."
   ]
  },
  {
   "cell_type": "markdown",
   "metadata": {},
   "source": [
    "#### [Retour](#titre)"
   ]
  },
  {
   "cell_type": "markdown",
   "metadata": {},
   "source": [
    "### <span style=\"margin-left:2em;\"><a name=\"partie1.3\"></a>I.3 Mise à jour et personnalisation</span>"
   ]
  },
  {
   "cell_type": "markdown",
   "metadata": {},
   "source": [
    "#### I.3.a Premiere personnalisation"
   ]
  },
  {
   "cell_type": "markdown",
   "metadata": {},
   "source": [
    "Mon dépôt github a été cloné à l'identique ce qui signifie que le fichier **README.md** de votre dépôt contient encore les liens vers mon dépôt. C'est la première chose à changer. \n",
    "1. Aller sur votre espace github dans le dépot formation 2020\n",
    "1. Dans la liste des fichiers cliquer sur **README.md**\n",
    "1. Cliquer sur le bouton en forme de crayon afin d'éditer le fichier\n",
    "1. Corriger les liens vers les différents documents (modifier la partie sélectionnée dans l'image ci-dessous afin qu'ils pointent vers votre espace).\n",
    "\n",
    "\n",
    "![copie d ecran readme.md](img/readme.png)"
   ]
  },
  {
   "cell_type": "markdown",
   "metadata": {},
   "source": [
    "#### I.3.b. **Mise à jour**"
   ]
  },
  {
   "cell_type": "markdown",
   "metadata": {},
   "source": [
    "Voici maintenant la procédure permettant de mettre à jour votre espace en intégrant les modifications qui ont pu être faites dans l'espace maître. Cette manipulation vous permet également d'intégrer les modifications ou ajouts des autres personnes ayant un fork du dépôt. Vos propres ajouts sont conservés et disponibles pour les autres car les documents sont publics tel que l'espace est configuré et partagés avec licence libre (car le dépôt maitre est partagé avec ce type de licence."
   ]
  },
  {
   "cell_type": "markdown",
   "metadata": {},
   "source": [
    "**1.** Cliquer sur \"compare\"\n",
    "\n",
    "![copie d'ecran syncronisation](img/forksync1.png)\n",
    "\n",
    "\n",
    "\n",
    "**2.** Dans les menus deroulants, choisir le \"head repository\" de chaque côté. La recherche de mise à jour se fera pour copier ce qui est nouveau dans le dépôt à la base de la flèche vers celui au bout de la flèche. Si vous voulez mettre à jour votre dépôt en ajoutant les modifcations que j'ai pu faire sur le miens, il faut mettre le miens à la base de la flèche et le votre au bout.  \n",
    "\n",
    "\n",
    "**Rq (intermediaire):** Vous disposez dans le menu déroulant de tous les forks de mon dépôt. Vous pouvez donc récupérer les nouveautés proposées par l'ensemble de la communauté.  \n",
    "\n",
    "\n",
    "**Rq2 (avancé):** Vous pouvez voir les modifications qui ont été portées à un dépôt (ajout suppression de fichiers) et même les modifications apportées aux fichiers si elles sont peu importantes\n",
    "\n",
    "\n",
    "**3.** Cliquer sur \"create pull request\". C'est le mécanisme de github pour proposer ou accepter des modifications.\n",
    "\n",
    "![copie d'ecran syncronisation](img/forksync2.png)\n",
    "\n",
    "**4.** Cliquer a nouveau sur \"create pull request\". \n",
    "\n",
    "\n",
    "![copie d'ecran syncronisation](img/forksync3.png)\n",
    "\n",
    "**5.** Cliquer enfin sur \"merge pull request\" \n",
    "\n",
    "\n",
    "![copie d'ecran syncronisation](img/forksync4.png)\n",
    "\n",
    "**6.** Confirmer la mise à jour en cliquant sur \"confirm merge\" \n",
    "\n",
    "\n",
    "![copie d'ecran syncronisation](img/forksync5.png)\n",
    "\n",
    "Bravo, vous venez de mettre à jour votre environnement avec les nouveaux fichiers proposés. "
   ]
  },
  {
   "cell_type": "markdown",
   "metadata": {
    "heading_collapsed": true
   },
   "source": [
    "##### **Rq (avancé):** "
   ]
  },
  {
   "cell_type": "markdown",
   "metadata": {
    "hidden": true
   },
   "source": [
    "Si vous avez écrit des fichiers intéressants, corrigé certains bugs ou améliorer des fichiers, vous pouvez proposer un \"pull request\" vers un dépôt qui n'est pas le votre (dépôt maitre par exemple) afin de partager vos améliorations avec le plus grand nombre. Il appartient au propriétaire du dépôt d'arrivée d'accepter ou non les modifications proposées."
   ]
  },
  {
   "cell_type": "markdown",
   "metadata": {
    "heading_collapsed": true
   },
   "source": [
    "##### **Rq2 (intermediaire):** "
   ]
  },
  {
   "cell_type": "markdown",
   "metadata": {
    "hidden": true
   },
   "source": [
    "Ce mécanisme de \"fork\" et de mise à jour à partir d'un dépôt maitre peut être mis à profit à l'échelle d'un établissement pour partager des cours au sein d'un niveau ou une série de TP par exemple. Chacun a son fork qu'il peut modifier à loisir à partir d'un ensemble commun et ses modifications sont disponibles pour les autres sans que l'on n'ai rien à faire. Un proposition d'un nouveau document ou d'un nouveau TP peut se faire par un \"pull request\" vers le dépôt maitre."
   ]
  },
  {
   "cell_type": "markdown",
   "metadata": {
    "heading_collapsed": true
   },
   "source": [
    "##### **Rq3 (intermédiaire):**  "
   ]
  },
  {
   "cell_type": "markdown",
   "metadata": {
    "hidden": true
   },
   "source": [
    "Si besoin, je suis prêt à maintenir un dépôt académique de partage de documents sur le même modèle (TP par exemple) sur lequel tout le monde pourra s'appuyer et dans lequel tout le monde pourra piocher."
   ]
  },
  {
   "cell_type": "markdown",
   "metadata": {
    "heading_collapsed": true
   },
   "source": [
    "#### I.3.c. (intermédiaire) Modifier les bibliothèques python disponibles dans votre espace"
   ]
  },
  {
   "cell_type": "markdown",
   "metadata": {
    "hidden": true
   },
   "source": [
    "* Dans votre dépôt github, cliquez sur le fichier **\"requirements.txt\"**\n",
    "\n",
    "![copie d'écran dépot github](img/depot.png)\n",
    "\n",
    "\n",
    "* Cliquez ensuite sur l'outil en forme de crayon pour pouvoir l'éditer.\n",
    "* Il suffit d'inscrire ici les bibliothèques python à installer à la création du serveur virtuel en respectant une bibliothèque par ligne. \n",
    "* Cliquez sur \"commit changes\" et c'est fait, vous avez de nouvelles bibliothèques python disponibles dans votre espace!\n",
    "\n",
    "**Rq:** Attention, lorsque la première personne lancera votre environnement après modification, une image système sera reconstruite automatiquement, cela prend donc un peu de temps. Les lancements suivants seront bien plus rapides. Le mieux est donc de lancer votre environnement une fois, tout de suite après avoir effectué une modification."
   ]
  },
  {
   "cell_type": "markdown",
   "metadata": {
    "heading_collapsed": true
   },
   "source": [
    "#### I.3.d. (avancé) Modifier les paquets installés lors de la création du serveur virtuel ubuntu"
   ]
  },
  {
   "cell_type": "markdown",
   "metadata": {
    "hidden": true
   },
   "source": [
    "Cette partie est une parenthèse qui s'adresse plutôt aux enseignants de NSI. Dans votre dépot, est présent un fichier **apt.txt**. Il comporte le nom d'un paquet par ligne qui seront installés avec apt-get à la création du serveur virtuel. Ainsi, si vous avez besoin de commandes linux particulières, vous pouvez les installer par ce mécanisme."
   ]
  },
  {
   "cell_type": "markdown",
   "metadata": {
    "heading_collapsed": true
   },
   "source": [
    "### [Retour](#titre)"
   ]
  },
  {
   "cell_type": "markdown",
   "metadata": {
    "slideshow": {
     "slide_type": "slide"
    }
   },
   "source": [
    "## <a name=\"partie2\"></a>II. Jupyter"
   ]
  },
  {
   "cell_type": "markdown",
   "metadata": {},
   "source": [
    "Attention, cette partie n'a pas pour but de vous apprendre à programmer en python mais de découvrir l'environnement Jupyter afin de créer des documents interactifs contenant éventuellement du code"
   ]
  },
  {
   "cell_type": "markdown",
   "metadata": {},
   "source": [
    "### <span style=\"margin-left:2em;\"><a name=\"partie2.1\"></a> II.1. Utilisation de l'environnement de programmation</span>"
   ]
  },
  {
   "cell_type": "markdown",
   "metadata": {},
   "source": [
    "#### II.1.a. Durée d'utilisation du serveur "
   ]
  },
  {
   "cell_type": "markdown",
   "metadata": {},
   "source": [
    "Un serveur lancé avec **mybinder.org** a actuellement une durée de vie de 10 minutes. Cela parait peu, mais il s'agit de la durée de vie maximale entre deux utilisation de l'interpréteur python et est largement assez long si on travaille sur de petites activités contenant du code. En effet, toute cellule de code exécutée remet à zéro ce timer et permet de conserver le serveur actif aussi longtemps que l'on veut.  \n",
    "\n",
    "\n",
    "Pour éviter les problèmes et permettre une utilisation confortable même comme un simple document interactif, sujet de TP sans code etc..., j'ai ajouté une cellule cachée en haut de ce document qui exécute un petit bout de code python toutes les 5 minutes pendant 2h. Ce bout de code est aussi présent dans la première cellule de **environnement.ipynb**. Ainsi, en laissant la page **environnement.ipynb** ouverte, vous obtenez un serveur actif pendant au moins 2h sans avoir à faire quoi que ce soit d'autre."
   ]
  },
  {
   "cell_type": "markdown",
   "metadata": {
    "heading_collapsed": true
   },
   "source": [
    "##### **Rq (avancé):** "
   ]
  },
  {
   "cell_type": "markdown",
   "metadata": {
    "hidden": true
   },
   "source": [
    "Cette durée est modifiable en travaillant le petit bout de code javascript présent dans la première cellule de ce notebook."
   ]
  },
  {
   "cell_type": "markdown",
   "metadata": {},
   "source": [
    "#### II.1.b. Utilisation de environnement.ipynb"
   ]
  },
  {
   "cell_type": "markdown",
   "metadata": {},
   "source": [
    "Ce document est conçu pour être lancé sous forme d'appli web avec un lien du type: https://mybinder.org/v2/gh/jcamponovo/NSIterm/master?urlpath=apps/environnement.ipynb adapté à votre espace."
   ]
  },
  {
   "cell_type": "markdown",
   "metadata": {},
   "source": [
    "Utilisez votre lien afin de lancer l'environnement. Vous devriez obtenir une interface comportant un **menu déroulant, et trois boutons**.  \n",
    "\n",
    "![](img/environnement.png)\n",
    "\n",
    "* Le menu déroulant **ouvrir** permet d'ouvrir un notebook présent sur le dépot\n",
    "* le bouton **nouveau** permet de créer un nouveau notebook vide\n",
    "* le bouton **charger** qui vous permet d'envoyer un notebook vers l'environnement et de l'ouvrir\n",
    "* le bouton **terminal** qui vous ouvre un terminal linux (qui ne sera utile que pour les enseignants de NSI)"
   ]
  },
  {
   "cell_type": "markdown",
   "metadata": {
    "heading_collapsed": true
   },
   "source": [
    "##### Rq (intermédiaire):"
   ]
  },
  {
   "cell_type": "markdown",
   "metadata": {
    "hidden": true
   },
   "source": [
    "Il est possible de prévoir une mise en forme pour les nouveaux documents. Il faut pour cela customiser le fichier **new.ipynb** présent sur le dépôt qui est copié lors de la création d'un nouveau document. Il sert de fichier modèle."
   ]
  },
  {
   "cell_type": "markdown",
   "metadata": {},
   "source": [
    "##### Exercice :"
   ]
  },
  {
   "cell_type": "markdown",
   "metadata": {},
   "source": [
    "Utiliser l'environement Jupyter mis en place afin de:\n",
    "* créer un nouveau notebook vide avec le bouton **nouveau**\n",
    "* ouvrir un notebook en le sélectionnant dans le **menu déroulant ouvrir**.\n",
    "* Le télécharger sur votre ordinateur avec el bouton **download** puis utiliser le bouton **charger** afin de le renvoyer vers la plateforme pour le modifier."
   ]
  },
  {
   "cell_type": "markdown",
   "metadata": {},
   "source": [
    "#### II.1.c. Différents types de cellules"
   ]
  },
  {
   "cell_type": "markdown",
   "metadata": {},
   "source": [
    "Les notebooks Jupyter proposent différents types de cellules. Nous utiliseront uniquement les cellules de **\"code\"** et les cellules **\"markdown\"** permettant d'insérer du texte, des consignes etc..."
   ]
  },
  {
   "cell_type": "markdown",
   "metadata": {},
   "source": [
    "#### II.1.d. Les boutons de la barre d'outils"
   ]
  },
  {
   "cell_type": "markdown",
   "metadata": {},
   "source": [
    "L'environnement configuré ici, comporte beaucoup d'extensions (je n'ai sélectionné que celles qui me paraissaient le plus utile) car il sera plus facile pour vous de désactiver celles qui ne vous intéressent pas plutôt que d'en installer de nouvelles. La barre d'outils comporte donc beaucoup de boutons.  \n",
    "\n",
    "\n",
    "Les boutons essentiels sont:\n",
    "\n",
    "\n",
    "\n",
    "| Bouton | Action |\n",
    "| :----: | :----: |\n",
    "| ![](img/disquette.png) | **la disquette** (ou **CTRL + s**) qui permet de sauver un notebook |\n",
    "| ![](img/plus.png) | **le plus** qui permet de créer une nouvelle cellule |\n",
    "| ![](img/ciseaux.png) | **les ciseaux** pour supprimer une cellule |\n",
    "| ![](img/fleches.png) | **Les flèches** vers le haut et vers le bas qui permettent de déplacer la cellule sélectionnée |\n",
    "| ![](img/executer.png) | **Exécuter** (ou **CTRL + Enter**) qui exécute la cellule sélectionnée |\n",
    "| ![](img/carre.png) | **Le carré** qui interromp le noyau python |\n",
    "| ![](img/fleche_tourne.png) | **La flèche circulaire** qui redémarre le noyau python (à ne pas vonfondre avec celle du navigateur!) |\n",
    "| ![](img/menuderoulant.png) | **Le menu déroulant** pour choisir le type de cellule |\n",
    "| ![](img/download.png) | **Download** afin de télécharger votre document |"
   ]
  },
  {
   "cell_type": "markdown",
   "metadata": {},
   "source": [
    "#### II.1.e. Utilisation des cellules"
   ]
  },
  {
   "cell_type": "markdown",
   "metadata": {},
   "source": [
    "On crée les cellules avec le bouton **plus** puis on sélectionne le type dans le **menu déroulant**.  \n",
    "\n",
    "\n",
    "On édite les cellules de code par un **simple clic** puis on exécute le code avec la combinaison de touches **CTRL + Enter** ou **Exécuter** ou le bouton **triangle** à gauche de la cellule lorsqu'il est visible. Lorsqu'une cellule de code est en cours d'exécution, le numéro de l'entrée est remplacée par une étoile **Entrée [*]:**. Si cet état dure trop longtemps, c'ets probablement que le noyau python a planté. Vous devez alors le redémarrer avec le bouton en forme de **flèche qui tourne de la barre d'outils Jupyter (pas celle du navigateur)** puis réexécuter toutes les cellules nécessaires (vous ne perdez pas vos modifications).\n",
    "\n",
    "\n",
    "On édite les cellules markdown par un **double clic** puis on exécute avec la combinaison de touches **CTRL + Enter** ou **Exécuter** ou le bouton **triangle** à gauche de la cellule lorsqu'il est visible.  \n",
    "\n",
    "On déplace enfin lorsque c'est nécessaire les cellules avec les boutons **flèche haut** et **flèche bas**"
   ]
  },
  {
   "cell_type": "markdown",
   "metadata": {},
   "source": [
    "##### Exercice :"
   ]
  },
  {
   "cell_type": "markdown",
   "metadata": {},
   "source": [
    "Modifier [ce notebook](exercice1.ipynb) en utilisant les outils présentés précédemment afin qu'il ressemble au document ci-dessous:"
   ]
  },
  {
   "cell_type": "code",
   "execution_count": 5,
   "metadata": {
    "hide_input": true,
    "run_control": {
     "marked": false
    },
    "scrolled": true
   },
   "outputs": [
    {
     "data": {
      "text/html": [
       "\n",
       "        <iframe\n",
       "            width=\"900\"\n",
       "            height=\"700\"\n",
       "            src=\"../tree/exercice1_solution.html\"\n",
       "            frameborder=\"0\"\n",
       "            allowfullscreen\n",
       "        ></iframe>\n",
       "        "
      ],
      "text/plain": [
       "<IPython.lib.display.IFrame at 0x7fcc384f1410>"
      ]
     },
     "execution_count": 5,
     "metadata": {},
     "output_type": "execute_result"
    }
   ],
   "source": [
    "from IPython.display import IFrame\n",
    "IFrame(src=\"../tree/exercice1_solution.html\", width=900, height=700)"
   ]
  },
  {
   "cell_type": "markdown",
   "metadata": {},
   "source": [
    "#### II.1.f. Télécharger son document"
   ]
  },
  {
   "cell_type": "markdown",
   "metadata": {},
   "source": [
    "Vous pouvez sauver votre notebook en cliquant sur l'icone en forme de **disquette** de la barre d'outils ou avec le raccourci clavier **CTRL + s**.  \n",
    "Si vous souhaitez modifier le nom du fichier, il faut utiliser File => Save as puis entrer le nom souhaité ou cliquer sur son nom en haut à gauche à côté du **logo Jupyter**.  \n",
    "\n",
    "Vous pouvez ensuite télécharger le document sous différents formats, avec le menu **File => Download as**  \n",
    "\n",
    "\n",
    "Je vous conseille d'utiliser le format **.html** lorsque vous ne souhaitez plus éditer le document. Ce format ne pose aucun problème de compatibilité, s'ouvre sur tous les sytèmes d'exploitation simplement avec un navigateur internet et a pour intérêt de garder la mise en forme du notebook (on a des modifications lors de l'export en pdf).  \n",
    "\n",
    "\n",
    "Si vous souhaitez pouvoir éditer à nouveau votre document, utilisez le format **.ipynb** qui est le format notebook jupyter.  \n",
    "\n",
    "\n",
    "Dans une moindre mesure, vous avez la possibilité avec l'environnement proposé de télécharger le document comme un pdf. Ce format n'aura pas d'intérêt à mon sens par rapport au html précédent et la mise en forme du notebook n'est pas toujours conservée. \n",
    "Le format slides.html permet de télécharger votre notebook sous forme de présentation (type powerpoint) mais les faire tourner en ligne directement depuis l'environnement (section III) permet d'avoir une meilleure mise en forme, un tableau blanc et de conserver l'interactivité d'où le manque d'intérêt de ce format."
   ]
  },
  {
   "cell_type": "markdown",
   "metadata": {
    "run_control": {
     "marked": false
    }
   },
   "source": [
    "##### Exercice :"
   ]
  },
  {
   "cell_type": "markdown",
   "metadata": {},
   "source": [
    "En utilisant l'environnement proposé, ouvrir **exploitation.ipynb** (menu déroulant), le renseigner avec vos nom et prénom puis téléchargez le sous format **html**.  \n",
    "Ouvrir alors le fichier obtenu avec votre navigateur habituel."
   ]
  },
  {
   "cell_type": "markdown",
   "metadata": {},
   "source": [
    "##### [Retour](#titre)"
   ]
  },
  {
   "cell_type": "markdown",
   "metadata": {
    "slideshow": {
     "slide_type": "slide"
    }
   },
   "source": [
    "### <span style=\"margin-left:2em;\"><a name=\"partie2.2\"></a> II.2. Cellules de code </span>"
   ]
  },
  {
   "cell_type": "markdown",
   "metadata": {},
   "source": [
    "Les cellules de code sont faites pour contenir du code python3.  \n",
    "Elles sont exécutées une par une avec affichage des sorties. Cependant, toutes les variables et informations stockées le sont pour l'ensemble des cellules tant que l'interpréteur n'a pas été relancé.\n",
    "\n",
    "**Exemple :** Compléter puis exécuter les cellules ci-dessous"
   ]
  },
  {
   "cell_type": "code",
   "execution_count": 6,
   "metadata": {
    "run_control": {
     "marked": false
    }
   },
   "outputs": [],
   "source": [
    "# Voici un import de bibliothèques\n",
    "import matplotlib.pyplot as plt"
   ]
  },
  {
   "cell_type": "code",
   "execution_count": 7,
   "metadata": {
    "run_control": {
     "marked": false
    }
   },
   "outputs": [],
   "source": [
    "# Mise en mémoire des conditions initiales (cellule à modifier par les élèves)\n",
    "t = [0]\n",
    "h = 0 # (en m) A modifier puis exécuter cette cellule et la suivante\n",
    "Y = [h]\n",
    "X = [0]\n",
    "dt = 0.01 #s \n",
    "g = 9.81"
   ]
  },
  {
   "cell_type": "code",
   "execution_count": 8,
   "metadata": {
    "cell_style": "center",
    "run_control": {
     "marked": false
    }
   },
   "outputs": [
    {
     "data": {
      "image/png": "[encoded data removed]",
      "text/plain": [
       "<Figure size 432x288 with 2 Axes>"
      ]
     },
     "metadata": {
      "needs_background": "light"
     },
     "output_type": "display_data"
    }
   ],
   "source": [
    "# tracé des équations horaires du mouvement\n",
    "while Y[-1]>0:\n",
    "    t.append(t[-1]+dt)\n",
    "    Y.append(Y[0]-0.5*g*t[-1]**2)\n",
    "    X.append(0)\n",
    "plt.subplot(1,2,1)\n",
    "plt.plot(t,Y,\"+\")\n",
    "plt.title(\"Y = f(t)\")\n",
    "plt.subplot(1,2,2)\n",
    "plt.plot(t,X,\"+\")\n",
    "plt.title(\"X = f(t)\")\n",
    "plt.show()"
   ]
  },
  {
   "cell_type": "code",
   "execution_count": 9,
   "metadata": {
    "run_control": {
     "marked": false
    }
   },
   "outputs": [
    {
     "data": {
      "image/png": "[encoded data removed]",
      "text/plain": [
       "<Figure size 432x288 with 1 Axes>"
      ]
     },
     "metadata": {
      "needs_background": "light"
     },
     "output_type": "display_data"
    }
   ],
   "source": [
    "# tracé de la trajectoire\n",
    "plt.plot(X,Y,\"+\")\n",
    "plt.show()"
   ]
  },
  {
   "cell_type": "markdown",
   "metadata": {
    "heading_collapsed": true
   },
   "source": [
    "##### Rq (intermédiaire)"
   ]
  },
  {
   "cell_type": "markdown",
   "metadata": {
    "hidden": true
   },
   "source": [
    "Il est possible d'obtenir une interface interactive de matplotlib ou sous forme d'image fixe au choix en utilisant\n",
    "%matplotlib notebook ou %matplotlib inline en début de notebook dans une cellule de code. La version interactive est intéressante mais nécessite de créer des figures avec un nom différent pour chacune. Exécutez la cellule ci-dessous pour voir."
   ]
  },
  {
   "cell_type": "code",
   "execution_count": 10,
   "metadata": {
    "hidden": true,
    "run_control": {
     "marked": false
    }
   },
   "outputs": [
    {
     "data": {
      "application/javascript": [
       "/* Put everything inside the global mpl namespace */\n",
       "/* global mpl */\n",
       "window.mpl = {};\n",
       "\n",
       "mpl.get_websocket_type = function () {\n",
       "    if (typeof WebSocket !== 'undefined') {\n",
       "        return WebSocket;\n",
       "    } else if (typeof MozWebSocket !== 'undefined') {\n",
       "        return MozWebSocket;\n",
       "    } else {\n",
       "        alert(\n",
       "            'Your browser does not have WebSocket support. ' +\n",
       "                'Please try Chrome, Safari or Firefox ≥ 6. ' +\n",
       "                'Firefox 4 and 5 are also supported but you ' +\n",
       "                'have to enable WebSockets in about:config.'\n",
       "        );\n",
       "    }\n",
       "};\n",
       "\n",
       "mpl.figure = function (figure_id, websocket, ondownload, parent_element) {\n",
       "    this.id = figure_id;\n",
       "\n",
       "    this.ws = websocket;\n",
       "\n",
       "    this.supports_binary = this.ws.binaryType !== undefined;\n",
       "\n",
       "    if (!this.supports_binary) {\n",
       "        var warnings = document.getElementById('mpl-warnings');\n",
       "        if (warnings) {\n",
       "            warnings.style.display = 'block';\n",
       "            warnings.textContent =\n",
       "                'This browser does not support binary websocket messages. ' +\n",
       "                'Performance may be slow.';\n",
       "        }\n",
       "    }\n",
       "\n",
       "    this.imageObj = new Image();\n",
       "\n",
       "    this.context = undefined;\n",
       "    this.message = undefined;\n",
       "    this.canvas = undefined;\n",
       "    this.rubberband_canvas = undefined;\n",
       "    this.rubberband_context = undefined;\n",
       "    this.format_dropdown = undefined;\n",
       "\n",
       "    this.image_mode = 'full';\n",
       "\n",
       "    this.root = document.createElement('div');\n",
       "    this.root.setAttribute('style', 'display: inline-block');\n",
       "    this._root_extra_style(this.root);\n",
       "\n",
       "    parent_element.appendChild(this.root);\n",
       "\n",
       "    this._init_header(this);\n",
       "    this._init_canvas(this);\n",
       "    this._init_toolbar(this);\n",
       "\n",
       "    var fig = this;\n",
       "\n",
       "    this.waiting = false;\n",
       "\n",
       "    this.ws.onopen = function () {\n",
       "        fig.send_message('supports_binary', { value: fig.supports_binary });\n",
       "        fig.send_message('send_image_mode', {});\n",
       "        if (fig.ratio !== 1) {\n",
       "            fig.send_message('set_dpi_ratio', { dpi_ratio: fig.ratio });\n",
       "        }\n",
       "        fig.send_message('refresh', {});\n",
       "    };\n",
       "\n",
       "    this.imageObj.onload = function () {\n",
       "        if (fig.image_mode === 'full') {\n",
       "            // Full images could contain transparency (where diff images\n",
       "            // almost always do), so we need to clear the canvas so that\n",
       "            // there is no ghosting.\n",
       "            fig.context.clearRect(0, 0, fig.canvas.width, fig.canvas.height);\n",
       "        }\n",
       "        fig.context.drawImage(fig.imageObj, 0, 0);\n",
       "    };\n",
       "\n",
       "    this.imageObj.onunload = function () {\n",
       "        fig.ws.close();\n",
       "    };\n",
       "\n",
       "    this.ws.onmessage = this._make_on_message_function(this);\n",
       "\n",
       "    this.ondownload = ondownload;\n",
       "};\n",
       "\n",
       "mpl.figure.prototype._init_header = function () {\n",
       "    var titlebar = document.createElement('div');\n",
       "    titlebar.classList =\n",
       "        'ui-dialog-titlebar ui-widget-header ui-corner-all ui-helper-clearfix';\n",
       "    var titletext = document.createElement('div');\n",
       "    titletext.classList = 'ui-dialog-title';\n",
       "    titletext.setAttribute(\n",
       "        'style',\n",
       "        'width: 100%; text-align: center; padding: 3px;'\n",
       "    );\n",
       "    titlebar.appendChild(titletext);\n",
       "    this.root.appendChild(titlebar);\n",
       "    this.header = titletext;\n",
       "};\n",
       "\n",
       "mpl.figure.prototype._canvas_extra_style = function (_canvas_div) {};\n",
       "\n",
       "mpl.figure.prototype._root_extra_style = function (_canvas_div) {};\n",
       "\n",
       "mpl.figure.prototype._init_canvas = function () {\n",
       "    var fig = this;\n",
       "\n",
       "    var canvas_div = (this.canvas_div = document.createElement('div'));\n",
       "    canvas_div.setAttribute(\n",
       "        'style',\n",
       "        'border: 1px solid #ddd;' +\n",
       "            'box-sizing: content-box;' +\n",
       "            'clear: both;' +\n",
       "            'min-height: 1px;' +\n",
       "            'min-width: 1px;' +\n",
       "            'outline: 0;' +\n",
       "            'overflow: hidden;' +\n",
       "            'position: relative;' +\n",
       "            'resize: both;'\n",
       "    );\n",
       "\n",
       "    function on_keyboard_event_closure(name) {\n",
       "        return function (event) {\n",
       "            return fig.key_event(event, name);\n",
       "        };\n",
       "    }\n",
       "\n",
       "    canvas_div.addEventListener(\n",
       "        'keydown',\n",
       "        on_keyboard_event_closure('key_press')\n",
       "    );\n",
       "    canvas_div.addEventListener(\n",
       "        'keyup',\n",
       "        on_keyboard_event_closure('key_release')\n",
       "    );\n",
       "\n",
       "    this._canvas_extra_style(canvas_div);\n",
       "    this.root.appendChild(canvas_div);\n",
       "\n",
       "    var canvas = (this.canvas = document.createElement('canvas'));\n",
       "    canvas.classList.add('mpl-canvas');\n",
       "    canvas.setAttribute('style', 'box-sizing: content-box;');\n",
       "\n",
       "    this.context = canvas.getContext('2d');\n",
       "\n",
       "    var backingStore =\n",
       "        this.context.backingStorePixelRatio ||\n",
       "        this.context.webkitBackingStorePixelRatio ||\n",
       "        this.context.mozBackingStorePixelRatio ||\n",
       "        this.context.msBackingStorePixelRatio ||\n",
       "        this.context.oBackingStorePixelRatio ||\n",
       "        this.context.backingStorePixelRatio ||\n",
       "        1;\n",
       "\n",
       "    this.ratio = (window.devicePixelRatio || 1) / backingStore;\n",
       "    if (this.ratio !== 1) {\n",
       "        fig.send_message('set_dpi_ratio', { dpi_ratio: this.ratio });\n",
       "    }\n",
       "\n",
       "    var rubberband_canvas = (this.rubberband_canvas = document.createElement(\n",
       "        'canvas'\n",
       "    ));\n",
       "    rubberband_canvas.setAttribute(\n",
       "        'style',\n",
       "        'box-sizing: content-box; position: absolute; left: 0; top: 0; z-index: 1;'\n",
       "    );\n",
       "\n",
       "    var resizeObserver = new ResizeObserver(function (entries) {\n",
       "        var nentries = entries.length;\n",
       "        for (var i = 0; i < nentries; i++) {\n",
       "            var entry = entries[i];\n",
       "            var width, height;\n",
       "            if (entry.contentBoxSize) {\n",
       "                if (entry.contentBoxSize instanceof Array) {\n",
       "                    // Chrome 84 implements new version of spec.\n",
       "                    width = entry.contentBoxSize[0].inlineSize;\n",
       "                    height = entry.contentBoxSize[0].blockSize;\n",
       "                } else {\n",
       "                    // Firefox implements old version of spec.\n",
       "                    width = entry.contentBoxSize.inlineSize;\n",
       "                    height = entry.contentBoxSize.blockSize;\n",
       "                }\n",
       "            } else {\n",
       "                // Chrome <84 implements even older version of spec.\n",
       "                width = entry.contentRect.width;\n",
       "                height = entry.contentRect.height;\n",
       "            }\n",
       "\n",
       "            // Keep the size of the canvas and rubber band canvas in sync with\n",
       "            // the canvas container.\n",
       "            if (entry.devicePixelContentBoxSize) {\n",
       "                // Chrome 84 implements new version of spec.\n",
       "                canvas.setAttribute(\n",
       "                    'width',\n",
       "                    entry.devicePixelContentBoxSize[0].inlineSize\n",
       "                );\n",
       "                canvas.setAttribute(\n",
       "                    'height',\n",
       "                    entry.devicePixelContentBoxSize[0].blockSize\n",
       "                );\n",
       "            } else {\n",
       "                canvas.setAttribute('width', width * fig.ratio);\n",
       "                canvas.setAttribute('height', height * fig.ratio);\n",
       "            }\n",
       "            canvas.setAttribute(\n",
       "                'style',\n",
       "                'width: ' + width + 'px; height: ' + height + 'px;'\n",
       "            );\n",
       "\n",
       "            rubberband_canvas.setAttribute('width', width);\n",
       "            rubberband_canvas.setAttribute('height', height);\n",
       "\n",
       "            // And update the size in Python. We ignore the initial 0/0 size\n",
       "            // that occurs as the element is placed into the DOM, which should\n",
       "            // otherwise not happen due to the minimum size styling.\n",
       "            if (width != 0 && height != 0) {\n",
       "                fig.request_resize(width, height);\n",
       "            }\n",
       "        }\n",
       "    });\n",
       "    resizeObserver.observe(canvas_div);\n",
       "\n",
       "    function on_mouse_event_closure(name) {\n",
       "        return function (event) {\n",
       "            return fig.mouse_event(event, name);\n",
       "        };\n",
       "    }\n",
       "\n",
       "    rubberband_canvas.addEventListener(\n",
       "        'mousedown',\n",
       "        on_mouse_event_closure('button_press')\n",
       "    );\n",
       "    rubberband_canvas.addEventListener(\n",
       "        'mouseup',\n",
       "        on_mouse_event_closure('button_release')\n",
       "    );\n",
       "    // Throttle sequential mouse events to 1 every 20ms.\n",
       "    rubberband_canvas.addEventListener(\n",
       "        'mousemove',\n",
       "        on_mouse_event_closure('motion_notify')\n",
       "    );\n",
       "\n",
       "    rubberband_canvas.addEventListener(\n",
       "        'mouseenter',\n",
       "        on_mouse_event_closure('figure_enter')\n",
       "    );\n",
       "    rubberband_canvas.addEventListener(\n",
       "        'mouseleave',\n",
       "        on_mouse_event_closure('figure_leave')\n",
       "    );\n",
       "\n",
       "    canvas_div.addEventListener('wheel', function (event) {\n",
       "        if (event.deltaY < 0) {\n",
       "            event.step = 1;\n",
       "        } else {\n",
       "            event.step = -1;\n",
       "        }\n",
       "        on_mouse_event_closure('scroll')(event);\n",
       "    });\n",
       "\n",
       "    canvas_div.appendChild(canvas);\n",
       "    canvas_div.appendChild(rubberband_canvas);\n",
       "\n",
       "    this.rubberband_context = rubberband_canvas.getContext('2d');\n",
       "    this.rubberband_context.strokeStyle = '#000000';\n",
       "\n",
       "    this._resize_canvas = function (width, height, forward) {\n",
       "        if (forward) {\n",
       "            canvas_div.style.width = width + 'px';\n",
       "            canvas_div.style.height = height + 'px';\n",
       "        }\n",
       "    };\n",
       "\n",
       "    // Disable right mouse context menu.\n",
       "    this.rubberband_canvas.addEventListener('contextmenu', function (_e) {\n",
       "        event.preventDefault();\n",
       "        return false;\n",
       "    });\n",
       "\n",
       "    function set_focus() {\n",
       "        canvas.focus();\n",
       "        canvas_div.focus();\n",
       "    }\n",
       "\n",
       "    window.setTimeout(set_focus, 100);\n",
       "};\n",
       "\n",
       "mpl.figure.prototype._init_toolbar = function () {\n",
       "    var fig = this;\n",
       "\n",
       "    var toolbar = document.createElement('div');\n",
       "    toolbar.classList = 'mpl-toolbar';\n",
       "    this.root.appendChild(toolbar);\n",
       "\n",
       "    function on_click_closure(name) {\n",
       "        return function (_event) {\n",
       "            return fig.toolbar_button_onclick(name);\n",
       "        };\n",
       "    }\n",
       "\n",
       "    function on_mouseover_closure(tooltip) {\n",
       "        return function (event) {\n",
       "            if (!event.currentTarget.disabled) {\n",
       "                return fig.toolbar_button_onmouseover(tooltip);\n",
       "            }\n",
       "        };\n",
       "    }\n",
       "\n",
       "    fig.buttons = {};\n",
       "    var buttonGroup = document.createElement('div');\n",
       "    buttonGroup.classList = 'mpl-button-group';\n",
       "    for (var toolbar_ind in mpl.toolbar_items) {\n",
       "        var name = mpl.toolbar_items[toolbar_ind][0];\n",
       "        var tooltip = mpl.toolbar_items[toolbar_ind][1];\n",
       "        var image = mpl.toolbar_items[toolbar_ind][2];\n",
       "        var method_name = mpl.toolbar_items[toolbar_ind][3];\n",
       "\n",
       "        if (!name) {\n",
       "            /* Instead of a spacer, we start a new button group. */\n",
       "            if (buttonGroup.hasChildNodes()) {\n",
       "                toolbar.appendChild(buttonGroup);\n",
       "            }\n",
       "            buttonGroup = document.createElement('div');\n",
       "            buttonGroup.classList = 'mpl-button-group';\n",
       "            continue;\n",
       "        }\n",
       "\n",
       "        var button = (fig.buttons[name] = document.createElement('button'));\n",
       "        button.classList = 'mpl-widget';\n",
       "        button.setAttribute('role', 'button');\n",
       "        button.setAttribute('aria-disabled', 'false');\n",
       "        button.addEventListener('click', on_click_closure(method_name));\n",
       "        button.addEventListener('mouseover', on_mouseover_closure(tooltip));\n",
       "\n",
       "        var icon_img = document.createElement('img');\n",
       "        icon_img.src = '_images/' + image + '.png';\n",
       "        icon_img.srcset = '_images/' + image + '_large.png 2x';\n",
       "        icon_img.alt = tooltip;\n",
       "        button.appendChild(icon_img);\n",
       "\n",
       "        buttonGroup.appendChild(button);\n",
       "    }\n",
       "\n",
       "    if (buttonGroup.hasChildNodes()) {\n",
       "        toolbar.appendChild(buttonGroup);\n",
       "    }\n",
       "\n",
       "    var fmt_picker = document.createElement('select');\n",
       "    fmt_picker.classList = 'mpl-widget';\n",
       "    toolbar.appendChild(fmt_picker);\n",
       "    this.format_dropdown = fmt_picker;\n",
       "\n",
       "    for (var ind in mpl.extensions) {\n",
       "        var fmt = mpl.extensions[ind];\n",
       "        var option = document.createElement('option');\n",
       "        option.selected = fmt === mpl.default_extension;\n",
       "        option.innerHTML = fmt;\n",
       "        fmt_picker.appendChild(option);\n",
       "    }\n",
       "\n",
       "    var status_bar = document.createElement('span');\n",
       "    status_bar.classList = 'mpl-message';\n",
       "    toolbar.appendChild(status_bar);\n",
       "    this.message = status_bar;\n",
       "};\n",
       "\n",
       "mpl.figure.prototype.request_resize = function (x_pixels, y_pixels) {\n",
       "    // Request matplotlib to resize the figure. Matplotlib will then trigger a resize in the client,\n",
       "    // which will in turn request a refresh of the image.\n",
       "    this.send_message('resize', { width: x_pixels, height: y_pixels });\n",
       "};\n",
       "\n",
       "mpl.figure.prototype.send_message = function (type, properties) {\n",
       "    properties['type'] = type;\n",
       "    properties['figure_id'] = this.id;\n",
       "    this.ws.send(JSON.stringify(properties));\n",
       "};\n",
       "\n",
       "mpl.figure.prototype.send_draw_message = function () {\n",
       "    if (!this.waiting) {\n",
       "        this.waiting = true;\n",
       "        this.ws.send(JSON.stringify({ type: 'draw', figure_id: this.id }));\n",
       "    }\n",
       "};\n",
       "\n",
       "mpl.figure.prototype.handle_save = function (fig, _msg) {\n",
       "    var format_dropdown = fig.format_dropdown;\n",
       "    var format = format_dropdown.options[format_dropdown.selectedIndex].value;\n",
       "    fig.ondownload(fig, format);\n",
       "};\n",
       "\n",
       "mpl.figure.prototype.handle_resize = function (fig, msg) {\n",
       "    var size = msg['size'];\n",
       "    if (size[0] !== fig.canvas.width || size[1] !== fig.canvas.height) {\n",
       "        fig._resize_canvas(size[0], size[1], msg['forward']);\n",
       "        fig.send_message('refresh', {});\n",
       "    }\n",
       "};\n",
       "\n",
       "mpl.figure.prototype.handle_rubberband = function (fig, msg) {\n",
       "    var x0 = msg['x0'] / fig.ratio;\n",
       "    var y0 = (fig.canvas.height - msg['y0']) / fig.ratio;\n",
       "    var x1 = msg['x1'] / fig.ratio;\n",
       "    var y1 = (fig.canvas.height - msg['y1']) / fig.ratio;\n",
       "    x0 = Math.floor(x0) + 0.5;\n",
       "    y0 = Math.floor(y0) + 0.5;\n",
       "    x1 = Math.floor(x1) + 0.5;\n",
       "    y1 = Math.floor(y1) + 0.5;\n",
       "    var min_x = Math.min(x0, x1);\n",
       "    var min_y = Math.min(y0, y1);\n",
       "    var width = Math.abs(x1 - x0);\n",
       "    var height = Math.abs(y1 - y0);\n",
       "\n",
       "    fig.rubberband_context.clearRect(\n",
       "        0,\n",
       "        0,\n",
       "        fig.canvas.width / fig.ratio,\n",
       "        fig.canvas.height / fig.ratio\n",
       "    );\n",
       "\n",
       "    fig.rubberband_context.strokeRect(min_x, min_y, width, height);\n",
       "};\n",
       "\n",
       "mpl.figure.prototype.handle_figure_label = function (fig, msg) {\n",
       "    // Updates the figure title.\n",
       "    fig.header.textContent = msg['label'];\n",
       "};\n",
       "\n",
       "mpl.figure.prototype.handle_cursor = function (fig, msg) {\n",
       "    var cursor = msg['cursor'];\n",
       "    switch (cursor) {\n",
       "        case 0:\n",
       "            cursor = 'pointer';\n",
       "            break;\n",
       "        case 1:\n",
       "            cursor = 'default';\n",
       "            break;\n",
       "        case 2:\n",
       "            cursor = 'crosshair';\n",
       "            break;\n",
       "        case 3:\n",
       "            cursor = 'move';\n",
       "            break;\n",
       "    }\n",
       "    fig.rubberband_canvas.style.cursor = cursor;\n",
       "};\n",
       "\n",
       "mpl.figure.prototype.handle_message = function (fig, msg) {\n",
       "    fig.message.textContent = msg['message'];\n",
       "};\n",
       "\n",
       "mpl.figure.prototype.handle_draw = function (fig, _msg) {\n",
       "    // Request the server to send over a new figure.\n",
       "    fig.send_draw_message();\n",
       "};\n",
       "\n",
       "mpl.figure.prototype.handle_image_mode = function (fig, msg) {\n",
       "    fig.image_mode = msg['mode'];\n",
       "};\n",
       "\n",
       "mpl.figure.prototype.handle_history_buttons = function (fig, msg) {\n",
       "    for (var key in msg) {\n",
       "        if (!(key in fig.buttons)) {\n",
       "            continue;\n",
       "        }\n",
       "        fig.buttons[key].disabled = !msg[key];\n",
       "        fig.buttons[key].setAttribute('aria-disabled', !msg[key]);\n",
       "    }\n",
       "};\n",
       "\n",
       "mpl.figure.prototype.handle_navigate_mode = function (fig, msg) {\n",
       "    if (msg['mode'] === 'PAN') {\n",
       "        fig.buttons['Pan'].classList.add('active');\n",
       "        fig.buttons['Zoom'].classList.remove('active');\n",
       "    } else if (msg['mode'] === 'ZOOM') {\n",
       "        fig.buttons['Pan'].classList.remove('active');\n",
       "        fig.buttons['Zoom'].classList.add('active');\n",
       "    } else {\n",
       "        fig.buttons['Pan'].classList.remove('active');\n",
       "        fig.buttons['Zoom'].classList.remove('active');\n",
       "    }\n",
       "};\n",
       "\n",
       "mpl.figure.prototype.updated_canvas_event = function () {\n",
       "    // Called whenever the canvas gets updated.\n",
       "    this.send_message('ack', {});\n",
       "};\n",
       "\n",
       "// A function to construct a web socket function for onmessage handling.\n",
       "// Called in the figure constructor.\n",
       "mpl.figure.prototype._make_on_message_function = function (fig) {\n",
       "    return function socket_on_message(evt) {\n",
       "        if (evt.data instanceof Blob) {\n",
       "            /* FIXME: We get \"Resource interpreted as Image but\n",
       "             * transferred with MIME type text/plain:\" errors on\n",
       "             * Chrome.  But how to set the MIME type?  It doesn't seem\n",
       "             * to be part of the websocket stream */\n",
       "            evt.data.type = 'image/png';\n",
       "\n",
       "            /* Free the memory for the previous frames */\n",
       "            if (fig.imageObj.src) {\n",
       "                (window.URL || window.webkitURL).revokeObjectURL(\n",
       "                    fig.imageObj.src\n",
       "                );\n",
       "            }\n",
       "\n",
       "            fig.imageObj.src = (window.URL || window.webkitURL).createObjectURL(\n",
       "                evt.data\n",
       "            );\n",
       "            fig.updated_canvas_event();\n",
       "            fig.waiting = false;\n",
       "            return;\n",
       "        } else if (\n",
       "            typeof evt.data === 'string' &&\n",
       "            evt.data.slice(0, 21) === 'data:image/png;base64'\n",
       "        ) {\n",
       "            fig.imageObj.src = evt.data;\n",
       "            fig.updated_canvas_event();\n",
       "            fig.waiting = false;\n",
       "            return;\n",
       "        }\n",
       "\n",
       "        var msg = JSON.parse(evt.data);\n",
       "        var msg_type = msg['type'];\n",
       "\n",
       "        // Call the  \"handle_{type}\" callback, which takes\n",
       "        // the figure and JSON message as its only arguments.\n",
       "        try {\n",
       "            var callback = fig['handle_' + msg_type];\n",
       "        } catch (e) {\n",
       "            console.log(\n",
       "                \"No handler for the '\" + msg_type + \"' message type: \",\n",
       "                msg\n",
       "            );\n",
       "            return;\n",
       "        }\n",
       "\n",
       "        if (callback) {\n",
       "            try {\n",
       "                // console.log(\"Handling '\" + msg_type + \"' message: \", msg);\n",
       "                callback(fig, msg);\n",
       "            } catch (e) {\n",
       "                console.log(\n",
       "                    \"Exception inside the 'handler_\" + msg_type + \"' callback:\",\n",
       "                    e,\n",
       "                    e.stack,\n",
       "                    msg\n",
       "                );\n",
       "            }\n",
       "        }\n",
       "    };\n",
       "};\n",
       "\n",
       "// from http://stackoverflow.com/questions/1114465/getting-mouse-location-in-canvas\n",
       "mpl.findpos = function (e) {\n",
       "    //this section is from http://www.quirksmode.org/js/events_properties.html\n",
       "    var targ;\n",
       "    if (!e) {\n",
       "        e = window.event;\n",
       "    }\n",
       "    if (e.target) {\n",
       "        targ = e.target;\n",
       "    } else if (e.srcElement) {\n",
       "        targ = e.srcElement;\n",
       "    }\n",
       "    if (targ.nodeType === 3) {\n",
       "        // defeat Safari bug\n",
       "        targ = targ.parentNode;\n",
       "    }\n",
       "\n",
       "    // pageX,Y are the mouse positions relative to the document\n",
       "    var boundingRect = targ.getBoundingClientRect();\n",
       "    var x = e.pageX - (boundingRect.left + document.body.scrollLeft);\n",
       "    var y = e.pageY - (boundingRect.top + document.body.scrollTop);\n",
       "\n",
       "    return { x: x, y: y };\n",
       "};\n",
       "\n",
       "/*\n",
       " * return a copy of an object with only non-object keys\n",
       " * we need this to avoid circular references\n",
       " * http://stackoverflow.com/a/24161582/3208463\n",
       " */\n",
       "function simpleKeys(original) {\n",
       "    return Object.keys(original).reduce(function (obj, key) {\n",
       "        if (typeof original[key] !== 'object') {\n",
       "            obj[key] = original[key];\n",
       "        }\n",
       "        return obj;\n",
       "    }, {});\n",
       "}\n",
       "\n",
       "mpl.figure.prototype.mouse_event = function (event, name) {\n",
       "    var canvas_pos = mpl.findpos(event);\n",
       "\n",
       "    if (name === 'button_press') {\n",
       "        this.canvas.focus();\n",
       "        this.canvas_div.focus();\n",
       "    }\n",
       "\n",
       "    var x = canvas_pos.x * this.ratio;\n",
       "    var y = canvas_pos.y * this.ratio;\n",
       "\n",
       "    this.send_message(name, {\n",
       "        x: x,\n",
       "        y: y,\n",
       "        button: event.button,\n",
       "        step: event.step,\n",
       "        guiEvent: simpleKeys(event),\n",
       "    });\n",
       "\n",
       "    /* This prevents the web browser from automatically changing to\n",
       "     * the text insertion cursor when the button is pressed.  We want\n",
       "     * to control all of the cursor setting manually through the\n",
       "     * 'cursor' event from matplotlib */\n",
       "    event.preventDefault();\n",
       "    return false;\n",
       "};\n",
       "\n",
       "mpl.figure.prototype._key_event_extra = function (_event, _name) {\n",
       "    // Handle any extra behaviour associated with a key event\n",
       "};\n",
       "\n",
       "mpl.figure.prototype.key_event = function (event, name) {\n",
       "    // Prevent repeat events\n",
       "    if (name === 'key_press') {\n",
       "        if (event.which === this._key) {\n",
       "            return;\n",
       "        } else {\n",
       "            this._key = event.which;\n",
       "        }\n",
       "    }\n",
       "    if (name === 'key_release') {\n",
       "        this._key = null;\n",
       "    }\n",
       "\n",
       "    var value = '';\n",
       "    if (event.ctrlKey && event.which !== 17) {\n",
       "        value += 'ctrl+';\n",
       "    }\n",
       "    if (event.altKey && event.which !== 18) {\n",
       "        value += 'alt+';\n",
       "    }\n",
       "    if (event.shiftKey && event.which !== 16) {\n",
       "        value += 'shift+';\n",
       "    }\n",
       "\n",
       "    value += 'k';\n",
       "    value += event.which.toString();\n",
       "\n",
       "    this._key_event_extra(event, name);\n",
       "\n",
       "    this.send_message(name, { key: value, guiEvent: simpleKeys(event) });\n",
       "    return false;\n",
       "};\n",
       "\n",
       "mpl.figure.prototype.toolbar_button_onclick = function (name) {\n",
       "    if (name === 'download') {\n",
       "        this.handle_save(this, null);\n",
       "    } else {\n",
       "        this.send_message('toolbar_button', { name: name });\n",
       "    }\n",
       "};\n",
       "\n",
       "mpl.figure.prototype.toolbar_button_onmouseover = function (tooltip) {\n",
       "    this.message.textContent = tooltip;\n",
       "};\n",
       "mpl.toolbar_items = [[\"Home\", \"Reset original view\", \"fa fa-home icon-home\", \"home\"], [\"Back\", \"Back to previous view\", \"fa fa-arrow-left icon-arrow-left\", \"back\"], [\"Forward\", \"Forward to next view\", \"fa fa-arrow-right icon-arrow-right\", \"forward\"], [\"\", \"\", \"\", \"\"], [\"Pan\", \"Left button pans, Right button zooms\\nx/y fixes axis, CTRL fixes aspect\", \"fa fa-arrows icon-move\", \"pan\"], [\"Zoom\", \"Zoom to rectangle\\nx/y fixes axis, CTRL fixes aspect\", \"fa fa-square-o icon-check-empty\", \"zoom\"], [\"\", \"\", \"\", \"\"], [\"Download\", \"Download plot\", \"fa fa-floppy-o icon-save\", \"download\"]];\n",
       "\n",
       "mpl.extensions = [\"eps\", \"jpeg\", \"pdf\", \"png\", \"ps\", \"raw\", \"svg\", \"tif\"];\n",
       "\n",
       "mpl.default_extension = \"png\";/* global mpl */\n",
       "\n",
       "var comm_websocket_adapter = function (comm) {\n",
       "    // Create a \"websocket\"-like object which calls the given IPython comm\n",
       "    // object with the appropriate methods. Currently this is a non binary\n",
       "    // socket, so there is still some room for performance tuning.\n",
       "    var ws = {};\n",
       "\n",
       "    ws.close = function () {\n",
       "        comm.close();\n",
       "    };\n",
       "    ws.send = function (m) {\n",
       "        //console.log('sending', m);\n",
       "        comm.send(m);\n",
       "    };\n",
       "    // Register the callback with on_msg.\n",
       "    comm.on_msg(function (msg) {\n",
       "        //console.log('receiving', msg['content']['data'], msg);\n",
       "        // Pass the mpl event to the overridden (by mpl) onmessage function.\n",
       "        ws.onmessage(msg['content']['data']);\n",
       "    });\n",
       "    return ws;\n",
       "};\n",
       "\n",
       "mpl.mpl_figure_comm = function (comm, msg) {\n",
       "    // This is the function which gets called when the mpl process\n",
       "    // starts-up an IPython Comm through the \"matplotlib\" channel.\n",
       "\n",
       "    var id = msg.content.data.id;\n",
       "    // Get hold of the div created by the display call when the Comm\n",
       "    // socket was opened in Python.\n",
       "    var element = document.getElementById(id);\n",
       "    var ws_proxy = comm_websocket_adapter(comm);\n",
       "\n",
       "    function ondownload(figure, _format) {\n",
       "        window.open(figure.canvas.toDataURL());\n",
       "    }\n",
       "\n",
       "    var fig = new mpl.figure(id, ws_proxy, ondownload, element);\n",
       "\n",
       "    // Call onopen now - mpl needs it, as it is assuming we've passed it a real\n",
       "    // web socket which is closed, not our websocket->open comm proxy.\n",
       "    ws_proxy.onopen();\n",
       "\n",
       "    fig.parent_element = element;\n",
       "    fig.cell_info = mpl.find_output_cell(\"<div id='\" + id + \"'></div>\");\n",
       "    if (!fig.cell_info) {\n",
       "        console.error('Failed to find cell for figure', id, fig);\n",
       "        return;\n",
       "    }\n",
       "    fig.cell_info[0].output_area.element.one(\n",
       "        'cleared',\n",
       "        { fig: fig },\n",
       "        fig._remove_fig_handler\n",
       "    );\n",
       "};\n",
       "\n",
       "mpl.figure.prototype.handle_close = function (fig, msg) {\n",
       "    var width = fig.canvas.width / fig.ratio;\n",
       "    fig.cell_info[0].output_area.element.off(\n",
       "        'cleared',\n",
       "        fig._remove_fig_handler\n",
       "    );\n",
       "\n",
       "    // Update the output cell to use the data from the current canvas.\n",
       "    fig.push_to_output();\n",
       "    var dataURL = fig.canvas.toDataURL();\n",
       "    // Re-enable the keyboard manager in IPython - without this line, in FF,\n",
       "    // the notebook keyboard shortcuts fail.\n",
       "    IPython.keyboard_manager.enable();\n",
       "    fig.parent_element.innerHTML =\n",
       "        '<img src=\"' + dataURL + '\" width=\"' + width + '\">';\n",
       "    fig.close_ws(fig, msg);\n",
       "};\n",
       "\n",
       "mpl.figure.prototype.close_ws = function (fig, msg) {\n",
       "    fig.send_message('closing', msg);\n",
       "    // fig.ws.close()\n",
       "};\n",
       "\n",
       "mpl.figure.prototype.push_to_output = function (_remove_interactive) {\n",
       "    // Turn the data on the canvas into data in the output cell.\n",
       "    var width = this.canvas.width / this.ratio;\n",
       "    var dataURL = this.canvas.toDataURL();\n",
       "    this.cell_info[1]['text/html'] =\n",
       "        '<img src=\"' + dataURL + '\" width=\"' + width + '\">';\n",
       "};\n",
       "\n",
       "mpl.figure.prototype.updated_canvas_event = function () {\n",
       "    // Tell IPython that the notebook contents must change.\n",
       "    IPython.notebook.set_dirty(true);\n",
       "    this.send_message('ack', {});\n",
       "    var fig = this;\n",
       "    // Wait a second, then push the new image to the DOM so\n",
       "    // that it is saved nicely (might be nice to debounce this).\n",
       "    setTimeout(function () {\n",
       "        fig.push_to_output();\n",
       "    }, 1000);\n",
       "};\n",
       "\n",
       "mpl.figure.prototype._init_toolbar = function () {\n",
       "    var fig = this;\n",
       "\n",
       "    var toolbar = document.createElement('div');\n",
       "    toolbar.classList = 'btn-toolbar';\n",
       "    this.root.appendChild(toolbar);\n",
       "\n",
       "    function on_click_closure(name) {\n",
       "        return function (_event) {\n",
       "            return fig.toolbar_button_onclick(name);\n",
       "        };\n",
       "    }\n",
       "\n",
       "    function on_mouseover_closure(tooltip) {\n",
       "        return function (event) {\n",
       "            if (!event.currentTarget.disabled) {\n",
       "                return fig.toolbar_button_onmouseover(tooltip);\n",
       "            }\n",
       "        };\n",
       "    }\n",
       "\n",
       "    fig.buttons = {};\n",
       "    var buttonGroup = document.createElement('div');\n",
       "    buttonGroup.classList = 'btn-group';\n",
       "    var button;\n",
       "    for (var toolbar_ind in mpl.toolbar_items) {\n",
       "        var name = mpl.toolbar_items[toolbar_ind][0];\n",
       "        var tooltip = mpl.toolbar_items[toolbar_ind][1];\n",
       "        var image = mpl.toolbar_items[toolbar_ind][2];\n",
       "        var method_name = mpl.toolbar_items[toolbar_ind][3];\n",
       "\n",
       "        if (!name) {\n",
       "            /* Instead of a spacer, we start a new button group. */\n",
       "            if (buttonGroup.hasChildNodes()) {\n",
       "                toolbar.appendChild(buttonGroup);\n",
       "            }\n",
       "            buttonGroup = document.createElement('div');\n",
       "            buttonGroup.classList = 'btn-group';\n",
       "            continue;\n",
       "        }\n",
       "\n",
       "        button = fig.buttons[name] = document.createElement('button');\n",
       "        button.classList = 'btn btn-default';\n",
       "        button.href = '#';\n",
       "        button.title = name;\n",
       "        button.innerHTML = '<i class=\"fa ' + image + ' fa-lg\"></i>';\n",
       "        button.addEventListener('click', on_click_closure(method_name));\n",
       "        button.addEventListener('mouseover', on_mouseover_closure(tooltip));\n",
       "        buttonGroup.appendChild(button);\n",
       "    }\n",
       "\n",
       "    if (buttonGroup.hasChildNodes()) {\n",
       "        toolbar.appendChild(buttonGroup);\n",
       "    }\n",
       "\n",
       "    // Add the status bar.\n",
       "    var status_bar = document.createElement('span');\n",
       "    status_bar.classList = 'mpl-message pull-right';\n",
       "    toolbar.appendChild(status_bar);\n",
       "    this.message = status_bar;\n",
       "\n",
       "    // Add the close button to the window.\n",
       "    var buttongrp = document.createElement('div');\n",
       "    buttongrp.classList = 'btn-group inline pull-right';\n",
       "    button = document.createElement('button');\n",
       "    button.classList = 'btn btn-mini btn-primary';\n",
       "    button.href = '#';\n",
       "    button.title = 'Stop Interaction';\n",
       "    button.innerHTML = '<i class=\"fa fa-power-off icon-remove icon-large\"></i>';\n",
       "    button.addEventListener('click', function (_evt) {\n",
       "        fig.handle_close(fig, {});\n",
       "    });\n",
       "    button.addEventListener(\n",
       "        'mouseover',\n",
       "        on_mouseover_closure('Stop Interaction')\n",
       "    );\n",
       "    buttongrp.appendChild(button);\n",
       "    var titlebar = this.root.querySelector('.ui-dialog-titlebar');\n",
       "    titlebar.insertBefore(buttongrp, titlebar.firstChild);\n",
       "};\n",
       "\n",
       "mpl.figure.prototype._remove_fig_handler = function (event) {\n",
       "    var fig = event.data.fig;\n",
       "    fig.close_ws(fig, {});\n",
       "};\n",
       "\n",
       "mpl.figure.prototype._root_extra_style = function (el) {\n",
       "    el.style.boxSizing = 'content-box'; // override notebook setting of border-box.\n",
       "};\n",
       "\n",
       "mpl.figure.prototype._canvas_extra_style = function (el) {\n",
       "    // this is important to make the div 'focusable\n",
       "    el.setAttribute('tabindex', 0);\n",
       "    // reach out to IPython and tell the keyboard manager to turn it's self\n",
       "    // off when our div gets focus\n",
       "\n",
       "    // location in version 3\n",
       "    if (IPython.notebook.keyboard_manager) {\n",
       "        IPython.notebook.keyboard_manager.register_events(el);\n",
       "    } else {\n",
       "        // location in version 2\n",
       "        IPython.keyboard_manager.register_events(el);\n",
       "    }\n",
       "};\n",
       "\n",
       "mpl.figure.prototype._key_event_extra = function (event, _name) {\n",
       "    var manager = IPython.notebook.keyboard_manager;\n",
       "    if (!manager) {\n",
       "        manager = IPython.keyboard_manager;\n",
       "    }\n",
       "\n",
       "    // Check for shift+enter\n",
       "    if (event.shiftKey && event.which === 13) {\n",
       "        this.canvas_div.blur();\n",
       "        // select the cell after this one\n",
       "        var index = IPython.notebook.find_cell_index(this.cell_info[0]);\n",
       "        IPython.notebook.select(index + 1);\n",
       "    }\n",
       "};\n",
       "\n",
       "mpl.figure.prototype.handle_save = function (fig, _msg) {\n",
       "    fig.ondownload(fig, null);\n",
       "};\n",
       "\n",
       "mpl.find_output_cell = function (html_output) {\n",
       "    // Return the cell and output element which can be found *uniquely* in the notebook.\n",
       "    // Note - this is a bit hacky, but it is done because the \"notebook_saving.Notebook\"\n",
       "    // IPython event is triggered only after the cells have been serialised, which for\n",
       "    // our purposes (turning an active figure into a static one), is too late.\n",
       "    var cells = IPython.notebook.get_cells();\n",
       "    var ncells = cells.length;\n",
       "    for (var i = 0; i < ncells; i++) {\n",
       "        var cell = cells[i];\n",
       "        if (cell.cell_type === 'code') {\n",
       "            for (var j = 0; j < cell.output_area.outputs.length; j++) {\n",
       "                var data = cell.output_area.outputs[j];\n",
       "                if (data.data) {\n",
       "                    // IPython >= 3 moved mimebundle to data attribute of output\n",
       "                    data = data.data;\n",
       "                }\n",
       "                if (data['text/html'] === html_output) {\n",
       "                    return [cell, data, j];\n",
       "                }\n",
       "            }\n",
       "        }\n",
       "    }\n",
       "};\n",
       "\n",
       "// Register the function which deals with the matplotlib target/channel.\n",
       "// The kernel may be null if the page has been refreshed.\n",
       "if (IPython.notebook.kernel !== null) {\n",
       "    IPython.notebook.kernel.comm_manager.register_target(\n",
       "        'matplotlib',\n",
       "        mpl.mpl_figure_comm\n",
       "    );\n",
       "}\n"
      ],
      "text/plain": [
       "<IPython.core.display.Javascript object>"
      ]
     },
     "metadata": {},
     "output_type": "display_data"
    },
    {
     "data": {
      "text/html": [
       "<img src=\"data:image/png;base64,iVBORw0KGgoAAAANSUhEUgAAASwAAACWCAYAAABkW7XSAAAAxUlEQVR4nO3BMQEAAADCoPVPbQhfoAAAAAAAAAAAAAAAAAAAAAAAAAAAAAAAAAAAAAAAAAAAAAAAAAAAAAAAAAAAAAAAAAAAAAAAAAAAAAAAAAAAAAAAAAAAAAAAAAAAAAAAAAAAAAAAAAAAAAAAAAAAAAAAAAAAAAAAAAAAAAAAAAAAAAAAAAAAAAAAAAAAAAAAAAAAAAAAAAAAAAAAAAAAAAAAAAAAAAAAAAAAAAAAAAAAAAAAAAAAAAAAAAAAAAAAAOA1v9QAATX68/0AAAAASUVORK5CYII=\" width=\"150\">"
      ],
      "text/plain": [
       "<IPython.core.display.HTML object>"
      ]
     },
     "metadata": {},
     "output_type": "display_data"
    }
   ],
   "source": [
    "%matplotlib notebook\n",
    "fig = plt.figure(\"figure 1\")\n",
    "plt.plot(X,Y,\"+\")\n",
    "plt.show()"
   ]
  },
  {
   "cell_type": "code",
   "execution_count": 11,
   "metadata": {
    "hidden": true,
    "run_control": {
     "marked": false
    }
   },
   "outputs": [],
   "source": [
    "%matplotlib inline"
   ]
  },
  {
   "cell_type": "markdown",
   "metadata": {},
   "source": [
    "#### [Retour](#titre)"
   ]
  },
  {
   "cell_type": "markdown",
   "metadata": {
    "slideshow": {
     "slide_type": "slide"
    }
   },
   "source": [
    "### <span style=\"margin-left:2em;\"> <a name=\"partie2.3\"></a>II.3 Cellules markdown</span>"
   ]
  },
  {
   "cell_type": "markdown",
   "metadata": {},
   "source": [
    "Les cellules markdown permettent de faire de la mise en forme basique très rapidement. \n",
    "On peut par exemple:\n",
    "* gérer 6 niveaux de titres avec des #\n",
    "* mettre du texte **en gras** en l'encadrant avec ** \n",
    "* mettre *en italique* en l'encadrant avec *\n",
    "* faire une liste à puce en démarrant chaque ligne par *\n",
    "* faire de la numérotation en démarrant chaque ligne par 1.\n",
    "* intégrer une image ou un lien hypertexte avec une syntaxe très simple.\n",
    "* faire des tableaux avec une syntaxe très simple\n",
    "\n",
    "Les blocs de texte sont justifiés par défaut. Un retour à la ligne se fait en terminant la ligne précédente par deux espaces puis Enter.  \n",
    "Un nouveau paragraphe se fait en sautant deux lignes dans la cellule markdown.\n",
    "\n",
    "**Double cliquez** sur chacune des cellules markdown suivantes afin de visualiser la syntaxe puis utilisez **CTRL + Enter** afin de les exécuter et de voir le rendu."
   ]
  },
  {
   "cell_type": "markdown",
   "metadata": {},
   "source": [
    "#### Retour à la ligne et paragraphe"
   ]
  },
  {
   "cell_type": "markdown",
   "metadata": {},
   "source": [
    "Ceci est une phrase.\n",
    "Ceci est une deuxième à la suite.  \n",
    "Ici il y a un retour à la ligne.\n",
    "\n",
    "\n",
    "Et un nouveau paragraphe."
   ]
  },
  {
   "cell_type": "markdown",
   "metadata": {},
   "source": [
    "#### Les titres"
   ]
  },
  {
   "cell_type": "markdown",
   "metadata": {},
   "source": [
    "* Les six niveaux de titre.\n",
    "# Titre\n",
    "## sous-titre\n",
    "### titre de partie\n",
    "#### sous-titre de partie\n",
    "##### vraiment un petit titre\n",
    "###### Celui-ci c'est le dernier"
   ]
  },
  {
   "cell_type": "markdown",
   "metadata": {},
   "source": [
    "#### Les mises en forme basiques"
   ]
  },
  {
   "cell_type": "markdown",
   "metadata": {},
   "source": [
    "* Texte en gras et/ou en italique:\n",
    "\n",
    "**Ceci est un texte en gras**  \n",
    "*Ceci est un texte en italique*  \n",
    "**Ceci est un texte en gras *avec certains mots* en italique**"
   ]
  },
  {
   "cell_type": "markdown",
   "metadata": {},
   "source": [
    "#### Les listes"
   ]
  },
  {
   "cell_type": "markdown",
   "metadata": {},
   "source": [
    "Liste à puces:\n",
    "* premier élément\n",
    "    * sous element (utilisation de la tabulation)\n",
    "        * sous sous element\n",
    "        * idem\n",
    "    * et on revient au niveau 2\n",
    "* deuxième élément\n",
    "* troisième élément"
   ]
  },
  {
   "cell_type": "markdown",
   "metadata": {},
   "source": [
    "Liste numérotée:\n",
    "1. premier\n",
    "    1. sous element (utilisation de la tabulation)\n",
    "        1. sous sous element\n",
    "        1. idem\n",
    "    1. et on revient au niveau 2\n",
    "1. deuxième\n",
    "1. troisième\n",
    "\n",
    "\n",
    "On peut bien sûr démarrer à la valeur que l'on veut:\n",
    "4. quatre\n",
    "    3. sous element en commencant à 3\n",
    "        5. sous sous element en commencant à 5\n",
    "        5. suivant\n",
    "    3. suivant\n",
    "5. cinq\n",
    "6. six"
   ]
  },
  {
   "cell_type": "markdown",
   "metadata": {},
   "source": [
    "#### Liens et images"
   ]
  },
  {
   "cell_type": "markdown",
   "metadata": {},
   "source": [
    "Syntaxe pour un hyperlien: Texte entre crochet puis adresse entre parenthèses. La partie entre guillemets est facultative.  \n",
    "[ceci est un hyperlien](https://www.facebook.com/franceinfo/posts/178602342587458/ \"google c'est le mal!\")\n",
    "\n",
    "\n",
    "\n",
    "Syntaxe pour une image: un point d'exclamation, puis un texte de remplacement entre crochet suivi de l'adresse de l'image entre parenthèses\n",
    "![ceci est une image avec une adresse relative -cad à partir de celle du dépôt-](img/disquette.png)\n",
    "\n",
    "\n",
    "\n",
    "Ceci fonctionne également pour une image hébergée en ligne\n",
    "![Ceci est une image avec une adresse en ligne](https://cdn.radiofrance.fr/s3/cruiser-production/2020/01/0ef129dc-2033-4aa1-9cce-eff92c7c6405/870x489_83080808_10215765581880139_4393035134673092608_n_2.webp)\n",
    "\n",
    "\n",
    "Syntaxe pour une image cliquable: simplement la syntaxe d'une image mise à la place du texte du lien. La partie entre guillemets est facultative.\n",
    "[![ceci est une image cliquable](img/fleches.png)](https://github.com/jcamponovo/formation2020 \"tu peux cliquer ici!\")"
   ]
  },
  {
   "cell_type": "markdown",
   "metadata": {},
   "source": [
    "#### Exercice:"
   ]
  },
  {
   "cell_type": "markdown",
   "metadata": {
    "deletable": false,
    "editable": false
   },
   "source": [
    "Reproduire dans la cellule suivante (sans double cliquer sur cette  cellule!) la mise en forme suivante:\n",
    "\n",
    "# TP Réfraction\n",
    "Consignes:\n",
    "* On lit\n",
    "* On mesure\n",
    "* On exploite\n",
    "![](refraction.png \"adresse de l'image uniquement refraction.png car à la racine du dépot\")\n",
    "\n",
    "Pour information: Il y a un grand titre, une liste à puces et une image d'adresse refraction.png"
   ]
  },
  {
   "cell_type": "markdown",
   "metadata": {},
   "source": [
    "**A vous de jouer! Ici**\n",
    "\n"
   ]
  },
  {
   "cell_type": "markdown",
   "metadata": {
    "heading_collapsed": true
   },
   "source": [
    "#### (intermédiaire) Les tableaux"
   ]
  },
  {
   "cell_type": "markdown",
   "metadata": {
    "hidden": true
   },
   "source": [
    "\n",
    "* Première ligne d'entête avec des éléments séparés par des | (CTRL + ALT + 6) qui représentent les barres verticales du tableau.\n",
    "* Deuxième ligne qui représente la barre horizontale sous l'entête et l'alignement dans les colonnes.\n",
    "\n",
    "| Première colonne | deuxième colonne | troisième colonne |\n",
    "| :--- | ---: | :---: |\n",
    "| Aligné à gauche | Aligné à droite | centré |\n",
    "| **gras** | *italique* | ~~barré~~ |\n",
    "\n",
    "\n",
    "Inutile d'aligner les |, cela se débrouille à l'exécution avec le nombre de cases"
   ]
  },
  {
   "cell_type": "markdown",
   "metadata": {
    "heading_collapsed": true
   },
   "source": [
    "#### (avancé) Latex"
   ]
  },
  {
   "cell_type": "markdown",
   "metadata": {
    "hidden": true
   },
   "source": [
    "On peut intégrer un peu de Latex pour obtenir de jolies formules de physique et de chimie:  \n",
    "\n",
    "$\\large{\\boldsymbol{\\overrightarrow{F_{A\\rightarrow B}} = - \\mathscr{G} \\frac{m_A m_B}{d_{AB}^2} \\overrightarrow{u}}}$  \n",
    "$C_6H_{12}O_6 \\Rightarrow 2\\ CH_3-CH_2-OH\\ +\\ 2\\ CO_2$\n",
    "\n",
    "\n",
    "On peut aller bien plus loin car on a la main sur la configuration du serveur virtuel et l'extension jupyter load tex macros (non testées) permet a priori d'importer à l'ouverture du notebook les bibliothèques et macros personnelles"
   ]
  },
  {
   "cell_type": "markdown",
   "metadata": {
    "heading_collapsed": true
   },
   "source": [
    "#### (avancé) HTML"
   ]
  },
  {
   "cell_type": "markdown",
   "metadata": {
    "hidden": true
   },
   "source": [
    "Les balises HTML sont aussi acceptées dans les cellules markdown ce qui permet de faire de la mise en forme plus fine si vous le souhaitez.\n",
    "\n",
    "<h1 style=\"text-align:center; color:red; text-decoration:underline;\">Un joli titre</h1>\n",
    "<img src=\"img/fork.png\" width=\"50%\">\n"
   ]
  },
  {
   "cell_type": "markdown",
   "metadata": {},
   "source": [
    "#### [Retour](#titre)"
   ]
  },
  {
   "cell_type": "markdown",
   "metadata": {},
   "source": [
    "### <span style=\"margin-left:2em;\"><a name=\"partie2.4\"></a>II.4 Mise en forme avancee</span>"
   ]
  },
  {
   "cell_type": "markdown",
   "metadata": {},
   "source": [
    "Jupyter permet d'ajouter dans un document de manière très simple des vidéos, des pages web ou encore une présentation genial.ly\n",
    "Voici quelques tours de main pour pouvoir le faire."
   ]
  },
  {
   "cell_type": "markdown",
   "metadata": {},
   "source": [
    "#### Vidéo Youtube"
   ]
  },
  {
   "cell_type": "markdown",
   "metadata": {},
   "source": [
    "Il suffit de cliquer sur **SHARE** sous la vidéo proposée sur youtube\n",
    "\n",
    "![](img/partage_youtube.png)\n",
    "\n",
    "\n",
    "Puis copier le code HTML de partage, après avoir éventuellement configuré ce code avec l'interface proposée.\n",
    "![](img/partage_youtube2.png)\n",
    "\n",
    "Ce code est simplement collé dans une cellule de code python comme dans l'exemple ci-dessous"
   ]
  },
  {
   "cell_type": "code",
   "execution_count": 12,
   "metadata": {
    "run_control": {
     "marked": false
    }
   },
   "outputs": [
    {
     "name": "stderr",
     "output_type": "stream",
     "text": [
      "/srv/conda/envs/notebook/lib/python3.7/site-packages/IPython/core/display.py:717: UserWarning: Consider using IPython.display.IFrame instead\n",
      "  warnings.warn(\"Consider using IPython.display.IFrame instead\")\n"
     ]
    },
    {
     "data": {
      "text/html": [
       "<iframe width=\"560\" height=\"315\" src=\"https://www.youtube.com/embed/FRteNtwuaWg\" frameborder=\"0\" allow=\"accelerometer; autoplay; encrypted-media; gyroscope; picture-in-picture\" allowfullscreen></iframe>"
      ],
      "text/plain": [
       "<IPython.core.display.HTML object>"
      ]
     },
     "execution_count": 12,
     "metadata": {},
     "output_type": "execute_result"
    }
   ],
   "source": [
    "from IPython.display import HTML,IFrame\n",
    "HTML(\"\"\"<iframe width=\"560\" height=\"315\" src=\"https://www.youtube.com/embed/FRteNtwuaWg\" frameborder=\"0\" allow=\"accelerometer; autoplay; encrypted-media; gyroscope; picture-in-picture\" allowfullscreen></iframe>\"\"\")"
   ]
  },
  {
   "cell_type": "markdown",
   "metadata": {},
   "source": [
    "Une autre solution consiste à récupérer le code unique identifiant la vidéo (**visible dans l'URL** ou en cliquant sur **partager**) et de la coller dans une cellule de code python comme ci-dessous"
   ]
  },
  {
   "cell_type": "code",
   "execution_count": 13,
   "metadata": {
    "run_control": {
     "marked": false
    },
    "scrolled": true
   },
   "outputs": [
    {
     "data": {
      "image/jpeg": "[encoded data removed]",
      "text/html": [
       "\n",
       "        <iframe\n",
       "            width=\"560px\"\n",
       "            height=\"315px\"\n",
       "            src=\"https://www.youtube.com/embed/FRteNtwuaWg\"\n",
       "            frameborder=\"0\"\n",
       "            allowfullscreen\n",
       "        ></iframe>\n",
       "        "
      ],
      "text/plain": [
       "<IPython.lib.display.YouTubeVideo at 0x7fcc0b022990>"
      ]
     },
     "execution_count": 13,
     "metadata": {},
     "output_type": "execute_result"
    }
   ],
   "source": [
    "from IPython.display import YouTubeVideo\n",
    "YouTubeVideo(\"FRteNtwuaWg\",width=\"560px\", height=\"315px\")\n"
   ]
  },
  {
   "cell_type": "markdown",
   "metadata": {},
   "source": [
    "##### Exercice:"
   ]
  },
  {
   "cell_type": "markdown",
   "metadata": {},
   "source": [
    "Utilisez la cellule de code ci-dessous afin d'afficher une vidéo youtube de votre choix sur ce document."
   ]
  },
  {
   "cell_type": "code",
   "execution_count": 14,
   "metadata": {
    "run_control": {
     "marked": false
    }
   },
   "outputs": [],
   "source": [
    "# A vous de jouer!"
   ]
  },
  {
   "cell_type": "markdown",
   "metadata": {},
   "source": [
    "#### Vidéo Viméo"
   ]
  },
  {
   "cell_type": "markdown",
   "metadata": {},
   "source": [
    "De la même manière, sur Viméo, on clique sur partager et on copie le code HTML de partage noté **intégration**.\n",
    "![](img/partage_vimeo.png)\n",
    "On colle ensuite ce code dans une cellule de code python et on ajoute un triple guillemet de chaque coté et on utilise la fonction HTML comme ci-dessous."
   ]
  },
  {
   "cell_type": "code",
   "execution_count": 15,
   "metadata": {
    "run_control": {
     "marked": false
    }
   },
   "outputs": [
    {
     "data": {
      "text/html": [
       "<iframe src=\"https://player.vimeo.com/video/146921362?color=fcd94f&title=0&byline=0&portrait=0\" width=\"640\" height=\"360\" frameborder=\"0\" allow=\"autoplay; fullscreen\" allowfullscreen></iframe>\n",
       "<p><a href=\"https://vimeo.com/146921362\">Physique et caf&eacute;ine</a> from <a href=\"https://vimeo.com/charlottearene\">Charlotte Arene</a> on <a href=\"https://vimeo.com\">Vimeo</a>.</p>"
      ],
      "text/plain": [
       "<IPython.core.display.HTML object>"
      ]
     },
     "execution_count": 15,
     "metadata": {},
     "output_type": "execute_result"
    }
   ],
   "source": [
    "from IPython.display import HTML,IFrame\n",
    "HTML(\"\"\"<iframe src=\"https://player.vimeo.com/video/146921362?color=fcd94f&title=0&byline=0&portrait=0\" width=\"640\" height=\"360\" frameborder=\"0\" allow=\"autoplay; fullscreen\" allowfullscreen></iframe>\n",
    "<p><a href=\"https://vimeo.com/146921362\">Physique et caf&eacute;ine</a> from <a href=\"https://vimeo.com/charlottearene\">Charlotte Arene</a> on <a href=\"https://vimeo.com\">Vimeo</a>.</p>\"\"\")"
   ]
  },
  {
   "cell_type": "markdown",
   "metadata": {},
   "source": [
    "#### Genia.ly et pages web"
   ]
  },
  {
   "cell_type": "markdown",
   "metadata": {},
   "source": [
    "Aves une présentation genial.ly, il suffit de cliquer sur **partager => insert** et de copier le cod iframe. Il est ensuite utilisé comme tout à l'heure dans une cellule de code "
   ]
  },
  {
   "cell_type": "code",
   "execution_count": 16,
   "metadata": {
    "run_control": {
     "marked": false
    }
   },
   "outputs": [
    {
     "data": {
      "text/html": [
       "<div style=\"width: 100%;\">\n",
       "  <div style=\"position: relative; padding-bottom: 56.25%; padding-top: 0; height: 0;\">\n",
       "    <iframe style=\"position: absolute; top: 0; left: 0; width: 100%; height: 100%;\" src=\"https://view.genial.ly/5ee7245f9a05850d6d9963d8\" type=\"text/html\" allowscriptaccess=\"always\" allowfullscreen=\"true\" scrolling=\"yes\" allownetworking=\"all\" width=\"1200px\"\n",
       "    height=\"675px\" frameborder=\"0\"></iframe>\n",
       "  </div>\n",
       "</div>"
      ],
      "text/plain": [
       "<IPython.core.display.HTML object>"
      ]
     },
     "execution_count": 16,
     "metadata": {},
     "output_type": "execute_result"
    }
   ],
   "source": [
    "from IPython.display import HTML,IFrame\n",
    "\n",
    "HTML(\"\"\"<div style=\"width: 100%;\">\n",
    "  <div style=\"position: relative; padding-bottom: 56.25%; padding-top: 0; height: 0;\">\n",
    "    <iframe style=\"position: absolute; top: 0; left: 0; width: 100%; height: 100%;\" src=\"https://view.genial.ly/5ee7245f9a05850d6d9963d8\" type=\"text/html\" allowscriptaccess=\"always\" allowfullscreen=\"true\" scrolling=\"yes\" allownetworking=\"all\" width=\"1200px\"\n",
    "    height=\"675px\" frameborder=\"0\"></iframe>\n",
    "  </div>\n",
    "</div>\"\"\")"
   ]
  },
  {
   "cell_type": "markdown",
   "metadata": {},
   "source": [
    "Pour une page web, on récupère l'URL et on la colle dans une cellule de code python comme dans l'exemple ci-dessous. Elle doit être sous la forme d'une chaine de caractères et représente l'argument \"src\" de la **fonction IFrame**. Il reste à choisir la largeur et la hauteur du conteneur utilisé pour visualiser cette page (**arguments width et height**). "
   ]
  },
  {
   "cell_type": "code",
   "execution_count": 17,
   "metadata": {
    "run_control": {
     "marked": false
    }
   },
   "outputs": [
    {
     "data": {
      "text/html": [
       "\n",
       "        <iframe\n",
       "            width=\"900\"\n",
       "            height=\"600\"\n",
       "            src=\"https://ipywidgets.readthedocs.io/en/latest/examples/Widget%20List.html\"\n",
       "            frameborder=\"0\"\n",
       "            allowfullscreen\n",
       "        ></iframe>\n",
       "        "
      ],
      "text/plain": [
       "<IPython.lib.display.IFrame at 0x7fcc0afcb3d0>"
      ]
     },
     "execution_count": 17,
     "metadata": {},
     "output_type": "execute_result"
    }
   ],
   "source": [
    "IFrame(src=\"https://ipywidgets.readthedocs.io/en/latest/examples/Widget%20List.html\", width=900, height=600)"
   ]
  },
  {
   "cell_type": "markdown",
   "metadata": {
    "heading_collapsed": true
   },
   "source": [
    "#### (intermédiaire) Cacher certaines cellules de code"
   ]
  },
  {
   "cell_type": "markdown",
   "metadata": {
    "hidden": true
   },
   "source": [
    "On peut cacher spécifiquement certaines cellules de code et même cacher uniquement le code python en laissant la sortie visible ou le contraire. Cele peut être utile pour cacher la ligne de code python avant une vidéo ou une animation par exemple.\n",
    "\n",
    "\n",
    "Pour cela, on peut utiliser l'extension **runtools** installée dans cet environnement.  \n",
    "\n",
    "\n",
    "\n",
    "1. Cliquer sur le bouton en forme de rouages dans la barre d'outils ![](img/icone_runtools.png)\n",
    "\n",
    "2. Cela fait apparaître un menu **Runtools** comportant de nombreuses icones.\n",
    "\n",
    "![](img/icone_runtools2.png)\n",
    "\n",
    "3. Pour cacher une entrée, il faut:\n",
    "    * cliquer sur le **rond vide -unmark all cells-** pour déselctionner toutes les cellules qui peuvent l'être\n",
    "    * cliquer sur la cellule à cacher\n",
    "    * cliquer sur **la punaise -Mark single cell-\n",
    "    * cliquer sur n'importe lequel des 4 boutons **Hide cell input**, **Show cell input**, **Hide cell output** ou **Show cell output** en fonction de l'action souhaitée.\n",
    "    * cliquer sur le **rond vide -unmark all cells-** pour déselectionner la cellule modifiée."
   ]
  },
  {
   "cell_type": "markdown",
   "metadata": {
    "hidden": true
   },
   "source": [
    "##### Exercice:"
   ]
  },
  {
   "cell_type": "markdown",
   "metadata": {
    "hidden": true
   },
   "source": [
    "Cacher le code de la cellule suivante en conservant la courbe (sortie)."
   ]
  },
  {
   "cell_type": "code",
   "execution_count": 18,
   "metadata": {
    "hidden": true,
    "run_control": {
     "marked": false
    }
   },
   "outputs": [
    {
     "data": {
      "image/png": "[encoded data removed]",
      "text/plain": [
       "<Figure size 432x288 with 1 Axes>"
      ]
     },
     "metadata": {
      "needs_background": "light"
     },
     "output_type": "display_data"
    }
   ],
   "source": [
    "import matplotlib.pyplot as plt\n",
    "from math import cos, pi\n",
    "X = [i/100 for i in range(1000)]\n",
    "Y = [2.5*cos(x+pi/4)+1 for x in X]\n",
    "plt.plot(X,Y,\"r\")\n",
    "plt.show()"
   ]
  },
  {
   "cell_type": "markdown",
   "metadata": {},
   "source": [
    "#### (intermédiaire) Afficher un bouton pour cacher une correction"
   ]
  },
  {
   "cell_type": "markdown",
   "metadata": {},
   "source": [
    "Un petit bout de code python/javascript est disponible sur ce dépôt pour permettre de cacher/afficher une cellule facilement. Pour cela, il suffit d'utiliser la fonction cacher_code dans la cellule de code python précédent celle à cacher. Cette fonction masque sa propre cellule et affiche un lien permettant de changer l'état de la cellule suivante. Le texte du lien est donné en argument. Dans l'exemple ci-dessous on a utilisé:\n",
    "```\n",
    "from masquer import *\n",
    "cacher_code('Correction')\n",
    "```\n",
    "On peut réafficher puis éditer la cellule qui affiche le lien en utilisant **runtools** comme indiqué dans le paragraphe précédent."
   ]
  },
  {
   "cell_type": "markdown",
   "metadata": {},
   "source": [
    "**Exemple d'exercice**\n",
    "\n",
    "Modifier le code python ci-dessous afin de mettre un titre au graphique, \"abscisses\" sur l'axe des abscisses et \"ordonnées\" sur l'axe des ordonnées."
   ]
  },
  {
   "cell_type": "code",
   "execution_count": 19,
   "metadata": {
    "run_control": {
     "marked": false
    }
   },
   "outputs": [
    {
     "data": {
      "image/png": "[encoded data removed]",
      "text/plain": [
       "<Figure size 432x288 with 1 Axes>"
      ]
     },
     "metadata": {
      "needs_background": "light"
     },
     "output_type": "display_data"
    }
   ],
   "source": [
    "import matplotlib.pyplot as plt\n",
    "from math import cos, pi\n",
    "X = [i/100 for i in range(1000)]\n",
    "Y = [2.5*cos(x+pi/4)+1 for x in X]\n",
    "plt.plot(X,Y,\"r\")\n",
    "plt.show()"
   ]
  },
  {
   "cell_type": "code",
   "execution_count": 20,
   "metadata": {
    "hide_input": true,
    "init_cell": true,
    "run_control": {
     "marked": false
    }
   },
   "outputs": [
    {
     "data": {
      "text/html": [
       "\n",
       "    <script>\n",
       "        function code_toggle_18125026564772905512() {\n",
       "            $('div.cell.code_cell.rendered.selected').next().find('div.input').toggle();\n",
       "        }\n",
       "\n",
       "        $('div.cell.code_cell.rendered.selected').find(\"div.input\").hide();\n",
       "    </script>\n",
       "\n",
       "    <a href=\"javascript:code_toggle_18125026564772905512()\">Correction </a>\n",
       "    "
      ],
      "text/plain": [
       "<IPython.core.display.HTML object>"
      ]
     },
     "execution_count": 20,
     "metadata": {},
     "output_type": "execute_result"
    }
   ],
   "source": [
    "from masquer import *\n",
    "cacher_code(\"Correction\")"
   ]
  },
  {
   "cell_type": "code",
   "execution_count": null,
   "metadata": {
    "run_control": {
     "marked": false
    }
   },
   "outputs": [],
   "source": [
    "import matplotlib.pyplot as plt\n",
    "from math import cos, pi\n",
    "X = [i/100 for i in range(1000)]\n",
    "Y = [2.5*cos(x+pi/4)+1 for x in X]\n",
    "plt.title(\"Titre\")\n",
    "plt.plot(X,Y,\"r\")\n",
    "plt.xlabel(\"abscisses\")\n",
    "plt.ylabel(\"ordonnées\")\n",
    "plt.show()"
   ]
  },
  {
   "cell_type": "markdown",
   "metadata": {},
   "source": [
    "#### (Avancé) Faire un graphique interactif avec les ipywidgets"
   ]
  },
  {
   "cell_type": "markdown",
   "metadata": {},
   "source": [
    "Il y a de nombreux widgets avec beaucoup de personnalisations possibles. On peut donc faire des choses assez fines. Ce qui m'intéresse ici ce sont les possibilités d'obtenir très facilement quelque chose de fonctionnel sans avoir à gérer les événements.  \n",
    "Le plus gros défaut de ces widgets est le mauvais fonctionnement du slider sur les écrans tactiles. Ainsi, ceux qui veulent approfondir devraient plutot passer par ipyvuetify et bqplot que je ne developperai pas ici.\n",
    "\n",
    "\n",
    "Un petit exemple pour se rendre compte:"
   ]
  },
  {
   "cell_type": "code",
   "execution_count": null,
   "metadata": {
    "run_control": {
     "marked": false
    }
   },
   "outputs": [],
   "source": [
    "%matplotlib inline\n",
    "from ipywidgets import interactive,FloatSlider\n",
    "import matplotlib.pyplot as plt\n",
    "import numpy as np\n",
    "\n",
    "# Valeur par défaut = initialisation du widget\n",
    "def f(A=1.5, freq=0.5, phi=0):\n",
    "    plt.figure(\"figure interactive\",figsize=(8, 6), dpi=80)\n",
    "    x = np.linspace(-10, 10, num=1000)\n",
    "    plt.plot(x, A*np.sin(2*np.pi*freq*x+phi))\n",
    "    plt.ylim(-5, 5)\n",
    "    plt.show()\n",
    "                                # Pour chaque widget An freq et phi, on donne min, max, step\n",
    "interactive_plot = interactive(f, A=(0, 4.0,0.1), freq=(0.1, 2, 0.1), phi=(-np.pi,np.pi,np.pi/10))\n",
    "output = interactive_plot.children[-1]\n",
    "output.layout.height = '400px'\n",
    "display(interactive_plot)"
   ]
  },
  {
   "cell_type": "markdown",
   "metadata": {},
   "source": [
    "On a encore:"
   ]
  },
  {
   "cell_type": "code",
   "execution_count": null,
   "metadata": {
    "run_control": {
     "marked": false
    },
    "scrolled": true
   },
   "outputs": [],
   "source": [
    "from ipywidgets import interact\n",
    "import numpy as np\n",
    "\n",
    "@interact(axes=True,titre=\"Titre\",couleur=[\"r\",\"g\",\"b\"])\n",
    "def f(axes = True, titre= \"Titre\",couleur = \"r\"):\n",
    "    plt.figure(\"test\")\n",
    "    x = np.linspace(-10, 10, num=1000)\n",
    "    plt.plot(x, 2*np.sin(2*np.pi*x), color=couleur)\n",
    "    plt.title(titre)\n",
    "    if axes:\n",
    "        plt.xlabel(\"abscisses\")\n",
    "        plt.ylabel(\"ordonnées\")\n",
    "    else:\n",
    "        plt.axis('off')\n",
    "    plt.show()"
   ]
  },
  {
   "cell_type": "markdown",
   "metadata": {},
   "source": [
    "Voici la documentation si vous voulez approfondir un peu, mais même en restant simple comme dans les deux exemples précédents, il y a de belles possibilités d'utilisations."
   ]
  },
  {
   "cell_type": "code",
   "execution_count": null,
   "metadata": {
    "hide_input": true,
    "run_control": {
     "marked": false
    }
   },
   "outputs": [],
   "source": [
    "IFrame(src=\"https://ipywidgets.readthedocs.io/en/latest/examples/Using%20Interact.html\",width=900,height=600)"
   ]
  },
  {
   "cell_type": "markdown",
   "metadata": {},
   "source": [
    "### [Retour](#titre)"
   ]
  },
  {
   "cell_type": "markdown",
   "metadata": {
    "slideshow": {
     "slide_type": "slide"
    }
   },
   "source": [
    "## <a name=\"partie3\"></a>III. Utilisations et extensions"
   ]
  },
  {
   "cell_type": "markdown",
   "metadata": {},
   "source": [
    "### <a name=\"partie3.1\"></a>III.1. Exemples d'utilisations"
   ]
  },
  {
   "cell_type": "markdown",
   "metadata": {},
   "source": [
    "* proposer un [environnement de programmation](../apps/environnement.ipynb) à distance ou en présence a ses élèves sans installation  \n",
    "On peut ainsi s'en servir pour leur faire tracer une courbe à rendre au format numérique par exemple.\n",
    "\n",
    "\n",
    "* rediger des documents interactifs  \n",
    "On peut rédiger des fiches de cours ou des [sujets de TP/TD](../apps/refraction2.ipynb) comprenant vidéo, simulations, blocs de code etc... Le côté interactif permet de les rendre exploitable même à distance, ou en classe inversée.\n",
    "\n",
    "\n",
    "* proposer des comtpes rendus de tp numériques préformatés permettant un rendu élève au format numérique en intégrant les graphiques et les exploitations.\n",
    "C'est ce qui est proposé [ici](exploitation.ipynb)\n",
    "\n",
    "\n",
    "* (intermédiaire) Proposer des [TP hybrides](../apps/refraction2.ipynb) basés sur des simulations (distance) ou manipulation (présence) avec une même exploitation  \n",
    "\n",
    "\n",
    "* (intermédiaire à avancé) Réaliser de petites simulations modifiables par les élèves basées sur matpltolib (voir II.4)  \n",
    "\n",
    "\n",
    "* (intermédiaire) Réaliser des [présentations interactives](refraction2_pres.ipynb) permettant de taper ou modifier du code et visualiser directement les effets, intégrer un simulation interactive dans une présentation, etc... La création d'une telle présentation est **TRES** rapide à partir d'un notebook. La procédure est détaillée un peu plus loin.\n",
    "\n",
    "\n",
    "* (avancé) Réaliser des simulations avec bqplot et vuetify. Un fichier d'exemples de ces widgets est disponible [ici](ipyvueltyfy_example.ipynb). Ils sont fonctionnels avec écran tactile. bqplot permet d'afficher de tracer des courbes pour lesquels chaque partie (axes, courbe, titre, etc...) sont des objets avec lesquels on peut définir des interactions.\n",
    "\n",
    "\n",
    "* (NSI) Cet environnement permet de tester du code bash ([terminal linux](../terminals/1)) même si cela peut aussi être fait **dans les cellules jupyter**, du code HTML et javascript, du python et il est même possible d'installer de nouveaux noyaux pour tester d'autres langages (java ou SQL par exemple)."
   ]
  },
  {
   "cell_type": "markdown",
   "metadata": {},
   "source": [
    "#### [Retour](#titre)"
   ]
  },
  {
   "cell_type": "markdown",
   "metadata": {},
   "source": [
    "### <a name=\"partie3.2\"></a>III.2. Quelques extensions utiles"
   ]
  },
  {
   "cell_type": "markdown",
   "metadata": {},
   "source": [
    "Beaucoup d'extensions sont installées, il suffit de supprimer les lignes correspondantes dans le fichier postBuild pour les désactiver au prochain démarrage de l'environnement si elles ne vous conviennent pas. Vous pouvez bien sûr en ajouter si vous le souhaitez. Le lien vers un Jupyter d'exemple et donnée pour chacune d'entre elles. Testez les pour vous faire une idée."
   ]
  },
  {
   "cell_type": "markdown",
   "metadata": {},
   "source": [
    "#### [Appmode](https://mybinder.org/v2/gh/binder-examples/appmode/master?urlpath=apps%2Findex.ipynb)"
   ]
  },
  {
   "cell_type": "markdown",
   "metadata": {},
   "source": [
    "Intérêt: \n",
    "* executes toutes les cellules de code au démarrage du Notebook (ce n'est pas le fonctionnement habituel)\n",
    "* cache la partie \"input\" de chacune des cellules\n",
    "* les cellules markdown restent visibles\n",
    "* on peut retourner au mode notebook facilement (bouton edit app)\n",
    "\n",
    "\n",
    "On obtient ainsi l'équivalent d'une petite appli web, écrite en python, qui fonctionne sur navigateur."
   ]
  },
  {
   "cell_type": "markdown",
   "metadata": {},
   "source": [
    "Pour utiliser appmode:\n",
    "* soit on lance le notebook puis on clique sur le bouton **Appmode**\n",
    "* soit on lance directement sous Appmode (voir section I.2)"
   ]
  },
  {
   "cell_type": "markdown",
   "metadata": {},
   "source": [
    "#### [Init_cell](https://github.com/ipython-contrib/jupyter_contrib_nbextensions/tree/master/src/jupyter_contrib_nbextensions/nbextensions/init_cell)"
   ]
  },
  {
   "cell_type": "markdown",
   "metadata": {},
   "source": [
    "Intérêt:  \n",
    "* Permet de choisir certaines cellules de code à exécuter au démarrage\n",
    "\n",
    "\n",
    "Attention: Elles ne sont pas obligatoirement exécutées dans l'ordre du notebook."
   ]
  },
  {
   "cell_type": "markdown",
   "metadata": {},
   "source": [
    "Pour marquer une cellule comme cellule à lancer au démarrage, il faut aller dans le menu **view => Cell Toolbar => Initialization Cell**. Un bandeau apparaît alors en haut de chaque cellule de code avec une case à cocher ou non. Chaque cellule cochée sera lancée au démarrage du notebook."
   ]
  },
  {
   "cell_type": "markdown",
   "metadata": {},
   "source": [
    "#### [Rise](https://mybinder.org/v2/gh/damianavila/RISE/master?filepath=examples%2FREADME.ipynb)"
   ]
  },
  {
   "cell_type": "markdown",
   "metadata": {},
   "source": [
    "Intérêt: \n",
    "* Permet de transformer un notebook en une présentation interactive.\n"
   ]
  },
  {
   "cell_type": "markdown",
   "metadata": {},
   "source": [
    "Pour construire la présentation, il faut aller dans le menu **view => Cell Toolbar => Diaporama**. Les cellules à éliminer de la présentation sont notées **Sauter**. Les cellules notées **Notes** ne sont visibles que pour la personne qui présente. Enfin, les cellules notées **Diapo** seront le début d'une diapo. Toutes les cellules jusqu'à la prochaine marquée **Diapo** constituent la slide (comportant éventuellement un ascenceur).\n",
    "\n",
    "\n",
    "Une fois ceci fait, on lance le diaporama avec l'outil en forme d'histogramme.\n",
    "\n",
    "\n",
    "Il est possible de naviguer dans le diaporama avec la barre d'espace (ou SHIFT + Space pour revenir en arrière)  \n",
    "**Rq:** Ce fonctionnement marche aussi en mode notebook :)\n",
    "\n",
    "\n",
    "En mode diaporama, tout reste éditable de la même manière que dans le notebook.\n",
    "\n",
    "\n",
    "Le comportement peut être amélioré en ajoutant des métadonnées au notebook. N'ajoutez que le slignes qui vous intéressent avec:\n",
    "**Edit => Edit notebook metadata**\n",
    "![](img/notebook_metadata.png)\n",
    "  \"rise\": {  \n",
    "    \"autolaunch\": true,  **La présentation démarre automatiquement au lancement du notebook**  \n",
    "    \"enable_chalkboard\": true,  **Le tableau à craie disponible sur chaque slide**  \n",
    "    \"scroll\": true,  **Les slides comportent un ascenceur si nécessaire**  \n",
    "    \"start_slideshow_at\": \"beginning\"  **Le diaporama démarre à la première slide**  \n",
    "  }"
   ]
  },
  {
   "cell_type": "markdown",
   "metadata": {},
   "source": [
    "Vous pouvez essayer avec le présent document ou avec [refraction2.ipynb](refraction2.ipynb)"
   ]
  },
  {
   "cell_type": "markdown",
   "metadata": {},
   "source": [
    "#### [Voila](https://mybinder.org/v2/gh/voila-dashboards/voila/stable?urlpath=voila%2Ftree%2Fnotebooks)"
   ]
  },
  {
   "cell_type": "markdown",
   "metadata": {},
   "source": [
    "Intérêt: \n",
    "* executes toutes les cellules de code au démarrage du Notebook (ce n'est pas le fonctionnement habituel)\n",
    "* cache la partie \"input\" de chacune des cellules\n",
    "* les cellules markdown restent visibles\n",
    "* on ne peut pas retourner facilement au mode notebook\n",
    "\n",
    "\n",
    "On obtient ainsi l'équivalent d'une petite appli web, écrite en python, qui fonctionne sur navigateur.\n",
    "[exemple](../voila/render/refraction2.ipynb)"
   ]
  },
  {
   "cell_type": "markdown",
   "metadata": {},
   "source": [
    "#### [Exercise2](https://github.com/ipython-contrib/jupyter_contrib_nbextensions/tree/master/src/jupyter_contrib_nbextensions/nbextensions/exercise2)"
   ]
  },
  {
   "cell_type": "markdown",
   "metadata": {},
   "source": [
    "Intérêt:\n",
    "* permet de cacher plusieurs cellules (correction d'un exercice) en faisant apparaitre un bouton.\n",
    "* Peut cacher intégralement des cellules de code et des cellules markdown\n",
    "\n",
    "Certains bugs sont possibles avec cette extension. A utiliser une fois que toutes les autres modifications du notebook auront été faites. Voir exemple de rendu ci-dessous:"
   ]
  },
  {
   "cell_type": "code",
   "execution_count": null,
   "metadata": {
    "run_control": {
     "marked": false
    },
    "solution2": "hidden",
    "solution2_first": true
   },
   "outputs": [],
   "source": [
    "# Sujet de l'exercice"
   ]
  },
  {
   "cell_type": "markdown",
   "metadata": {
    "solution2": "hidden"
   },
   "source": [
    "#### Un petite solution"
   ]
  },
  {
   "cell_type": "code",
   "execution_count": null,
   "metadata": {
    "run_control": {
     "marked": false
    },
    "solution2": "hidden"
   },
   "outputs": [],
   "source": [
    "# Et un bout de code de correction"
   ]
  },
  {
   "cell_type": "markdown",
   "metadata": {
    "solution2": "hidden"
   },
   "source": [
    "Approfondissement"
   ]
  },
  {
   "cell_type": "code",
   "execution_count": null,
   "metadata": {
    "hide_input": false,
    "hide_output": false,
    "run_control": {
     "marked": false
    },
    "solution2": "hidden"
   },
   "outputs": [],
   "source": [
    "# ET du code"
   ]
  },
  {
   "cell_type": "markdown",
   "metadata": {},
   "source": [
    "#### Autres Extensions"
   ]
  },
  {
   "cell_type": "markdown",
   "metadata": {},
   "source": [
    "Vous pouvez aller voir une liste d'extensions et ce qu'elles apportent à l'environnement [ici](https://jupyter-contrib-nbextensions.readthedocs.io/en/latest/)"
   ]
  },
  {
   "cell_type": "markdown",
   "metadata": {},
   "source": [
    "### [Retour](#titre)"
   ]
  },
  {
   "cell_type": "markdown",
   "metadata": {},
   "source": [
    "## <a name=\"partie4\"></a>IV. Petites recettes"
   ]
  },
  {
   "cell_type": "markdown",
   "metadata": {},
   "source": [
    "Voici quelques petits bouts de codes utiles, libre à vous de compléter cette section avec ce qui vous parait utile dans le reste de la présentation."
   ]
  },
  {
   "cell_type": "markdown",
   "metadata": {},
   "source": [
    "#### Fonction cacher_code \n",
    "Elle est modifiable pour permettre de cacher ce que l'on veut, c'est à dire input, output ou les deux, de la cellule considérée ou de la suivante. Elle peut être exécutée en début de notebook (avec init_cell coché) puis utilisée dans le reste du notebook. Ici elle a été importée directement d'un fichier python ajouté sur le dépot.\n"
   ]
  },
  {
   "cell_type": "code",
   "execution_count": null,
   "metadata": {
    "deletable": false,
    "editable": false,
    "hide_input": false,
    "hide_output": false,
    "run_control": {
     "frozen": true,
     "marked": false
    }
   },
   "outputs": [],
   "source": [
    "from IPython.display import HTML\n",
    "import random\n",
    "\n",
    "def cacher_code(for_next=True):\n",
    "    this_cell = \"\"\"$('div.cell.code_cell.rendered.selected')\"\"\"\n",
    "    next_cell = this_cell + '.next()'\n",
    "\n",
    "    toggle_text = 'Montrer/Cacher le code'  # text shown on toggle link\n",
    "    target_cell = this_cell  # target cell to control with toggle\n",
    "    js_hide_current = ''  # bit of JS to permanently hide code in current cell (only when toggling next cell)\n",
    "\n",
    "    if for_next:\n",
    "        target_cell = next_cell\n",
    "        toggle_text += ' '#next cell\n",
    "        js_hide_current = this_cell + '.find(\"div.input\").hide();'\n",
    "\n",
    "    js_f_name = 'code_toggle_{}'.format(str(random.randint(1,2**64)))\n",
    "\n",
    "    html = \"\"\"\n",
    "        <script>\n",
    "            function {f_name}() {{\n",
    "                {cell_selector}.find('div.input').toggle();\n",
    "            }}\n",
    "\n",
    "            {js_hide_current}\n",
    "        </script>\n",
    "\n",
    "        <a href=\"javascript:{f_name}()\">{toggle_text}</a>\n",
    "    \"\"\".format(\n",
    "        f_name=js_f_name,\n",
    "        cell_selector=target_cell,\n",
    "        js_hide_current=js_hide_current, \n",
    "        toggle_text=toggle_text\n",
    "    )\n",
    "\n",
    "    return HTML(html)"
   ]
  },
  {
   "cell_type": "markdown",
   "metadata": {},
   "source": [
    "#### Eviter l'arrêt du serveur au bout de 10 minutes\n",
    "La fonction ci-dessous doit être dans la première cellule du notebook, la deuxième cellule doit être aussi une cellule de code (par exemple a = 2 + 3). Cette fonction doit être exécutée une fois (par init_cell par exemple). Elle pilote ensuite l'exécution de la deuxième cellule du notebook toutes les 3 minutespendant 2h. A la fin, le message \"fin de session\" apparait. "
   ]
  },
  {
   "cell_type": "code",
   "execution_count": null,
   "metadata": {
    "deletable": false,
    "editable": false,
    "hide_input": false,
    "hide_output": false,
    "run_control": {
     "frozen": true,
     "marked": false
    }
   },
   "outputs": [],
   "source": [
    "from IPython.display import Javascript\n",
    "timeout = 120 # minutes\n",
    "Javascript(\"\"\"let timerId = setInterval(() => Jupyter.notebook.execute_cells([1]), 180000);\n",
    "setTimeout(() => { clearInterval(timerId); alert('fin de session'); },\"\"\"+ str(timeout*1000*60)+\")\")"
   ]
  },
  {
   "cell_type": "markdown",
   "metadata": {
    "run_control": {
     "marked": false
    }
   },
   "source": [
    "#### Eviter l'arrêt du serveur au bout de 10 minutes + supprimer l'affichage de l'ascenseur lorsque la cellule est trop grande (préfère agrandir la cellule) + stocke dans la variable python \"url\" l'url de la page, exécute toutes les cellules du notebook (en partant du début et dans l'ordre) puis le sauvegarde.\n",
    "#### La deuxième partie modifie l'url en ajoutant la clé de la session afin d'obtenir un lien à partager permettant de rejoindre sa propre session.\n",
    "\n",
    "La fonction ci-dessous doit être dans la première cellule du notebook. Cette fonction doit être exécutée une fois (par init_cell par exemple). Elle pilote ensuite l'exécution de la deuxième cellule du notebook toutes les 3 minutespendant 2h. A la fin, le message \"fin de session\" apparait.\n"
   ]
  },
  {
   "cell_type": "code",
   "execution_count": null,
   "metadata": {
    "deletable": false,
    "editable": false,
    "run_control": {
     "frozen": true,
     "marked": false
    }
   },
   "outputs": [],
   "source": [
    "# Permet de tout executer au lancement du notebook + conserver le notebook actif pendant 2h\n",
    "from IPython.display import Javascript\n",
    "from masquer import *\n",
    "Javascript(\"\"\"\n",
    "function repeter(){\n",
    "IPython.notebook.kernel.execute(\"a=1\");\n",
    "}\n",
    "// execute a = 1 en python toutes les 8 minutes pendant 2h\n",
    "let timerId = setInterval(() => repeter(), 480000);\n",
    "setTimeout(() => { clearInterval(timerId); alert('fin de cession'); }, 7200000);\n",
    "\n",
    "// Supprimer la taille limite pour la sortie d'une cellule\n",
    "IPython.OutputArea.prototype._should_scroll = function(lines) {\n",
    "    return false;\n",
    "};\n",
    "IPython.notebook.kernel.execute(\"url = '\" + window.location + \"'\");\n",
    "\n",
    "// Exécuter toutes les cellule du notebook\n",
    "    require(\n",
    "        ['base/js/namespace', 'jquery'], \n",
    "        function(jupyter, $) {\n",
    "            \n",
    "                \n",
    "                jupyter.actions.call('jupyter-notebook:run-all-cells-below');\n",
    "                jupyter.actions.call('jupyter-notebook:save-notebook');\n",
    "                \n",
    "\n",
    "        }\n",
    "    );\"\"\")"
   ]
  },
  {
   "cell_type": "markdown",
   "metadata": {},
   "source": [
    "### [Retour](#titre)"
   ]
  },
  {
   "cell_type": "code",
   "execution_count": null,
   "metadata": {
    "deletable": false,
    "editable": false,
    "run_control": {
     "frozen": true,
     "marked": false
    }
   },
   "outputs": [],
   "source": []
  }
 ],
 "metadata": {
  "celltoolbar": "none",
  "kernelspec": {
   "display_name": "Python 3",
   "language": "python",
   "name": "python3"
  },
  "language_info": {
   "codemirror_mode": {
    "name": "ipython",
    "version": 3
   },
   "file_extension": ".py",
   "mimetype": "text/x-python",
   "name": "python",
   "nbconvert_exporter": "python",
   "pygments_lexer": "ipython3",
   "version": "3.7.8"
  }
 },
 "nbformat": 4,
 "nbformat_minor": 4
}
