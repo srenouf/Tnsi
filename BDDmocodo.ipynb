{
  "nbformat": 4,
  "nbformat_minor": 0,
  "metadata": {
    "colab": {
      "name": "BDDmocodo.ipynb",
      "provenance": [],
      "authorship_tag": "ABX9TyP9TeIDxqKXvlqqYsohpBvi",
      "include_colab_link": true
    },
    "kernelspec": {
      "name": "python3",
      "display_name": "Python 3"
    }
  },
  "cells": [
    {
      "cell_type": "markdown",
      "metadata": {
        "id": "view-in-github",
        "colab_type": "text"
      },
      "source": [
        "<a href=\"https://colab.research.google.com/github/srenouf/Tnsi/blob/master/BDDmocodo.ipynb\" target=\"_parent\"><img src=\"https://colab.research.google.com/assets/colab-badge.svg\" alt=\"Open In Colab\"/></a>"
      ]
    },
    {
      "cell_type": "markdown",
      "metadata": {
        "id": "aD7gALPqfOsa",
        "colab_type": "text"
      },
      "source": [
        "<img src=\"https://camo.githubusercontent.com/aa6fd9b26cfd3a1a651723e88146a534a345f9b2/68747470733a2f2f63646e2e7261776769742e636f6d2f6c616f77616e746f6e672f6d6f636f646f2f6d61737465722f6c6f676f732f62616e6e65722e737667\" border=\"0\" width=\"800\">"
      ]
    },
    {
      "cell_type": "markdown",
      "metadata": {
        "id": "sDQt7Tdle29m",
        "colab_type": "text"
      },
      "source": [
        "Mocodo est un logiciel d'aide à l'enseignement et à la conception des bases de données relationnelles.\n",
        "\n",
        "    En entrée, il prend une description textuelle des entités et associations du modèle conceptuel de données (MCD).\n",
        "    En sortie, il produit son diagramme entité-association en SVG et son schéma relationnel (MLD) en SQL, LaTeX, Markdown, etc.\n"
      ]
    },
    {
      "cell_type": "code",
      "metadata": {
        "id": "oeh8nGYlbEd0",
        "colab_type": "code",
        "colab": {
          "base_uri": "https://localhost:8080/",
          "height": 404
        },
        "outputId": "1363c269-d352-4c0e-92c7-7b07d30ae24b"
      },
      "source": [
        "pip install mocodo_magic"
      ],
      "execution_count": 1,
      "outputs": [
        {
          "output_type": "stream",
          "text": [
            "Collecting mocodo_magic\n",
            "  Downloading https://files.pythonhosted.org/packages/3d/81/6a2ff9531721d6dd4a50bdb80018ab4782ba3d6f3883d35c92d472ce4e5c/mocodo_magic-1.0.3-py2.py3-none-any.whl\n",
            "Requirement already satisfied: ipython in /usr/local/lib/python3.6/dist-packages (from mocodo_magic) (5.5.0)\n",
            "Collecting mocodo\n",
            "\u001b[?25l  Downloading https://files.pythonhosted.org/packages/98/eb/ef4e670dcb31d5998b816f2cbc4a4f16738d93cc15a0bda70cdcbe3b63ab/mocodo-2.3.8-py2.py3-none-any.whl (149kB)\n",
            "\u001b[K     |████████████████████████████████| 153kB 2.6MB/s \n",
            "\u001b[?25hRequirement already satisfied: simplegeneric>0.8 in /usr/local/lib/python3.6/dist-packages (from ipython->mocodo_magic) (0.8.1)\n",
            "Requirement already satisfied: prompt-toolkit<2.0.0,>=1.0.4 in /usr/local/lib/python3.6/dist-packages (from ipython->mocodo_magic) (1.0.18)\n",
            "Requirement already satisfied: pickleshare in /usr/local/lib/python3.6/dist-packages (from ipython->mocodo_magic) (0.7.5)\n",
            "Requirement already satisfied: traitlets>=4.2 in /usr/local/lib/python3.6/dist-packages (from ipython->mocodo_magic) (4.3.3)\n",
            "Requirement already satisfied: setuptools>=18.5 in /usr/local/lib/python3.6/dist-packages (from ipython->mocodo_magic) (50.3.0)\n",
            "Requirement already satisfied: decorator in /usr/local/lib/python3.6/dist-packages (from ipython->mocodo_magic) (4.4.2)\n",
            "Requirement already satisfied: pexpect; sys_platform != \"win32\" in /usr/local/lib/python3.6/dist-packages (from ipython->mocodo_magic) (4.8.0)\n",
            "Requirement already satisfied: pygments in /usr/local/lib/python3.6/dist-packages (from ipython->mocodo_magic) (2.6.1)\n",
            "Requirement already satisfied: wcwidth in /usr/local/lib/python3.6/dist-packages (from prompt-toolkit<2.0.0,>=1.0.4->ipython->mocodo_magic) (0.2.5)\n",
            "Requirement already satisfied: six>=1.9.0 in /usr/local/lib/python3.6/dist-packages (from prompt-toolkit<2.0.0,>=1.0.4->ipython->mocodo_magic) (1.15.0)\n",
            "Requirement already satisfied: ipython-genutils in /usr/local/lib/python3.6/dist-packages (from traitlets>=4.2->ipython->mocodo_magic) (0.2.0)\n",
            "Requirement already satisfied: ptyprocess>=0.5 in /usr/local/lib/python3.6/dist-packages (from pexpect; sys_platform != \"win32\"->ipython->mocodo_magic) (0.6.0)\n",
            "Installing collected packages: mocodo, mocodo-magic\n",
            "Successfully installed mocodo-2.3.8 mocodo-magic-1.0.3\n"
          ],
          "name": "stdout"
        }
      ]
    },
    {
      "cell_type": "code",
      "metadata": {
        "id": "CQjKIoS4beIg",
        "colab_type": "code",
        "colab": {}
      },
      "source": [
        "%reload_ext mocodo_magic"
      ],
      "execution_count": 3,
      "outputs": []
    },
    {
      "cell_type": "markdown",
      "metadata": {
        "id": "aXcUPoJ2elSI",
        "colab_type": "text"
      },
      "source": [
        "LIVRES (  :entiers positifs , titre : str , #id_auteur : entiers positifs, ann_publi : entiers positifs , note : entiers positifs)\n",
        "\n",
        "AUTEURS (  :entiers positifs , nom : str, prenom : str , ann_naissance : entiers positifs , langue_ecriture : str )"
      ]
    },
    {
      "cell_type": "code",
      "metadata": {
        "id": "FJqevPMBckl8",
        "colab_type": "code",
        "colab": {
          "base_uri": "https://localhost:8080/",
          "height": 286
        },
        "outputId": "4a9c428a-dda4-4d9d-c170-424c5f6798c6"
      },
      "source": [
        "%%mocodo --mld --colors ocean --shapes copperplate --relations diagram markdown_data_dict\n",
        "Ecrit, 11 LIVRES , 1N AUTEURS\n",
        "LIVRES: identifiant numérique, Titre, année\n",
        "\n",
        "AUTEURS: identifiant.AUTEURS, Nom AUTEURS, Prenom AUTEURS\n"
      ],
      "execution_count": null,
      "outputs": [
        {
          "output_type": "display_data",
          "data": {
            "text/plain": [
              "<IPython.core.display.SVG object>"
            ],
            "image/svg+xml": "<svg height=\"230\" view_box=\"0 0 302 230\" width=\"302\" xmlns=\"http://www.w3.org/2000/svg\" xmlns:link=\"http://www.w3.org/1999/xlink\">\n\n<desc>Generated by Mocodo 2.3.8 on Mon, 20 Jul 2020 20:36:32</desc>\n\n<rect fill=\"none\" height=\"230\" id=\"frame\" stroke=\"none\" stroke-width=\"0\" width=\"302\" x=\"0\" y=\"0\"/>\n\n<!-- Association Ecrit -->\n<line stroke=\"#726f83\" stroke-width=\"1\" x1=\"218\" x2=\"82\" y1=\"56\" y2=\"56\"/>\n<text fill=\"#726f83\" font-family=\"Futura\" font-size=\"11\" x=\"120\" y=\"72.0\">1,1</text>\n<line stroke=\"#726f83\" stroke-width=\"1\" x1=\"82\" x2=\"82\" y1=\"174\" y2=\"56\"/>\n<text fill=\"#726f83\" font-family=\"Futura\" font-size=\"11\" x=\"87.0\" y=\"119\">1,N</text>\n<g id=\"association-Ecrit\">\n\t<path d=\"M 100 27 a 14 14 90 0 1 14 14 V 55 h -64 V 41 a 14 14 90 0 1 14 -14\" fill=\"#b2bba4\" stroke=\"#b2bba4\" stroke-width=\"0\"/>\n\t<path d=\"M 114 55.0 v 16 a 14 14 90 0 1 -14 14 H 64 a 14 14 90 0 1 -14 -14 V 55.0 H 64\" fill=\"#ccd6ba\" stroke=\"#ccd6ba\" stroke-width=\"0\"/>\n\t<rect fill=\"none\" height=\"58\" rx=\"14\" stroke=\"#85956b\" stroke-width=\"1.5\" width=\"64\" x=\"50\" y=\"27\"/>\n\t<line stroke=\"#85956b\" stroke-width=\"1.5\" x1=\"50\" x2=\"114\" y1=\"55\" y2=\"55\"/>\n\t<text fill=\"#27360c\" font-family=\"Copperplate\" font-size=\"18\" x=\"57\" y=\"48.3\">Ecrit</text>\n</g>\n\n<!-- Entity LIVRES -->\n<g id=\"entity-LIVRES\">\n\t<g id=\"frame-LIVRES\">\n\t\t<rect fill=\"#97b8ff\" height=\"30\" stroke=\"#97b8ff\" stroke-width=\"0\" width=\"150\" x=\"143\" y=\"9\"/>\n\t\t<rect fill=\"#c0d4ff\" height=\"64\" stroke=\"#c0d4ff\" stroke-width=\"0\" width=\"150\" x=\"143\" y=\"39.0\"/>\n\t\t<rect fill=\"none\" height=\"94\" stroke=\"#578dff\" stroke-width=\"1.5\" width=\"150\" x=\"143\" y=\"9\"/>\n\t\t<line stroke=\"#578dff\" stroke-width=\"1.5\" x1=\"143\" x2=\"293\" y1=\"39\" y2=\"39\"/>\n\t</g>\n\t<text fill=\"#131114\" font-family=\"Copperplate\" font-size=\"18\" x=\"184\" y=\"30.3\">LIVRES</text>\n\t<text fill=\"#3e3c42\" font-family=\"Gill Sans\" font-size=\"15\" x=\"151\" y=\"56.1\">identifiant numérique</text>\n\t<line stroke=\"#3e3c42\" stroke-width=\"1\" x1=\"151\" x2=\"284\" y1=\"59\" y2=\"59\"/>\n\t<text fill=\"#3e3c42\" font-family=\"Gill Sans\" font-size=\"15\" x=\"151\" y=\"73.1\">Titre</text>\n\t<text fill=\"#3e3c42\" font-family=\"Gill Sans\" font-size=\"15\" x=\"151\" y=\"90.0\">année</text>\n</g>\n\n<!-- Entity AUTEURS -->\n<g id=\"entity-AUTEURS\">\n\t<g id=\"frame-AUTEURS\">\n\t\t<rect fill=\"#97b8ff\" height=\"30\" stroke=\"#97b8ff\" stroke-width=\"0\" width=\"146\" x=\"9\" y=\"127\"/>\n\t\t<rect fill=\"#c0d4ff\" height=\"64\" stroke=\"#c0d4ff\" stroke-width=\"0\" width=\"146\" x=\"9\" y=\"157.0\"/>\n\t\t<rect fill=\"none\" height=\"94\" stroke=\"#578dff\" stroke-width=\"1.5\" width=\"146\" x=\"9\" y=\"127\"/>\n\t\t<line stroke=\"#578dff\" stroke-width=\"1.5\" x1=\"9\" x2=\"155\" y1=\"157\" y2=\"157\"/>\n\t</g>\n\t<text fill=\"#131114\" font-family=\"Copperplate\" font-size=\"18\" x=\"38\" y=\"148.3\">AUTEURS</text>\n\t<text fill=\"#3e3c42\" font-family=\"Gill Sans\" font-size=\"15\" x=\"17\" y=\"174.1\">identifiant.AUTEURS</text>\n\t<line stroke=\"#3e3c42\" stroke-width=\"1\" x1=\"17\" x2=\"147\" y1=\"177\" y2=\"177\"/>\n\t<text fill=\"#3e3c42\" font-family=\"Gill Sans\" font-size=\"15\" x=\"17\" y=\"191.1\">Nom AUTEURS</text>\n\t<text fill=\"#3e3c42\" font-family=\"Gill Sans\" font-size=\"15\" x=\"17\" y=\"208.0\">Prenom AUTEURS</text>\n</g>\n</svg>"
          },
          "metadata": {
            "tags": []
          }
        },
        {
          "output_type": "display_data",
          "data": {
            "text/html": [
              "<html>\n",
              "<head>\n",
              "<meta charset='utf-8'>\n",
              "<style>\n",
              "  #mld .relation { font-variant: small-caps; font-weight: bold }\n",
              "  #mld .primary { text-decoration: underline }\n",
              "  #mld .foreign { font-style: oblique }\n",
              "  #mld .normal { }\n",
              "</style>\n",
              "</head>\n",
              "<body>\n",
              "<div id='mld'>\n",
              "<div>\n",
              "  <span class='relation'>LIVRES</span> (\n",
              "    <span class='primary'>identifiant numérique</span>,\n",
              "    <span class='normal'>Titre</span>,\n",
              "    <span class='normal'>année</span>,\n",
              "    <span class='foreign'>identifiant.AUTEURS</span>\n",
              "  )\n",
              "</div>\n",
              "<div>\n",
              "  <span class='relation'>AUTEURS</span> (\n",
              "    <span class='primary'>identifiant.AUTEURS</span>,\n",
              "    <span class='normal'>Nom AUTEURS</span>,\n",
              "    <span class='normal'>Prenom AUTEURS</span>\n",
              "  )\n",
              "</div>\n",
              "</div>\n",
              "</body>\n",
              "</html>"
            ],
            "text/plain": [
              "<IPython.core.display.HTML object>"
            ]
          },
          "metadata": {
            "tags": []
          }
        }
      ]
    },
    {
      "cell_type": "code",
      "metadata": {
        "id": "Gf7VzjX0c0bD",
        "colab_type": "code",
        "colab": {
          "base_uri": "https://localhost:8080/",
          "height": 213
        },
        "outputId": "d11782d2-b244-4d84-b668-3608671ac2d7"
      },
      "source": [
        "%mocodo --input mocodo_notebook/sandbox.mld --colors desert"
      ],
      "execution_count": null,
      "outputs": [
        {
          "output_type": "display_data",
          "data": {
            "text/plain": [
              "<IPython.core.display.SVG object>"
            ],
            "image/svg+xml": "<svg height=\"192\" view_box=\"0 0 510 192\" width=\"510\" xmlns=\"http://www.w3.org/2000/svg\" xmlns:link=\"http://www.w3.org/1999/xlink\">\n\n<desc>Generated by Mocodo 2.3.8 on Mon, 20 Jul 2020 20:36:38</desc>\n\n<rect fill=\"none\" height=\"192\" id=\"frame\" stroke=\"none\" stroke-width=\"0\" width=\"510\" x=\"0\" y=\"0\"/>\n\n<!-- Entity LIVRES -->\n<g id=\"entity-LIVRES\">\n\t<g id=\"frame-LIVRES\">\n\t\t<rect fill=\"#FAA945\" height=\"26\" stroke=\"#FAA945\" stroke-width=\"0\" width=\"188\" x=\"280\" y=\"9\"/>\n\t\t<rect fill=\"#FFB94E\" height=\"80\" stroke=\"#FFB94E\" stroke-width=\"0\" width=\"188\" x=\"280\" y=\"35.0\"/>\n\t\t<rect fill=\"none\" height=\"106\" stroke=\"#CB7E1F\" stroke-width=\"1.5\" width=\"188\" x=\"280\" y=\"9\"/>\n\t\t<line stroke=\"#CB7E1F\" stroke-width=\"1\" x1=\"280\" x2=\"468\" y1=\"35\" y2=\"35\"/>\n\t</g>\n\t<text fill=\"#645530\" font-family=\"Courier New\" font-size=\"14\" x=\"348\" y=\"27.6\">LIVRES</text>\n\t<text fill=\"#645530\" font-family=\"Courier New\" font-size=\"14\" x=\"285\" y=\"53.6\">identifiant numérique</text>\n\t<line stroke=\"#645530\" stroke-width=\"1\" x1=\"285\" x2=\"463\" y1=\"56.0\" y2=\"56.0\"/>\n\t<text fill=\"#645530\" font-family=\"Courier New\" font-size=\"14\" x=\"285\" y=\"71.6\">Titre</text>\n\t<text fill=\"#645530\" font-family=\"Courier New\" font-size=\"14\" x=\"285\" y=\"89.6\">année</text>\n\t<text fill=\"#645530\" font-family=\"Courier New\" font-size=\"14\" x=\"285\" y=\"107.6\">#identifiant.AUTEURS</text>\n</g>\n\n<!-- Entity AUTEURS -->\n<g id=\"entity-AUTEURS\">\n\t<g id=\"frame-AUTEURS\">\n\t\t<rect fill=\"#FAA945\" height=\"26\" stroke=\"#FAA945\" stroke-width=\"0\" width=\"172\" x=\"42\" y=\"95\"/>\n\t\t<rect fill=\"#FFB94E\" height=\"62\" stroke=\"#FFB94E\" stroke-width=\"0\" width=\"172\" x=\"42\" y=\"121.0\"/>\n\t\t<rect fill=\"none\" height=\"88\" stroke=\"#CB7E1F\" stroke-width=\"1.5\" width=\"172\" x=\"42\" y=\"95\"/>\n\t\t<line stroke=\"#CB7E1F\" stroke-width=\"1\" x1=\"42\" x2=\"214\" y1=\"121\" y2=\"121\"/>\n\t</g>\n\t<text fill=\"#645530\" font-family=\"Courier New\" font-size=\"14\" x=\"98\" y=\"113.6\">AUTEURS</text>\n\t<text fill=\"#645530\" font-family=\"Courier New\" font-size=\"14\" x=\"47\" y=\"139.6\">identifiant.AUTEURS</text>\n\t<line stroke=\"#645530\" stroke-width=\"1\" x1=\"47\" x2=\"208\" y1=\"142.0\" y2=\"142.0\"/>\n\t<text fill=\"#645530\" font-family=\"Courier New\" font-size=\"14\" x=\"47\" y=\"157.6\">Nom AUTEURS</text>\n\t<text fill=\"#645530\" font-family=\"Courier New\" font-size=\"14\" x=\"47\" y=\"175.6\">Prenom AUTEURS</text>\n</g>\n\n<!-- Link from \"identifiant.AUTEURS\" (LIVRES) to \"identifiant.AUTEURS\" (AUTEURS) -->\n<path d=\"M280 103.0 C 247.0 119.0 258.0 135.0 214 135.0\" fill=\"none\" stroke=\"#4C3D30\" stroke-width=\"1\"/>\n<path d=\"M 214 135.0 L 226.0 129.0 L 222.0 135.0 L 226.0 141.0 Z\" fill=\"#4C3D30\" stroke-width=\"0\"/>\n<circle cx=\"280\" cy=\"103.0\" fill=\"#4C3D30\" r=\"1.5\" stroke=\"#4C3D30\" stroke-width=\"1.5\"/>\n</svg>"
          },
          "metadata": {
            "tags": []
          }
        }
      ]
    },
    {
      "cell_type": "code",
      "metadata": {
        "id": "ZoZtXc2l9OUl",
        "colab_type": "code",
        "colab": {
          "base_uri": "https://localhost:8080/",
          "height": 213
        },
        "outputId": "54c930ad-4db3-457d-eb08-1e524460ecab"
      },
      "source": [
        "%mocodo --input mocodo_notebook/sandbox.mld --colors desert"
      ],
      "execution_count": null,
      "outputs": [
        {
          "output_type": "display_data",
          "data": {
            "text/plain": [
              "<IPython.core.display.SVG object>"
            ],
            "image/svg+xml": "<svg height=\"192\" view_box=\"0 0 510 192\" width=\"510\" xmlns=\"http://www.w3.org/2000/svg\" xmlns:link=\"http://www.w3.org/1999/xlink\">\n\n<desc>Generated by Mocodo 2.3.8 on Mon, 20 Jul 2020 20:40:38</desc>\n\n<rect fill=\"none\" height=\"192\" id=\"frame\" stroke=\"none\" stroke-width=\"0\" width=\"510\" x=\"0\" y=\"0\"/>\n\n<!-- Entity LIVRES -->\n<g id=\"entity-LIVRES\">\n\t<g id=\"frame-LIVRES\">\n\t\t<rect fill=\"#FAA945\" height=\"26\" stroke=\"#FAA945\" stroke-width=\"0\" width=\"188\" x=\"280\" y=\"9\"/>\n\t\t<rect fill=\"#FFB94E\" height=\"80\" stroke=\"#FFB94E\" stroke-width=\"0\" width=\"188\" x=\"280\" y=\"35.0\"/>\n\t\t<rect fill=\"none\" height=\"106\" stroke=\"#CB7E1F\" stroke-width=\"1.5\" width=\"188\" x=\"280\" y=\"9\"/>\n\t\t<line stroke=\"#CB7E1F\" stroke-width=\"1\" x1=\"280\" x2=\"468\" y1=\"35\" y2=\"35\"/>\n\t</g>\n\t<text fill=\"#645530\" font-family=\"Courier New\" font-size=\"14\" x=\"348\" y=\"27.6\">LIVRES</text>\n\t<text fill=\"#645530\" font-family=\"Courier New\" font-size=\"14\" x=\"285\" y=\"53.6\">identifiant numérique</text>\n\t<line stroke=\"#645530\" stroke-width=\"1\" x1=\"285\" x2=\"463\" y1=\"56.0\" y2=\"56.0\"/>\n\t<text fill=\"#645530\" font-family=\"Courier New\" font-size=\"14\" x=\"285\" y=\"71.6\">Titre</text>\n\t<text fill=\"#645530\" font-family=\"Courier New\" font-size=\"14\" x=\"285\" y=\"89.6\">année</text>\n\t<text fill=\"#645530\" font-family=\"Courier New\" font-size=\"14\" x=\"285\" y=\"107.6\">#identifiant.AUTEURS</text>\n</g>\n\n<!-- Entity AUTEURS -->\n<g id=\"entity-AUTEURS\">\n\t<g id=\"frame-AUTEURS\">\n\t\t<rect fill=\"#FAA945\" height=\"26\" stroke=\"#FAA945\" stroke-width=\"0\" width=\"172\" x=\"42\" y=\"95\"/>\n\t\t<rect fill=\"#FFB94E\" height=\"62\" stroke=\"#FFB94E\" stroke-width=\"0\" width=\"172\" x=\"42\" y=\"121.0\"/>\n\t\t<rect fill=\"none\" height=\"88\" stroke=\"#CB7E1F\" stroke-width=\"1.5\" width=\"172\" x=\"42\" y=\"95\"/>\n\t\t<line stroke=\"#CB7E1F\" stroke-width=\"1\" x1=\"42\" x2=\"214\" y1=\"121\" y2=\"121\"/>\n\t</g>\n\t<text fill=\"#645530\" font-family=\"Courier New\" font-size=\"14\" x=\"98\" y=\"113.6\">AUTEURS</text>\n\t<text fill=\"#645530\" font-family=\"Courier New\" font-size=\"14\" x=\"47\" y=\"139.6\">identifiant.AUTEURS</text>\n\t<line stroke=\"#645530\" stroke-width=\"1\" x1=\"47\" x2=\"208\" y1=\"142.0\" y2=\"142.0\"/>\n\t<text fill=\"#645530\" font-family=\"Courier New\" font-size=\"14\" x=\"47\" y=\"157.6\">Nom AUTEURS</text>\n\t<text fill=\"#645530\" font-family=\"Courier New\" font-size=\"14\" x=\"47\" y=\"175.6\">Prenom AUTEURS</text>\n</g>\n\n<!-- Link from \"identifiant.AUTEURS\" (LIVRES) to \"identifiant.AUTEURS\" (AUTEURS) -->\n<path d=\"M280 103.0 C 247.0 119.0 258.0 135.0 214 135.0\" fill=\"none\" stroke=\"#4C3D30\" stroke-width=\"1\"/>\n<path d=\"M 214 135.0 L 226.0 129.0 L 222.0 135.0 L 226.0 141.0 Z\" fill=\"#4C3D30\" stroke-width=\"0\"/>\n<circle cx=\"280\" cy=\"103.0\" fill=\"#4C3D30\" r=\"1.5\" stroke=\"#4C3D30\" stroke-width=\"1.5\"/>\n</svg>"
          },
          "metadata": {
            "tags": []
          }
        }
      ]
    },
    {
      "cell_type": "code",
      "metadata": {
        "id": "bTTixbGl7oXt",
        "colab_type": "code",
        "colab": {
          "base_uri": "https://localhost:8080/",
          "height": 218
        },
        "outputId": "1a6cc2bb-7d4b-4bea-a794-5faba4866166"
      },
      "source": [
        "\n",
        "\n",
        "%%mocodo --mld --colors ocean --shapes copperplate --relations diagram markdown_data_dict\n",
        "CLIENT: Réf. client, Nom, Prénom, Adresse\n",
        "PASSER, 0N CLIENT, 11 COMMANDE\n",
        "COMMANDE: Num commande, Date, Montant\n",
        "INCLURE, 1N COMMANDE, 0N PRODUIT: Quantité\n",
        "PRODUIT: Réf. produit, Libellé, Prix unitaire\n",
        "\n"
      ],
      "execution_count": null,
      "outputs": [
        {
          "output_type": "display_data",
          "data": {
            "text/plain": [
              "<IPython.core.display.SVG object>"
            ],
            "image/svg+xml": "<svg height=\"128\" view_box=\"0 0 630 128\" width=\"630\" xmlns=\"http://www.w3.org/2000/svg\" xmlns:link=\"http://www.w3.org/1999/xlink\">\n\n<desc>Generated by Mocodo 2.3.8 on Mon, 20 Jul 2020 20:41:12</desc>\n\n<rect fill=\"none\" height=\"128\" id=\"frame\" stroke=\"none\" stroke-width=\"0\" width=\"630\" x=\"0\" y=\"0\"/>\n\n<!-- Association PASSER -->\n<line stroke=\"#726f83\" stroke-width=\"1\" x1=\"51\" x2=\"166\" y1=\"64\" y2=\"64\"/>\n<text fill=\"#726f83\" font-family=\"Futura\" font-size=\"11\" x=\"98\" y=\"80.0\">0,N</text>\n<line stroke=\"#726f83\" stroke-width=\"1\" x1=\"302\" x2=\"166\" y1=\"64\" y2=\"64\"/>\n<text fill=\"#726f83\" font-family=\"Futura\" font-size=\"11\" x=\"216\" y=\"80.0\">1,1</text>\n<g id=\"association-PASSER\">\n\t<path d=\"M 196 35 a 14 14 90 0 1 14 14 V 63 h -88 V 49 a 14 14 90 0 1 14 -14\" fill=\"#b2bba4\" stroke=\"#b2bba4\" stroke-width=\"0\"/>\n\t<path d=\"M 210 63.0 v 16 a 14 14 90 0 1 -14 14 H 136 a 14 14 90 0 1 -14 -14 V 63.0 H 88\" fill=\"#ccd6ba\" stroke=\"#ccd6ba\" stroke-width=\"0\"/>\n\t<rect fill=\"none\" height=\"58\" rx=\"14\" stroke=\"#85956b\" stroke-width=\"1.5\" width=\"88\" x=\"122\" y=\"35\"/>\n\t<line stroke=\"#85956b\" stroke-width=\"1.5\" x1=\"122\" x2=\"210\" y1=\"63\" y2=\"63\"/>\n\t<text fill=\"#27360c\" font-family=\"Copperplate\" font-size=\"18\" x=\"129\" y=\"56.3\">PASSER</text>\n</g>\n\n<!-- Association INCLURE -->\n<line stroke=\"#726f83\" stroke-width=\"1\" x1=\"302\" x2=\"443\" y1=\"64\" y2=\"64\"/>\n<text fill=\"#726f83\" font-family=\"Futura\" font-size=\"11\" x=\"370\" y=\"80.0\">1,N</text>\n<line stroke=\"#726f83\" stroke-width=\"1\" x1=\"571\" x2=\"443\" y1=\"64\" y2=\"64\"/>\n<text fill=\"#726f83\" font-family=\"Futura\" font-size=\"11\" x=\"497\" y=\"80.0\">0,N</text>\n<g id=\"association-INCLURE\">\n\t<path d=\"M 478 35 a 14 14 90 0 1 14 14 V 63 h -98 V 49 a 14 14 90 0 1 14 -14\" fill=\"#b2bba4\" stroke=\"#b2bba4\" stroke-width=\"0\"/>\n\t<path d=\"M 492 63.0 v 16 a 14 14 90 0 1 -14 14 H 408 a 14 14 90 0 1 -14 -14 V 63.0 H 98\" fill=\"#ccd6ba\" stroke=\"#ccd6ba\" stroke-width=\"0\"/>\n\t<rect fill=\"none\" height=\"58\" rx=\"14\" stroke=\"#85956b\" stroke-width=\"1.5\" width=\"98\" x=\"394\" y=\"35\"/>\n\t<line stroke=\"#85956b\" stroke-width=\"1.5\" x1=\"394\" x2=\"492\" y1=\"63\" y2=\"63\"/>\n\t<text fill=\"#27360c\" font-family=\"Copperplate\" font-size=\"18\" x=\"401\" y=\"56.3\">INCLURE</text>\n\t<text fill=\"#607734\" font-family=\"Gill Sans\" font-size=\"15\" x=\"401\" y=\"81.1\">Quantité</text>\n</g>\n\n<!-- Entity CLIENT -->\n<g id=\"entity-CLIENT\">\n\t<g id=\"frame-CLIENT\">\n\t\t<rect fill=\"#97b8ff\" height=\"30\" stroke=\"#97b8ff\" stroke-width=\"0\" width=\"84\" x=\"9\" y=\"9\"/>\n\t\t<rect fill=\"#c0d4ff\" height=\"80\" stroke=\"#c0d4ff\" stroke-width=\"0\" width=\"84\" x=\"9\" y=\"39.0\"/>\n\t\t<rect fill=\"none\" height=\"110\" stroke=\"#578dff\" stroke-width=\"1.5\" width=\"84\" x=\"9\" y=\"9\"/>\n\t\t<line stroke=\"#578dff\" stroke-width=\"1.5\" x1=\"9\" x2=\"93\" y1=\"39\" y2=\"39\"/>\n\t</g>\n\t<text fill=\"#131114\" font-family=\"Copperplate\" font-size=\"18\" x=\"17\" y=\"30.299999999999997\">CLIENT</text>\n\t<text fill=\"#3e3c42\" font-family=\"Gill Sans\" font-size=\"15\" x=\"17\" y=\"56.1\">Réf. client</text>\n\t<line stroke=\"#3e3c42\" stroke-width=\"1\" x1=\"17\" x2=\"79\" y1=\"59\" y2=\"59\"/>\n\t<text fill=\"#3e3c42\" font-family=\"Gill Sans\" font-size=\"15\" x=\"17\" y=\"73.1\">Nom</text>\n\t<text fill=\"#3e3c42\" font-family=\"Gill Sans\" font-size=\"15\" x=\"17\" y=\"90.1\">Prénom</text>\n\t<text fill=\"#3e3c42\" font-family=\"Gill Sans\" font-size=\"15\" x=\"17\" y=\"107.0\">Adresse</text>\n</g>\n\n<!-- Entity COMMANDE -->\n<g id=\"entity-COMMANDE\">\n\t<g id=\"frame-COMMANDE\">\n\t\t<rect fill=\"#97b8ff\" height=\"30\" stroke=\"#97b8ff\" stroke-width=\"0\" width=\"126\" x=\"239\" y=\"17\"/>\n\t\t<rect fill=\"#c0d4ff\" height=\"64\" stroke=\"#c0d4ff\" stroke-width=\"0\" width=\"126\" x=\"239\" y=\"47.0\"/>\n\t\t<rect fill=\"none\" height=\"94\" stroke=\"#578dff\" stroke-width=\"1.5\" width=\"126\" x=\"239\" y=\"17\"/>\n\t\t<line stroke=\"#578dff\" stroke-width=\"1.5\" x1=\"239\" x2=\"365\" y1=\"47\" y2=\"47\"/>\n\t</g>\n\t<text fill=\"#131114\" font-family=\"Copperplate\" font-size=\"18\" x=\"247\" y=\"38.3\">COMMANDE</text>\n\t<text fill=\"#3e3c42\" font-family=\"Gill Sans\" font-size=\"15\" x=\"247\" y=\"64.1\">Num commande</text>\n\t<line stroke=\"#3e3c42\" stroke-width=\"1\" x1=\"247\" x2=\"352\" y1=\"67\" y2=\"67\"/>\n\t<text fill=\"#3e3c42\" font-family=\"Gill Sans\" font-size=\"15\" x=\"247\" y=\"81.1\">Date</text>\n\t<text fill=\"#3e3c42\" font-family=\"Gill Sans\" font-size=\"15\" x=\"247\" y=\"98.0\">Montant</text>\n</g>\n\n<!-- Entity PRODUIT -->\n<g id=\"entity-PRODUIT\">\n\t<g id=\"frame-PRODUIT\">\n\t\t<rect fill=\"#97b8ff\" height=\"30\" stroke=\"#97b8ff\" stroke-width=\"0\" width=\"100\" x=\"521\" y=\"17\"/>\n\t\t<rect fill=\"#c0d4ff\" height=\"64\" stroke=\"#c0d4ff\" stroke-width=\"0\" width=\"100\" x=\"521\" y=\"47.0\"/>\n\t\t<rect fill=\"none\" height=\"94\" stroke=\"#578dff\" stroke-width=\"1.5\" width=\"100\" x=\"521\" y=\"17\"/>\n\t\t<line stroke=\"#578dff\" stroke-width=\"1.5\" x1=\"521\" x2=\"621\" y1=\"47\" y2=\"47\"/>\n\t</g>\n\t<text fill=\"#131114\" font-family=\"Copperplate\" font-size=\"18\" x=\"529\" y=\"38.3\">PRODUIT</text>\n\t<text fill=\"#3e3c42\" font-family=\"Gill Sans\" font-size=\"15\" x=\"529\" y=\"64.1\">Réf. produit</text>\n\t<line stroke=\"#3e3c42\" stroke-width=\"1\" x1=\"529\" x2=\"604\" y1=\"67\" y2=\"67\"/>\n\t<text fill=\"#3e3c42\" font-family=\"Gill Sans\" font-size=\"15\" x=\"529\" y=\"81.1\">Libellé</text>\n\t<text fill=\"#3e3c42\" font-family=\"Gill Sans\" font-size=\"15\" x=\"529\" y=\"98.0\">Prix unitaire</text>\n</g>\n</svg>"
          },
          "metadata": {
            "tags": []
          }
        },
        {
          "output_type": "display_data",
          "data": {
            "text/html": [
              "<html>\n",
              "<head>\n",
              "<meta charset='utf-8'>\n",
              "<style>\n",
              "  #mld .relation { font-variant: small-caps; font-weight: bold }\n",
              "  #mld .primary { text-decoration: underline }\n",
              "  #mld .foreign { font-style: oblique }\n",
              "  #mld .normal { }\n",
              "</style>\n",
              "</head>\n",
              "<body>\n",
              "<div id='mld'>\n",
              "<div>\n",
              "  <span class='relation'>CLIENT</span> (\n",
              "    <span class='primary'>Réf. client</span>,\n",
              "    <span class='normal'>Nom</span>,\n",
              "    <span class='normal'>Prénom</span>,\n",
              "    <span class='normal'>Adresse</span>\n",
              "  )\n",
              "</div>\n",
              "<div>\n",
              "  <span class='relation'>COMMANDE</span> (\n",
              "    <span class='primary'>Num commande</span>,\n",
              "    <span class='normal'>Date</span>,\n",
              "    <span class='normal'>Montant</span>,\n",
              "    <span class='foreign'>Réf. client</span>\n",
              "  )\n",
              "</div>\n",
              "<div>\n",
              "  <span class='relation'>INCLURE</span> (\n",
              "    <span class='foreign primary'>Num commande</span>,\n",
              "    <span class='foreign primary'>Réf. produit</span>,\n",
              "    <span class='normal'>Quantité</span>\n",
              "  )\n",
              "</div>\n",
              "<div>\n",
              "  <span class='relation'>PRODUIT</span> (\n",
              "    <span class='primary'>Réf. produit</span>,\n",
              "    <span class='normal'>Libellé</span>,\n",
              "    <span class='normal'>Prix unitaire</span>\n",
              "  )\n",
              "</div>\n",
              "</div>\n",
              "</body>\n",
              "</html>"
            ],
            "text/plain": [
              "<IPython.core.display.HTML object>"
            ]
          },
          "metadata": {
            "tags": []
          }
        }
      ]
    },
    {
      "cell_type": "code",
      "metadata": {
        "id": "IaUXI-Of7sH3",
        "colab_type": "code",
        "colab": {
          "base_uri": "https://localhost:8080/",
          "height": 145
        },
        "outputId": "689261ae-1471-4b16-980f-982ffaa8ed63"
      },
      "source": [
        "%%mocodo\n",
        "CLIENT: Réf. client, Nom, Prénom, Adresse\n",
        "PASSER, 0N CLIENT, 11 COMMANDE\n",
        "COMMANDE: Num commande, Date, Montant\n",
        "INCLURE, 1N COMMANDE, 0N PRODUIT: Quantité\n",
        "PRODUIT: Réf. produit, Libellé, Prix unitaire"
      ],
      "execution_count": null,
      "outputs": [
        {
          "output_type": "display_data",
          "data": {
            "text/plain": [
              "<IPython.core.display.SVG object>"
            ],
            "image/svg+xml": "<svg height=\"124\" view_box=\"0 0 634 124\" width=\"634\" xmlns=\"http://www.w3.org/2000/svg\" xmlns:link=\"http://www.w3.org/1999/xlink\">\n\n<desc>Generated by Mocodo 2.3.8 on Mon, 20 Jul 2020 20:40:53</desc>\n\n<rect fill=\"none\" height=\"124\" id=\"frame\" stroke=\"none\" stroke-width=\"0\" width=\"634\" x=\"0\" y=\"0\"/>\n\n<!-- Association PASSER -->\n<line stroke=\"#000000\" stroke-width=\"1\" x1=\"61\" x2=\"179\" y1=\"62\" y2=\"62\"/>\n<text fill=\"#000000\" font-family=\"Courier New\" font-size=\"12\" x=\"118\" y=\"78.0\">0,N</text>\n<line stroke=\"#000000\" stroke-width=\"1\" x1=\"301\" x2=\"179\" y1=\"62\" y2=\"62\"/>\n<text fill=\"#000000\" font-family=\"Courier New\" font-size=\"12\" x=\"217\" y=\"78.0\">1,1</text>\n<g id=\"association-PASSER\">\n\t<path d=\"M 198 36 a 14 14 90 0 1 14 14 V 62 h -66 V 50 a 14 14 90 0 1 14 -14\" fill=\"#FFFFFF\" stroke=\"#FFFFFF\" stroke-width=\"0\"/>\n\t<path d=\"M 212 62.0 v 12 a 14 14 90 0 1 -14 14 H 160 a 14 14 90 0 1 -14 -14 V 62.0 H 66\" fill=\"#FFFFFF\" stroke=\"#FFFFFF\" stroke-width=\"0\"/>\n\t<rect fill=\"none\" height=\"52\" rx=\"14\" stroke=\"#000000\" stroke-width=\"1.5\" width=\"66\" x=\"146\" y=\"36\"/>\n\t<line stroke=\"#000000\" stroke-width=\"1\" x1=\"146\" x2=\"212\" y1=\"62\" y2=\"62\"/>\n\t<text fill=\"#000000\" font-family=\"Courier New\" font-size=\"14\" x=\"153\" y=\"54.6\">PASSER</text>\n</g>\n\n<!-- Association INCLURE -->\n<line stroke=\"#000000\" stroke-width=\"1\" x1=\"301\" x2=\"431\" y1=\"62\" y2=\"62\"/>\n<text fill=\"#000000\" font-family=\"Courier New\" font-size=\"12\" x=\"362\" y=\"78.0\">1,N</text>\n<line stroke=\"#000000\" stroke-width=\"1\" x1=\"565\" x2=\"431\" y1=\"62\" y2=\"62\"/>\n<text fill=\"#000000\" font-family=\"Courier New\" font-size=\"12\" x=\"477\" y=\"78.0\">0,N</text>\n<g id=\"association-INCLURE\">\n\t<path d=\"M 458 36 a 14 14 90 0 1 14 14 V 62 h -82 V 50 a 14 14 90 0 1 14 -14\" fill=\"#FFFFFF\" stroke=\"#FFFFFF\" stroke-width=\"0\"/>\n\t<path d=\"M 472 62.0 v 12 a 14 14 90 0 1 -14 14 H 404 a 14 14 90 0 1 -14 -14 V 62.0 H 82\" fill=\"#FFFFFF\" stroke=\"#FFFFFF\" stroke-width=\"0\"/>\n\t<rect fill=\"none\" height=\"52\" rx=\"14\" stroke=\"#000000\" stroke-width=\"1.5\" width=\"82\" x=\"390\" y=\"36\"/>\n\t<line stroke=\"#000000\" stroke-width=\"1\" x1=\"390\" x2=\"472\" y1=\"62\" y2=\"62\"/>\n\t<text fill=\"#000000\" font-family=\"Courier New\" font-size=\"14\" x=\"401\" y=\"54.6\">INCLURE</text>\n\t<text fill=\"#000000\" font-family=\"Courier New\" font-size=\"14\" x=\"397\" y=\"80.6\">Quantité</text>\n</g>\n\n<!-- Entity CLIENT -->\n<g id=\"entity-CLIENT\">\n\t<g id=\"frame-CLIENT\">\n\t\t<rect fill=\"#FFFFFF\" height=\"26\" stroke=\"#FFFFFF\" stroke-width=\"0\" width=\"104\" x=\"9\" y=\"9\"/>\n\t\t<rect fill=\"#FFFFFF\" height=\"80\" stroke=\"#FFFFFF\" stroke-width=\"0\" width=\"104\" x=\"9\" y=\"35.0\"/>\n\t\t<rect fill=\"none\" height=\"106\" stroke=\"#000000\" stroke-width=\"1.5\" width=\"104\" x=\"9\" y=\"9\"/>\n\t\t<line stroke=\"#000000\" stroke-width=\"1\" x1=\"9\" x2=\"113\" y1=\"35\" y2=\"35\"/>\n\t</g>\n\t<text fill=\"#000000\" font-family=\"Courier New\" font-size=\"14\" x=\"35\" y=\"27.6\">CLIENT</text>\n\t<text fill=\"#000000\" font-family=\"Courier New\" font-size=\"14\" x=\"14\" y=\"53.6\">Réf. client</text>\n\t<line stroke=\"#000000\" stroke-width=\"1\" x1=\"14\" x2=\"108\" y1=\"56.0\" y2=\"56.0\"/>\n\t<text fill=\"#000000\" font-family=\"Courier New\" font-size=\"14\" x=\"14\" y=\"71.6\">Nom</text>\n\t<text fill=\"#000000\" font-family=\"Courier New\" font-size=\"14\" x=\"14\" y=\"89.6\">Prénom</text>\n\t<text fill=\"#000000\" font-family=\"Courier New\" font-size=\"14\" x=\"14\" y=\"107.6\">Adresse</text>\n</g>\n\n<!-- Entity COMMANDE -->\n<g id=\"entity-COMMANDE\">\n\t<g id=\"frame-COMMANDE\">\n\t\t<rect fill=\"#FFFFFF\" height=\"26\" stroke=\"#FFFFFF\" stroke-width=\"0\" width=\"112\" x=\"245\" y=\"18\"/>\n\t\t<rect fill=\"#FFFFFF\" height=\"62\" stroke=\"#FFFFFF\" stroke-width=\"0\" width=\"112\" x=\"245\" y=\"44.0\"/>\n\t\t<rect fill=\"none\" height=\"88\" stroke=\"#000000\" stroke-width=\"1.5\" width=\"112\" x=\"245\" y=\"18\"/>\n\t\t<line stroke=\"#000000\" stroke-width=\"1\" x1=\"245\" x2=\"357\" y1=\"44\" y2=\"44\"/>\n\t</g>\n\t<text fill=\"#000000\" font-family=\"Courier New\" font-size=\"14\" x=\"267\" y=\"36.6\">COMMANDE</text>\n\t<text fill=\"#000000\" font-family=\"Courier New\" font-size=\"14\" x=\"250\" y=\"62.6\">Num commande</text>\n\t<line stroke=\"#000000\" stroke-width=\"1\" x1=\"250\" x2=\"352\" y1=\"65.0\" y2=\"65.0\"/>\n\t<text fill=\"#000000\" font-family=\"Courier New\" font-size=\"14\" x=\"250\" y=\"80.6\">Date</text>\n\t<text fill=\"#000000\" font-family=\"Courier New\" font-size=\"14\" x=\"250\" y=\"98.6\">Montant</text>\n</g>\n\n<!-- Entity PRODUIT -->\n<g id=\"entity-PRODUIT\">\n\t<g id=\"frame-PRODUIT\">\n\t\t<rect fill=\"#FFFFFF\" height=\"26\" stroke=\"#FFFFFF\" stroke-width=\"0\" width=\"120\" x=\"505\" y=\"18\"/>\n\t\t<rect fill=\"#FFFFFF\" height=\"62\" stroke=\"#FFFFFF\" stroke-width=\"0\" width=\"120\" x=\"505\" y=\"44.0\"/>\n\t\t<rect fill=\"none\" height=\"88\" stroke=\"#000000\" stroke-width=\"1.5\" width=\"120\" x=\"505\" y=\"18\"/>\n\t\t<line stroke=\"#000000\" stroke-width=\"1\" x1=\"505\" x2=\"625\" y1=\"44\" y2=\"44\"/>\n\t</g>\n\t<text fill=\"#000000\" font-family=\"Courier New\" font-size=\"14\" x=\"535\" y=\"36.6\">PRODUIT</text>\n\t<text fill=\"#000000\" font-family=\"Courier New\" font-size=\"14\" x=\"510\" y=\"62.6\">Réf. produit</text>\n\t<line stroke=\"#000000\" stroke-width=\"1\" x1=\"510\" x2=\"612\" y1=\"65.0\" y2=\"65.0\"/>\n\t<text fill=\"#000000\" font-family=\"Courier New\" font-size=\"14\" x=\"510\" y=\"80.6\">Libellé</text>\n\t<text fill=\"#000000\" font-family=\"Courier New\" font-size=\"14\" x=\"510\" y=\"98.6\">Prix unitaire</text>\n</g>\n</svg>"
          },
          "metadata": {
            "tags": []
          }
        }
      ]
    },
    {
      "cell_type": "code",
      "metadata": {
        "id": "pBnaTIUW9SKk",
        "colab_type": "code",
        "colab": {
          "base_uri": "https://localhost:8080/",
          "height": 145
        },
        "outputId": "dfcf9250-3c98-4e32-981a-a6ee9eee70db"
      },
      "source": [
        "%mocodo --input mocodo_notebook/sandbox.mld --colors desert"
      ],
      "execution_count": null,
      "outputs": [
        {
          "output_type": "display_data",
          "data": {
            "text/plain": [
              "<IPython.core.display.SVG object>"
            ],
            "image/svg+xml": "<svg height=\"124\" view_box=\"0 0 738 124\" width=\"738\" xmlns=\"http://www.w3.org/2000/svg\" xmlns:link=\"http://www.w3.org/1999/xlink\">\n\n<desc>Generated by Mocodo 2.3.8 on Mon, 20 Jul 2020 20:41:23</desc>\n\n<rect fill=\"none\" height=\"124\" id=\"frame\" stroke=\"none\" stroke-width=\"0\" width=\"738\" x=\"0\" y=\"0\"/>\n\n<!-- Entity CLIENT -->\n<g id=\"entity-CLIENT\">\n\t<g id=\"frame-CLIENT\">\n\t\t<rect fill=\"#FAA945\" height=\"26\" stroke=\"#FAA945\" stroke-width=\"0\" width=\"104\" x=\"42\" y=\"9\"/>\n\t\t<rect fill=\"#FFB94E\" height=\"80\" stroke=\"#FFB94E\" stroke-width=\"0\" width=\"104\" x=\"42\" y=\"35.0\"/>\n\t\t<rect fill=\"none\" height=\"106\" stroke=\"#CB7E1F\" stroke-width=\"1.5\" width=\"104\" x=\"42\" y=\"9\"/>\n\t\t<line stroke=\"#CB7E1F\" stroke-width=\"1\" x1=\"42\" x2=\"146\" y1=\"35\" y2=\"35\"/>\n\t</g>\n\t<text fill=\"#645530\" font-family=\"Courier New\" font-size=\"14\" x=\"68\" y=\"27.6\">CLIENT</text>\n\t<text fill=\"#645530\" font-family=\"Courier New\" font-size=\"14\" x=\"47\" y=\"53.6\">Réf. client</text>\n\t<line stroke=\"#645530\" stroke-width=\"1\" x1=\"47\" x2=\"141\" y1=\"56.0\" y2=\"56.0\"/>\n\t<text fill=\"#645530\" font-family=\"Courier New\" font-size=\"14\" x=\"47\" y=\"71.6\">Nom</text>\n\t<text fill=\"#645530\" font-family=\"Courier New\" font-size=\"14\" x=\"47\" y=\"89.6\">Prénom</text>\n\t<text fill=\"#645530\" font-family=\"Courier New\" font-size=\"14\" x=\"47\" y=\"107.6\">Adresse</text>\n</g>\n\n<!-- Entity COMMANDE -->\n<g id=\"entity-COMMANDE\">\n\t<g id=\"frame-COMMANDE\">\n\t\t<rect fill=\"#FAA945\" height=\"26\" stroke=\"#FAA945\" stroke-width=\"0\" width=\"112\" x=\"212\" y=\"9\"/>\n\t\t<rect fill=\"#FFB94E\" height=\"80\" stroke=\"#FFB94E\" stroke-width=\"0\" width=\"112\" x=\"212\" y=\"35.0\"/>\n\t\t<rect fill=\"none\" height=\"106\" stroke=\"#CB7E1F\" stroke-width=\"1.5\" width=\"112\" x=\"212\" y=\"9\"/>\n\t\t<line stroke=\"#CB7E1F\" stroke-width=\"1\" x1=\"212\" x2=\"324\" y1=\"35\" y2=\"35\"/>\n\t</g>\n\t<text fill=\"#645530\" font-family=\"Courier New\" font-size=\"14\" x=\"234\" y=\"27.6\">COMMANDE</text>\n\t<text fill=\"#645530\" font-family=\"Courier New\" font-size=\"14\" x=\"217\" y=\"53.6\">Num commande</text>\n\t<line stroke=\"#645530\" stroke-width=\"1\" x1=\"217\" x2=\"319\" y1=\"56.0\" y2=\"56.0\"/>\n\t<text fill=\"#645530\" font-family=\"Courier New\" font-size=\"14\" x=\"217\" y=\"71.6\">Date</text>\n\t<text fill=\"#645530\" font-family=\"Courier New\" font-size=\"14\" x=\"217\" y=\"89.6\">Montant</text>\n\t<text fill=\"#645530\" font-family=\"Courier New\" font-size=\"14\" x=\"217\" y=\"107.6\">#Réf. client</text>\n</g>\n\n<!-- Entity INCLURE -->\n<g id=\"entity-INCLURE\">\n\t<g id=\"frame-INCLURE\">\n\t\t<rect fill=\"#FAA945\" height=\"26\" stroke=\"#FAA945\" stroke-width=\"0\" width=\"120\" x=\"390\" y=\"18\"/>\n\t\t<rect fill=\"#FFB94E\" height=\"62\" stroke=\"#FFB94E\" stroke-width=\"0\" width=\"120\" x=\"390\" y=\"44.0\"/>\n\t\t<rect fill=\"none\" height=\"88\" stroke=\"#CB7E1F\" stroke-width=\"1.5\" width=\"120\" x=\"390\" y=\"18\"/>\n\t\t<line stroke=\"#CB7E1F\" stroke-width=\"1\" x1=\"390\" x2=\"510\" y1=\"44\" y2=\"44\"/>\n\t</g>\n\t<text fill=\"#645530\" font-family=\"Courier New\" font-size=\"14\" x=\"420\" y=\"36.6\">INCLURE</text>\n\t<text fill=\"#645530\" font-family=\"Courier New\" font-size=\"14\" x=\"395\" y=\"62.6\">#Num commande</text>\n\t<line stroke=\"#645530\" stroke-width=\"1\" x1=\"395\" x2=\"505\" y1=\"65.0\" y2=\"65.0\"/>\n\t<text fill=\"#645530\" font-family=\"Courier New\" font-size=\"14\" x=\"395\" y=\"80.6\">#Réf. produit</text>\n\t<line stroke=\"#645530\" stroke-width=\"1\" x1=\"395\" x2=\"505\" y1=\"83.0\" y2=\"83.0\"/>\n\t<text fill=\"#645530\" font-family=\"Courier New\" font-size=\"14\" x=\"395\" y=\"98.6\">Quantité</text>\n</g>\n\n<!-- Entity PRODUIT -->\n<g id=\"entity-PRODUIT\">\n\t<g id=\"frame-PRODUIT\">\n\t\t<rect fill=\"#FAA945\" height=\"26\" stroke=\"#FAA945\" stroke-width=\"0\" width=\"120\" x=\"576\" y=\"18\"/>\n\t\t<rect fill=\"#FFB94E\" height=\"62\" stroke=\"#FFB94E\" stroke-width=\"0\" width=\"120\" x=\"576\" y=\"44.0\"/>\n\t\t<rect fill=\"none\" height=\"88\" stroke=\"#CB7E1F\" stroke-width=\"1.5\" width=\"120\" x=\"576\" y=\"18\"/>\n\t\t<line stroke=\"#CB7E1F\" stroke-width=\"1\" x1=\"576\" x2=\"696\" y1=\"44\" y2=\"44\"/>\n\t</g>\n\t<text fill=\"#645530\" font-family=\"Courier New\" font-size=\"14\" x=\"606\" y=\"36.6\">PRODUIT</text>\n\t<text fill=\"#645530\" font-family=\"Courier New\" font-size=\"14\" x=\"581\" y=\"62.6\">Réf. produit</text>\n\t<line stroke=\"#645530\" stroke-width=\"1\" x1=\"581\" x2=\"683\" y1=\"65.0\" y2=\"65.0\"/>\n\t<text fill=\"#645530\" font-family=\"Courier New\" font-size=\"14\" x=\"581\" y=\"80.6\">Libellé</text>\n\t<text fill=\"#645530\" font-family=\"Courier New\" font-size=\"14\" x=\"581\" y=\"98.6\">Prix unitaire</text>\n</g>\n\n<!-- Link from \"Réf. client\" (COMMANDE) to \"Réf. client\" (CLIENT) -->\n<path d=\"M212 103.0 C 179.0 76.0 190.0 49.0 146 49.0\" fill=\"none\" stroke=\"#4C3D30\" stroke-width=\"1\"/>\n<path d=\"M 146 49.0 L 158.0 43.0 L 154.0 49.0 L 158.0 55.0 Z\" fill=\"#4C3D30\" stroke-width=\"0\"/>\n<circle cx=\"212\" cy=\"103.0\" fill=\"#4C3D30\" r=\"1.5\" stroke=\"#4C3D30\" stroke-width=\"1.5\"/>\n\n<!-- Link from \"Num commande\" (INCLURE) to \"Num commande\" (COMMANDE) -->\n<path d=\"M390 58.0 C 357.0 53.5 368.0 49.0 324 49.0\" fill=\"none\" stroke=\"#4C3D30\" stroke-width=\"1\"/>\n<path d=\"M 324 49.0 L 336.0 43.0 L 332.0 49.0 L 336.0 55.0 Z\" fill=\"#4C3D30\" stroke-width=\"0\"/>\n<circle cx=\"390\" cy=\"58.0\" fill=\"#4C3D30\" r=\"1.5\" stroke=\"#4C3D30\" stroke-width=\"1.5\"/>\n\n<!-- Link from \"Réf. produit\" (INCLURE) to \"Réf. produit\" (PRODUIT) -->\n<path d=\"M510 76.0 C 543.0 67.0 532.0 58.0 576 58.0\" fill=\"none\" stroke=\"#4C3D30\" stroke-width=\"1\"/>\n<path d=\"M 576 58.0 L 564.0 64.0 L 568.0 58.0 L 564.0 52.0 Z\" fill=\"#4C3D30\" stroke-width=\"0\"/>\n<circle cx=\"510\" cy=\"76.0\" fill=\"#4C3D30\" r=\"1.5\" stroke=\"#4C3D30\" stroke-width=\"1.5\"/>\n</svg>"
          },
          "metadata": {
            "tags": []
          }
        }
      ]
    },
    {
      "cell_type": "code",
      "metadata": {
        "id": "pxDZMXFg_xlX",
        "colab_type": "code",
        "colab": {
          "base_uri": "https://localhost:8080/",
          "height": 394
        },
        "outputId": "22c3297e-dcb9-431f-fa9b-013b3d7beab8"
      },
      "source": [
        "%%mocodo --mld --colors ocean --shapes copperplate --relations diagram markdown_data_dict\n",
        "EST Dans, 11 Élève, 1N Classe\n",
        "Classe: Num. classe, Num. salle\n",
        "Faire Cours, 1N Classe, 1N Prof: Vol. horaire\n",
        "Catégorie: Code catégorie, Nom catégorie\n",
        "\n",
        "Élève: Num. élève, Nom élève\n",
        "Noter, 1N Élève, 0N Prof, 0N Matière, 1N Date: Note\n",
        "Prof: Num. prof, Nom prof\n",
        "Relever, 0N Catégorie, 11 Prof\n",
        "\n",
        "Date: Date\n",
        "Matière: Libellé matière\n",
        "Enseigner, 11 Prof, 1N Matière"
      ],
      "execution_count": null,
      "outputs": [
        {
          "output_type": "display_data",
          "data": {
            "text/plain": [
              "<IPython.core.display.SVG object>"
            ],
            "image/svg+xml": "<svg height=\"269\" view_box=\"0 0 540 269\" width=\"540\" xmlns=\"http://www.w3.org/2000/svg\" xmlns:link=\"http://www.w3.org/1999/xlink\">\n\n<desc>Generated by Mocodo 2.3.8 on Mon, 20 Jul 2020 20:53:51</desc>\n\n<rect fill=\"none\" height=\"269\" id=\"frame\" stroke=\"none\" stroke-width=\"0\" width=\"540\" x=\"0\" y=\"0\"/>\n\n<!-- Association EST Dans -->\n<line stroke=\"#726f83\" stroke-width=\"1\" x1=\"60\" x2=\"60\" y1=\"138\" y2=\"47\"/>\n<text fill=\"#726f83\" font-family=\"Futura\" font-size=\"11\" x=\"65.0\" y=\"92\">1,1</text>\n<line stroke=\"#726f83\" stroke-width=\"1\" x1=\"186\" x2=\"60\" y1=\"47\" y2=\"47\"/>\n<text fill=\"#726f83\" font-family=\"Futura\" font-size=\"11\" x=\"116\" y=\"63.0\">1,N</text>\n<g id=\"association-EST Dans\">\n\t<path d=\"M 97 18 a 14 14 90 0 1 14 14 V 46 h -102 V 32 a 14 14 90 0 1 14 -14\" fill=\"#b2bba4\" stroke=\"#b2bba4\" stroke-width=\"0\"/>\n\t<path d=\"M 111 46.0 v 16 a 14 14 90 0 1 -14 14 H 23 a 14 14 90 0 1 -14 -14 V 46.0 H 102\" fill=\"#ccd6ba\" stroke=\"#ccd6ba\" stroke-width=\"0\"/>\n\t<rect fill=\"none\" height=\"58\" rx=\"14\" stroke=\"#85956b\" stroke-width=\"1.5\" width=\"102\" x=\"9\" y=\"18\"/>\n\t<line stroke=\"#85956b\" stroke-width=\"1.5\" x1=\"9\" x2=\"111\" y1=\"46\" y2=\"46\"/>\n\t<text fill=\"#27360c\" font-family=\"Copperplate\" font-size=\"18\" x=\"16\" y=\"39.3\">EST Dans</text>\n</g>\n\n<!-- Association Faire Cours -->\n<line stroke=\"#726f83\" stroke-width=\"1\" x1=\"186\" x2=\"325\" y1=\"47\" y2=\"47\"/>\n<text fill=\"#726f83\" font-family=\"Futura\" font-size=\"11\" x=\"237\" y=\"63.0\">1,N</text>\n<line stroke=\"#726f83\" stroke-width=\"1\" x1=\"325\" x2=\"325\" y1=\"138\" y2=\"47\"/>\n<text fill=\"#726f83\" font-family=\"Futura\" font-size=\"11\" x=\"330.0\" y=\"92\">1,N</text>\n<g id=\"association-Faire Cours\">\n\t<path d=\"M 374 18 a 14 14 90 0 1 14 14 V 46 h -126 V 32 a 14 14 90 0 1 14 -14\" fill=\"#b2bba4\" stroke=\"#b2bba4\" stroke-width=\"0\"/>\n\t<path d=\"M 388 46.0 v 16 a 14 14 90 0 1 -14 14 H 276 a 14 14 90 0 1 -14 -14 V 46.0 H 126\" fill=\"#ccd6ba\" stroke=\"#ccd6ba\" stroke-width=\"0\"/>\n\t<rect fill=\"none\" height=\"58\" rx=\"14\" stroke=\"#85956b\" stroke-width=\"1.5\" width=\"126\" x=\"262\" y=\"18\"/>\n\t<line stroke=\"#85956b\" stroke-width=\"1.5\" x1=\"262\" x2=\"388\" y1=\"46\" y2=\"46\"/>\n\t<text fill=\"#27360c\" font-family=\"Copperplate\" font-size=\"18\" x=\"269\" y=\"39.3\">Faire Cours</text>\n\t<text fill=\"#607734\" font-family=\"Gill Sans\" font-size=\"15\" x=\"269\" y=\"64.1\">Vol. horaire</text>\n</g>\n\n<!-- Association Noter -->\n<line stroke=\"#726f83\" stroke-width=\"1\" x1=\"60\" x2=\"186\" y1=\"138\" y2=\"138\"/>\n<text fill=\"#726f83\" font-family=\"Futura\" font-size=\"11\" x=\"109\" y=\"154.0\">1,N</text>\n<line stroke=\"#726f83\" stroke-width=\"1\" x1=\"325\" x2=\"186\" y1=\"138\" y2=\"138\"/>\n<text fill=\"#726f83\" font-family=\"Futura\" font-size=\"11\" x=\"260\" y=\"154.0\">0,N</text>\n<line stroke=\"#726f83\" stroke-width=\"1\" x1=\"186\" x2=\"186\" y1=\"230\" y2=\"138\"/>\n<text fill=\"#726f83\" font-family=\"Futura\" font-size=\"11\" x=\"191.0\" y=\"192\">0,N</text>\n<line stroke=\"#726f83\" stroke-width=\"1\" x1=\"60\" x2=\"186\" y1=\"230\" y2=\"138\"/>\n<text fill=\"#726f83\" font-family=\"Futura\" font-size=\"11\" x=\"95\" y=\"218.5652268423263\">1,N</text>\n<g id=\"association-Noter\">\n\t<path d=\"M 207 109 a 14 14 90 0 1 14 14 V 137 h -70 V 123 a 14 14 90 0 1 14 -14\" fill=\"#b2bba4\" stroke=\"#b2bba4\" stroke-width=\"0\"/>\n\t<path d=\"M 221 137.0 v 16 a 14 14 90 0 1 -14 14 H 165 a 14 14 90 0 1 -14 -14 V 137.0 H 70\" fill=\"#ccd6ba\" stroke=\"#ccd6ba\" stroke-width=\"0\"/>\n\t<rect fill=\"none\" height=\"58\" rx=\"14\" stroke=\"#85956b\" stroke-width=\"1.5\" width=\"70\" x=\"151\" y=\"109\"/>\n\t<line stroke=\"#85956b\" stroke-width=\"1.5\" x1=\"151\" x2=\"221\" y1=\"137\" y2=\"137\"/>\n\t<text fill=\"#27360c\" font-family=\"Copperplate\" font-size=\"18\" x=\"158\" y=\"130.3\">Noter</text>\n\t<text fill=\"#607734\" font-family=\"Gill Sans\" font-size=\"15\" x=\"158\" y=\"155.1\">Note</text>\n</g>\n\n<!-- Association Relever -->\n<line stroke=\"#726f83\" stroke-width=\"1\" x1=\"474\" x2=\"474\" y1=\"47\" y2=\"138\"/>\n<text fill=\"#726f83\" font-family=\"Futura\" font-size=\"11\" x=\"479.0\" y=\"101\">0,N</text>\n<line stroke=\"#726f83\" stroke-width=\"1\" x1=\"325\" x2=\"474\" y1=\"138\" y2=\"138\"/>\n<text fill=\"#726f83\" font-family=\"Futura\" font-size=\"11\" x=\"371\" y=\"154.0\">1,1</text>\n<g id=\"association-Relever\">\n\t<path d=\"M 505 109 a 14 14 90 0 1 14 14 V 137 h -90 V 123 a 14 14 90 0 1 14 -14\" fill=\"#b2bba4\" stroke=\"#b2bba4\" stroke-width=\"0\"/>\n\t<path d=\"M 519 137.0 v 16 a 14 14 90 0 1 -14 14 H 443 a 14 14 90 0 1 -14 -14 V 137.0 H 90\" fill=\"#ccd6ba\" stroke=\"#ccd6ba\" stroke-width=\"0\"/>\n\t<rect fill=\"none\" height=\"58\" rx=\"14\" stroke=\"#85956b\" stroke-width=\"1.5\" width=\"90\" x=\"429\" y=\"109\"/>\n\t<line stroke=\"#85956b\" stroke-width=\"1.5\" x1=\"429\" x2=\"519\" y1=\"137\" y2=\"137\"/>\n\t<text fill=\"#27360c\" font-family=\"Copperplate\" font-size=\"18\" x=\"436\" y=\"130.3\">Relever</text>\n</g>\n\n<!-- Association Enseigner -->\n<line stroke=\"#726f83\" stroke-width=\"1\" x1=\"325\" x2=\"325\" y1=\"138\" y2=\"230\"/>\n<text fill=\"#726f83\" font-family=\"Futura\" font-size=\"11\" x=\"330.0\" y=\"192\">1,1</text>\n<line stroke=\"#726f83\" stroke-width=\"1\" x1=\"186\" x2=\"325\" y1=\"230\" y2=\"230\"/>\n<text fill=\"#726f83\" font-family=\"Futura\" font-size=\"11\" x=\"246\" y=\"246.0\">1,N</text>\n<g id=\"association-Enseigner\">\n\t<path d=\"M 366 201 a 14 14 90 0 1 14 14 V 229 h -110 V 215 a 14 14 90 0 1 14 -14\" fill=\"#b2bba4\" stroke=\"#b2bba4\" stroke-width=\"0\"/>\n\t<path d=\"M 380 229.0 v 16 a 14 14 90 0 1 -14 14 H 284 a 14 14 90 0 1 -14 -14 V 229.0 H 110\" fill=\"#ccd6ba\" stroke=\"#ccd6ba\" stroke-width=\"0\"/>\n\t<rect fill=\"none\" height=\"58\" rx=\"14\" stroke=\"#85956b\" stroke-width=\"1.5\" width=\"110\" x=\"270\" y=\"201\"/>\n\t<line stroke=\"#85956b\" stroke-width=\"1.5\" x1=\"270\" x2=\"380\" y1=\"229\" y2=\"229\"/>\n\t<text fill=\"#27360c\" font-family=\"Copperplate\" font-size=\"18\" x=\"277\" y=\"222.3\">Enseigner</text>\n</g>\n\n<!-- Entity Classe -->\n<g id=\"entity-Classe\">\n\t<g id=\"frame-Classe\">\n\t\t<rect fill=\"#97b8ff\" height=\"30\" stroke=\"#97b8ff\" stroke-width=\"0\" width=\"92\" x=\"140\" y=\"9\"/>\n\t\t<rect fill=\"#c0d4ff\" height=\"46\" stroke=\"#c0d4ff\" stroke-width=\"0\" width=\"92\" x=\"140\" y=\"39.0\"/>\n\t\t<rect fill=\"none\" height=\"76\" stroke=\"#578dff\" stroke-width=\"1.5\" width=\"92\" x=\"140\" y=\"9\"/>\n\t\t<line stroke=\"#578dff\" stroke-width=\"1.5\" x1=\"140\" x2=\"232\" y1=\"39\" y2=\"39\"/>\n\t</g>\n\t<text fill=\"#131114\" font-family=\"Copperplate\" font-size=\"18\" x=\"154\" y=\"30.3\">Classe</text>\n\t<text fill=\"#3e3c42\" font-family=\"Gill Sans\" font-size=\"15\" x=\"148\" y=\"56.1\">Num. classe</text>\n\t<line stroke=\"#3e3c42\" stroke-width=\"1\" x1=\"148\" x2=\"224\" y1=\"59\" y2=\"59\"/>\n\t<text fill=\"#3e3c42\" font-family=\"Gill Sans\" font-size=\"15\" x=\"148\" y=\"73.1\">Num. salle</text>\n</g>\n\n<!-- Entity Catégorie -->\n<g id=\"entity-Catégorie\">\n\t<g id=\"frame-Catégorie\">\n\t\t<rect fill=\"#97b8ff\" height=\"30\" stroke=\"#97b8ff\" stroke-width=\"0\" width=\"114\" x=\"417\" y=\"9\"/>\n\t\t<rect fill=\"#c0d4ff\" height=\"46\" stroke=\"#c0d4ff\" stroke-width=\"0\" width=\"114\" x=\"417\" y=\"39.0\"/>\n\t\t<rect fill=\"none\" height=\"76\" stroke=\"#578dff\" stroke-width=\"1.5\" width=\"114\" x=\"417\" y=\"9\"/>\n\t\t<line stroke=\"#578dff\" stroke-width=\"1.5\" x1=\"417\" x2=\"531\" y1=\"39\" y2=\"39\"/>\n\t</g>\n\t<text fill=\"#131114\" font-family=\"Copperplate\" font-size=\"18\" x=\"428\" y=\"30.3\">Catégorie</text>\n\t<text fill=\"#3e3c42\" font-family=\"Gill Sans\" font-size=\"15\" x=\"425\" y=\"56.1\">Code catégorie</text>\n\t<line stroke=\"#3e3c42\" stroke-width=\"1\" x1=\"425\" x2=\"522\" y1=\"59\" y2=\"59\"/>\n\t<text fill=\"#3e3c42\" font-family=\"Gill Sans\" font-size=\"15\" x=\"425\" y=\"73.1\">Nom catégorie</text>\n</g>\n\n<!-- Entity Élève -->\n<g id=\"entity-Élève\">\n\t<g id=\"frame-Élève\">\n\t\t<rect fill=\"#97b8ff\" height=\"30\" stroke=\"#97b8ff\" stroke-width=\"0\" width=\"88\" x=\"16\" y=\"100\"/>\n\t\t<rect fill=\"#c0d4ff\" height=\"46\" stroke=\"#c0d4ff\" stroke-width=\"0\" width=\"88\" x=\"16\" y=\"130.0\"/>\n\t\t<rect fill=\"none\" height=\"76\" stroke=\"#578dff\" stroke-width=\"1.5\" width=\"88\" x=\"16\" y=\"100\"/>\n\t\t<line stroke=\"#578dff\" stroke-width=\"1.5\" x1=\"16\" x2=\"104\" y1=\"130\" y2=\"130\"/>\n\t</g>\n\t<text fill=\"#131114\" font-family=\"Copperplate\" font-size=\"18\" x=\"33\" y=\"121.3\">Élève</text>\n\t<text fill=\"#3e3c42\" font-family=\"Gill Sans\" font-size=\"15\" x=\"24\" y=\"147.1\">Num. élève</text>\n\t<line stroke=\"#3e3c42\" stroke-width=\"1\" x1=\"24\" x2=\"96\" y1=\"150\" y2=\"150\"/>\n\t<text fill=\"#3e3c42\" font-family=\"Gill Sans\" font-size=\"15\" x=\"24\" y=\"164.1\">Nom élève</text>\n</g>\n\n<!-- Entity Prof -->\n<g id=\"entity-Prof\">\n\t<g id=\"frame-Prof\">\n\t\t<rect fill=\"#97b8ff\" height=\"30\" stroke=\"#97b8ff\" stroke-width=\"0\" width=\"82\" x=\"284\" y=\"100\"/>\n\t\t<rect fill=\"#c0d4ff\" height=\"46\" stroke=\"#c0d4ff\" stroke-width=\"0\" width=\"82\" x=\"284\" y=\"130.0\"/>\n\t\t<rect fill=\"none\" height=\"76\" stroke=\"#578dff\" stroke-width=\"1.5\" width=\"82\" x=\"284\" y=\"100\"/>\n\t\t<line stroke=\"#578dff\" stroke-width=\"1.5\" x1=\"284\" x2=\"366\" y1=\"130\" y2=\"130\"/>\n\t</g>\n\t<text fill=\"#131114\" font-family=\"Copperplate\" font-size=\"18\" x=\"302\" y=\"121.3\">Prof</text>\n\t<text fill=\"#3e3c42\" font-family=\"Gill Sans\" font-size=\"15\" x=\"292\" y=\"147.1\">Num. prof</text>\n\t<line stroke=\"#3e3c42\" stroke-width=\"1\" x1=\"292\" x2=\"358\" y1=\"150\" y2=\"150\"/>\n\t<text fill=\"#3e3c42\" font-family=\"Gill Sans\" font-size=\"15\" x=\"292\" y=\"164.1\">Nom prof</text>\n</g>\n\n<!-- Entity Date -->\n<g id=\"entity-Date\">\n\t<g id=\"frame-Date\">\n\t\t<rect fill=\"#97b8ff\" height=\"30\" stroke=\"#97b8ff\" stroke-width=\"0\" width=\"60\" x=\"30\" y=\"200\"/>\n\t\t<rect fill=\"#c0d4ff\" height=\"30\" stroke=\"#c0d4ff\" stroke-width=\"0\" width=\"60\" x=\"30\" y=\"230.0\"/>\n\t\t<rect fill=\"none\" height=\"60\" stroke=\"#578dff\" stroke-width=\"1.5\" width=\"60\" x=\"30\" y=\"200\"/>\n\t\t<line stroke=\"#578dff\" stroke-width=\"1.5\" x1=\"30\" x2=\"90\" y1=\"230\" y2=\"230\"/>\n\t</g>\n\t<text fill=\"#131114\" font-family=\"Copperplate\" font-size=\"18\" x=\"38\" y=\"221.3\">Date</text>\n\t<text fill=\"#3e3c42\" font-family=\"Gill Sans\" font-size=\"15\" x=\"38\" y=\"247.1\">Date</text>\n\t<line stroke=\"#3e3c42\" stroke-width=\"1\" x1=\"38\" x2=\"69\" y1=\"250\" y2=\"250\"/>\n</g>\n\n<!-- Entity Matière -->\n<g id=\"entity-Matière\">\n\t<g id=\"frame-Matière\">\n\t\t<rect fill=\"#97b8ff\" height=\"30\" stroke=\"#97b8ff\" stroke-width=\"0\" width=\"110\" x=\"131\" y=\"200\"/>\n\t\t<rect fill=\"#c0d4ff\" height=\"30\" stroke=\"#c0d4ff\" stroke-width=\"0\" width=\"110\" x=\"131\" y=\"230.0\"/>\n\t\t<rect fill=\"none\" height=\"60\" stroke=\"#578dff\" stroke-width=\"1.5\" width=\"110\" x=\"131\" y=\"200\"/>\n\t\t<line stroke=\"#578dff\" stroke-width=\"1.5\" x1=\"131\" x2=\"241\" y1=\"230\" y2=\"230\"/>\n\t</g>\n\t<text fill=\"#131114\" font-family=\"Copperplate\" font-size=\"18\" x=\"150\" y=\"221.3\">Matière</text>\n\t<text fill=\"#3e3c42\" font-family=\"Gill Sans\" font-size=\"15\" x=\"139\" y=\"247.1\">Libellé matière</text>\n\t<line stroke=\"#3e3c42\" stroke-width=\"1\" x1=\"139\" x2=\"232\" y1=\"250\" y2=\"250\"/>\n</g>\n</svg>"
          },
          "metadata": {
            "tags": []
          }
        },
        {
          "output_type": "display_data",
          "data": {
            "text/html": [
              "<html>\n",
              "<head>\n",
              "<meta charset='utf-8'>\n",
              "<style>\n",
              "  #mld .relation { font-variant: small-caps; font-weight: bold }\n",
              "  #mld .primary { text-decoration: underline }\n",
              "  #mld .foreign { font-style: oblique }\n",
              "  #mld .normal { }\n",
              "</style>\n",
              "</head>\n",
              "<body>\n",
              "<div id='mld'>\n",
              "<div>\n",
              "  <span class='relation'>Classe</span> (\n",
              "    <span class='primary'>Num. classe</span>,\n",
              "    <span class='normal'>Num. salle</span>\n",
              "  )\n",
              "</div>\n",
              "<div>\n",
              "  <span class='relation'>Faire Cours</span> (\n",
              "    <span class='foreign primary'>Num. classe</span>,\n",
              "    <span class='foreign primary'>Num. prof</span>,\n",
              "    <span class='normal'>Vol. horaire</span>\n",
              "  )\n",
              "</div>\n",
              "<div>\n",
              "  <span class='relation'>Catégorie</span> (\n",
              "    <span class='primary'>Code catégorie</span>,\n",
              "    <span class='normal'>Nom catégorie</span>\n",
              "  )\n",
              "</div>\n",
              "<div>\n",
              "  <span class='relation'>Élève</span> (\n",
              "    <span class='primary'>Num. élève</span>,\n",
              "    <span class='normal'>Nom élève</span>,\n",
              "    <span class='foreign'>Num. classe</span>\n",
              "  )\n",
              "</div>\n",
              "<div>\n",
              "  <span class='relation'>Noter</span> (\n",
              "    <span class='foreign primary'>Num. élève</span>,\n",
              "    <span class='foreign primary'>Num. prof</span>,\n",
              "    <span class='foreign primary'>Libellé matière</span>,\n",
              "    <span class='foreign primary'>Date</span>,\n",
              "    <span class='normal'>Note</span>\n",
              "  )\n",
              "</div>\n",
              "<div>\n",
              "  <span class='relation'>Prof</span> (\n",
              "    <span class='primary'>Num. prof</span>,\n",
              "    <span class='normal'>Nom prof</span>,\n",
              "    <span class='foreign'>Code catégorie</span>,\n",
              "    <span class='foreign'>Libellé matière</span>\n",
              "  )\n",
              "</div>\n",
              "<!--\n",
              "<div>\n",
              "  <span class='relation'>Date</span> (\n",
              "    <span class='primary'>Date</span>\n",
              "  )\n",
              "</div>\n",
              "-->\n",
              "<!--\n",
              "<div>\n",
              "  <span class='relation'>Matière</span> (\n",
              "    <span class='primary'>Libellé matière</span>\n",
              "  )\n",
              "</div>\n",
              "-->\n",
              "</div>\n",
              "</body>\n",
              "</html>"
            ],
            "text/plain": [
              "<IPython.core.display.HTML object>"
            ]
          },
          "metadata": {
            "tags": []
          }
        }
      ]
    },
    {
      "cell_type": "code",
      "metadata": {
        "id": "lsRr2ZJA_5JA",
        "colab_type": "code",
        "colab": {
          "base_uri": "https://localhost:8080/",
          "height": 266
        },
        "outputId": "948fa53c-e222-4c98-aa57-56e336803abf"
      },
      "source": [
        "%mocodo --input mocodo_notebook/sandbox.mld --colors desert\n"
      ],
      "execution_count": null,
      "outputs": [
        {
          "output_type": "display_data",
          "data": {
            "text/plain": [
              "<IPython.core.display.SVG object>"
            ],
            "image/svg+xml": "<svg height=\"245\" view_box=\"0 0 800 245\" width=\"800\" xmlns=\"http://www.w3.org/2000/svg\" xmlns:link=\"http://www.w3.org/1999/xlink\">\n\n<desc>Generated by Mocodo 2.3.8 on Mon, 20 Jul 2020 20:52:17</desc>\n\n<rect fill=\"none\" height=\"245\" id=\"frame\" stroke=\"none\" stroke-width=\"0\" width=\"800\" x=\"0\" y=\"0\"/>\n\n<!-- Entity Classe -->\n<g id=\"entity-Classe\">\n\t<g id=\"frame-Classe\">\n\t\t<rect fill=\"#FAA945\" height=\"26\" stroke=\"#FAA945\" stroke-width=\"0\" width=\"104\" x=\"237\" y=\"18\"/>\n\t\t<rect fill=\"#FFB94E\" height=\"44\" stroke=\"#FFB94E\" stroke-width=\"0\" width=\"104\" x=\"237\" y=\"44.0\"/>\n\t\t<rect fill=\"none\" height=\"70\" stroke=\"#CB7E1F\" stroke-width=\"1.5\" width=\"104\" x=\"237\" y=\"18\"/>\n\t\t<line stroke=\"#CB7E1F\" stroke-width=\"1\" x1=\"237\" x2=\"341\" y1=\"44\" y2=\"44\"/>\n\t</g>\n\t<text fill=\"#645530\" font-family=\"Courier New\" font-size=\"14\" x=\"263\" y=\"36.6\">Classe</text>\n\t<text fill=\"#645530\" font-family=\"Courier New\" font-size=\"14\" x=\"242\" y=\"62.6\">Num. classe</text>\n\t<line stroke=\"#645530\" stroke-width=\"1\" x1=\"242\" x2=\"336\" y1=\"65.0\" y2=\"65.0\"/>\n\t<text fill=\"#645530\" font-family=\"Courier New\" font-size=\"14\" x=\"242\" y=\"80.6\">Num. salle</text>\n</g>\n\n<!-- Entity Faire Cours -->\n<g id=\"entity-Faire Cours\">\n\t<g id=\"frame-Faire Cours\">\n\t\t<rect fill=\"#FAA945\" height=\"26\" stroke=\"#FAA945\" stroke-width=\"0\" width=\"112\" x=\"437\" y=\"9\"/>\n\t\t<rect fill=\"#FFB94E\" height=\"62\" stroke=\"#FFB94E\" stroke-width=\"0\" width=\"112\" x=\"437\" y=\"35.0\"/>\n\t\t<rect fill=\"none\" height=\"88\" stroke=\"#CB7E1F\" stroke-width=\"1.5\" width=\"112\" x=\"437\" y=\"9\"/>\n\t\t<line stroke=\"#CB7E1F\" stroke-width=\"1\" x1=\"437\" x2=\"549\" y1=\"35\" y2=\"35\"/>\n\t</g>\n\t<text fill=\"#645530\" font-family=\"Courier New\" font-size=\"14\" x=\"446\" y=\"27.6\">Faire Cours</text>\n\t<text fill=\"#645530\" font-family=\"Courier New\" font-size=\"14\" x=\"442\" y=\"53.6\">#Num. classe</text>\n\t<line stroke=\"#645530\" stroke-width=\"1\" x1=\"442\" x2=\"544\" y1=\"56.0\" y2=\"56.0\"/>\n\t<text fill=\"#645530\" font-family=\"Courier New\" font-size=\"14\" x=\"442\" y=\"71.6\">#Num. prof</text>\n\t<line stroke=\"#645530\" stroke-width=\"1\" x1=\"442\" x2=\"527\" y1=\"74.0\" y2=\"74.0\"/>\n\t<text fill=\"#645530\" font-family=\"Courier New\" font-size=\"14\" x=\"442\" y=\"89.6\">Vol. horaire</text>\n</g>\n\n<!-- Entity Catégorie -->\n<g id=\"entity-Catégorie\">\n\t<g id=\"frame-Catégorie\">\n\t\t<rect fill=\"#FAA945\" height=\"26\" stroke=\"#FAA945\" stroke-width=\"0\" width=\"130\" x=\"628\" y=\"18\"/>\n\t\t<rect fill=\"#FFB94E\" height=\"44\" stroke=\"#FFB94E\" stroke-width=\"0\" width=\"130\" x=\"628\" y=\"44.0\"/>\n\t\t<rect fill=\"none\" height=\"70\" stroke=\"#CB7E1F\" stroke-width=\"1.5\" width=\"130\" x=\"628\" y=\"18\"/>\n\t\t<line stroke=\"#CB7E1F\" stroke-width=\"1\" x1=\"628\" x2=\"758\" y1=\"44\" y2=\"44\"/>\n\t</g>\n\t<text fill=\"#645530\" font-family=\"Courier New\" font-size=\"14\" x=\"654\" y=\"36.6\">Catégorie</text>\n\t<text fill=\"#645530\" font-family=\"Courier New\" font-size=\"14\" x=\"633\" y=\"62.6\">Code catégorie</text>\n\t<line stroke=\"#645530\" stroke-width=\"1\" x1=\"633\" x2=\"752\" y1=\"65.0\" y2=\"65.0\"/>\n\t<text fill=\"#645530\" font-family=\"Courier New\" font-size=\"14\" x=\"633\" y=\"80.6\">Nom catégorie</text>\n</g>\n\n<!-- Entity Élève -->\n<g id=\"entity-Élève\">\n\t<g id=\"frame-Élève\">\n\t\t<rect fill=\"#FAA945\" height=\"26\" stroke=\"#FAA945\" stroke-width=\"0\" width=\"112\" x=\"42\" y=\"130\"/>\n\t\t<rect fill=\"#FFB94E\" height=\"62\" stroke=\"#FFB94E\" stroke-width=\"0\" width=\"112\" x=\"42\" y=\"156.0\"/>\n\t\t<rect fill=\"none\" height=\"88\" stroke=\"#CB7E1F\" stroke-width=\"1.5\" width=\"112\" x=\"42\" y=\"130\"/>\n\t\t<line stroke=\"#CB7E1F\" stroke-width=\"1\" x1=\"42\" x2=\"154\" y1=\"156\" y2=\"156\"/>\n\t</g>\n\t<text fill=\"#645530\" font-family=\"Courier New\" font-size=\"14\" x=\"76\" y=\"148.6\">Élève</text>\n\t<text fill=\"#645530\" font-family=\"Courier New\" font-size=\"14\" x=\"47\" y=\"174.6\">Num. élève</text>\n\t<line stroke=\"#645530\" stroke-width=\"1\" x1=\"47\" x2=\"132\" y1=\"177.0\" y2=\"177.0\"/>\n\t<text fill=\"#645530\" font-family=\"Courier New\" font-size=\"14\" x=\"47\" y=\"192.6\">Nom élève</text>\n\t<text fill=\"#645530\" font-family=\"Courier New\" font-size=\"14\" x=\"47\" y=\"210.6\">#Num. classe</text>\n</g>\n\n<!-- Entity Noter -->\n<g id=\"entity-Noter\">\n\t<g id=\"frame-Noter\">\n\t\t<rect fill=\"#FAA945\" height=\"26\" stroke=\"#FAA945\" stroke-width=\"0\" width=\"138\" x=\"220\" y=\"112\"/>\n\t\t<rect fill=\"#FFB94E\" height=\"98\" stroke=\"#FFB94E\" stroke-width=\"0\" width=\"138\" x=\"220\" y=\"138.0\"/>\n\t\t<rect fill=\"none\" height=\"124\" stroke=\"#CB7E1F\" stroke-width=\"1.5\" width=\"138\" x=\"220\" y=\"112\"/>\n\t\t<line stroke=\"#CB7E1F\" stroke-width=\"1\" x1=\"220\" x2=\"358\" y1=\"138\" y2=\"138\"/>\n\t</g>\n\t<text fill=\"#645530\" font-family=\"Courier New\" font-size=\"14\" x=\"267\" y=\"130.6\">Noter</text>\n\t<text fill=\"#645530\" font-family=\"Courier New\" font-size=\"14\" x=\"225\" y=\"156.6\">#Num. élève</text>\n\t<line stroke=\"#645530\" stroke-width=\"1\" x1=\"225\" x2=\"319\" y1=\"159.0\" y2=\"159.0\"/>\n\t<text fill=\"#645530\" font-family=\"Courier New\" font-size=\"14\" x=\"225\" y=\"174.6\">#Num. prof</text>\n\t<line stroke=\"#645530\" stroke-width=\"1\" x1=\"225\" x2=\"310\" y1=\"177.0\" y2=\"177.0\"/>\n\t<text fill=\"#645530\" font-family=\"Courier New\" font-size=\"14\" x=\"225\" y=\"192.6\">Libellé matière</text>\n\t<line stroke=\"#645530\" stroke-width=\"1\" x1=\"225\" x2=\"352\" y1=\"195.0\" y2=\"195.0\"/>\n\t<text fill=\"#645530\" font-family=\"Courier New\" font-size=\"14\" x=\"225\" y=\"210.6\">Date</text>\n\t<line stroke=\"#645530\" stroke-width=\"1\" x1=\"225\" x2=\"260\" y1=\"213.0\" y2=\"213.0\"/>\n\t<text fill=\"#645530\" font-family=\"Courier New\" font-size=\"14\" x=\"225\" y=\"228.6\">Note</text>\n</g>\n\n<!-- Entity Prof -->\n<g id=\"entity-Prof\">\n\t<g id=\"frame-Prof\">\n\t\t<rect fill=\"#FAA945\" height=\"26\" stroke=\"#FAA945\" stroke-width=\"0\" width=\"138\" x=\"424\" y=\"121\"/>\n\t\t<rect fill=\"#FFB94E\" height=\"80\" stroke=\"#FFB94E\" stroke-width=\"0\" width=\"138\" x=\"424\" y=\"147.0\"/>\n\t\t<rect fill=\"none\" height=\"106\" stroke=\"#CB7E1F\" stroke-width=\"1.5\" width=\"138\" x=\"424\" y=\"121\"/>\n\t\t<line stroke=\"#CB7E1F\" stroke-width=\"1\" x1=\"424\" x2=\"562\" y1=\"147\" y2=\"147\"/>\n\t</g>\n\t<text fill=\"#645530\" font-family=\"Courier New\" font-size=\"14\" x=\"475\" y=\"139.6\">Prof</text>\n\t<text fill=\"#645530\" font-family=\"Courier New\" font-size=\"14\" x=\"429\" y=\"165.6\">Num. prof</text>\n\t<line stroke=\"#645530\" stroke-width=\"1\" x1=\"429\" x2=\"506\" y1=\"168.0\" y2=\"168.0\"/>\n\t<text fill=\"#645530\" font-family=\"Courier New\" font-size=\"14\" x=\"429\" y=\"183.6\">Nom prof</text>\n\t<text fill=\"#645530\" font-family=\"Courier New\" font-size=\"14\" x=\"429\" y=\"201.6\">#Code catégorie</text>\n\t<text fill=\"#645530\" font-family=\"Courier New\" font-size=\"14\" x=\"429\" y=\"219.6\">Libellé matière</text>\n</g>\n\n<!-- Link from \"Num. classe\" (Faire Cours) to \"Num. classe\" (Classe) -->\n<path d=\"M437 49.0 C 389.0 53.5 405.0 58.0 341 58.0\" fill=\"none\" stroke=\"#4C3D30\" stroke-width=\"1\"/>\n<path d=\"M 341 58.0 L 353.0 52.0 L 349.0 58.0 L 353.0 64.0 Z\" fill=\"#4C3D30\" stroke-width=\"0\"/>\n<circle cx=\"437\" cy=\"49.0\" fill=\"#4C3D30\" r=\"1.5\" stroke=\"#4C3D30\" stroke-width=\"1.5\"/>\n\n<!-- Link from \"Num. prof\" (Faire Cours) to \"Num. prof\" (Prof) -->\n<path d=\"M437 67.0 C 381 114.0 368 161.0 424 161.0\" fill=\"none\" stroke=\"#4C3D30\" stroke-width=\"1\"/>\n<path d=\"M 424 161.0 L 412.0 167.0 L 416.0 161.0 L 412.0 155.0 Z\" fill=\"#4C3D30\" stroke-width=\"0\"/>\n<circle cx=\"437\" cy=\"67.0\" fill=\"#4C3D30\" r=\"1.5\" stroke=\"#4C3D30\" stroke-width=\"1.5\"/>\n\n<!-- Link from \"Num. classe\" (Élève) to \"Num. classe\" (Classe) -->\n<path d=\"M154 206.0 C 195.5 132.0 181.66666666666666 58.0 237 58.0\" fill=\"none\" stroke=\"#4C3D30\" stroke-width=\"1\"/>\n<path d=\"M 237 58.0 L 225.0 64.0 L 229.0 58.0 L 225.0 52.0 Z\" fill=\"#4C3D30\" stroke-width=\"0\"/>\n<circle cx=\"154\" cy=\"206.0\" fill=\"#4C3D30\" r=\"1.5\" stroke=\"#4C3D30\" stroke-width=\"1.5\"/>\n\n<!-- Link from \"Num. élève\" (Noter) to \"Num. élève\" (Élève) -->\n<path d=\"M220 152.0 C 187.0 161.0 198.0 170.0 154 170.0\" fill=\"none\" stroke=\"#4C3D30\" stroke-width=\"1\"/>\n<path d=\"M 154 170.0 L 166.0 164.0 L 162.0 170.0 L 166.0 176.0 Z\" fill=\"#4C3D30\" stroke-width=\"0\"/>\n<circle cx=\"220\" cy=\"152.0\" fill=\"#4C3D30\" r=\"1.5\" stroke=\"#4C3D30\" stroke-width=\"1.5\"/>\n\n<!-- Link from \"Num. prof\" (Noter) to \"Num. prof\" (Prof) -->\n<path d=\"M358 170.0 C 391.0 165.5 380.0 161.0 424 161.0\" fill=\"none\" stroke=\"#4C3D30\" stroke-width=\"1\"/>\n<path d=\"M 424 161.0 L 412.0 167.0 L 416.0 161.0 L 412.0 155.0 Z\" fill=\"#4C3D30\" stroke-width=\"0\"/>\n<circle cx=\"358\" cy=\"170.0\" fill=\"#4C3D30\" r=\"1.5\" stroke=\"#4C3D30\" stroke-width=\"1.5\"/>\n\n<!-- Link from \"Code catégorie\" (Prof) to \"Code catégorie\" (Catégorie) -->\n<path d=\"M562 197.0 C 595.0 127.5 584.0 58.0 628 58.0\" fill=\"none\" stroke=\"#4C3D30\" stroke-width=\"1\"/>\n<path d=\"M 628 58.0 L 616.0 64.0 L 620.0 58.0 L 616.0 52.0 Z\" fill=\"#4C3D30\" stroke-width=\"0\"/>\n<circle cx=\"562\" cy=\"197.0\" fill=\"#4C3D30\" r=\"1.5\" stroke=\"#4C3D30\" stroke-width=\"1.5\"/>\n</svg>"
          },
          "metadata": {
            "tags": []
          }
        }
      ]
    }
  ]
}