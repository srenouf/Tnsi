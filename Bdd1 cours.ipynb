{
  "nbformat": 4,
  "nbformat_minor": 0,
  "metadata": {
    "colab": {
      "name": "Bdd1.ipynb",
      "provenance": [],
      "collapsed_sections": [
        "LKJL1XXLcBri",
        "sLQ_SWne26S3",
        "f2BcnnQG5B7c",
        "Vq6VZ5IW5gHs",
        "MdwrONcK67AC"
      ],
      "toc_visible": true,
      "authorship_tag": "ABX9TyPJV/9ebfuELBSwP+DC38xs",
      "include_colab_link": true
    },
    "kernelspec": {
      "name": "python3",
      "display_name": "Python 3"
    }
  },
  "cells": [
    {
      "cell_type": "markdown",
      "metadata": {
        "id": "view-in-github",
        "colab_type": "text"
      },
      "source": [
        "<a href=\"https://colab.research.google.com/github/srenouf/Tnsi/blob/master/Bdd1%20cours.ipynb\" target=\"_parent\"><img src=\"https://colab.research.google.com/assets/colab-badge.svg\" alt=\"Open In Colab\"/></a>"
      ]
    },
    {
      "cell_type": "markdown",
      "metadata": {
        "id": "LKJL1XXLcBri",
        "colab_type": "text"
      },
      "source": [
        "#Base De Données\n",
        "<br>\n",
        "<a href=https://eduscol.education.fr/cid144156/nsi-bac-2021.html> Programme officiel</a>\n"
      ]
    },
    {
      "cell_type": "markdown",
      "metadata": {
        "id": "kpkkWkh0hr7J",
        "colab_type": "text"
      },
      "source": [
        "## Historique\n"
      ]
    },
    {
      "cell_type": "code",
      "metadata": {
        "id": "peLeDZlGh8jh",
        "colab_type": "code",
        "colab": {
          "base_uri": "https://localhost:8080/",
          "height": 336
        },
        "outputId": "dee1f334-17ea-4c24-93c6-c42e2eccf468"
      },
      "source": [
        "%%html\n",
        "%%html\n",
        "<iframe width=\"560\" height=\"315\" src=\"https://www.youtube.com/embed/iu8z5QtDQhY\" frameborder=\"0\" allow=\"accelerometer; autoplay; clipboard-write; encrypted-media; gyroscope; picture-in-picture\" allowfullscreen></iframe>"
      ],
      "execution_count": 1,
      "outputs": [
        {
          "output_type": "display_data",
          "data": {
            "text/html": [
              "%%html\n",
              "<iframe width=\"560\" height=\"315\" src=\"https://www.youtube.com/embed/iu8z5QtDQhY\" frameborder=\"0\" allow=\"accelerometer; autoplay; clipboard-write; encrypted-media; gyroscope; picture-in-picture\" allowfullscreen></iframe>"
            ],
            "text/plain": [
              "<IPython.core.display.HTML object>"
            ]
          },
          "metadata": {
            "tags": []
          }
        }
      ]
    },
    {
      "cell_type": "markdown",
      "metadata": {
        "id": "sLQ_SWne26S3",
        "colab_type": "text"
      },
      "source": [
        "# Intérêt d'une base de données"
      ]
    },
    {
      "cell_type": "markdown",
      "metadata": {
        "id": "_mMThZpH3JWQ",
        "colab_type": "text"
      },
      "source": [
        "Jusqu’à maintenant, nous avons stockés les données dans différents fichiers. Imaginons la situation suivante:\n",
        "Une entreprise agroalimentaire possède différents services:\n",
        "\n",
        "\n",
        "*   un service de production de légumes\n",
        "*   un service de livraison\n",
        "*   un service spécifique à l’exportation des légumes\n",
        "\n",
        "Chaque service aura donc des données contenues dans différents fichiers. Plusieurs de ces données seront identiques d’un service à l’autre (les prix, la TVA…). On parle alors de **données dupliquées**.<br><br>\n",
        "Du coup si la direction décide d’augmenter ou de baisser un prix, il faudra effectuer les changements dans les fichiers de chacun des services et en plus en même temps pour éviter **des erreurs que l’on appellera des incohérences**.<br><br>\n",
        "De plus si la direction décide d’ajouter un service de production de fruits ou un service “cueillette des légumes chez le producteur” cela compliquera la gestion des données et fera perdre du temps.<br>\n",
        "Pour éviter cela, au lieu d’utiliser des données dupliquées, on utilisera des **données partagées**!\n"
      ]
    },
    {
      "cell_type": "markdown",
      "metadata": {
        "id": "48UbuH5n4Tbd",
        "colab_type": "text"
      },
      "source": [
        "# Notion de base de données"
      ]
    },
    {
      "cell_type": "markdown",
      "metadata": {
        "id": "f2BcnnQG5B7c",
        "colab_type": "text"
      },
      "source": [
        "## 1.\tGénéralité"
      ]
    },
    {
      "cell_type": "markdown",
      "metadata": {
        "id": "a_ZqyaVy5Kjx",
        "colab_type": "text"
      },
      "source": [
        "Une base de données (« **database** » en anglais) est une collection de données qui vont être partagées entre plusieurs services, serveurs, utilisateurs. Elles peuvent être de très grande taille et contenir des millions de données!<br><br>\n",
        "*Remarque : les premières bases de données datent des années 1960.*\n"
      ]
    },
    {
      "cell_type": "markdown",
      "metadata": {
        "id": "Vq6VZ5IW5gHs",
        "colab_type": "text"
      },
      "source": [
        "## 2.\tDifférents modèles de bases de données"
      ]
    },
    {
      "cell_type": "markdown",
      "metadata": {
        "id": "XbZTZ7IB5rp9",
        "colab_type": "text"
      },
      "source": [
        "*\tBase de données à **modèle hiérarchique** : il s’agit d’un arbre ou un graphe dont il faudra connaître la structure (on a abordé à l'oral ces structures, on les verra plus tard.  \n",
        "*\tBase de données à **modèle relationnel** : basé sur la théorie mathématiques des ensembles.\n",
        "*\tBase de données à **modèle objet** : les données sont des classes, cela se rapproche de la programmation orientée objet.\n",
        "* Base de données à **modèle NoSql** : il s’agit d’un modèle ressemblant à la structure des dictionnaires puisqu’il fondé sur un modèle clef/valeur qui permet d’être plus rapide.\n",
        "<br><br>\n",
        "Le programme nous impose d’étudier le modèle le plus utilisée qui est le modèle relationnel!<br><br>\n",
        "\n",
        "\n",
        "---\n",
        "\n",
        "\n",
        "**<u>Caractéristiques d’une base de données:</u>**<br>\n",
        "L’utilisation d’une base de données doit être simple puisque des nombreux utilisateurs doivent pouvoir lire et écrire des informations.<br>\n",
        "Une base de données doit pouvoir assurer suivant le profil de l’utilisateur l’accès ou non à certaines données.<br>\n",
        "Une base de donnée devra aussi gérer ce qu’on appelle les accès concurrents, chacun attend son tour pour modifier ou lire.<br>\n",
        "Pour gérer les données, on utilise un logiciel spécifique : un Système de Gestion de Base de Données, en abrégé un **SGBD**.\n",
        "\n"
      ]
    },
    {
      "cell_type": "markdown",
      "metadata": {
        "id": "-e5Lg-tQ62YS",
        "colab_type": "text"
      },
      "source": [
        ""
      ]
    },
    {
      "cell_type": "markdown",
      "metadata": {
        "id": "MdwrONcK67AC",
        "colab_type": "text"
      },
      "source": [
        "# 3. Base de données et schéma relationnel"
      ]
    },
    {
      "cell_type": "markdown",
      "metadata": {
        "id": "i53QZgMG7BDL",
        "colab_type": "text"
      },
      "source": [
        "\n",
        "<img src=\"https://2.bp.blogspot.com/-C5pmUwV4pg8/VmBoDi1OEII/AAAAAAAAFz8/dhPvLJ_ROSE/s1600/Edgar%2BF%2B.Codd.jpg\"><br>Le modèle relationnel de Codd est caractérisé par différents éléments :\n",
        "\n",
        "\n",
        "\n",
        "*\tLa structure : on manipule des données rangées dans des tables nommées relations.\n",
        "*\tLes opérateurs : il y aura des opérations entre les différentes relations\n",
        "*\tLes règles d’intégrité: il y aura des règles à respecter pour les différentes valeurs des données.\n",
        "<br><br>\n",
        "Pour pouvoir comprendre le modèle relationnelle, il faut d’abord comprendre le modèle entité-relation.\n"
      ]
    },
    {
      "cell_type": "markdown",
      "metadata": {
        "id": "2gN-nv7Q8sbK",
        "colab_type": "text"
      },
      "source": [
        "##1.\tModèle entité-association, schéma d’une base de donnée"
      ]
    },
    {
      "cell_type": "markdown",
      "metadata": {
        "id": "xOLOjYoJ8yoS",
        "colab_type": "text"
      },
      "source": [
        "Une entité représente en fait un fait, un objet... Une entité pourra avoir différents attributs. Pour résumer, on pourrait dire que l’entité est le nom de la relation. On appelle schéma d’une base de donnée, la formule: **NOM_RELATION(NOM_ATTRIBUT1, ...)**.<br><br>\n",
        "\n",
        "Une **association** sera un lien entre les entités.\n",
        "Une ligne de la relation est appelée un enregistrement ou un n-uplet.\n"
      ]
    },
    {
      "cell_type": "markdown",
      "metadata": {
        "id": "REmdL4es9Hx5",
        "colab_type": "text"
      },
      "source": [
        "**Règles à respecter:**\n",
        "*\tR1 : un attribut ne peut prendre à un instant donné qu’une seule et unique valeur. On dit qu’il y a atomicité de l’attribut.<br>\n",
        "*\tR2 : il n’y a qu’un nombre fini d’enregistrement.<br>\n",
        "*\tR3 : lorsque la base de donnée est définie, on définit le domaine de chacun des attributs. Les valeurs doivent appartenir à ceux-ci. On appelle cela l’intégrité de domaine.<br>\n",
        "*\tR4 : Les enregistrements doivent tous être différents.<br>\n",
        "\n",
        "**<u>Notion de clef primaire:</u><br>\n",
        "Chaque entité doit posséder un attribut ou en ensemble d’attributs qui permet d’identifier l’enregistrement de manière unique, cet attribut ou ensemble d’attribut est appelé une clé primaire (“Primary Key” en anglais). On appelle cela l’intégrité de référence.**\n",
        "*\tR5: Toute relation a une clef primaire\n",
        "\n",
        "<br><br>\n",
        "Pour signaler la clef primaire, on pourra souligner l’attribut qui correspond à cet clef primaire.<br><br>\n",
        "\n",
        "**<u>Notion de clef étrangère:</u> <br>\n",
        "\tUne clé étrangère (“Foreign Key” en anglais) est un attribut qui n’est pas primaire pour la relation étudiée mais qui est la clef primaire d’une autre relation. <br>\n",
        "On la surlignera en gris ou on placera un # devant pour l’indiquer**\n",
        "<br><br>\n",
        "*Exemple : <br>si on considère les entités suivantes:\n",
        "LIVRES(<u>identifiant numérique</u>,Titre, identifiant.AUTEURS,année)<br>\n",
        "AUTEURS(<u>identifiant.AUTEURS</u>, Nom AUTEURS, Prenom AUTEURS)<br>\n",
        "identifiant.AUTEURS est une clef primaire de AUTEURS et une clef étrangère de LIVRES.<br>\n",
        "On peut alors définir l’association Ecrit. Ainsi un auteur peut écrire de 1 à N livres tandis qu’un livre sera écrit par un unique auteur.*\n",
        "<br><br>Pour obtenir le modèle entité-association, puis le schéma relationnel, il faudra exécuter les cellules ci-desous:\n",
        "\n",
        "\n",
        "\n"
      ]
    },
    {
      "cell_type": "code",
      "metadata": {
        "id": "DmWp0CFG54hl",
        "colab_type": "code",
        "colab": {}
      },
      "source": [
        "pip install mocodo_magic\n"
      ],
      "execution_count": null,
      "outputs": []
    },
    {
      "cell_type": "code",
      "metadata": {
        "id": "jffdVUGP_Kvq",
        "colab_type": "code",
        "colab": {}
      },
      "source": [
        "%reload_ext mocodo_magic"
      ],
      "execution_count": 5,
      "outputs": []
    },
    {
      "cell_type": "code",
      "metadata": {
        "id": "ixH8r2y1_Qgu",
        "colab_type": "code",
        "colab": {}
      },
      "source": [
        "%%mocodo --mld --colors ocean --shapes copperplate --relations diagram markdown_data_dict\n",
        "Ecrit, 11 LIVRES , 1N AUTEURS\n",
        "LIVRES: identifiant numérique, Titre, année\n",
        "\n",
        "AUTEURS: identifiant.AUTEURS, Nom AUTEURS, Prenom AUTEURS"
      ],
      "execution_count": null,
      "outputs": []
    },
    {
      "cell_type": "code",
      "metadata": {
        "id": "4hGOmfap_SrE",
        "colab_type": "code",
        "colab": {}
      },
      "source": [
        "%mocodo --input mocodo_notebook/sandbox.mld --colors desert"
      ],
      "execution_count": null,
      "outputs": []
    },
    {
      "cell_type": "markdown",
      "metadata": {
        "id": "cMLePB4xBO3e",
        "colab_type": "text"
      },
      "source": [
        "# Exercices sur ces premières notions: <br>\n",
        "\n",
        "<img src=https://raw.githubusercontent.com/srenouf/Tnsi/master/bdd1.PNG>"
      ]
    },
    {
      "cell_type": "markdown",
      "metadata": {
        "id": "h7ruUo1aGoUc",
        "colab_type": "text"
      },
      "source": [
        "Sur une feuille, répondre aux questions suivantes: <br>\n",
        "\n",
        "1.   Dans la table Commandes quelles est la clé primaire ?\n",
        "2.   Quelles sont les clés étrangères ?\n",
        "3. A combien s'élève le montant total des commandes de la journée J?\n",
        "4. Quels sont les noms des clients pour lesquels la commande a été expédiée ?\n",
        "5. Quels sont les produits pour lesquels le stock ne sera pas suffisant ?\n"
      ]
    }
  ]
}