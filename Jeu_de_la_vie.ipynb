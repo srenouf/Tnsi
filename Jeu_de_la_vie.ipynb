{
  "nbformat": 4,
  "nbformat_minor": 0,
  "metadata": {
    "colab": {
      "name": "Jeu de la vie.ipynb",
      "provenance": [],
      "authorship_tag": "ABX9TyOCmnvVXrctbrsLO0Ey2gXs"
    },
    "kernelspec": {
      "name": "python3",
      "display_name": "Python 3"
    }
  },
  "cells": [
    {
      "cell_type": "code",
      "metadata": {
        "id": "7yUaL5NrbNYJ",
        "outputId": "47a7580e-d3af-44f2-9c39-d4606f4a0948",
        "colab": {
          "base_uri": "https://localhost:8080/",
          "height": 135
        }
      },
      "source": [
        "import os\n",
        "import time\n",
        "import random\n",
        "\n",
        "class Cellule:\n",
        "    \n",
        "    def __init__(self):\n",
        "        self._actuel = False\n",
        "        self._futur = False\n",
        "        self._voisins = None\n",
        "        \n",
        "    def est_vivant(self):\n",
        "        #à compléter\n",
        "    def set_voisins(self,v):\n",
        "        self._voisins = v\n",
        "    def get_voisins(self):\n",
        "        return self._voisins\n",
        "    def naitre(self):\n",
        "        #à compléter\n",
        "    def mourir(self):\n",
        "        #à compléter\n",
        "    def basculer(self):\n",
        "        self._actuel = self._futur\n",
        "    def __str__(self):\n",
        "        if self.est_vivant():\n",
        "            res = chr(9785)\n",
        "        else:\n",
        "            res = \" \"\n",
        "        return res\n",
        "    \n",
        "    def calcule_etat_futur(self):\n",
        "        nb_vivants = sum([c.est_vivant() for c in self._voisins])\n",
        "        if nb_vivants != 2 and nb_vivants != 3:\n",
        "            self.mourir()\n",
        "        elif nb_vivants == 3:\n",
        "            self.naitre()\n",
        "        else:\n",
        "            self._futur = self._actuel\n",
        "\n",
        "\n",
        "\n",
        "class Grille:\n",
        "    \n",
        "    def __init__(self,largeur,hauteur):\n",
        "        self.largeur = largeur\n",
        "        self.hauteur = hauteur\n",
        "        self.matrix = [[Cellule() for i in range(self.hauteur)]for j in range(self.largeur)]\n",
        "        \n",
        "    def dans_grille(self,i,j):\n",
        "        return 0 <= i < self.largeur and 0 <= j < self.hauteur\n",
        "    \n",
        "    def setXY(self,i,j,obj):\n",
        "        if (i,j) in self:\n",
        "            self.matrix[i][j] = obj\n",
        "        else:\n",
        "            raise IndexError(str(i,j))\n",
        "    \n",
        "    def getXY(self,i,j):\n",
        "        if self.dans_grille(i,j):\n",
        "            return self.matrix[i][j]\n",
        "        else:\n",
        "            return None\n",
        "    \n",
        "    def get_largeur(self):\n",
        "        return self.largeur\n",
        "    \n",
        "    def get_hauteur(self):\n",
        "        return self.hauteur\n",
        "    \n",
        "    @staticmethod\n",
        "    def est_voisin(i,j,x,y):\n",
        "        return max(abs(x-i),abs(y-j)) == 1\n",
        "    \n",
        "    def get_voisins2(self,x,y):\n",
        "        v=[]\n",
        "        for i in range(x-1,x+2):\n",
        "            for j in range(y-1,y+2):\n",
        "                if self.dans_grille(i,j) and Grille.est_voisin(x,y,i,j):\n",
        "                    v.append(self.getXY(i,j))\n",
        "        return v\n",
        "    \n",
        "    def affecte_voisins(self):\n",
        "        for i in range(self.largeur):\n",
        "            for j in range(self.hauteur):\n",
        "                v=self.get_voisins2(i,j)\n",
        "                self.getXY(i,j).set_voisins(v)\n",
        " \n",
        "                \n",
        "    def __str__(self):\n",
        "        res=\"\"\n",
        "        for i in range(self.largeur):\n",
        "            for j in range(self.hauteur):\n",
        "                res += str(self.getXY(i,j))\n",
        "            res += \"\\n\"\n",
        "        return res\n",
        "    \n",
        "    def remplir_alea(self,taux):\n",
        "        for i in range(self.largeur):\n",
        "            for j in range(self.hauteur):\n",
        "                if random.random() <= (taux/100):\n",
        "                    self.getXY(i,j).naitre()\n",
        "                    self.getXY(i,j).basculer()\n",
        "                \n",
        "    \n",
        "    def jeu(self):\n",
        "        for i in range(self.largeur):\n",
        "            for j in range(self.hauteur):\n",
        "                c = self.getXY(i,j)\n",
        "                c.calcule_etat_futur()\n",
        "    \n",
        "    def actualise(self):\n",
        "        for i in range(self.largeur):\n",
        "            for j in range(self.hauteur):\n",
        "                self.getXY(i,j).basculer()\n",
        "\n",
        "def cls():\n",
        "    os.system('cls' if os.name=='nt' else 'clear')\n",
        "               "
      ],
      "execution_count": 1,
      "outputs": [
        {
          "output_type": "error",
          "ename": "IndentationError",
          "evalue": "ignored",
          "traceback": [
            "\u001b[0;36m  File \u001b[0;32m\"<ipython-input-1-ac4105417a01>\"\u001b[0;36m, line \u001b[0;32m14\u001b[0m\n\u001b[0;31m    def set_voisins(self,v):\u001b[0m\n\u001b[0m      ^\u001b[0m\n\u001b[0;31mIndentationError\u001b[0m\u001b[0;31m:\u001b[0m expected an indented block\n"
          ]
        }
      ]
    },
    {
      "cell_type": "code",
      "metadata": {
        "id": "V7nDy3sZbuNX",
        "outputId": "71a9044e-06ec-4e5b-dc03-de4a9a6fe7c3",
        "colab": {
          "base_uri": "https://localhost:8080/",
          "height": 398
        }
      },
      "source": [
        "vie = Grille(20,20)\n",
        "vie.remplir_alea(45)\n",
        "vie.affecte_voisins()\n",
        "\n",
        "print(\"--------------------\")\n",
        "print(\"Jeu de CONWAY\")\n",
        "print(\"--------------------\")\n",
        "max=int(input(\"Nombre maximal d'étapes : \"))\n",
        "i=0\n",
        "while i<max:\n",
        "    cls()\n",
        "    print(\"Etape numéro : \",i)\n",
        "    print(vie)\n",
        "    print(\"--------------------------------\")\n",
        "    time.sleep(0.1)\n",
        "    vie.jeu()\n",
        "    vie.actualise()\n",
        "    i=i+1\n",
        "\n",
        "#Pour relancer le programme, il faudra redémarrer l'environnement d'Exécution"
      ],
      "execution_count": 3,
      "outputs": [
        {
          "output_type": "error",
          "ename": "TypeError",
          "evalue": "ignored",
          "traceback": [
            "\u001b[0;31m---------------------------------------------------------------------------\u001b[0m",
            "\u001b[0;31mTypeError\u001b[0m                                 Traceback (most recent call last)",
            "\u001b[0;32m<ipython-input-3-cce0b3547667>\u001b[0m in \u001b[0;36m<module>\u001b[0;34m()\u001b[0m\n\u001b[1;32m      1\u001b[0m \u001b[0mvie\u001b[0m \u001b[0;34m=\u001b[0m \u001b[0mGrille\u001b[0m\u001b[0;34m(\u001b[0m\u001b[0;36m20\u001b[0m\u001b[0;34m,\u001b[0m\u001b[0;36m20\u001b[0m\u001b[0;34m)\u001b[0m\u001b[0;34m\u001b[0m\u001b[0;34m\u001b[0m\u001b[0m\n\u001b[1;32m      2\u001b[0m \u001b[0mvie\u001b[0m\u001b[0;34m.\u001b[0m\u001b[0mremplir_alea\u001b[0m\u001b[0;34m(\u001b[0m\u001b[0;36m45\u001b[0m\u001b[0;34m)\u001b[0m\u001b[0;34m\u001b[0m\u001b[0;34m\u001b[0m\u001b[0m\n\u001b[0;32m----> 3\u001b[0;31m \u001b[0mvie\u001b[0m\u001b[0;34m.\u001b[0m\u001b[0maffecte_voisins\u001b[0m\u001b[0;34m(\u001b[0m\u001b[0;34m)\u001b[0m\u001b[0;34m\u001b[0m\u001b[0;34m\u001b[0m\u001b[0m\n\u001b[0m\u001b[1;32m      4\u001b[0m \u001b[0;34m\u001b[0m\u001b[0m\n\u001b[1;32m      5\u001b[0m \u001b[0mprint\u001b[0m\u001b[0;34m(\u001b[0m\u001b[0;34m\"--------------------\"\u001b[0m\u001b[0;34m)\u001b[0m\u001b[0;34m\u001b[0m\u001b[0;34m\u001b[0m\u001b[0m\n",
            "\u001b[0;32m<ipython-input-1-200fccf082ab>\u001b[0m in \u001b[0;36maffecte_voisins\u001b[0;34m(self)\u001b[0m\n\u001b[1;32m     83\u001b[0m         \u001b[0;32mfor\u001b[0m \u001b[0mi\u001b[0m \u001b[0;32min\u001b[0m \u001b[0mrange\u001b[0m\u001b[0;34m(\u001b[0m\u001b[0mself\u001b[0m\u001b[0;34m.\u001b[0m\u001b[0mlargeur\u001b[0m\u001b[0;34m)\u001b[0m\u001b[0;34m:\u001b[0m\u001b[0;34m\u001b[0m\u001b[0;34m\u001b[0m\u001b[0m\n\u001b[1;32m     84\u001b[0m             \u001b[0;32mfor\u001b[0m \u001b[0mj\u001b[0m \u001b[0;32min\u001b[0m \u001b[0mrange\u001b[0m\u001b[0;34m(\u001b[0m\u001b[0mself\u001b[0m\u001b[0;34m.\u001b[0m\u001b[0mhauteur\u001b[0m\u001b[0;34m)\u001b[0m\u001b[0;34m:\u001b[0m\u001b[0;34m\u001b[0m\u001b[0;34m\u001b[0m\u001b[0m\n\u001b[0;32m---> 85\u001b[0;31m                 \u001b[0mv\u001b[0m\u001b[0;34m=\u001b[0m\u001b[0mself\u001b[0m\u001b[0;34m.\u001b[0m\u001b[0mget_voisins2\u001b[0m\u001b[0;34m(\u001b[0m\u001b[0mi\u001b[0m\u001b[0;34m,\u001b[0m\u001b[0mj\u001b[0m\u001b[0;34m)\u001b[0m\u001b[0;34m\u001b[0m\u001b[0;34m\u001b[0m\u001b[0m\n\u001b[0m\u001b[1;32m     86\u001b[0m                 \u001b[0mself\u001b[0m\u001b[0;34m.\u001b[0m\u001b[0mgetXY\u001b[0m\u001b[0;34m(\u001b[0m\u001b[0mi\u001b[0m\u001b[0;34m,\u001b[0m\u001b[0mj\u001b[0m\u001b[0;34m)\u001b[0m\u001b[0;34m.\u001b[0m\u001b[0mset_voisins\u001b[0m\u001b[0;34m(\u001b[0m\u001b[0mv\u001b[0m\u001b[0;34m)\u001b[0m\u001b[0;34m\u001b[0m\u001b[0;34m\u001b[0m\u001b[0m\n\u001b[1;32m     87\u001b[0m \u001b[0;34m\u001b[0m\u001b[0m\n",
            "\u001b[0;32m<ipython-input-1-200fccf082ab>\u001b[0m in \u001b[0;36mget_voisins2\u001b[0;34m(self, x, y)\u001b[0m\n\u001b[1;32m     76\u001b[0m         \u001b[0;32mfor\u001b[0m \u001b[0mi\u001b[0m \u001b[0;32min\u001b[0m \u001b[0mrange\u001b[0m\u001b[0;34m(\u001b[0m\u001b[0mx\u001b[0m\u001b[0;34m-\u001b[0m\u001b[0;36m1\u001b[0m\u001b[0;34m,\u001b[0m\u001b[0mx\u001b[0m\u001b[0;34m+\u001b[0m\u001b[0;36m2\u001b[0m\u001b[0;34m)\u001b[0m\u001b[0;34m:\u001b[0m\u001b[0;34m\u001b[0m\u001b[0;34m\u001b[0m\u001b[0m\n\u001b[1;32m     77\u001b[0m             \u001b[0;32mfor\u001b[0m \u001b[0mj\u001b[0m \u001b[0;32min\u001b[0m \u001b[0mrange\u001b[0m\u001b[0;34m(\u001b[0m\u001b[0my\u001b[0m\u001b[0;34m-\u001b[0m\u001b[0;36m1\u001b[0m\u001b[0;34m,\u001b[0m\u001b[0my\u001b[0m\u001b[0;34m+\u001b[0m\u001b[0;36m2\u001b[0m\u001b[0;34m)\u001b[0m\u001b[0;34m:\u001b[0m\u001b[0;34m\u001b[0m\u001b[0;34m\u001b[0m\u001b[0m\n\u001b[0;32m---> 78\u001b[0;31m                 \u001b[0;32mif\u001b[0m \u001b[0mself\u001b[0m\u001b[0;34m.\u001b[0m\u001b[0mdans_grille\u001b[0m\u001b[0;34m(\u001b[0m\u001b[0mi\u001b[0m\u001b[0;34m,\u001b[0m\u001b[0mj\u001b[0m\u001b[0;34m)\u001b[0m \u001b[0;32mand\u001b[0m \u001b[0mGrille\u001b[0m\u001b[0;34m.\u001b[0m\u001b[0mest_voisin\u001b[0m\u001b[0;34m(\u001b[0m\u001b[0mx\u001b[0m\u001b[0;34m,\u001b[0m\u001b[0my\u001b[0m\u001b[0;34m,\u001b[0m\u001b[0mi\u001b[0m\u001b[0;34m,\u001b[0m\u001b[0mj\u001b[0m\u001b[0;34m)\u001b[0m\u001b[0;34m:\u001b[0m\u001b[0;34m\u001b[0m\u001b[0;34m\u001b[0m\u001b[0m\n\u001b[0m\u001b[1;32m     79\u001b[0m                     \u001b[0mv\u001b[0m\u001b[0;34m.\u001b[0m\u001b[0mappend\u001b[0m\u001b[0;34m(\u001b[0m\u001b[0mself\u001b[0m\u001b[0;34m.\u001b[0m\u001b[0mgetXY\u001b[0m\u001b[0;34m(\u001b[0m\u001b[0mi\u001b[0m\u001b[0;34m,\u001b[0m\u001b[0mj\u001b[0m\u001b[0;34m)\u001b[0m\u001b[0;34m)\u001b[0m\u001b[0;34m\u001b[0m\u001b[0;34m\u001b[0m\u001b[0m\n\u001b[1;32m     80\u001b[0m         \u001b[0;32mreturn\u001b[0m \u001b[0mv\u001b[0m\u001b[0;34m\u001b[0m\u001b[0;34m\u001b[0m\u001b[0m\n",
            "\u001b[0;32m<ipython-input-1-200fccf082ab>\u001b[0m in \u001b[0;36mest_voisin\u001b[0;34m(i, j, x, y)\u001b[0m\n\u001b[1;32m     70\u001b[0m     \u001b[0;34m@\u001b[0m\u001b[0mstaticmethod\u001b[0m\u001b[0;34m\u001b[0m\u001b[0;34m\u001b[0m\u001b[0m\n\u001b[1;32m     71\u001b[0m     \u001b[0;32mdef\u001b[0m \u001b[0mest_voisin\u001b[0m\u001b[0;34m(\u001b[0m\u001b[0mi\u001b[0m\u001b[0;34m,\u001b[0m\u001b[0mj\u001b[0m\u001b[0;34m,\u001b[0m\u001b[0mx\u001b[0m\u001b[0;34m,\u001b[0m\u001b[0my\u001b[0m\u001b[0;34m)\u001b[0m\u001b[0;34m:\u001b[0m\u001b[0;34m\u001b[0m\u001b[0;34m\u001b[0m\u001b[0m\n\u001b[0;32m---> 72\u001b[0;31m         \u001b[0;32mreturn\u001b[0m \u001b[0mmax\u001b[0m\u001b[0;34m(\u001b[0m\u001b[0mabs\u001b[0m\u001b[0;34m(\u001b[0m\u001b[0mx\u001b[0m\u001b[0;34m-\u001b[0m\u001b[0mi\u001b[0m\u001b[0;34m)\u001b[0m\u001b[0;34m,\u001b[0m\u001b[0mabs\u001b[0m\u001b[0;34m(\u001b[0m\u001b[0my\u001b[0m\u001b[0;34m-\u001b[0m\u001b[0mj\u001b[0m\u001b[0;34m)\u001b[0m\u001b[0;34m)\u001b[0m \u001b[0;34m==\u001b[0m \u001b[0;36m1\u001b[0m\u001b[0;34m\u001b[0m\u001b[0;34m\u001b[0m\u001b[0m\n\u001b[0m\u001b[1;32m     73\u001b[0m \u001b[0;34m\u001b[0m\u001b[0m\n\u001b[1;32m     74\u001b[0m     \u001b[0;32mdef\u001b[0m \u001b[0mget_voisins2\u001b[0m\u001b[0;34m(\u001b[0m\u001b[0mself\u001b[0m\u001b[0;34m,\u001b[0m\u001b[0mx\u001b[0m\u001b[0;34m,\u001b[0m\u001b[0my\u001b[0m\u001b[0;34m)\u001b[0m\u001b[0;34m:\u001b[0m\u001b[0;34m\u001b[0m\u001b[0;34m\u001b[0m\u001b[0m\n",
            "\u001b[0;31mTypeError\u001b[0m: 'int' object is not callable"
          ]
        }
      ]
    },
    {
      "cell_type": "code",
      "metadata": {
        "id": "LvfNuRNLjXtj"
      },
      "source": [
        ""
      ],
      "execution_count": null,
      "outputs": []
    }
  ]
}