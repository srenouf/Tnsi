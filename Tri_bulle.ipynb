{
  "nbformat": 4,
  "nbformat_minor": 0,
  "metadata": {
    "colab": {
      "name": "Tri bulle.ipynb",
      "provenance": [],
      "collapsed_sections": []
    },
    "kernelspec": {
      "name": "python3",
      "display_name": "Python 3"
    }
  },
  "cells": [
    {
      "cell_type": "markdown",
      "metadata": {
        "id": "MZWg1mToDqUl",
        "colab_type": "text"
      },
      "source": [
        "#TRI à BULLES\n",
        "Bubble sort en anglais\n"
      ]
    },
    {
      "cell_type": "markdown",
      "metadata": {
        "id": "5FrA7HoGDxM1",
        "colab_type": "text"
      },
      "source": [
        "Pour comprendre le principe, regarder cette vidéo:\n"
      ]
    },
    {
      "cell_type": "code",
      "metadata": {
        "id": "fyHKjaHLD20l",
        "colab_type": "code",
        "colab": {
          "base_uri": "https://localhost:8080/",
          "height": 336
        },
        "outputId": "be1e9fcb-4ac1-45e9-b76e-a96abd97afba"
      },
      "source": [
        "%%html\n",
        "<iframe width=\"560\" height=\"315\" src=\"https://www.youtube.com/embed/t8HCmdoxAlk\" frameborder=\"0\" allow=\"accelerometer; autoplay; encrypted-media; gyroscope; picture-in-picture\" allowfullscreen></iframe>"
      ],
      "execution_count": 1,
      "outputs": [
        {
          "output_type": "display_data",
          "data": {
            "text/html": [
              "<iframe width=\"560\" height=\"315\" src=\"https://www.youtube.com/embed/t8HCmdoxAlk\" frameborder=\"0\" allow=\"accelerometer; autoplay; encrypted-media; gyroscope; picture-in-picture\" allowfullscreen></iframe>"
            ],
            "text/plain": [
              "<IPython.core.display.HTML object>"
            ]
          },
          "metadata": {
            "tags": []
          }
        }
      ]
    },
    {
      "cell_type": "markdown",
      "metadata": {
        "id": "76xZbXq5EHLi",
        "colab_type": "text"
      },
      "source": [
        "Exercice 1 : \n",
        "Essayer de résumer en quelques lignes le principe du tri à bulles. <br><BR><BR>"
      ]
    },
    {
      "cell_type": "markdown",
      "metadata": {
        "id": "-LzrTYGBEjrj",
        "colab_type": "text"
      },
      "source": [
        "___\n",
        "Pseudo code issu de [Knuth](https://fr.qwe.wiki/wiki/The_Art_of_Computer_Programming): \n",
        "___\n",
        "\n",
        "tri_à_bulles(Tableau T) <br>\n",
        "      pour i allant de (taille de T)-1 à 1<br>\n",
        "       pour j allant de 0 à i-1 <br>\n",
        "           si T[j+1] < T[j] <BR>\n",
        "               échanger(T[j+1], T[j])"
      ]
    },
    {
      "cell_type": "markdown",
      "metadata": {
        "id": "53kQEV9CEyrs",
        "colab_type": "text"
      },
      "source": [
        "____\n",
        "Exercice 2:\n",
        "A vous d'implanter cet algorithme en utilisant la cellule de code ci-dessous:"
      ]
    },
    {
      "cell_type": "code",
      "metadata": {
        "id": "DXhx2r3FE6t5",
        "colab_type": "code",
        "colab": {}
      },
      "source": [
        ""
      ],
      "execution_count": null,
      "outputs": []
    },
    {
      "cell_type": "markdown",
      "metadata": {
        "id": "3Bxveq6DE_s5",
        "colab_type": "text"
      },
      "source": [
        "___\n",
        "Exercice 3: double cliquez dans la cellule pour répondre:\n",
        "\n",
        "Étudier la terminaison de cet algorithmeBoucle bornée :. . . . . . . . . . . . . . . . . . . . . . . . . . . . . . . . . . . . . . . .. . . . . . . . . . . . . . . . . . . . . . . . . . . . . . . . . . . . . . . .Boucle tant que : Variant de boucle :....... . . . . . . . . . . . . . . . . . . . . . . . . . . . . . . . . . . . . . . .. . . . . . . . . . . . . . . . . . . . . . . . . . . . . . . . . . . . . . . .. . . . . . . . . . . . . . . . . . . . . . . . . . . . . . . . . . . . . . . .. . . . . . . . . . . . . . . . . . . . . . . . . . . . . . . . . . . . . . . .. . . . . . . . . . . . . . . . . . . . . . . . . . . . . . . . . . . . . . .\n"
      ]
    },
    {
      "cell_type": "markdown",
      "metadata": {
        "id": "Oe9c8q1qFdYH",
        "colab_type": "text"
      },
      "source": [
        "Cherchez d'autres méthodes de tris sur wikipedia.<br>\n",
        "Créer, dans la ligne de code ci-dessous, une fonction aléatoire qui prend en entrée un entier naturel ,  et qui renvoie une liste aléatoire de n nombres. Il faudra importer la bonne bibliothèque!<br>\n",
        "Comparer ensuite le temps d'execution du tri insertion et du tri bulle! Vous devrez surement utiliser la bibliothèque time! Google est votre ami... et vous devrez utiliser la fonction tri insertion que vous avez créer le dernière fois!\n",
        "\n",
        "---\n",
        "\n"
      ]
    },
    {
      "cell_type": "code",
      "metadata": {
        "id": "fRse24VYF65a",
        "colab_type": "code",
        "colab": {}
      },
      "source": [
        ""
      ],
      "execution_count": null,
      "outputs": []
    }
  ]
}